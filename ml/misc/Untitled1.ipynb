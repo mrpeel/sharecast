{
 "cells": [
  {
   "cell_type": "code",
   "execution_count": 1,
   "metadata": {
    "collapsed": true
   },
   "outputs": [],
   "source": [
    "import pandas as pd\n",
    "import joblib"
   ]
  },
  {
   "cell_type": "code",
   "execution_count": 6,
   "metadata": {
    "collapsed": false
   },
   "outputs": [],
   "source": [
    "train_x_GICSSector = joblib.load('../data/train_x_GICSSector.pkl.gz')\n",
    "train_x_GICSIndustryGroup = joblib.load('../data/train_x_GICSIndustryGroup.pkl.gz')\n",
    "train_x_GICSIndustry = joblib.load('../data/train_x_GICSIndustry.pkl.gz')\n",
    "test_x_GICSSector = joblib.load('../data/test_x_GICSSector.pkl.gz')\n",
    "test_x_GICSIndustryGroup = joblib.load('../data/test_x_GICSIndustryGroup.pkl.gz')\n",
    "test_x_GICSIndustry = joblib.load('../data/test_x_GICSIndustry.pkl.gz')\n"
   ]
  },
  {
   "cell_type": "code",
   "execution_count": 8,
   "metadata": {
    "collapsed": true
   },
   "outputs": [],
   "source": [
    "def save(object, filename):\n",
    "    \"\"\"Saves a compressed object to disk\n",
    "       \"\"\"\n",
    "    # with gzip.open(filename, 'wb') as f:\n",
    "    #     f.write(pickle.dumps(object, protocol))\n",
    "    joblib.dump(object, filename)\n",
    "\n",
    "def convert_file_string(original_name):\n",
    "    output_str = original_name.replace('&', 'And')\n",
    "    output_str = output_str.replace(',', '')\n",
    "    output_str = output_str.replace('-', '')\n",
    "    output_str = output_str.replace('(', '')\n",
    "    output_str = output_str.replace(')', '')\n",
    "    output_str = output_str.replace(' ', '')\n",
    "    return output_str\n",
    "\n",
    "\n",
    "def fix_categorical(categorical_data):\n",
    "    unique_vals = categorical_data.unique()\n",
    "    category_renamer = {}\n",
    "\n",
    "    for index in range(0, len(unique_vals)):\n",
    "        category_renamer[unique_vals[index]\n",
    "                         ] = convert_file_string(unique_vals[index])\n",
    "\n",
    "    print('Converting categories')\n",
    "    print(category_renamer)\n",
    "\n",
    "    return categorical_data.rename_categories(category_renamer)"
   ]
  },
  {
   "cell_type": "code",
   "execution_count": 9,
   "metadata": {
    "collapsed": false
   },
   "outputs": [
    {
     "name": "stdout",
     "output_type": "stream",
     "text": [
      "Converting categories\n",
      "{'Materials': 'Materials', 'Unknown': 'Unknown', 'Consumer Discretionary': 'ConsumerDiscretionary', 'Financials': 'Financials', 'ETF': 'ETF', 'Telecommunication Services': 'TelecommunicationServices', 'Health Care': 'HealthCare', 'NA': 'NA', 'Real Estate': 'RealEstate', 'Information Technology': 'InformationTechnology', 'Industrials': 'Industrials', 'Energy': 'Energy', 'Consumer Staples': 'ConsumerStaples', 'Utilities': 'Utilities'}\n",
      "Converting categories\n",
      "{'Materials': 'Materials', 'Unknown': 'Unknown', 'Consumer Services': 'ConsumerServices', 'Diversified Financials': 'DiversifiedFinancials', 'ETF': 'ETF', 'Telecommunication Services': 'TelecommunicationServices', 'Pharmaceuticals, Biotechnology & Life Sciences': 'PharmaceuticalsBiotechnologyAndLifeSciences', 'NA': 'NA', 'Consumer Durables & Apparel': 'ConsumerDurablesAndApparel', 'Real Estate': 'RealEstate', 'Software & Services': 'SoftwareAndServices', 'Commercial & Professional Services': 'CommercialAndProfessionalServices', 'Energy': 'Energy', 'Media': 'Media', 'Retailing': 'Retailing', 'Household & Personal Products': 'HouseholdAndPersonalProducts', 'Banks': 'Banks', 'Insurance': 'Insurance', 'Technology Hardware & Equipment': 'TechnologyHardwareAndEquipment', 'Health Care Equipment & Services': 'HealthCareEquipmentAndServices', 'Capital Goods': 'CapitalGoods', 'Food, Beverage & Tobacco': 'FoodBeverageAndTobacco', 'Utilities': 'Utilities', 'Transportation': 'Transportation', 'Semiconductors & Semiconductor Equipment': 'SemiconductorsAndSemiconductorEquipment', 'Automobiles & Components': 'AutomobilesAndComponents', 'Food & Staples Retailing': 'FoodAndStaplesRetailing'}\n",
      "Converting categories\n",
      "{'Metals & Mining': 'MetalsAndMining', 'Unknown': 'Unknown', 'Hotels, Restaurants & Leisure': 'HotelsRestaurantsAndLeisure', 'Capital Markets': 'CapitalMarkets', 'ETF': 'ETF', 'Diversified Telecommunication Services': 'DiversifiedTelecommunicationServices', 'Life Sciences Tools & Services': 'LifeSciencesToolsAndServices', 'Biotechnology': 'Biotechnology', 'NA': 'NA', 'Household Durables': 'HouseholdDurables', 'Equity Real Estate Investment Trusts (REITs)': 'EquityRealEstateInvestmentTrustsREITs', 'Software': 'Software', 'Commercial Services & Supplies': 'CommercialServicesAndSupplies', 'Chemicals': 'Chemicals', 'Real Estate Management & Development': 'RealEstateManagementAndDevelopment', 'Diversified Consumer Services': 'DiversifiedConsumerServices', 'Oil, Gas & Consumable Fuels': 'OilGasAndConsumableFuels', 'Media': 'Media', 'Pharmaceuticals': 'Pharmaceuticals', 'Specialty Retail': 'SpecialtyRetail', 'Diversified Financial Services': 'DiversifiedFinancialServices', 'Personal Products': 'PersonalProducts', 'Banks': 'Banks', 'Textiles, Apparel & Luxury Goods': 'TextilesApparelAndLuxuryGoods', 'Insurance': 'Insurance', 'Electronic Equipment, Instruments & Components': 'ElectronicEquipmentInstrumentsAndComponents', 'Real Estate Investment Trusts (REITs)': 'RealEstateInvestmentTrustsREITs', 'Communications Equipment': 'CommunicationsEquipment', 'Health Care Equipment & Supplies': 'HealthCareEquipmentAndSupplies', 'IT Services': 'ITServices', 'Leisure Products': 'LeisureProducts', 'Industrial Conglomerates': 'IndustrialConglomerates', 'Internet Software & Services': 'InternetSoftwareAndServices', 'Food Products': 'FoodProducts', 'Electric Utilities': 'ElectricUtilities', 'Containers & Packaging': 'ContainersAndPackaging', 'Transportation Infrastructure': 'TransportationInfrastructure', 'Independent Power and Renewable Electricity Producers': 'IndependentPowerandRenewableElectricityProducers', 'Construction & Engineering': 'ConstructionAndEngineering', 'Gas Utilities': 'GasUtilities', 'Professional Services': 'ProfessionalServices', 'Electrical Equipment': 'ElectricalEquipment', 'Health Care Providers & Services': 'HealthCareProvidersAndServices', 'Machinery': 'Machinery', 'Wireless Telecommunication Services': 'WirelessTelecommunicationServices', 'Consumer Finance': 'ConsumerFinance', 'Multi-Utilities': 'MultiUtilities', 'Beverages': 'Beverages', 'Road & Rail': 'RoadAndRail', 'Air Freight & Logistics': 'AirFreightAndLogistics', 'Construction Materials': 'ConstructionMaterials', 'Semiconductors & Semiconductor Equipment': 'SemiconductorsAndSemiconductorEquipment', 'Building Products': 'BuildingProducts', 'Multiline Retail': 'MultilineRetail', 'Trading Companies & Distributors': 'TradingCompaniesAndDistributors', 'Health Care Technology': 'HealthCareTechnology', 'Energy Equipment & Services': 'EnergyEquipmentAndServices', 'Distributors': 'Distributors', 'Internet & Direct Marketing Retail': 'InternetAndDirectMarketingRetail', 'Technology Hardware, Storage & Peripherals': 'TechnologyHardwareStorageAndPeripherals', 'Auto Components': 'AutoComponents', 'Airlines': 'Airlines', 'Aerospace & Defense': 'AerospaceAndDefense', 'Automobiles': 'Automobiles', 'Household Products': 'HouseholdProducts', 'Water Utilities': 'WaterUtilities', 'Thrifts & Mortgage Finance': 'ThriftsAndMortgageFinance', 'Food & Staples Retailing': 'FoodAndStaplesRetailing', 'Paper & Forest Products': 'PaperAndForestProducts', 'Marine': 'Marine'}\n",
      "Converting categories\n",
      "{'Materials': 'Materials', 'Unknown': 'Unknown', 'Consumer Discretionary': 'ConsumerDiscretionary', 'Financials': 'Financials', 'ETF': 'ETF', 'Telecommunication Services': 'TelecommunicationServices', 'Health Care': 'HealthCare', 'NA': 'NA', 'Real Estate': 'RealEstate', 'Information Technology': 'InformationTechnology', 'Industrials': 'Industrials', 'Energy': 'Energy', 'Consumer Staples': 'ConsumerStaples', 'Utilities': 'Utilities'}\n",
      "Converting categories\n",
      "{'Materials': 'Materials', 'Unknown': 'Unknown', 'Consumer Services': 'ConsumerServices', 'Diversified Financials': 'DiversifiedFinancials', 'ETF': 'ETF', 'Telecommunication Services': 'TelecommunicationServices', 'Pharmaceuticals, Biotechnology & Life Sciences': 'PharmaceuticalsBiotechnologyAndLifeSciences', 'NA': 'NA', 'Consumer Durables & Apparel': 'ConsumerDurablesAndApparel', 'Real Estate': 'RealEstate', 'Software & Services': 'SoftwareAndServices', 'Commercial & Professional Services': 'CommercialAndProfessionalServices', 'Energy': 'Energy', 'Media': 'Media', 'Retailing': 'Retailing', 'Household & Personal Products': 'HouseholdAndPersonalProducts', 'Banks': 'Banks', 'Insurance': 'Insurance', 'Technology Hardware & Equipment': 'TechnologyHardwareAndEquipment', 'Health Care Equipment & Services': 'HealthCareEquipmentAndServices', 'Capital Goods': 'CapitalGoods', 'Food, Beverage & Tobacco': 'FoodBeverageAndTobacco', 'Utilities': 'Utilities', 'Transportation': 'Transportation', 'Semiconductors & Semiconductor Equipment': 'SemiconductorsAndSemiconductorEquipment', 'Automobiles & Components': 'AutomobilesAndComponents', 'Food & Staples Retailing': 'FoodAndStaplesRetailing'}\n",
      "Converting categories\n",
      "{'Metals & Mining': 'MetalsAndMining', 'Unknown': 'Unknown', 'Hotels, Restaurants & Leisure': 'HotelsRestaurantsAndLeisure', 'Capital Markets': 'CapitalMarkets', 'ETF': 'ETF', 'Diversified Telecommunication Services': 'DiversifiedTelecommunicationServices', 'Life Sciences Tools & Services': 'LifeSciencesToolsAndServices', 'Biotechnology': 'Biotechnology', 'NA': 'NA', 'Household Durables': 'HouseholdDurables', 'Equity Real Estate Investment Trusts (REITs)': 'EquityRealEstateInvestmentTrustsREITs', 'Software': 'Software', 'Commercial Services & Supplies': 'CommercialServicesAndSupplies', 'Chemicals': 'Chemicals', 'Real Estate Management & Development': 'RealEstateManagementAndDevelopment', 'Diversified Consumer Services': 'DiversifiedConsumerServices', 'Oil, Gas & Consumable Fuels': 'OilGasAndConsumableFuels', 'Media': 'Media', 'Pharmaceuticals': 'Pharmaceuticals', 'Specialty Retail': 'SpecialtyRetail', 'Diversified Financial Services': 'DiversifiedFinancialServices', 'Personal Products': 'PersonalProducts', 'Banks': 'Banks', 'Textiles, Apparel & Luxury Goods': 'TextilesApparelAndLuxuryGoods', 'Insurance': 'Insurance', 'Electronic Equipment, Instruments & Components': 'ElectronicEquipmentInstrumentsAndComponents', 'Real Estate Investment Trusts (REITs)': 'RealEstateInvestmentTrustsREITs', 'Communications Equipment': 'CommunicationsEquipment', 'Health Care Equipment & Supplies': 'HealthCareEquipmentAndSupplies', 'IT Services': 'ITServices', 'Leisure Products': 'LeisureProducts', 'Industrial Conglomerates': 'IndustrialConglomerates', 'Internet Software & Services': 'InternetSoftwareAndServices', 'Food Products': 'FoodProducts', 'Electric Utilities': 'ElectricUtilities', 'Containers & Packaging': 'ContainersAndPackaging', 'Transportation Infrastructure': 'TransportationInfrastructure', 'Independent Power and Renewable Electricity Producers': 'IndependentPowerandRenewableElectricityProducers', 'Construction & Engineering': 'ConstructionAndEngineering', 'Gas Utilities': 'GasUtilities', 'Professional Services': 'ProfessionalServices', 'Electrical Equipment': 'ElectricalEquipment', 'Health Care Providers & Services': 'HealthCareProvidersAndServices', 'Machinery': 'Machinery', 'Wireless Telecommunication Services': 'WirelessTelecommunicationServices', 'Consumer Finance': 'ConsumerFinance', 'Multi-Utilities': 'MultiUtilities', 'Beverages': 'Beverages', 'Road & Rail': 'RoadAndRail', 'Air Freight & Logistics': 'AirFreightAndLogistics', 'Construction Materials': 'ConstructionMaterials', 'Semiconductors & Semiconductor Equipment': 'SemiconductorsAndSemiconductorEquipment', 'Building Products': 'BuildingProducts', 'Multiline Retail': 'MultilineRetail', 'Trading Companies & Distributors': 'TradingCompaniesAndDistributors', 'Health Care Technology': 'HealthCareTechnology', 'Energy Equipment & Services': 'EnergyEquipmentAndServices', 'Distributors': 'Distributors', 'Internet & Direct Marketing Retail': 'InternetAndDirectMarketingRetail', 'Technology Hardware, Storage & Peripherals': 'TechnologyHardwareStorageAndPeripherals', 'Auto Components': 'AutoComponents', 'Airlines': 'Airlines', 'Aerospace & Defense': 'AerospaceAndDefense', 'Automobiles': 'Automobiles', 'Household Products': 'HouseholdProducts', 'Water Utilities': 'WaterUtilities', 'Thrifts & Mortgage Finance': 'ThriftsAndMortgageFinance', 'Food & Staples Retailing': 'FoodAndStaplesRetailing', 'Paper & Forest Products': 'PaperAndForestProducts', 'Marine': 'Marine'}\n"
     ]
    }
   ],
   "source": [
    "train_x_GICSSector = fix_categorical(train_x_GICSSector)\n",
    "train_x_GICSIndustryGroup = fix_categorical(train_x_GICSIndustryGroup)\n",
    "train_x_GICSIndustry = fix_categorical(train_x_GICSIndustry)\n",
    "test_x_GICSSector = fix_categorical(test_x_GICSSector)\n",
    "test_x_GICSIndustryGroup = fix_categorical(test_x_GICSIndustryGroup)\n",
    "test_x_GICSIndustry = fix_categorical(test_x_GICSIndustry)\n",
    "\n",
    "save(train_x_GICSSector, '../data/train_x_GICSSector.pkl.gz')\n",
    "save(train_x_GICSIndustryGroup, '../data/train_x_GICSIndustryGroup.pkl.gz')\n",
    "save(train_x_GICSIndustry, '../data/train_x_GICSIndustry.pkl.gz')\n",
    "save(test_x_GICSSector, '../data/test_x_GICSSector.pkl.gz')\n",
    "save(test_x_GICSIndustryGroup, '../data/test_x_GICSIndustryGroup.pkl.gz')\n",
    "save(test_x_GICSIndustry, '../data/test_x_GICSIndustry.pkl.gz')"
   ]
  },
  {
   "cell_type": "code",
   "execution_count": 3,
   "metadata": {
    "collapsed": false
   },
   "outputs": [
    {
     "name": "stdout",
     "output_type": "stream",
     "text": [
      "[Materials, Unknown, Consumer Discretionary, Financials, ETF, ..., Information Technology, Industrials, Energy, Consumer Staples, Utilities]\n",
      "Length: 14\n",
      "Categories (14, object): [Materials, Unknown, Consumer Discretionary, Financials, ..., Industrials, Energy, Consumer Staples, Utilities]\n"
     ]
    }
   ],
   "source": [
    "print(train_x_GICSSector.unique())"
   ]
  },
  {
   "cell_type": "code",
   "execution_count": null,
   "metadata": {
    "collapsed": false
   },
   "outputs": [],
   "source": [
    "train_x_GICSIndustryGroup.dtype"
   ]
  },
  {
   "cell_type": "code",
   "execution_count": 11,
   "metadata": {
    "collapsed": false
   },
   "outputs": [
    {
     "name": "stdout",
     "output_type": "stream",
     "text": [
      "[Materials, Unknown, Consumer Services, Diversified Financials, ETF, ..., Utilities, Transportation, Semiconductors & Semiconductor Equipment, Automobiles & Components, Food & Staples Retailing]\n",
      "Length: 27\n",
      "Categories (27, object): [Materials, Unknown, Consumer Services, Diversified Financials, ..., Transportation, Semiconductors & Semiconductor Equipment, Automobiles & Components, Food & Staples Retailing]\n",
      "category\n",
      "Materials\n",
      "27\n",
      "Materials\n",
      "Unknown\n",
      "Consumer Services\n",
      "Diversified Financials\n",
      "ETF\n",
      "Telecommunication Services\n",
      "Pharmaceuticals, Biotechnology & Life Sciences\n",
      "NA\n",
      "Consumer Durables & Apparel\n",
      "Real Estate\n",
      "Software & Services\n",
      "Commercial & Professional Services\n",
      "Energy\n",
      "Media\n",
      "Retailing\n",
      "Household & Personal Products\n",
      "Banks\n",
      "Insurance\n",
      "Technology Hardware & Equipment\n",
      "Health Care Equipment & Services\n",
      "Capital Goods\n",
      "Food, Beverage & Tobacco\n",
      "Utilities\n",
      "Transportation\n",
      "Semiconductors & Semiconductor Equipment\n",
      "Automobiles & Components\n",
      "Food & Staples Retailing\n"
     ]
    }
   ],
   "source": [
    "GICSIndustryGroups = train_x_GICSIndustryGroup.unique()\n",
    "print(GICSIndustryGroups)\n",
    "print(GICSIndustryGroups.dtype)\n",
    "print(GICSIndustryGroups[0])\n",
    "print(len(GICSIndustryGroups))\n",
    "\n",
    "for index in range(0, len(GICSIndustryGroups)):\n",
    "    print(GICSIndustryGroups[index])\n",
    "\n",
    "# for val in GICSIndustryGroups\n",
    "#     val.replace('&', 'And')\n",
    "#     val.replace(' ','')\n",
    "#     print(val)\n",
    "    \n",
    "# print(GICSIndustryGroups)\n",
    "\n"
   ]
  },
  {
   "cell_type": "code",
   "execution_count": null,
   "metadata": {
    "collapsed": false
   },
   "outputs": [],
   "source": [
    "# conv_train_x_GICSIndustryGroup = train_x_GICSIndustryGroup.astype(str)"
   ]
  },
  {
   "cell_type": "code",
   "execution_count": 4,
   "metadata": {
    "collapsed": true
   },
   "outputs": [],
   "source": [
    "def convert_file_string(original_name):\n",
    "     output_str = original_name.replace('&', 'And')\n",
    "     output_str = output_str.replace(',','')\n",
    "     output_str = output_str.replace(' ','')\n",
    "     return output_str"
   ]
  },
  {
   "cell_type": "code",
   "execution_count": 12,
   "metadata": {
    "collapsed": false,
    "scrolled": true
   },
   "outputs": [
    {
     "name": "stdout",
     "output_type": "stream",
     "text": [
      "Materials\n",
      "Unknown\n",
      "Consumer Services\n",
      "Diversified Financials\n",
      "ETF\n",
      "Telecommunication Services\n",
      "Pharmaceuticals, Biotechnology & Life Sciences\n",
      "NA\n",
      "Consumer Durables & Apparel\n",
      "Real Estate\n",
      "Software & Services\n",
      "Commercial & Professional Services\n",
      "Energy\n",
      "Media\n",
      "Retailing\n",
      "Household & Personal Products\n",
      "Banks\n",
      "Insurance\n",
      "Technology Hardware & Equipment\n",
      "Health Care Equipment & Services\n",
      "Capital Goods\n",
      "Food, Beverage & Tobacco\n",
      "Utilities\n",
      "Transportation\n",
      "Semiconductors & Semiconductor Equipment\n",
      "Automobiles & Components\n",
      "Food & Staples Retailing\n",
      "{'Materials': 'Materials', 'Unknown': 'Unknown', 'Consumer Services': 'ConsumerServices', 'Diversified Financials': 'DiversifiedFinancials', 'ETF': 'ETF', 'Telecommunication Services': 'TelecommunicationServices', 'Pharmaceuticals, Biotechnology & Life Sciences': 'PharmaceuticalsBiotechnologyAndLifeSciences', 'NA': 'NA', 'Consumer Durables & Apparel': 'ConsumerDurablesAndApparel', 'Real Estate': 'RealEstate', 'Software & Services': 'SoftwareAndServices', 'Commercial & Professional Services': 'CommercialAndProfessionalServices', 'Energy': 'Energy', 'Media': 'Media', 'Retailing': 'Retailing', 'Household & Personal Products': 'HouseholdAndPersonalProducts', 'Banks': 'Banks', 'Insurance': 'Insurance', 'Technology Hardware & Equipment': 'TechnologyHardwareAndEquipment', 'Health Care Equipment & Services': 'HealthCareEquipmentAndServices', 'Capital Goods': 'CapitalGoods', 'Food, Beverage & Tobacco': 'FoodBeverageAndTobacco', 'Utilities': 'Utilities', 'Transportation': 'Transportation', 'Semiconductors & Semiconductor Equipment': 'SemiconductorsAndSemiconductorEquipment', 'Automobiles & Components': 'AutomobilesAndComponents', 'Food & Staples Retailing': 'FoodAndStaplesRetailing'}\n"
     ]
    }
   ],
   "source": [
    "GICSIndustryGroups = ç.unique()\n",
    "category_renamer = {}\n",
    "\n",
    "for index in range(0, len(GICSIndustryGroups)):\n",
    "    print(GICSIndustryGroups[index])\n",
    "    category_renamer[GICSIndustryGroups[index]] = convert_file_string(GICSIndustryGroups[index])\n",
    "    \n",
    "print(category_renamer)"
   ]
  },
  {
   "cell_type": "code",
   "execution_count": 14,
   "metadata": {
    "collapsed": false
   },
   "outputs": [
    {
     "data": {
      "text/plain": [
       "[Materials, Unknown, ConsumerServices, DiversifiedFinancials, ETF, ..., Utilities, Transportation, SemiconductorsAndSemiconductorEquipment, AutomobilesAndComponents, FoodAndStaplesRetailing]\n",
       "Length: 27\n",
       "Categories (27, object): [Materials, Unknown, ConsumerServices, DiversifiedFinancials, ..., Transportation, SemiconductorsAndSemiconductorEquipment, AutomobilesAndComponents, FoodAndStaplesRetailing]"
      ]
     },
     "execution_count": 14,
     "metadata": {},
     "output_type": "execute_result"
    }
   ],
   "source": [
    "train_x_GICSIndustryGroup.rename_categories(category_renamer).unique()"
   ]
  },
  {
   "cell_type": "code",
   "execution_count": null,
   "metadata": {
    "collapsed": false
   },
   "outputs": [],
   "source": [
    "print(train_x_GICSIndustry.unique())"
   ]
  }
 ],
 "metadata": {
  "kernelspec": {
   "display_name": "Python 3",
   "language": "python",
   "name": "python3"
  },
  "language_info": {
   "codemirror_mode": {
    "name": "ipython",
    "version": 3
   },
   "file_extension": ".py",
   "mimetype": "text/x-python",
   "name": "python",
   "nbconvert_exporter": "python",
   "pygments_lexer": "ipython3",
   "version": "3.6.0"
  }
 },
 "nbformat": 4,
 "nbformat_minor": 2
}
