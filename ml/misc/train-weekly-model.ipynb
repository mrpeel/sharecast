{
 "cells": [
  {
   "cell_type": "code",
   "execution_count": 1,
   "metadata": {},
   "outputs": [
    {
     "name": "stderr",
     "output_type": "stream",
     "text": [
      "/Users/neilkloot/anaconda/lib/python3.6/site-packages/numba/errors.py:131: UserWarning: Insufficiently recent colorama version found. Numba requires colorama >= 0.3.9\n",
      "  warnings.warn(msg)\n"
     ]
    }
   ],
   "source": [
    "\n",
    "import sys\n",
    "import numba\n",
    "import pandas as pd\n",
    "import numpy as np\n",
    "from numpy import array\n",
    "import math\n",
    "from timeit import default_timer as timer\n",
    "from datetime import datetime, timedelta\n",
    "import numba\n",
    "import ta\n",
    "from scipy import stats\n",
    "from processing_constants import ALL_CONTINUOUS_COLUMNS, HIGH_NAN_COLUMNS, WHOLE_MARKET_COLUMNS\n",
    "from processing_constants import BOLLINGER_PREDICTION_COLUMNS, BOLLINGER_VALUE_COLUMNS\n",
    "from optimise_dataframe import optimise_df\n",
    "import glob\n",
    "from sklearn import preprocessing\n",
    "from sklearn.experimental import enable_hist_gradient_boosting\n",
    "from sklearn.ensemble import RandomForestClassifier, AdaBoostClassifier, HistGradientBoostingClassifier, VotingClassifier\n",
    "from sklearn.metrics import accuracy_score, confusion_matrix\n",
    "import joblib\n",
    "import matplotlib.pyplot as plt\n",
    "\n"
   ]
  },
  {
   "cell_type": "code",
   "execution_count": 2,
   "metadata": {},
   "outputs": [
    {
     "name": "stdout",
     "output_type": "stream",
     "text": [
      "week_starting                                 object\n",
      "lastTradePriceOnly                           float64\n",
      "adjustedPrice                                float64\n",
      "volume                                       float64\n",
      "previousClose                                float64\n",
      "change                                       float64\n",
      "changeInPercent                              float64\n",
      "52WeekHigh                                   float64\n",
      "52WeekLow                                    float64\n",
      "changeFrom52WeekHigh                         float64\n",
      "changeFrom52WeekLow                          float64\n",
      "percebtChangeFrom52WeekHigh                  float64\n",
      "percentChangeFrom52WeekLow                   float64\n",
      "allordpreviousclose                          float64\n",
      "allordchange                                 float64\n",
      "allorddayshigh                               float64\n",
      "allorddayslow                                float64\n",
      "allordpercebtChangeFrom52WeekHigh            float64\n",
      "allordpercentChangeFrom52WeekLow             float64\n",
      "asxpreviousclose                             float64\n",
      "asxchange                                    float64\n",
      "asxdayshigh                                  float64\n",
      "asxdayslow                                   float64\n",
      "asxpercebtChangeFrom52WeekHigh               float64\n",
      "asxpercentChangeFrom52WeekLow                float64\n",
      "exDividendRelative                           float64\n",
      "exDividendPayout                             float64\n",
      "640106_A3597525W                             float64\n",
      "AINTCOV                                      float64\n",
      "BookValuePerShareYear                        float64\n",
      "                                              ...   \n",
      "H05_GLFSEPTPOP_ta_trend_cci                  float64\n",
      "H05_GLFSEPTPOP_ta_trend_dpo                  float64\n",
      "H05_GLFSEPTPOP_ta_trend_kst                  float64\n",
      "H05_GLFSEPTPOP_ta_trend_kst_sig              float64\n",
      "H05_GLFSEPTPOP_ta_trend_kst_diff             float64\n",
      "H05_GLFSEPTPOP_ta_trend_ichimoku_a           float64\n",
      "H05_GLFSEPTPOP_ta_trend_ichimoku_b           float64\n",
      "H05_GLFSEPTPOP_ta_trend_visual_ichimoku_a    float64\n",
      "H05_GLFSEPTPOP_ta_trend_visual_ichimoku_b    float64\n",
      "H05_GLFSEPTPOP_ta_trend_aroon_up             float64\n",
      "H05_GLFSEPTPOP_ta_trend_aroon_down           float64\n",
      "H05_GLFSEPTPOP_ta_trend_aroon_ind            float64\n",
      "H05_GLFSEPTPOP_ta_momentum_rsi               float64\n",
      "H05_GLFSEPTPOP_ta_momentum_mfi               float64\n",
      "H05_GLFSEPTPOP_ta_momentum_tsi               float64\n",
      "H05_GLFSEPTPOP_ta_momentum_uo                float64\n",
      "H05_GLFSEPTPOP_ta_momentum_stoch             float64\n",
      "H05_GLFSEPTPOP_ta_momentum_stoch_signal      float64\n",
      "H05_GLFSEPTPOP_ta_momentum_wr                float64\n",
      "H05_GLFSEPTPOP_ta_momentum_ao                float64\n",
      "H05_GLFSEPTPOP_ta_others_dr                  float64\n",
      "H05_GLFSEPTPOP_ta_others_dlr                 float64\n",
      "H05_GLFSEPTPOP_ta_others_cr                  float64\n",
      "symbolc                                        int64\n",
      "class_index                                    int64\n",
      "strong_sell                                    int64\n",
      "sell                                           int64\n",
      "hold                                           int64\n",
      "buy                                            int64\n",
      "strong_buy                                     int64\n",
      "Length: 1114, dtype: object\n"
     ]
    }
   ],
   "source": [
    "train_data = pd.read_pickle(\n",
    "    'data/ml-ta-discretised-training-data-201908262001.pkl.gz', compression='gzip')\n",
    "\n",
    "print(train_data.dtypes)\n"
   ]
  },
  {
   "cell_type": "code",
   "execution_count": 4,
   "metadata": {},
   "outputs": [
    {
     "data": {
      "text/plain": [
       "9620709056"
      ]
     },
     "execution_count": 4,
     "metadata": {},
     "output_type": "execute_result"
    }
   ],
   "source": [
    "train_data.memory_usage().sum()"
   ]
  },
  {
   "cell_type": "code",
   "execution_count": 5,
   "metadata": {},
   "outputs": [],
   "source": [
    "train_data = optimise_df(train_data)"
   ]
  },
  {
   "cell_type": "code",
   "execution_count": 6,
   "metadata": {},
   "outputs": [
    {
     "data": {
      "text/plain": [
       "4423988310"
      ]
     },
     "execution_count": 6,
     "metadata": {},
     "output_type": "execute_result"
    }
   ],
   "source": [
    "train_data.memory_usage().sum()"
   ]
  },
  {
   "cell_type": "code",
   "execution_count": null,
   "metadata": {},
   "outputs": [],
   "source": [
    "# Use full training set (proportion 1)\n",
    "print('Setting target dfs')\n",
    "train_target_oh = train_data[bin_names]\n",
    "train_target_le = train_data['class_index']\n",
    "print('Setting symbol df')\n",
    "train_symbols = train_data['symbol']\n",
    "\n",
    "cols_to_drop = bin_names.copy()\n",
    "cols_to_drop.extend(['symbol', 'target', 'class', 'class_index'])\n",
    "\n",
    "print('Dropping cols')\n",
    "train_data.drop(cols_to_drop, axis=1, inplace=True, errors='ignore')\n",
    "\n",
    "print('Training data memory', train_data.memory_usage().sum())"
   ]
  },
  {
   "cell_type": "code",
   "execution_count": null,
   "metadata": {},
   "outputs": [
    {
     "name": "stdout",
     "output_type": "stream",
     "text": [
      "Training voting classifier with soft voting\n"
     ]
    }
   ],
   "source": [
    "bin_names = ['strong_sell', 'sell', 'hold', 'buy', 'strong_buy']\n",
    "\n",
    "classifiers = [\n",
    "    ('Random Forest',\n",
    "     RandomForestClassifier(\n",
    "         max_depth=20, n_estimators=505, min_samples_split=2, min_samples_leaf=1)\n",
    "     ),\n",
    "    ('Adaboost Random Forest',\n",
    "     AdaBoostClassifier(RandomForestClassifier(\n",
    "         max_depth=20, n_estimators=505, min_samples_split=2, min_samples_leaf=1), n_estimators=100)\n",
    "     ),\n",
    "    ('Histogram Gradient Boosting',\n",
    "     HistGradientBoostingClassifier(\n",
    "         max_iter=343, max_leaf_nodes=623, learning_rate=0.1, min_samples_leaf=2, l2_regularization=0.)\n",
    "     )\n",
    "]\n",
    "\n",
    "\n",
    "print('Training voting classifier with soft voting')\n",
    "voting_clf = VotingClassifier(\n",
    "    estimators=classifiers, voting='soft') #, n_jobs=8)\n",
    "voting_clf = voting_clf.fit(train_data, train_target_le)\n"
   ]
  },
  {
   "cell_type": "code",
   "execution_count": null,
   "metadata": {},
   "outputs": [],
   "source": [
    "joblib.dump(voting_clf, './clf-model.joblib.z')\n",
    "\n"
   ]
  },
  {
   "cell_type": "code",
   "execution_count": null,
   "metadata": {},
   "outputs": [],
   "source": [
    "# Execute backtest\n",
    "train_x, train_y_le, train_symbols, test_x, test_y_le, test_symbols = split_dataset(\n",
    "    train_data, 1.)\n",
    "# del test_x, test_y_le, test_symbols\n",
    "train_pred_y = model.predict(train_x)\n",
    "evaluate_classifier(train_y_le, train_pred_y, bin_names)"
   ]
  }
 ],
 "metadata": {
  "kernelspec": {
   "display_name": "Python 3",
   "language": "python",
   "name": "python3"
  },
  "language_info": {
   "codemirror_mode": {
    "name": "ipython",
    "version": 3
   },
   "file_extension": ".py",
   "mimetype": "text/x-python",
   "name": "python",
   "nbconvert_exporter": "python",
   "pygments_lexer": "ipython3",
   "version": "3.6.9"
  }
 },
 "nbformat": 4,
 "nbformat_minor": 2
}
