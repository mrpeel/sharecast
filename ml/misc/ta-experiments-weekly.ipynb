{
 "cells": [
  {
   "cell_type": "code",
   "execution_count": 2,
   "metadata": {},
   "outputs": [
    {
     "name": "stderr",
     "output_type": "stream",
     "text": [
      "/Users/neilkloot/anaconda/lib/python3.6/site-packages/h5py/__init__.py:36: FutureWarning: Conversion of the second argument of issubdtype from `float` to `np.floating` is deprecated. In future, it will be treated as `np.float64 == np.dtype(float).type`.\n",
      "  from ._conv import register_converters as _register_converters\n",
      "Using TensorFlow backend.\n"
     ]
    }
   ],
   "source": [
    "import sys\n",
    "sys.path.append('../')\n",
    "\n",
    "import pandas as pd\n",
    "import numpy as np\n",
    "import math\n",
    "from timeit import default_timer as timer\n",
    "from datetime import datetime, timedelta\n",
    "import numba\n",
    "from ensemble_processing import load_data, load, save\n",
    "from ta import *"
   ]
  },
  {
   "cell_type": "code",
   "execution_count": 3,
   "metadata": {},
   "outputs": [],
   "source": [
    "pd.options.display.max_rows=500\n",
    "pd.options.display.max_columns=500"
   ]
  },
  {
   "cell_type": "code",
   "execution_count": 4,
   "metadata": {},
   "outputs": [],
   "source": [
    "def fix_duplicate_columns(df):\n",
    "    # Get unique list of columms\n",
    "    unique_cols = np.unique(df.columns.values)\n",
    "    \n",
    "    for col in unique_cols:\n",
    "        column_numbers = [x for x in range(df.shape[1])]  # list of columns' integer indices\n",
    "        remove_index = -1\n",
    "        already_located = False\n",
    "\n",
    "        for col_num in range(len(df.columns)):\n",
    "            if df.columns[col_num] == col and already_located:\n",
    "                remove_index = col_num\n",
    "                print('Found duplicate for ', col, '- remove index', remove_index)\n",
    "            elif df.columns[col_num] == col and not already_located:\n",
    "                already_located = True\n",
    "#                 print('Found first occurence', col, '-', col_num)\n",
    "                \n",
    "        # If a duplicate has been found, remove the column from the index list\n",
    "        if remove_index != -1:\n",
    "            column_numbers.remove(remove_index) #removing column integer index n\n",
    "            df = df.iloc[:, column_numbers] #return all columns except the nth column\n",
    "\n",
    "    return df\n"
   ]
  },
  {
   "cell_type": "code",
   "execution_count": 5,
   "metadata": {},
   "outputs": [],
   "source": [
    "from scipy import stats\n",
    "from processing_constants import ALL_CONTINUOUS_COLUMNS, HIGH_NAN_COLUMNS\n",
    "from processing_constants import BOLLINGER_PREDICTION_COLUMNS, BOLLINGER_VALUE_COLUMNS\n",
    "ID_COLUMNS = ['symbol', 'GICSSector', 'GICSIndustryGroup', 'GICSIndustry']\n",
    "DATE_COLS = ['exDividendDate']\n",
    "\n",
    "median_cols = []\n",
    "median_cols.extend(ALL_CONTINUOUS_COLUMNS)\n",
    "median_cols.extend(DATE_COLS)\n",
    "# Remove val which isn't in df\n",
    "median_cols.remove('quoteDate_TIMESTAMP')\n",
    "\n",
    "sum_cols = ['totalVolume']\n",
    "\n",
    "mode_cols = []\n",
    "# mode_cols.extend(ID_COLUMNS)\n",
    "\n",
    "min_numeric_cols = ['weekLow']\n",
    "\n",
    "min_string_cols = []\n",
    "min_string_cols.extend(BOLLINGER_PREDICTION_COLUMNS)\n",
    "min_string_cols.extend(BOLLINGER_VALUE_COLUMNS)\n",
    "\n",
    "max_cols = ['weekHigh']\n",
    "first_cols = ['weekOpen']\n",
    "last_cols = ['weekClose']\n",
    "\n",
    "def return_week_summary_symbol(df):\n",
    "    \"\"\"\n",
    "        Creates a weekly summary of the daily results for a symbol - assumes a datetime index\n",
    "    \"\"\"\n",
    "\n",
    "    # remove high nan cols\n",
    "    df.drop(HIGH_NAN_COLUMNS, axis=1, inplace=True, errors='ignore')\n",
    "\n",
    "    # remove separate date col\n",
    "    df.drop(['quoteDate'], axis=1, inplace=True, errors='ignore')\n",
    "\n",
    "    # cols for special vals\n",
    "    df['totalVolume'] = df['volume']\n",
    "    df['weekLow'] = df['daysLow']\n",
    "    df['weekHigh'] = df['daysHigh']\n",
    "    df['weekOpen'] = df['previousClose']\n",
    "    df['weekClose'] = df['adjustedPrice']\n",
    "\n",
    "    if len(median_cols):\n",
    "        median_resample = df[median_cols].resample('1W').median()\n",
    "    else:\n",
    "        median_resample = pd.DataFrame()\n",
    "\n",
    "    if len(sum_cols):\n",
    "        sum_resample = df[sum_cols].resample('1W').sum()\n",
    "    else:\n",
    "        sum_resample = pd.DataFrame()\n",
    "\n",
    "    if len(mode_cols):\n",
    "        mode_resample = pd.DataFrame()\n",
    "\n",
    "        for col in ID_COLUMNS:\n",
    "            temp_df = pd.DataFrame()\n",
    "            temp_df[col] = df[col].resample('1W').apply(lambda x: (stats.mode(x, axis=None)[0][0]))\n",
    "            mode_resample = pd.concat([mode_resample, temp_df], axis=1)\n",
    "            \n",
    "    else:\n",
    "        mode_resample = pd.DataFrame()\n",
    "\n",
    "    if len(min_numeric_cols):\n",
    "        min_numeric_resample = df[min_numeric_cols].resample('1W').min()\n",
    "    else:\n",
    "        min_numeric_resample = pd.DataFrame()\n",
    "\n",
    "    if len(min_string_cols):\n",
    "        min_string_resample = df[min_string_cols].resample('1W').min()\n",
    "    else:\n",
    "        min_string_resample = pd.DataFrame()\n",
    "\n",
    "    if len(max_cols):\n",
    "        max_resample = df[max_cols].resample('1W').max()\n",
    "    else:\n",
    "        max_resample = pd.DataFrame()\n",
    "\n",
    "    if len(first_cols):\n",
    "        first_resample = df[first_cols].resample('1W').first()\n",
    "    else:\n",
    "        first_resample = pd.DataFrame()\n",
    "\n",
    "    if len(last_cols):\n",
    "        last_resample = df[last_cols].resample('1W').last()\n",
    "    else:\n",
    "        last_resample = pd.DataFrame()\n",
    "\n",
    "        \n",
    "    return pd.concat([median_resample, sum_resample, min_numeric_resample, min_string_resample, max_resample, \n",
    "                      first_resample, last_resample], axis=1)\n"
   ]
  },
  {
   "cell_type": "code",
   "execution_count": 6,
   "metadata": {
    "scrolled": true
   },
   "outputs": [],
   "source": [
    "def split_df(df, train_proportion, validation_test_proportion):\n",
    "#     num_recs = df.shape[0]\n",
    "#     train_num = int(train_proportion * num_recs)\n",
    "#     validation_test = num_recs - train_num\n",
    "#     validation_num = int(validation_test_proportion * validation_test) + train_num\n",
    "#     test_num = num_recs - validation_num    \n",
    "\n",
    "#     train_df = df.iloc[0:train_num,:]\n",
    "#     validation_df = df.iloc[train_num:validation_num,:]\n",
    "    print('Data split.  Total recs:', df.shape)\n",
    "    train_df = df.sample(frac=train_proportion)\n",
    "    print('Train recs:', train_df.shape)\n",
    "    \n",
    "    df.drop(train_df.index, inplace=True)\n",
    "    print('Remaining data recs:', df.shape)\n",
    "    \n",
    "    if validation_test_proportion < 1:\n",
    "        validation_df = df.sample(frac=validation_test_proportion)\n",
    "        print('Validation recs:', validation_df.shape)\n",
    "        df.drop(validation_df.index, inplace=True)\n",
    "        print('Remaining data recs:', df.shape)\n",
    "        test_df = df\n",
    "        print('Test recs:', test_df.shape)\n",
    "    else:\n",
    "        validation_df = df\n",
    "        test_df = None\n",
    "        \n",
    "    return train_df, validation_df, test_df"
   ]
  },
  {
   "cell_type": "code",
   "execution_count": 7,
   "metadata": {},
   "outputs": [],
   "source": [
    "from optimise_dataframe import optimise_df\n",
    "from processing_constants import WHOLE_MARKET_COLUMNS\n",
    "\n",
    "WHOLE_MARKET_TA = ['allordpreviousclose', 'asxpreviousclose','640106_A3597525W', 'FIRMMCRT', 'FXRUSD', \n",
    "                   'GRCPAIAD', 'GRCPAISAD', 'GRCPBCAD', 'GRCPBCSAD', 'GRCPBMAD', 'GRCPNRAD', 'GRCPRCAD', \n",
    "                   'H01_GGDPCVGDP', 'H01_GGDPCVGDPFY', 'H05_GLFSEPTPOP']\n",
    "\n",
    "def add_ta_values_to_df(df, feature_map):\n",
    "    # Calculate ta features\n",
    "\n",
    "    return add_all_ta_features(df, ta_open, ta_high, ta_low, ta_close, ta_volume, \n",
    "                               fillna=ta_fillna, colprefix=ta_colprefix)\n",
    "\n",
    "def retrieve_and_calculate_weekly_symbol_dfs(path, run_str=None, load_list=None):\n",
    "    \"\"\"\n",
    "        Retrieves the individual dataframes saved during pre-processing, calulates weekly values,\n",
    "          adds Technical Analysis values.  It then divides the data into 70 / 15 / 15 as train / \n",
    "          validation / test and returns the three data sets\n",
    "    \"\"\"\n",
    "    train_symbol_dfs = []\n",
    "    validation_symbol_dfs = []\n",
    "    test_symbol_dfs = []\n",
    "    all_dfs = []\n",
    "    whole_market_df = pd.DataFrame()\n",
    "    \n",
    "    # Create list of files to load\n",
    "    if load_list:\n",
    "        file_list = [(path + 'ml-symbol-' + item + '-' + run_str + '.pkl.gz') for item in load_list]\n",
    "    else:\n",
    "        print('Checking for files from', path)\n",
    "        # Return files in path\n",
    "        file_list = glob.glob(path + 'ml-weekly-symbol-*' + run_str + '.pkl.gz')\n",
    "        print('Found', len(file_list),'weekly symbol files')\n",
    "        \n",
    "    \n",
    "\n",
    "    # Pre-defined files to look for\n",
    "    for file in file_list:\n",
    "        daily_symbol_df = pd.read_pickle(file, compression='gzip')\n",
    "        whole_market_df = whole_market_df.append(daily_symbol_df[WHOLE_MARKET_COLUMNS])\n",
    "        symbol = daily_symbol_df.iloc[0,:]['symbol']\n",
    "        GICSSector = daily_symbol_df.iloc[0,:]['GICSSector']\n",
    "        GICSIndustryGroup = daily_symbol_df.iloc[0,:]['GICSIndustryGroup']\n",
    "        GICSIndustry = daily_symbol_df.iloc[0,:]['GICSIndustry']\n",
    "\n",
    "        weekly_symbol_df = return_week_summary_symbol(daily_symbol_df)\n",
    "        weekly_symbol_df = fix_duplicate_columns(weekly_symbol_df)\n",
    "        weekly_symbol_df['symbol'] = symbol\n",
    "        weekly_symbol_df['GICSSector'] = GICSSector\n",
    "        weekly_symbol_df['GICSIndustryGroup'] = GICSIndustryGroup\n",
    "        weekly_symbol_df['GICSIndustry'] = GICSIndustry\n",
    "\n",
    "        complete_weekly_df = add_all_ta_features(weekly_symbol_df, 'weekOpen', 'weekHigh', 'weekLow', \n",
    "                                                 'weekClose', 'totalVolume', fillna=True, colprefix='ta_')\n",
    "#         complete_weekly_df = add_ta_values_to_df(weekly_symbol_df)\n",
    "        # Create target column - 8 weeks in the future\n",
    "        complete_weekly_df['target'] = (complete_weekly_df['adjustedPrice'].shift(-8) - complete_weekly_df['adjustedPrice'])  / complete_weekly_df['adjustedPrice'].clip(lower=0.1) * 100\n",
    "\n",
    "        complete_weekly_df.dropna(subset=['target'], inplace=True)\n",
    "        complete_weekly_df = optimise_df(complete_weekly_df)\n",
    "        train_df, validation_df, test_df = split_df(complete_weekly_df, 0.7, 0.5)\n",
    "\n",
    "        all_dfs.append(complete_weekly_df)\n",
    "        train_symbol_dfs.append(train_df)\n",
    "        validation_symbol_dfs.append(validation_df) \n",
    "        test_symbol_dfs.append(test_df) \n",
    "\n",
    "    print('Consolidating whole market data')\n",
    "    whole_market_df = whole_market_df.drop_duplicates()\n",
    "    # Ensure there is only one record per day\n",
    "    whole_market_df = whole_market_df.groupby('quoteDate').first()\n",
    "    whole_market_df['quoteDate'] = whole_market_df.index\n",
    "\n",
    "    # Combine into weekly data\n",
    "    print('Combining into weekly data and adding ta')\n",
    "\n",
    "    # convert into weekly vals for each col and add ta\n",
    "    whole_market_weekly_dfs = []\n",
    "    for col in WHOLE_MARKET_TA:\n",
    "        print('Calculating weekly data for', col)\n",
    "        resample = pd.DataFrame()\n",
    "        resample[col + '_low'] = whole_market_df[col].resample('1W').min()\n",
    "        resample[col + '_high'] = whole_market_df[col].resample('1W').max()\n",
    "        resample[col + '_open'] = whole_market_df[col].resample('1W').first()\n",
    "        resample[col + '_close'] = whole_market_df[col].resample('1W').last()\n",
    "        resample[col + '_volume'] = 0\n",
    "\n",
    "#         print('Resample shape for', col, resample.shape)\n",
    "        print('Adding ta data for', col)\n",
    "        resample = add_all_ta_features(resample, col + '_open', col + '_high', col + '_low', \n",
    "                                       col + '_close', col + '_volume', fillna=True, colprefix= col + '_ta_')\n",
    "        \n",
    "#         print('Resample shape after ta for', col, resample.shape)\n",
    "        resample.index.names = ['week_starting']\n",
    "        whole_market_weekly_dfs.append(resample)\n",
    "\n",
    "    print('Concatenating whole market data')\n",
    "    whole_market_weekly_df = pd.concat(whole_market_weekly_dfs, axis=1)\n",
    "    whole_market_weekly_df.index.names = ['week_starting']\n",
    "    print('Concatenated whole market shape', whole_market_weekly_df.shape)\n",
    "        \n",
    "    print('Concatenating symbol dfs')\n",
    "    # Create empty data frame\n",
    "    all_df = pd.concat(all_dfs)\n",
    "    all_df.index.names = ['week_starting']\n",
    "    train_df = pd.concat(train_symbol_dfs)\n",
    "    train_df.index.names = ['week_starting']\n",
    "    validation_df = pd.concat(validation_symbol_dfs)\n",
    "    validation_df.index.names = ['week_starting']\n",
    "    test_df = pd.concat(test_symbol_dfs)\n",
    "    test_df.index.names = ['week_starting']\n",
    "    \n",
    "    print('Adding whole market data')\n",
    "    all_df = all_df.merge(whole_market_weekly_df, how='left', left_on='week_starting', right_on='week_starting')\n",
    "    train_df = train_df.merge(whole_market_weekly_df, how='left', left_on='week_starting', right_on='week_starting')\n",
    "    validation_df = validation_df.merge(whole_market_weekly_df, how='left', left_on='week_starting', right_on='week_starting')\n",
    "    test_df = test_df.merge(whole_market_weekly_df, how='left', left_on='week_starting', right_on='week_starting')\n",
    "    \n",
    "    print('Optimising symbol dfs')\n",
    "    all_df = optimise_df(all_df)\n",
    "    train_df = optimise_df(train_df)\n",
    "    validation_df = optimise_df(validation_df)\n",
    "    test_df = optimise_df(test_df)\n",
    "\n",
    "    return all_df, train_df, validation_df, test_df\n"
   ]
  },
  {
   "cell_type": "code",
   "execution_count": 8,
   "metadata": {
    "scrolled": true
   },
   "outputs": [
    {
     "name": "stderr",
     "output_type": "stream",
     "text": [
      "/Users/neilkloot/anaconda/lib/python3.6/site-packages/ta/trend.py:170: RuntimeWarning: divide by zero encountered in double_scalars\n",
      "  dip[i] = 100 * (dip_mio[i]/trs[i])\n",
      "/Users/neilkloot/anaconda/lib/python3.6/site-packages/ta/trend.py:170: RuntimeWarning: invalid value encountered in double_scalars\n",
      "  dip[i] = 100 * (dip_mio[i]/trs[i])\n",
      "/Users/neilkloot/anaconda/lib/python3.6/site-packages/ta/trend.py:174: RuntimeWarning: divide by zero encountered in double_scalars\n",
      "  din[i] = 100 * (din_mio[i]/trs[i])\n",
      "/Users/neilkloot/anaconda/lib/python3.6/site-packages/ta/trend.py:174: RuntimeWarning: invalid value encountered in double_scalars\n",
      "  din[i] = 100 * (din_mio[i]/trs[i])\n",
      "/Users/neilkloot/anaconda/lib/python3.6/site-packages/ta/trend.py:176: RuntimeWarning: invalid value encountered in subtract\n",
      "  dx = 100 * np.abs((dip - din) / (dip + din))\n"
     ]
    },
    {
     "name": "stdout",
     "output_type": "stream",
     "text": [
      "Data split.  Total recs: (173, 283)\n",
      "Train recs: (121, 283)\n",
      "Remaining data recs: (52, 283)\n",
      "Validation recs: (26, 283)\n",
      "Remaining data recs: (26, 283)\n",
      "Test recs: (26, 283)\n"
     ]
    },
    {
     "name": "stderr",
     "output_type": "stream",
     "text": [
      "/Users/neilkloot/anaconda/lib/python3.6/site-packages/ta/trend.py:170: RuntimeWarning: divide by zero encountered in double_scalars\n",
      "  dip[i] = 100 * (dip_mio[i]/trs[i])\n",
      "/Users/neilkloot/anaconda/lib/python3.6/site-packages/ta/trend.py:170: RuntimeWarning: invalid value encountered in double_scalars\n",
      "  dip[i] = 100 * (dip_mio[i]/trs[i])\n",
      "/Users/neilkloot/anaconda/lib/python3.6/site-packages/ta/trend.py:174: RuntimeWarning: divide by zero encountered in double_scalars\n",
      "  din[i] = 100 * (din_mio[i]/trs[i])\n",
      "/Users/neilkloot/anaconda/lib/python3.6/site-packages/ta/trend.py:174: RuntimeWarning: invalid value encountered in double_scalars\n",
      "  din[i] = 100 * (din_mio[i]/trs[i])\n",
      "/Users/neilkloot/anaconda/lib/python3.6/site-packages/ta/trend.py:176: RuntimeWarning: invalid value encountered in subtract\n",
      "  dx = 100 * np.abs((dip - din) / (dip + din))\n"
     ]
    },
    {
     "name": "stdout",
     "output_type": "stream",
     "text": [
      "Data split.  Total recs: (210, 283)\n",
      "Train recs: (147, 283)\n",
      "Remaining data recs: (63, 283)\n",
      "Validation recs: (32, 283)\n",
      "Remaining data recs: (31, 283)\n",
      "Test recs: (31, 283)\n"
     ]
    },
    {
     "name": "stderr",
     "output_type": "stream",
     "text": [
      "/Users/neilkloot/anaconda/lib/python3.6/site-packages/ta/trend.py:170: RuntimeWarning: divide by zero encountered in double_scalars\n",
      "  dip[i] = 100 * (dip_mio[i]/trs[i])\n",
      "/Users/neilkloot/anaconda/lib/python3.6/site-packages/ta/trend.py:170: RuntimeWarning: invalid value encountered in double_scalars\n",
      "  dip[i] = 100 * (dip_mio[i]/trs[i])\n",
      "/Users/neilkloot/anaconda/lib/python3.6/site-packages/ta/trend.py:174: RuntimeWarning: divide by zero encountered in double_scalars\n",
      "  din[i] = 100 * (din_mio[i]/trs[i])\n",
      "/Users/neilkloot/anaconda/lib/python3.6/site-packages/ta/trend.py:174: RuntimeWarning: invalid value encountered in double_scalars\n",
      "  din[i] = 100 * (din_mio[i]/trs[i])\n",
      "/Users/neilkloot/anaconda/lib/python3.6/site-packages/ta/trend.py:176: RuntimeWarning: invalid value encountered in subtract\n",
      "  dx = 100 * np.abs((dip - din) / (dip + din))\n"
     ]
    },
    {
     "name": "stdout",
     "output_type": "stream",
     "text": [
      "Data split.  Total recs: (156, 283)\n",
      "Train recs: (109, 283)\n",
      "Remaining data recs: (47, 283)\n",
      "Validation recs: (24, 283)\n",
      "Remaining data recs: (23, 283)\n",
      "Test recs: (23, 283)\n"
     ]
    },
    {
     "name": "stderr",
     "output_type": "stream",
     "text": [
      "/Users/neilkloot/anaconda/lib/python3.6/site-packages/ta/trend.py:170: RuntimeWarning: divide by zero encountered in double_scalars\n",
      "  dip[i] = 100 * (dip_mio[i]/trs[i])\n",
      "/Users/neilkloot/anaconda/lib/python3.6/site-packages/ta/trend.py:170: RuntimeWarning: invalid value encountered in double_scalars\n",
      "  dip[i] = 100 * (dip_mio[i]/trs[i])\n",
      "/Users/neilkloot/anaconda/lib/python3.6/site-packages/ta/trend.py:174: RuntimeWarning: divide by zero encountered in double_scalars\n",
      "  din[i] = 100 * (din_mio[i]/trs[i])\n",
      "/Users/neilkloot/anaconda/lib/python3.6/site-packages/ta/trend.py:174: RuntimeWarning: invalid value encountered in double_scalars\n",
      "  din[i] = 100 * (din_mio[i]/trs[i])\n",
      "/Users/neilkloot/anaconda/lib/python3.6/site-packages/ta/trend.py:176: RuntimeWarning: invalid value encountered in subtract\n",
      "  dx = 100 * np.abs((dip - din) / (dip + din))\n"
     ]
    },
    {
     "name": "stdout",
     "output_type": "stream",
     "text": [
      "Data split.  Total recs: (494, 283)\n",
      "Train recs: (346, 283)\n",
      "Remaining data recs: (148, 283)\n",
      "Validation recs: (74, 283)\n",
      "Remaining data recs: (74, 283)\n",
      "Test recs: (74, 283)\n"
     ]
    },
    {
     "name": "stderr",
     "output_type": "stream",
     "text": [
      "/Users/neilkloot/anaconda/lib/python3.6/site-packages/ta/trend.py:170: RuntimeWarning: divide by zero encountered in double_scalars\n",
      "  dip[i] = 100 * (dip_mio[i]/trs[i])\n",
      "/Users/neilkloot/anaconda/lib/python3.6/site-packages/ta/trend.py:170: RuntimeWarning: invalid value encountered in double_scalars\n",
      "  dip[i] = 100 * (dip_mio[i]/trs[i])\n",
      "/Users/neilkloot/anaconda/lib/python3.6/site-packages/ta/trend.py:174: RuntimeWarning: divide by zero encountered in double_scalars\n",
      "  din[i] = 100 * (din_mio[i]/trs[i])\n",
      "/Users/neilkloot/anaconda/lib/python3.6/site-packages/ta/trend.py:174: RuntimeWarning: invalid value encountered in double_scalars\n",
      "  din[i] = 100 * (din_mio[i]/trs[i])\n",
      "/Users/neilkloot/anaconda/lib/python3.6/site-packages/ta/trend.py:176: RuntimeWarning: invalid value encountered in subtract\n",
      "  dx = 100 * np.abs((dip - din) / (dip + din))\n"
     ]
    },
    {
     "name": "stdout",
     "output_type": "stream",
     "text": [
      "Data split.  Total recs: (418, 283)\n",
      "Train recs: (293, 283)\n",
      "Remaining data recs: (125, 283)\n",
      "Validation recs: (62, 283)\n",
      "Remaining data recs: (63, 283)\n",
      "Test recs: (63, 283)\n"
     ]
    },
    {
     "name": "stderr",
     "output_type": "stream",
     "text": [
      "/Users/neilkloot/anaconda/lib/python3.6/site-packages/ta/trend.py:170: RuntimeWarning: divide by zero encountered in double_scalars\n",
      "  dip[i] = 100 * (dip_mio[i]/trs[i])\n",
      "/Users/neilkloot/anaconda/lib/python3.6/site-packages/ta/trend.py:170: RuntimeWarning: invalid value encountered in double_scalars\n",
      "  dip[i] = 100 * (dip_mio[i]/trs[i])\n",
      "/Users/neilkloot/anaconda/lib/python3.6/site-packages/ta/trend.py:174: RuntimeWarning: divide by zero encountered in double_scalars\n",
      "  din[i] = 100 * (din_mio[i]/trs[i])\n",
      "/Users/neilkloot/anaconda/lib/python3.6/site-packages/ta/trend.py:174: RuntimeWarning: invalid value encountered in double_scalars\n",
      "  din[i] = 100 * (din_mio[i]/trs[i])\n",
      "/Users/neilkloot/anaconda/lib/python3.6/site-packages/ta/trend.py:176: RuntimeWarning: invalid value encountered in subtract\n",
      "  dx = 100 * np.abs((dip - din) / (dip + din))\n"
     ]
    },
    {
     "name": "stdout",
     "output_type": "stream",
     "text": [
      "Data split.  Total recs: (488, 283)\n",
      "Train recs: (342, 283)\n",
      "Remaining data recs: (146, 283)\n",
      "Validation recs: (73, 283)\n",
      "Remaining data recs: (73, 283)\n",
      "Test recs: (73, 283)\n"
     ]
    },
    {
     "name": "stderr",
     "output_type": "stream",
     "text": [
      "/Users/neilkloot/anaconda/lib/python3.6/site-packages/ta/trend.py:170: RuntimeWarning: divide by zero encountered in double_scalars\n",
      "  dip[i] = 100 * (dip_mio[i]/trs[i])\n",
      "/Users/neilkloot/anaconda/lib/python3.6/site-packages/ta/trend.py:170: RuntimeWarning: invalid value encountered in double_scalars\n",
      "  dip[i] = 100 * (dip_mio[i]/trs[i])\n",
      "/Users/neilkloot/anaconda/lib/python3.6/site-packages/ta/trend.py:174: RuntimeWarning: divide by zero encountered in double_scalars\n",
      "  din[i] = 100 * (din_mio[i]/trs[i])\n",
      "/Users/neilkloot/anaconda/lib/python3.6/site-packages/ta/trend.py:174: RuntimeWarning: invalid value encountered in double_scalars\n",
      "  din[i] = 100 * (din_mio[i]/trs[i])\n",
      "/Users/neilkloot/anaconda/lib/python3.6/site-packages/ta/trend.py:176: RuntimeWarning: invalid value encountered in subtract\n",
      "  dx = 100 * np.abs((dip - din) / (dip + din))\n"
     ]
    },
    {
     "name": "stdout",
     "output_type": "stream",
     "text": [
      "Data split.  Total recs: (538, 283)\n",
      "Train recs: (377, 283)\n",
      "Remaining data recs: (161, 283)\n",
      "Validation recs: (80, 283)\n",
      "Remaining data recs: (81, 283)\n",
      "Test recs: (81, 283)\n"
     ]
    },
    {
     "name": "stderr",
     "output_type": "stream",
     "text": [
      "/Users/neilkloot/anaconda/lib/python3.6/site-packages/ta/trend.py:170: RuntimeWarning: divide by zero encountered in double_scalars\n",
      "  dip[i] = 100 * (dip_mio[i]/trs[i])\n",
      "/Users/neilkloot/anaconda/lib/python3.6/site-packages/ta/trend.py:170: RuntimeWarning: invalid value encountered in double_scalars\n",
      "  dip[i] = 100 * (dip_mio[i]/trs[i])\n",
      "/Users/neilkloot/anaconda/lib/python3.6/site-packages/ta/trend.py:174: RuntimeWarning: divide by zero encountered in double_scalars\n",
      "  din[i] = 100 * (din_mio[i]/trs[i])\n",
      "/Users/neilkloot/anaconda/lib/python3.6/site-packages/ta/trend.py:174: RuntimeWarning: invalid value encountered in double_scalars\n",
      "  din[i] = 100 * (din_mio[i]/trs[i])\n",
      "/Users/neilkloot/anaconda/lib/python3.6/site-packages/ta/trend.py:176: RuntimeWarning: invalid value encountered in subtract\n",
      "  dx = 100 * np.abs((dip - din) / (dip + din))\n"
     ]
    },
    {
     "name": "stdout",
     "output_type": "stream",
     "text": [
      "Data split.  Total recs: (153, 283)\n",
      "Train recs: (107, 283)\n",
      "Remaining data recs: (46, 283)\n",
      "Validation recs: (23, 283)\n",
      "Remaining data recs: (23, 283)\n",
      "Test recs: (23, 283)\n"
     ]
    },
    {
     "name": "stderr",
     "output_type": "stream",
     "text": [
      "/Users/neilkloot/anaconda/lib/python3.6/site-packages/ta/trend.py:170: RuntimeWarning: divide by zero encountered in double_scalars\n",
      "  dip[i] = 100 * (dip_mio[i]/trs[i])\n",
      "/Users/neilkloot/anaconda/lib/python3.6/site-packages/ta/trend.py:170: RuntimeWarning: invalid value encountered in double_scalars\n",
      "  dip[i] = 100 * (dip_mio[i]/trs[i])\n",
      "/Users/neilkloot/anaconda/lib/python3.6/site-packages/ta/trend.py:174: RuntimeWarning: divide by zero encountered in double_scalars\n",
      "  din[i] = 100 * (din_mio[i]/trs[i])\n",
      "/Users/neilkloot/anaconda/lib/python3.6/site-packages/ta/trend.py:174: RuntimeWarning: invalid value encountered in double_scalars\n",
      "  din[i] = 100 * (din_mio[i]/trs[i])\n",
      "/Users/neilkloot/anaconda/lib/python3.6/site-packages/ta/trend.py:176: RuntimeWarning: invalid value encountered in subtract\n",
      "  dx = 100 * np.abs((dip - din) / (dip + din))\n"
     ]
    },
    {
     "name": "stdout",
     "output_type": "stream",
     "text": [
      "Data split.  Total recs: (608, 283)\n",
      "Train recs: (426, 283)\n",
      "Remaining data recs: (182, 283)\n",
      "Validation recs: (91, 283)\n",
      "Remaining data recs: (91, 283)\n",
      "Test recs: (91, 283)\n"
     ]
    },
    {
     "name": "stderr",
     "output_type": "stream",
     "text": [
      "/Users/neilkloot/anaconda/lib/python3.6/site-packages/ta/trend.py:170: RuntimeWarning: divide by zero encountered in double_scalars\n",
      "  dip[i] = 100 * (dip_mio[i]/trs[i])\n",
      "/Users/neilkloot/anaconda/lib/python3.6/site-packages/ta/trend.py:170: RuntimeWarning: invalid value encountered in double_scalars\n",
      "  dip[i] = 100 * (dip_mio[i]/trs[i])\n",
      "/Users/neilkloot/anaconda/lib/python3.6/site-packages/ta/trend.py:174: RuntimeWarning: divide by zero encountered in double_scalars\n",
      "  din[i] = 100 * (din_mio[i]/trs[i])\n",
      "/Users/neilkloot/anaconda/lib/python3.6/site-packages/ta/trend.py:174: RuntimeWarning: invalid value encountered in double_scalars\n",
      "  din[i] = 100 * (din_mio[i]/trs[i])\n",
      "/Users/neilkloot/anaconda/lib/python3.6/site-packages/ta/trend.py:176: RuntimeWarning: invalid value encountered in subtract\n",
      "  dx = 100 * np.abs((dip - din) / (dip + din))\n"
     ]
    },
    {
     "name": "stdout",
     "output_type": "stream",
     "text": [
      "Data split.  Total recs: (80, 283)\n",
      "Train recs: (56, 283)\n",
      "Remaining data recs: (24, 283)\n",
      "Validation recs: (12, 283)\n",
      "Remaining data recs: (12, 283)\n",
      "Test recs: (12, 283)\n"
     ]
    },
    {
     "name": "stderr",
     "output_type": "stream",
     "text": [
      "/Users/neilkloot/anaconda/lib/python3.6/site-packages/ta/trend.py:170: RuntimeWarning: divide by zero encountered in double_scalars\n",
      "  dip[i] = 100 * (dip_mio[i]/trs[i])\n",
      "/Users/neilkloot/anaconda/lib/python3.6/site-packages/ta/trend.py:170: RuntimeWarning: invalid value encountered in double_scalars\n",
      "  dip[i] = 100 * (dip_mio[i]/trs[i])\n",
      "/Users/neilkloot/anaconda/lib/python3.6/site-packages/ta/trend.py:174: RuntimeWarning: divide by zero encountered in double_scalars\n",
      "  din[i] = 100 * (din_mio[i]/trs[i])\n",
      "/Users/neilkloot/anaconda/lib/python3.6/site-packages/ta/trend.py:174: RuntimeWarning: invalid value encountered in double_scalars\n",
      "  din[i] = 100 * (din_mio[i]/trs[i])\n",
      "/Users/neilkloot/anaconda/lib/python3.6/site-packages/ta/trend.py:176: RuntimeWarning: invalid value encountered in subtract\n",
      "  dx = 100 * np.abs((dip - din) / (dip + din))\n"
     ]
    },
    {
     "name": "stdout",
     "output_type": "stream",
     "text": [
      "Data split.  Total recs: (496, 283)\n",
      "Train recs: (347, 283)\n",
      "Remaining data recs: (149, 283)\n",
      "Validation recs: (74, 283)\n",
      "Remaining data recs: (75, 283)\n",
      "Test recs: (75, 283)\n"
     ]
    },
    {
     "name": "stderr",
     "output_type": "stream",
     "text": [
      "/Users/neilkloot/anaconda/lib/python3.6/site-packages/ta/trend.py:170: RuntimeWarning: divide by zero encountered in double_scalars\n",
      "  dip[i] = 100 * (dip_mio[i]/trs[i])\n",
      "/Users/neilkloot/anaconda/lib/python3.6/site-packages/ta/trend.py:170: RuntimeWarning: invalid value encountered in double_scalars\n",
      "  dip[i] = 100 * (dip_mio[i]/trs[i])\n",
      "/Users/neilkloot/anaconda/lib/python3.6/site-packages/ta/trend.py:174: RuntimeWarning: divide by zero encountered in double_scalars\n",
      "  din[i] = 100 * (din_mio[i]/trs[i])\n",
      "/Users/neilkloot/anaconda/lib/python3.6/site-packages/ta/trend.py:174: RuntimeWarning: invalid value encountered in double_scalars\n",
      "  din[i] = 100 * (din_mio[i]/trs[i])\n",
      "/Users/neilkloot/anaconda/lib/python3.6/site-packages/ta/trend.py:176: RuntimeWarning: invalid value encountered in subtract\n",
      "  dx = 100 * np.abs((dip - din) / (dip + din))\n"
     ]
    },
    {
     "name": "stdout",
     "output_type": "stream",
     "text": [
      "Data split.  Total recs: (608, 283)\n",
      "Train recs: (426, 283)\n",
      "Remaining data recs: (182, 283)\n",
      "Validation recs: (91, 283)\n",
      "Remaining data recs: (91, 283)\n",
      "Test recs: (91, 283)\n"
     ]
    },
    {
     "name": "stderr",
     "output_type": "stream",
     "text": [
      "/Users/neilkloot/anaconda/lib/python3.6/site-packages/ta/trend.py:170: RuntimeWarning: divide by zero encountered in double_scalars\n",
      "  dip[i] = 100 * (dip_mio[i]/trs[i])\n",
      "/Users/neilkloot/anaconda/lib/python3.6/site-packages/ta/trend.py:170: RuntimeWarning: invalid value encountered in double_scalars\n",
      "  dip[i] = 100 * (dip_mio[i]/trs[i])\n",
      "/Users/neilkloot/anaconda/lib/python3.6/site-packages/ta/trend.py:174: RuntimeWarning: divide by zero encountered in double_scalars\n",
      "  din[i] = 100 * (din_mio[i]/trs[i])\n",
      "/Users/neilkloot/anaconda/lib/python3.6/site-packages/ta/trend.py:174: RuntimeWarning: invalid value encountered in double_scalars\n",
      "  din[i] = 100 * (din_mio[i]/trs[i])\n",
      "/Users/neilkloot/anaconda/lib/python3.6/site-packages/ta/trend.py:176: RuntimeWarning: invalid value encountered in subtract\n",
      "  dx = 100 * np.abs((dip - din) / (dip + din))\n"
     ]
    },
    {
     "name": "stdout",
     "output_type": "stream",
     "text": [
      "Data split.  Total recs: (238, 283)\n",
      "Train recs: (167, 283)\n",
      "Remaining data recs: (71, 283)\n",
      "Validation recs: (36, 283)\n",
      "Remaining data recs: (35, 283)\n",
      "Test recs: (35, 283)\n"
     ]
    },
    {
     "name": "stderr",
     "output_type": "stream",
     "text": [
      "/Users/neilkloot/anaconda/lib/python3.6/site-packages/ta/trend.py:170: RuntimeWarning: divide by zero encountered in double_scalars\n",
      "  dip[i] = 100 * (dip_mio[i]/trs[i])\n",
      "/Users/neilkloot/anaconda/lib/python3.6/site-packages/ta/trend.py:170: RuntimeWarning: invalid value encountered in double_scalars\n",
      "  dip[i] = 100 * (dip_mio[i]/trs[i])\n",
      "/Users/neilkloot/anaconda/lib/python3.6/site-packages/ta/trend.py:174: RuntimeWarning: divide by zero encountered in double_scalars\n",
      "  din[i] = 100 * (din_mio[i]/trs[i])\n",
      "/Users/neilkloot/anaconda/lib/python3.6/site-packages/ta/trend.py:174: RuntimeWarning: invalid value encountered in double_scalars\n",
      "  din[i] = 100 * (din_mio[i]/trs[i])\n",
      "/Users/neilkloot/anaconda/lib/python3.6/site-packages/ta/trend.py:176: RuntimeWarning: invalid value encountered in subtract\n",
      "  dx = 100 * np.abs((dip - din) / (dip + din))\n"
     ]
    },
    {
     "name": "stdout",
     "output_type": "stream",
     "text": [
      "Data split.  Total recs: (608, 283)\n",
      "Train recs: (426, 283)\n",
      "Remaining data recs: (182, 283)\n",
      "Validation recs: (91, 283)\n",
      "Remaining data recs: (91, 283)\n",
      "Test recs: (91, 283)\n"
     ]
    },
    {
     "name": "stderr",
     "output_type": "stream",
     "text": [
      "/Users/neilkloot/anaconda/lib/python3.6/site-packages/ta/trend.py:170: RuntimeWarning: divide by zero encountered in double_scalars\n",
      "  dip[i] = 100 * (dip_mio[i]/trs[i])\n",
      "/Users/neilkloot/anaconda/lib/python3.6/site-packages/ta/trend.py:170: RuntimeWarning: invalid value encountered in double_scalars\n",
      "  dip[i] = 100 * (dip_mio[i]/trs[i])\n",
      "/Users/neilkloot/anaconda/lib/python3.6/site-packages/ta/trend.py:174: RuntimeWarning: divide by zero encountered in double_scalars\n",
      "  din[i] = 100 * (din_mio[i]/trs[i])\n",
      "/Users/neilkloot/anaconda/lib/python3.6/site-packages/ta/trend.py:174: RuntimeWarning: invalid value encountered in double_scalars\n",
      "  din[i] = 100 * (din_mio[i]/trs[i])\n",
      "/Users/neilkloot/anaconda/lib/python3.6/site-packages/ta/trend.py:176: RuntimeWarning: invalid value encountered in subtract\n",
      "  dx = 100 * np.abs((dip - din) / (dip + din))\n"
     ]
    },
    {
     "name": "stdout",
     "output_type": "stream",
     "text": [
      "Data split.  Total recs: (469, 283)\n",
      "Train recs: (328, 283)\n",
      "Remaining data recs: (141, 283)\n",
      "Validation recs: (70, 283)\n",
      "Remaining data recs: (71, 283)\n",
      "Test recs: (71, 283)\n"
     ]
    },
    {
     "name": "stderr",
     "output_type": "stream",
     "text": [
      "/Users/neilkloot/anaconda/lib/python3.6/site-packages/ta/trend.py:170: RuntimeWarning: divide by zero encountered in double_scalars\n",
      "  dip[i] = 100 * (dip_mio[i]/trs[i])\n",
      "/Users/neilkloot/anaconda/lib/python3.6/site-packages/ta/trend.py:170: RuntimeWarning: invalid value encountered in double_scalars\n",
      "  dip[i] = 100 * (dip_mio[i]/trs[i])\n",
      "/Users/neilkloot/anaconda/lib/python3.6/site-packages/ta/trend.py:174: RuntimeWarning: divide by zero encountered in double_scalars\n",
      "  din[i] = 100 * (din_mio[i]/trs[i])\n",
      "/Users/neilkloot/anaconda/lib/python3.6/site-packages/ta/trend.py:174: RuntimeWarning: invalid value encountered in double_scalars\n",
      "  din[i] = 100 * (din_mio[i]/trs[i])\n",
      "/Users/neilkloot/anaconda/lib/python3.6/site-packages/ta/trend.py:176: RuntimeWarning: invalid value encountered in subtract\n",
      "  dx = 100 * np.abs((dip - din) / (dip + din))\n"
     ]
    },
    {
     "name": "stdout",
     "output_type": "stream",
     "text": [
      "Data split.  Total recs: (608, 283)\n",
      "Train recs: (426, 283)\n",
      "Remaining data recs: (182, 283)\n",
      "Validation recs: (91, 283)\n",
      "Remaining data recs: (91, 283)\n",
      "Test recs: (91, 283)\n"
     ]
    },
    {
     "name": "stderr",
     "output_type": "stream",
     "text": [
      "/Users/neilkloot/anaconda/lib/python3.6/site-packages/ta/trend.py:170: RuntimeWarning: divide by zero encountered in double_scalars\n",
      "  dip[i] = 100 * (dip_mio[i]/trs[i])\n",
      "/Users/neilkloot/anaconda/lib/python3.6/site-packages/ta/trend.py:170: RuntimeWarning: invalid value encountered in double_scalars\n",
      "  dip[i] = 100 * (dip_mio[i]/trs[i])\n",
      "/Users/neilkloot/anaconda/lib/python3.6/site-packages/ta/trend.py:174: RuntimeWarning: divide by zero encountered in double_scalars\n",
      "  din[i] = 100 * (din_mio[i]/trs[i])\n",
      "/Users/neilkloot/anaconda/lib/python3.6/site-packages/ta/trend.py:174: RuntimeWarning: invalid value encountered in double_scalars\n",
      "  din[i] = 100 * (din_mio[i]/trs[i])\n",
      "/Users/neilkloot/anaconda/lib/python3.6/site-packages/ta/trend.py:176: RuntimeWarning: invalid value encountered in subtract\n",
      "  dx = 100 * np.abs((dip - din) / (dip + din))\n"
     ]
    },
    {
     "name": "stdout",
     "output_type": "stream",
     "text": [
      "Data split.  Total recs: (608, 283)\n",
      "Train recs: (426, 283)\n",
      "Remaining data recs: (182, 283)\n",
      "Validation recs: (91, 283)\n",
      "Remaining data recs: (91, 283)\n",
      "Test recs: (91, 283)\n"
     ]
    },
    {
     "name": "stderr",
     "output_type": "stream",
     "text": [
      "/Users/neilkloot/anaconda/lib/python3.6/site-packages/ta/trend.py:170: RuntimeWarning: divide by zero encountered in double_scalars\n",
      "  dip[i] = 100 * (dip_mio[i]/trs[i])\n",
      "/Users/neilkloot/anaconda/lib/python3.6/site-packages/ta/trend.py:170: RuntimeWarning: invalid value encountered in double_scalars\n",
      "  dip[i] = 100 * (dip_mio[i]/trs[i])\n",
      "/Users/neilkloot/anaconda/lib/python3.6/site-packages/ta/trend.py:174: RuntimeWarning: divide by zero encountered in double_scalars\n",
      "  din[i] = 100 * (din_mio[i]/trs[i])\n",
      "/Users/neilkloot/anaconda/lib/python3.6/site-packages/ta/trend.py:174: RuntimeWarning: invalid value encountered in double_scalars\n",
      "  din[i] = 100 * (din_mio[i]/trs[i])\n",
      "/Users/neilkloot/anaconda/lib/python3.6/site-packages/ta/trend.py:176: RuntimeWarning: invalid value encountered in subtract\n",
      "  dx = 100 * np.abs((dip - din) / (dip + din))\n"
     ]
    },
    {
     "name": "stdout",
     "output_type": "stream",
     "text": [
      "Data split.  Total recs: (326, 283)\n",
      "Train recs: (228, 283)\n",
      "Remaining data recs: (98, 283)\n",
      "Validation recs: (49, 283)\n",
      "Remaining data recs: (49, 283)\n",
      "Test recs: (49, 283)\n"
     ]
    },
    {
     "name": "stderr",
     "output_type": "stream",
     "text": [
      "/Users/neilkloot/anaconda/lib/python3.6/site-packages/ta/trend.py:170: RuntimeWarning: divide by zero encountered in double_scalars\n",
      "  dip[i] = 100 * (dip_mio[i]/trs[i])\n",
      "/Users/neilkloot/anaconda/lib/python3.6/site-packages/ta/trend.py:170: RuntimeWarning: invalid value encountered in double_scalars\n",
      "  dip[i] = 100 * (dip_mio[i]/trs[i])\n",
      "/Users/neilkloot/anaconda/lib/python3.6/site-packages/ta/trend.py:174: RuntimeWarning: divide by zero encountered in double_scalars\n",
      "  din[i] = 100 * (din_mio[i]/trs[i])\n",
      "/Users/neilkloot/anaconda/lib/python3.6/site-packages/ta/trend.py:174: RuntimeWarning: invalid value encountered in double_scalars\n",
      "  din[i] = 100 * (din_mio[i]/trs[i])\n",
      "/Users/neilkloot/anaconda/lib/python3.6/site-packages/ta/trend.py:176: RuntimeWarning: invalid value encountered in subtract\n",
      "  dx = 100 * np.abs((dip - din) / (dip + din))\n"
     ]
    },
    {
     "name": "stdout",
     "output_type": "stream",
     "text": [
      "Data split.  Total recs: (536, 283)\n",
      "Train recs: (375, 283)\n",
      "Remaining data recs: (161, 283)\n",
      "Validation recs: (80, 283)\n",
      "Remaining data recs: (81, 283)\n",
      "Test recs: (81, 283)\n"
     ]
    },
    {
     "name": "stderr",
     "output_type": "stream",
     "text": [
      "/Users/neilkloot/anaconda/lib/python3.6/site-packages/ta/trend.py:170: RuntimeWarning: divide by zero encountered in double_scalars\n",
      "  dip[i] = 100 * (dip_mio[i]/trs[i])\n",
      "/Users/neilkloot/anaconda/lib/python3.6/site-packages/ta/trend.py:170: RuntimeWarning: invalid value encountered in double_scalars\n",
      "  dip[i] = 100 * (dip_mio[i]/trs[i])\n",
      "/Users/neilkloot/anaconda/lib/python3.6/site-packages/ta/trend.py:174: RuntimeWarning: divide by zero encountered in double_scalars\n",
      "  din[i] = 100 * (din_mio[i]/trs[i])\n",
      "/Users/neilkloot/anaconda/lib/python3.6/site-packages/ta/trend.py:174: RuntimeWarning: invalid value encountered in double_scalars\n",
      "  din[i] = 100 * (din_mio[i]/trs[i])\n",
      "/Users/neilkloot/anaconda/lib/python3.6/site-packages/ta/trend.py:176: RuntimeWarning: invalid value encountered in subtract\n",
      "  dx = 100 * np.abs((dip - din) / (dip + din))\n"
     ]
    },
    {
     "name": "stdout",
     "output_type": "stream",
     "text": [
      "Data split.  Total recs: (589, 283)\n",
      "Train recs: (412, 283)\n",
      "Remaining data recs: (177, 283)\n",
      "Validation recs: (88, 283)\n",
      "Remaining data recs: (89, 283)\n",
      "Test recs: (89, 283)\n"
     ]
    },
    {
     "name": "stderr",
     "output_type": "stream",
     "text": [
      "/Users/neilkloot/anaconda/lib/python3.6/site-packages/ta/trend.py:170: RuntimeWarning: divide by zero encountered in double_scalars\n",
      "  dip[i] = 100 * (dip_mio[i]/trs[i])\n",
      "/Users/neilkloot/anaconda/lib/python3.6/site-packages/ta/trend.py:170: RuntimeWarning: invalid value encountered in double_scalars\n",
      "  dip[i] = 100 * (dip_mio[i]/trs[i])\n",
      "/Users/neilkloot/anaconda/lib/python3.6/site-packages/ta/trend.py:174: RuntimeWarning: divide by zero encountered in double_scalars\n",
      "  din[i] = 100 * (din_mio[i]/trs[i])\n",
      "/Users/neilkloot/anaconda/lib/python3.6/site-packages/ta/trend.py:174: RuntimeWarning: invalid value encountered in double_scalars\n",
      "  din[i] = 100 * (din_mio[i]/trs[i])\n",
      "/Users/neilkloot/anaconda/lib/python3.6/site-packages/ta/trend.py:176: RuntimeWarning: invalid value encountered in subtract\n",
      "  dx = 100 * np.abs((dip - din) / (dip + din))\n"
     ]
    },
    {
     "name": "stdout",
     "output_type": "stream",
     "text": [
      "Data split.  Total recs: (395, 283)\n",
      "Train recs: (276, 283)\n",
      "Remaining data recs: (119, 283)\n",
      "Validation recs: (60, 283)\n",
      "Remaining data recs: (59, 283)\n",
      "Test recs: (59, 283)\n"
     ]
    },
    {
     "name": "stderr",
     "output_type": "stream",
     "text": [
      "/Users/neilkloot/anaconda/lib/python3.6/site-packages/ta/trend.py:170: RuntimeWarning: divide by zero encountered in double_scalars\n",
      "  dip[i] = 100 * (dip_mio[i]/trs[i])\n",
      "/Users/neilkloot/anaconda/lib/python3.6/site-packages/ta/trend.py:170: RuntimeWarning: invalid value encountered in double_scalars\n",
      "  dip[i] = 100 * (dip_mio[i]/trs[i])\n",
      "/Users/neilkloot/anaconda/lib/python3.6/site-packages/ta/trend.py:174: RuntimeWarning: divide by zero encountered in double_scalars\n",
      "  din[i] = 100 * (din_mio[i]/trs[i])\n",
      "/Users/neilkloot/anaconda/lib/python3.6/site-packages/ta/trend.py:174: RuntimeWarning: invalid value encountered in double_scalars\n",
      "  din[i] = 100 * (din_mio[i]/trs[i])\n",
      "/Users/neilkloot/anaconda/lib/python3.6/site-packages/ta/trend.py:176: RuntimeWarning: invalid value encountered in subtract\n",
      "  dx = 100 * np.abs((dip - din) / (dip + din))\n"
     ]
    },
    {
     "name": "stdout",
     "output_type": "stream",
     "text": [
      "Data split.  Total recs: (608, 283)\n",
      "Train recs: (426, 283)\n",
      "Remaining data recs: (182, 283)\n",
      "Validation recs: (91, 283)\n",
      "Remaining data recs: (91, 283)\n",
      "Test recs: (91, 283)\n"
     ]
    },
    {
     "name": "stderr",
     "output_type": "stream",
     "text": [
      "/Users/neilkloot/anaconda/lib/python3.6/site-packages/ta/trend.py:170: RuntimeWarning: divide by zero encountered in double_scalars\n",
      "  dip[i] = 100 * (dip_mio[i]/trs[i])\n",
      "/Users/neilkloot/anaconda/lib/python3.6/site-packages/ta/trend.py:170: RuntimeWarning: invalid value encountered in double_scalars\n",
      "  dip[i] = 100 * (dip_mio[i]/trs[i])\n",
      "/Users/neilkloot/anaconda/lib/python3.6/site-packages/ta/trend.py:174: RuntimeWarning: divide by zero encountered in double_scalars\n",
      "  din[i] = 100 * (din_mio[i]/trs[i])\n",
      "/Users/neilkloot/anaconda/lib/python3.6/site-packages/ta/trend.py:174: RuntimeWarning: invalid value encountered in double_scalars\n",
      "  din[i] = 100 * (din_mio[i]/trs[i])\n",
      "/Users/neilkloot/anaconda/lib/python3.6/site-packages/ta/trend.py:176: RuntimeWarning: invalid value encountered in subtract\n",
      "  dx = 100 * np.abs((dip - din) / (dip + din))\n"
     ]
    },
    {
     "name": "stdout",
     "output_type": "stream",
     "text": [
      "Data split.  Total recs: (608, 283)\n",
      "Train recs: (426, 283)\n",
      "Remaining data recs: (182, 283)\n",
      "Validation recs: (91, 283)\n",
      "Remaining data recs: (91, 283)\n",
      "Test recs: (91, 283)\n"
     ]
    },
    {
     "name": "stderr",
     "output_type": "stream",
     "text": [
      "/Users/neilkloot/anaconda/lib/python3.6/site-packages/ta/trend.py:170: RuntimeWarning: divide by zero encountered in double_scalars\n",
      "  dip[i] = 100 * (dip_mio[i]/trs[i])\n",
      "/Users/neilkloot/anaconda/lib/python3.6/site-packages/ta/trend.py:170: RuntimeWarning: invalid value encountered in double_scalars\n",
      "  dip[i] = 100 * (dip_mio[i]/trs[i])\n",
      "/Users/neilkloot/anaconda/lib/python3.6/site-packages/ta/trend.py:174: RuntimeWarning: divide by zero encountered in double_scalars\n",
      "  din[i] = 100 * (din_mio[i]/trs[i])\n",
      "/Users/neilkloot/anaconda/lib/python3.6/site-packages/ta/trend.py:174: RuntimeWarning: invalid value encountered in double_scalars\n",
      "  din[i] = 100 * (din_mio[i]/trs[i])\n",
      "/Users/neilkloot/anaconda/lib/python3.6/site-packages/ta/trend.py:176: RuntimeWarning: invalid value encountered in subtract\n",
      "  dx = 100 * np.abs((dip - din) / (dip + din))\n"
     ]
    },
    {
     "name": "stdout",
     "output_type": "stream",
     "text": [
      "Data split.  Total recs: (464, 283)\n",
      "Train recs: (325, 283)\n",
      "Remaining data recs: (139, 283)\n",
      "Validation recs: (70, 283)\n",
      "Remaining data recs: (69, 283)\n",
      "Test recs: (69, 283)\n"
     ]
    },
    {
     "name": "stderr",
     "output_type": "stream",
     "text": [
      "/Users/neilkloot/anaconda/lib/python3.6/site-packages/ta/trend.py:170: RuntimeWarning: divide by zero encountered in double_scalars\n",
      "  dip[i] = 100 * (dip_mio[i]/trs[i])\n",
      "/Users/neilkloot/anaconda/lib/python3.6/site-packages/ta/trend.py:170: RuntimeWarning: invalid value encountered in double_scalars\n",
      "  dip[i] = 100 * (dip_mio[i]/trs[i])\n",
      "/Users/neilkloot/anaconda/lib/python3.6/site-packages/ta/trend.py:174: RuntimeWarning: divide by zero encountered in double_scalars\n",
      "  din[i] = 100 * (din_mio[i]/trs[i])\n",
      "/Users/neilkloot/anaconda/lib/python3.6/site-packages/ta/trend.py:174: RuntimeWarning: invalid value encountered in double_scalars\n",
      "  din[i] = 100 * (din_mio[i]/trs[i])\n",
      "/Users/neilkloot/anaconda/lib/python3.6/site-packages/ta/trend.py:176: RuntimeWarning: invalid value encountered in subtract\n",
      "  dx = 100 * np.abs((dip - din) / (dip + din))\n"
     ]
    },
    {
     "name": "stdout",
     "output_type": "stream",
     "text": [
      "Data split.  Total recs: (608, 283)\n",
      "Train recs: (426, 283)\n",
      "Remaining data recs: (182, 283)\n",
      "Validation recs: (91, 283)\n",
      "Remaining data recs: (91, 283)\n",
      "Test recs: (91, 283)\n"
     ]
    },
    {
     "name": "stderr",
     "output_type": "stream",
     "text": [
      "/Users/neilkloot/anaconda/lib/python3.6/site-packages/ta/trend.py:170: RuntimeWarning: divide by zero encountered in double_scalars\n",
      "  dip[i] = 100 * (dip_mio[i]/trs[i])\n",
      "/Users/neilkloot/anaconda/lib/python3.6/site-packages/ta/trend.py:170: RuntimeWarning: invalid value encountered in double_scalars\n",
      "  dip[i] = 100 * (dip_mio[i]/trs[i])\n",
      "/Users/neilkloot/anaconda/lib/python3.6/site-packages/ta/trend.py:174: RuntimeWarning: divide by zero encountered in double_scalars\n",
      "  din[i] = 100 * (din_mio[i]/trs[i])\n",
      "/Users/neilkloot/anaconda/lib/python3.6/site-packages/ta/trend.py:174: RuntimeWarning: invalid value encountered in double_scalars\n",
      "  din[i] = 100 * (din_mio[i]/trs[i])\n",
      "/Users/neilkloot/anaconda/lib/python3.6/site-packages/ta/trend.py:176: RuntimeWarning: invalid value encountered in subtract\n",
      "  dx = 100 * np.abs((dip - din) / (dip + din))\n"
     ]
    },
    {
     "name": "stdout",
     "output_type": "stream",
     "text": [
      "Data split.  Total recs: (608, 283)\n",
      "Train recs: (426, 283)\n",
      "Remaining data recs: (182, 283)\n",
      "Validation recs: (91, 283)\n",
      "Remaining data recs: (91, 283)\n",
      "Test recs: (91, 283)\n"
     ]
    },
    {
     "name": "stderr",
     "output_type": "stream",
     "text": [
      "/Users/neilkloot/anaconda/lib/python3.6/site-packages/ta/trend.py:170: RuntimeWarning: divide by zero encountered in double_scalars\n",
      "  dip[i] = 100 * (dip_mio[i]/trs[i])\n",
      "/Users/neilkloot/anaconda/lib/python3.6/site-packages/ta/trend.py:170: RuntimeWarning: invalid value encountered in double_scalars\n",
      "  dip[i] = 100 * (dip_mio[i]/trs[i])\n",
      "/Users/neilkloot/anaconda/lib/python3.6/site-packages/ta/trend.py:174: RuntimeWarning: divide by zero encountered in double_scalars\n",
      "  din[i] = 100 * (din_mio[i]/trs[i])\n",
      "/Users/neilkloot/anaconda/lib/python3.6/site-packages/ta/trend.py:174: RuntimeWarning: invalid value encountered in double_scalars\n",
      "  din[i] = 100 * (din_mio[i]/trs[i])\n",
      "/Users/neilkloot/anaconda/lib/python3.6/site-packages/ta/trend.py:176: RuntimeWarning: invalid value encountered in subtract\n",
      "  dx = 100 * np.abs((dip - din) / (dip + din))\n"
     ]
    },
    {
     "name": "stdout",
     "output_type": "stream",
     "text": [
      "Data split.  Total recs: (493, 283)\n",
      "Train recs: (345, 283)\n",
      "Remaining data recs: (148, 283)\n",
      "Validation recs: (74, 283)\n",
      "Remaining data recs: (74, 283)\n",
      "Test recs: (74, 283)\n"
     ]
    },
    {
     "name": "stderr",
     "output_type": "stream",
     "text": [
      "/Users/neilkloot/anaconda/lib/python3.6/site-packages/ta/trend.py:170: RuntimeWarning: divide by zero encountered in double_scalars\n",
      "  dip[i] = 100 * (dip_mio[i]/trs[i])\n",
      "/Users/neilkloot/anaconda/lib/python3.6/site-packages/ta/trend.py:170: RuntimeWarning: invalid value encountered in double_scalars\n",
      "  dip[i] = 100 * (dip_mio[i]/trs[i])\n",
      "/Users/neilkloot/anaconda/lib/python3.6/site-packages/ta/trend.py:174: RuntimeWarning: divide by zero encountered in double_scalars\n",
      "  din[i] = 100 * (din_mio[i]/trs[i])\n",
      "/Users/neilkloot/anaconda/lib/python3.6/site-packages/ta/trend.py:174: RuntimeWarning: invalid value encountered in double_scalars\n",
      "  din[i] = 100 * (din_mio[i]/trs[i])\n",
      "/Users/neilkloot/anaconda/lib/python3.6/site-packages/ta/trend.py:176: RuntimeWarning: invalid value encountered in subtract\n",
      "  dx = 100 * np.abs((dip - din) / (dip + din))\n"
     ]
    },
    {
     "name": "stdout",
     "output_type": "stream",
     "text": [
      "Data split.  Total recs: (497, 283)\n",
      "Train recs: (348, 283)\n",
      "Remaining data recs: (149, 283)\n",
      "Validation recs: (74, 283)\n",
      "Remaining data recs: (75, 283)\n",
      "Test recs: (75, 283)\n"
     ]
    },
    {
     "name": "stderr",
     "output_type": "stream",
     "text": [
      "/Users/neilkloot/anaconda/lib/python3.6/site-packages/ta/trend.py:170: RuntimeWarning: divide by zero encountered in double_scalars\n",
      "  dip[i] = 100 * (dip_mio[i]/trs[i])\n",
      "/Users/neilkloot/anaconda/lib/python3.6/site-packages/ta/trend.py:170: RuntimeWarning: invalid value encountered in double_scalars\n",
      "  dip[i] = 100 * (dip_mio[i]/trs[i])\n",
      "/Users/neilkloot/anaconda/lib/python3.6/site-packages/ta/trend.py:174: RuntimeWarning: divide by zero encountered in double_scalars\n",
      "  din[i] = 100 * (din_mio[i]/trs[i])\n",
      "/Users/neilkloot/anaconda/lib/python3.6/site-packages/ta/trend.py:174: RuntimeWarning: invalid value encountered in double_scalars\n",
      "  din[i] = 100 * (din_mio[i]/trs[i])\n",
      "/Users/neilkloot/anaconda/lib/python3.6/site-packages/ta/trend.py:176: RuntimeWarning: invalid value encountered in subtract\n",
      "  dx = 100 * np.abs((dip - din) / (dip + din))\n"
     ]
    },
    {
     "name": "stdout",
     "output_type": "stream",
     "text": [
      "Data split.  Total recs: (608, 283)\n",
      "Train recs: (426, 283)\n",
      "Remaining data recs: (182, 283)\n",
      "Validation recs: (91, 283)\n",
      "Remaining data recs: (91, 283)\n",
      "Test recs: (91, 283)\n"
     ]
    },
    {
     "name": "stderr",
     "output_type": "stream",
     "text": [
      "/Users/neilkloot/anaconda/lib/python3.6/site-packages/ta/trend.py:170: RuntimeWarning: divide by zero encountered in double_scalars\n",
      "  dip[i] = 100 * (dip_mio[i]/trs[i])\n",
      "/Users/neilkloot/anaconda/lib/python3.6/site-packages/ta/trend.py:170: RuntimeWarning: invalid value encountered in double_scalars\n",
      "  dip[i] = 100 * (dip_mio[i]/trs[i])\n",
      "/Users/neilkloot/anaconda/lib/python3.6/site-packages/ta/trend.py:174: RuntimeWarning: divide by zero encountered in double_scalars\n",
      "  din[i] = 100 * (din_mio[i]/trs[i])\n",
      "/Users/neilkloot/anaconda/lib/python3.6/site-packages/ta/trend.py:174: RuntimeWarning: invalid value encountered in double_scalars\n",
      "  din[i] = 100 * (din_mio[i]/trs[i])\n",
      "/Users/neilkloot/anaconda/lib/python3.6/site-packages/ta/trend.py:176: RuntimeWarning: invalid value encountered in subtract\n",
      "  dx = 100 * np.abs((dip - din) / (dip + din))\n"
     ]
    },
    {
     "name": "stdout",
     "output_type": "stream",
     "text": [
      "Data split.  Total recs: (608, 283)\n",
      "Train recs: (426, 283)\n",
      "Remaining data recs: (182, 283)\n",
      "Validation recs: (91, 283)\n",
      "Remaining data recs: (91, 283)\n",
      "Test recs: (91, 283)\n"
     ]
    },
    {
     "name": "stderr",
     "output_type": "stream",
     "text": [
      "/Users/neilkloot/anaconda/lib/python3.6/site-packages/ta/trend.py:170: RuntimeWarning: divide by zero encountered in double_scalars\n",
      "  dip[i] = 100 * (dip_mio[i]/trs[i])\n",
      "/Users/neilkloot/anaconda/lib/python3.6/site-packages/ta/trend.py:170: RuntimeWarning: invalid value encountered in double_scalars\n",
      "  dip[i] = 100 * (dip_mio[i]/trs[i])\n",
      "/Users/neilkloot/anaconda/lib/python3.6/site-packages/ta/trend.py:174: RuntimeWarning: divide by zero encountered in double_scalars\n",
      "  din[i] = 100 * (din_mio[i]/trs[i])\n",
      "/Users/neilkloot/anaconda/lib/python3.6/site-packages/ta/trend.py:174: RuntimeWarning: invalid value encountered in double_scalars\n",
      "  din[i] = 100 * (din_mio[i]/trs[i])\n",
      "/Users/neilkloot/anaconda/lib/python3.6/site-packages/ta/trend.py:176: RuntimeWarning: invalid value encountered in subtract\n",
      "  dx = 100 * np.abs((dip - din) / (dip + din))\n"
     ]
    },
    {
     "name": "stdout",
     "output_type": "stream",
     "text": [
      "Data split.  Total recs: (601, 283)\n",
      "Train recs: (421, 283)\n",
      "Remaining data recs: (180, 283)\n",
      "Validation recs: (90, 283)\n",
      "Remaining data recs: (90, 283)\n",
      "Test recs: (90, 283)\n"
     ]
    },
    {
     "name": "stderr",
     "output_type": "stream",
     "text": [
      "/Users/neilkloot/anaconda/lib/python3.6/site-packages/ta/trend.py:170: RuntimeWarning: divide by zero encountered in double_scalars\n",
      "  dip[i] = 100 * (dip_mio[i]/trs[i])\n",
      "/Users/neilkloot/anaconda/lib/python3.6/site-packages/ta/trend.py:170: RuntimeWarning: invalid value encountered in double_scalars\n",
      "  dip[i] = 100 * (dip_mio[i]/trs[i])\n",
      "/Users/neilkloot/anaconda/lib/python3.6/site-packages/ta/trend.py:174: RuntimeWarning: divide by zero encountered in double_scalars\n",
      "  din[i] = 100 * (din_mio[i]/trs[i])\n",
      "/Users/neilkloot/anaconda/lib/python3.6/site-packages/ta/trend.py:174: RuntimeWarning: invalid value encountered in double_scalars\n",
      "  din[i] = 100 * (din_mio[i]/trs[i])\n",
      "/Users/neilkloot/anaconda/lib/python3.6/site-packages/ta/trend.py:176: RuntimeWarning: invalid value encountered in subtract\n",
      "  dx = 100 * np.abs((dip - din) / (dip + din))\n"
     ]
    },
    {
     "name": "stdout",
     "output_type": "stream",
     "text": [
      "Data split.  Total recs: (297, 283)\n",
      "Train recs: (208, 283)\n",
      "Remaining data recs: (89, 283)\n",
      "Validation recs: (44, 283)\n",
      "Remaining data recs: (45, 283)\n",
      "Test recs: (45, 283)\n"
     ]
    },
    {
     "name": "stderr",
     "output_type": "stream",
     "text": [
      "/Users/neilkloot/anaconda/lib/python3.6/site-packages/ta/trend.py:170: RuntimeWarning: divide by zero encountered in double_scalars\n",
      "  dip[i] = 100 * (dip_mio[i]/trs[i])\n",
      "/Users/neilkloot/anaconda/lib/python3.6/site-packages/ta/trend.py:170: RuntimeWarning: invalid value encountered in double_scalars\n",
      "  dip[i] = 100 * (dip_mio[i]/trs[i])\n",
      "/Users/neilkloot/anaconda/lib/python3.6/site-packages/ta/trend.py:174: RuntimeWarning: divide by zero encountered in double_scalars\n",
      "  din[i] = 100 * (din_mio[i]/trs[i])\n",
      "/Users/neilkloot/anaconda/lib/python3.6/site-packages/ta/trend.py:174: RuntimeWarning: invalid value encountered in double_scalars\n",
      "  din[i] = 100 * (din_mio[i]/trs[i])\n",
      "/Users/neilkloot/anaconda/lib/python3.6/site-packages/ta/trend.py:176: RuntimeWarning: invalid value encountered in subtract\n",
      "  dx = 100 * np.abs((dip - din) / (dip + din))\n"
     ]
    },
    {
     "name": "stdout",
     "output_type": "stream",
     "text": [
      "Data split.  Total recs: (608, 283)\n",
      "Train recs: (426, 283)\n",
      "Remaining data recs: (182, 283)\n",
      "Validation recs: (91, 283)\n",
      "Remaining data recs: (91, 283)\n",
      "Test recs: (91, 283)\n"
     ]
    },
    {
     "name": "stderr",
     "output_type": "stream",
     "text": [
      "/Users/neilkloot/anaconda/lib/python3.6/site-packages/ta/trend.py:170: RuntimeWarning: divide by zero encountered in double_scalars\n",
      "  dip[i] = 100 * (dip_mio[i]/trs[i])\n",
      "/Users/neilkloot/anaconda/lib/python3.6/site-packages/ta/trend.py:170: RuntimeWarning: invalid value encountered in double_scalars\n",
      "  dip[i] = 100 * (dip_mio[i]/trs[i])\n",
      "/Users/neilkloot/anaconda/lib/python3.6/site-packages/ta/trend.py:174: RuntimeWarning: divide by zero encountered in double_scalars\n",
      "  din[i] = 100 * (din_mio[i]/trs[i])\n",
      "/Users/neilkloot/anaconda/lib/python3.6/site-packages/ta/trend.py:174: RuntimeWarning: invalid value encountered in double_scalars\n",
      "  din[i] = 100 * (din_mio[i]/trs[i])\n",
      "/Users/neilkloot/anaconda/lib/python3.6/site-packages/ta/trend.py:176: RuntimeWarning: invalid value encountered in subtract\n",
      "  dx = 100 * np.abs((dip - din) / (dip + din))\n"
     ]
    },
    {
     "name": "stdout",
     "output_type": "stream",
     "text": [
      "Data split.  Total recs: (608, 283)\n",
      "Train recs: (426, 283)\n",
      "Remaining data recs: (182, 283)\n",
      "Validation recs: (91, 283)\n",
      "Remaining data recs: (91, 283)\n",
      "Test recs: (91, 283)\n"
     ]
    },
    {
     "name": "stderr",
     "output_type": "stream",
     "text": [
      "/Users/neilkloot/anaconda/lib/python3.6/site-packages/ta/trend.py:170: RuntimeWarning: divide by zero encountered in double_scalars\n",
      "  dip[i] = 100 * (dip_mio[i]/trs[i])\n",
      "/Users/neilkloot/anaconda/lib/python3.6/site-packages/ta/trend.py:170: RuntimeWarning: invalid value encountered in double_scalars\n",
      "  dip[i] = 100 * (dip_mio[i]/trs[i])\n",
      "/Users/neilkloot/anaconda/lib/python3.6/site-packages/ta/trend.py:174: RuntimeWarning: divide by zero encountered in double_scalars\n",
      "  din[i] = 100 * (din_mio[i]/trs[i])\n",
      "/Users/neilkloot/anaconda/lib/python3.6/site-packages/ta/trend.py:174: RuntimeWarning: invalid value encountered in double_scalars\n",
      "  din[i] = 100 * (din_mio[i]/trs[i])\n",
      "/Users/neilkloot/anaconda/lib/python3.6/site-packages/ta/trend.py:176: RuntimeWarning: invalid value encountered in subtract\n",
      "  dx = 100 * np.abs((dip - din) / (dip + din))\n"
     ]
    },
    {
     "name": "stdout",
     "output_type": "stream",
     "text": [
      "Data split.  Total recs: (608, 283)\n",
      "Train recs: (426, 283)\n",
      "Remaining data recs: (182, 283)\n",
      "Validation recs: (91, 283)\n",
      "Remaining data recs: (91, 283)\n",
      "Test recs: (91, 283)\n"
     ]
    },
    {
     "name": "stderr",
     "output_type": "stream",
     "text": [
      "/Users/neilkloot/anaconda/lib/python3.6/site-packages/ta/trend.py:170: RuntimeWarning: divide by zero encountered in double_scalars\n",
      "  dip[i] = 100 * (dip_mio[i]/trs[i])\n",
      "/Users/neilkloot/anaconda/lib/python3.6/site-packages/ta/trend.py:170: RuntimeWarning: invalid value encountered in double_scalars\n",
      "  dip[i] = 100 * (dip_mio[i]/trs[i])\n",
      "/Users/neilkloot/anaconda/lib/python3.6/site-packages/ta/trend.py:174: RuntimeWarning: divide by zero encountered in double_scalars\n",
      "  din[i] = 100 * (din_mio[i]/trs[i])\n",
      "/Users/neilkloot/anaconda/lib/python3.6/site-packages/ta/trend.py:174: RuntimeWarning: invalid value encountered in double_scalars\n",
      "  din[i] = 100 * (din_mio[i]/trs[i])\n",
      "/Users/neilkloot/anaconda/lib/python3.6/site-packages/ta/trend.py:176: RuntimeWarning: invalid value encountered in subtract\n",
      "  dx = 100 * np.abs((dip - din) / (dip + din))\n"
     ]
    },
    {
     "name": "stdout",
     "output_type": "stream",
     "text": [
      "Data split.  Total recs: (224, 283)\n",
      "Train recs: (157, 283)\n",
      "Remaining data recs: (67, 283)\n",
      "Validation recs: (34, 283)\n",
      "Remaining data recs: (33, 283)\n",
      "Test recs: (33, 283)\n"
     ]
    },
    {
     "name": "stderr",
     "output_type": "stream",
     "text": [
      "/Users/neilkloot/anaconda/lib/python3.6/site-packages/ta/trend.py:170: RuntimeWarning: divide by zero encountered in double_scalars\n",
      "  dip[i] = 100 * (dip_mio[i]/trs[i])\n",
      "/Users/neilkloot/anaconda/lib/python3.6/site-packages/ta/trend.py:170: RuntimeWarning: invalid value encountered in double_scalars\n",
      "  dip[i] = 100 * (dip_mio[i]/trs[i])\n",
      "/Users/neilkloot/anaconda/lib/python3.6/site-packages/ta/trend.py:174: RuntimeWarning: divide by zero encountered in double_scalars\n",
      "  din[i] = 100 * (din_mio[i]/trs[i])\n",
      "/Users/neilkloot/anaconda/lib/python3.6/site-packages/ta/trend.py:174: RuntimeWarning: invalid value encountered in double_scalars\n",
      "  din[i] = 100 * (din_mio[i]/trs[i])\n",
      "/Users/neilkloot/anaconda/lib/python3.6/site-packages/ta/trend.py:176: RuntimeWarning: invalid value encountered in subtract\n",
      "  dx = 100 * np.abs((dip - din) / (dip + din))\n"
     ]
    },
    {
     "name": "stdout",
     "output_type": "stream",
     "text": [
      "Data split.  Total recs: (388, 283)\n",
      "Train recs: (272, 283)\n",
      "Remaining data recs: (116, 283)\n",
      "Validation recs: (58, 283)\n",
      "Remaining data recs: (58, 283)\n",
      "Test recs: (58, 283)\n"
     ]
    },
    {
     "name": "stderr",
     "output_type": "stream",
     "text": [
      "/Users/neilkloot/anaconda/lib/python3.6/site-packages/ta/trend.py:170: RuntimeWarning: divide by zero encountered in double_scalars\n",
      "  dip[i] = 100 * (dip_mio[i]/trs[i])\n",
      "/Users/neilkloot/anaconda/lib/python3.6/site-packages/ta/trend.py:170: RuntimeWarning: invalid value encountered in double_scalars\n",
      "  dip[i] = 100 * (dip_mio[i]/trs[i])\n",
      "/Users/neilkloot/anaconda/lib/python3.6/site-packages/ta/trend.py:174: RuntimeWarning: divide by zero encountered in double_scalars\n",
      "  din[i] = 100 * (din_mio[i]/trs[i])\n",
      "/Users/neilkloot/anaconda/lib/python3.6/site-packages/ta/trend.py:174: RuntimeWarning: invalid value encountered in double_scalars\n",
      "  din[i] = 100 * (din_mio[i]/trs[i])\n",
      "/Users/neilkloot/anaconda/lib/python3.6/site-packages/ta/trend.py:176: RuntimeWarning: invalid value encountered in subtract\n",
      "  dx = 100 * np.abs((dip - din) / (dip + din))\n"
     ]
    },
    {
     "name": "stdout",
     "output_type": "stream",
     "text": [
      "Data split.  Total recs: (607, 283)\n",
      "Train recs: (425, 283)\n",
      "Remaining data recs: (182, 283)\n",
      "Validation recs: (91, 283)\n",
      "Remaining data recs: (91, 283)\n",
      "Test recs: (91, 283)\n"
     ]
    },
    {
     "name": "stderr",
     "output_type": "stream",
     "text": [
      "/Users/neilkloot/anaconda/lib/python3.6/site-packages/ta/trend.py:170: RuntimeWarning: divide by zero encountered in double_scalars\n",
      "  dip[i] = 100 * (dip_mio[i]/trs[i])\n",
      "/Users/neilkloot/anaconda/lib/python3.6/site-packages/ta/trend.py:170: RuntimeWarning: invalid value encountered in double_scalars\n",
      "  dip[i] = 100 * (dip_mio[i]/trs[i])\n",
      "/Users/neilkloot/anaconda/lib/python3.6/site-packages/ta/trend.py:174: RuntimeWarning: divide by zero encountered in double_scalars\n",
      "  din[i] = 100 * (din_mio[i]/trs[i])\n",
      "/Users/neilkloot/anaconda/lib/python3.6/site-packages/ta/trend.py:174: RuntimeWarning: invalid value encountered in double_scalars\n",
      "  din[i] = 100 * (din_mio[i]/trs[i])\n",
      "/Users/neilkloot/anaconda/lib/python3.6/site-packages/ta/trend.py:176: RuntimeWarning: invalid value encountered in subtract\n",
      "  dx = 100 * np.abs((dip - din) / (dip + din))\n"
     ]
    },
    {
     "name": "stdout",
     "output_type": "stream",
     "text": [
      "Data split.  Total recs: (272, 283)\n",
      "Train recs: (190, 283)\n",
      "Remaining data recs: (82, 283)\n",
      "Validation recs: (41, 283)\n",
      "Remaining data recs: (41, 283)\n",
      "Test recs: (41, 283)\n"
     ]
    },
    {
     "name": "stderr",
     "output_type": "stream",
     "text": [
      "/Users/neilkloot/anaconda/lib/python3.6/site-packages/ta/trend.py:170: RuntimeWarning: divide by zero encountered in double_scalars\n",
      "  dip[i] = 100 * (dip_mio[i]/trs[i])\n",
      "/Users/neilkloot/anaconda/lib/python3.6/site-packages/ta/trend.py:170: RuntimeWarning: invalid value encountered in double_scalars\n",
      "  dip[i] = 100 * (dip_mio[i]/trs[i])\n",
      "/Users/neilkloot/anaconda/lib/python3.6/site-packages/ta/trend.py:174: RuntimeWarning: divide by zero encountered in double_scalars\n",
      "  din[i] = 100 * (din_mio[i]/trs[i])\n",
      "/Users/neilkloot/anaconda/lib/python3.6/site-packages/ta/trend.py:174: RuntimeWarning: invalid value encountered in double_scalars\n",
      "  din[i] = 100 * (din_mio[i]/trs[i])\n",
      "/Users/neilkloot/anaconda/lib/python3.6/site-packages/ta/trend.py:176: RuntimeWarning: invalid value encountered in subtract\n",
      "  dx = 100 * np.abs((dip - din) / (dip + din))\n"
     ]
    },
    {
     "name": "stdout",
     "output_type": "stream",
     "text": [
      "Data split.  Total recs: (608, 283)\n",
      "Train recs: (426, 283)\n",
      "Remaining data recs: (182, 283)\n",
      "Validation recs: (91, 283)\n",
      "Remaining data recs: (91, 283)\n",
      "Test recs: (91, 283)\n"
     ]
    },
    {
     "name": "stderr",
     "output_type": "stream",
     "text": [
      "/Users/neilkloot/anaconda/lib/python3.6/site-packages/ta/trend.py:170: RuntimeWarning: divide by zero encountered in double_scalars\n",
      "  dip[i] = 100 * (dip_mio[i]/trs[i])\n",
      "/Users/neilkloot/anaconda/lib/python3.6/site-packages/ta/trend.py:170: RuntimeWarning: invalid value encountered in double_scalars\n",
      "  dip[i] = 100 * (dip_mio[i]/trs[i])\n",
      "/Users/neilkloot/anaconda/lib/python3.6/site-packages/ta/trend.py:174: RuntimeWarning: divide by zero encountered in double_scalars\n",
      "  din[i] = 100 * (din_mio[i]/trs[i])\n",
      "/Users/neilkloot/anaconda/lib/python3.6/site-packages/ta/trend.py:174: RuntimeWarning: invalid value encountered in double_scalars\n",
      "  din[i] = 100 * (din_mio[i]/trs[i])\n",
      "/Users/neilkloot/anaconda/lib/python3.6/site-packages/ta/trend.py:176: RuntimeWarning: invalid value encountered in subtract\n",
      "  dx = 100 * np.abs((dip - din) / (dip + din))\n"
     ]
    },
    {
     "name": "stdout",
     "output_type": "stream",
     "text": [
      "Data split.  Total recs: (608, 283)\n",
      "Train recs: (426, 283)\n",
      "Remaining data recs: (182, 283)\n",
      "Validation recs: (91, 283)\n",
      "Remaining data recs: (91, 283)\n",
      "Test recs: (91, 283)\n"
     ]
    },
    {
     "name": "stderr",
     "output_type": "stream",
     "text": [
      "/Users/neilkloot/anaconda/lib/python3.6/site-packages/ta/trend.py:170: RuntimeWarning: divide by zero encountered in double_scalars\n",
      "  dip[i] = 100 * (dip_mio[i]/trs[i])\n",
      "/Users/neilkloot/anaconda/lib/python3.6/site-packages/ta/trend.py:170: RuntimeWarning: invalid value encountered in double_scalars\n",
      "  dip[i] = 100 * (dip_mio[i]/trs[i])\n",
      "/Users/neilkloot/anaconda/lib/python3.6/site-packages/ta/trend.py:174: RuntimeWarning: divide by zero encountered in double_scalars\n",
      "  din[i] = 100 * (din_mio[i]/trs[i])\n",
      "/Users/neilkloot/anaconda/lib/python3.6/site-packages/ta/trend.py:174: RuntimeWarning: invalid value encountered in double_scalars\n",
      "  din[i] = 100 * (din_mio[i]/trs[i])\n",
      "/Users/neilkloot/anaconda/lib/python3.6/site-packages/ta/trend.py:176: RuntimeWarning: invalid value encountered in subtract\n",
      "  dx = 100 * np.abs((dip - din) / (dip + din))\n"
     ]
    },
    {
     "name": "stdout",
     "output_type": "stream",
     "text": [
      "Data split.  Total recs: (607, 283)\n",
      "Train recs: (425, 283)\n",
      "Remaining data recs: (182, 283)\n",
      "Validation recs: (91, 283)\n",
      "Remaining data recs: (91, 283)\n",
      "Test recs: (91, 283)\n"
     ]
    },
    {
     "name": "stderr",
     "output_type": "stream",
     "text": [
      "/Users/neilkloot/anaconda/lib/python3.6/site-packages/ta/trend.py:170: RuntimeWarning: divide by zero encountered in double_scalars\n",
      "  dip[i] = 100 * (dip_mio[i]/trs[i])\n",
      "/Users/neilkloot/anaconda/lib/python3.6/site-packages/ta/trend.py:170: RuntimeWarning: invalid value encountered in double_scalars\n",
      "  dip[i] = 100 * (dip_mio[i]/trs[i])\n",
      "/Users/neilkloot/anaconda/lib/python3.6/site-packages/ta/trend.py:174: RuntimeWarning: divide by zero encountered in double_scalars\n",
      "  din[i] = 100 * (din_mio[i]/trs[i])\n",
      "/Users/neilkloot/anaconda/lib/python3.6/site-packages/ta/trend.py:174: RuntimeWarning: invalid value encountered in double_scalars\n",
      "  din[i] = 100 * (din_mio[i]/trs[i])\n",
      "/Users/neilkloot/anaconda/lib/python3.6/site-packages/ta/trend.py:176: RuntimeWarning: invalid value encountered in subtract\n",
      "  dx = 100 * np.abs((dip - din) / (dip + din))\n"
     ]
    },
    {
     "name": "stdout",
     "output_type": "stream",
     "text": [
      "Data split.  Total recs: (608, 283)\n",
      "Train recs: (426, 283)\n",
      "Remaining data recs: (182, 283)\n",
      "Validation recs: (91, 283)\n",
      "Remaining data recs: (91, 283)\n",
      "Test recs: (91, 283)\n"
     ]
    },
    {
     "name": "stderr",
     "output_type": "stream",
     "text": [
      "/Users/neilkloot/anaconda/lib/python3.6/site-packages/ta/trend.py:170: RuntimeWarning: divide by zero encountered in double_scalars\n",
      "  dip[i] = 100 * (dip_mio[i]/trs[i])\n",
      "/Users/neilkloot/anaconda/lib/python3.6/site-packages/ta/trend.py:170: RuntimeWarning: invalid value encountered in double_scalars\n",
      "  dip[i] = 100 * (dip_mio[i]/trs[i])\n",
      "/Users/neilkloot/anaconda/lib/python3.6/site-packages/ta/trend.py:174: RuntimeWarning: divide by zero encountered in double_scalars\n",
      "  din[i] = 100 * (din_mio[i]/trs[i])\n",
      "/Users/neilkloot/anaconda/lib/python3.6/site-packages/ta/trend.py:174: RuntimeWarning: invalid value encountered in double_scalars\n",
      "  din[i] = 100 * (din_mio[i]/trs[i])\n",
      "/Users/neilkloot/anaconda/lib/python3.6/site-packages/ta/trend.py:176: RuntimeWarning: invalid value encountered in subtract\n",
      "  dx = 100 * np.abs((dip - din) / (dip + din))\n"
     ]
    },
    {
     "name": "stdout",
     "output_type": "stream",
     "text": [
      "Data split.  Total recs: (608, 283)\n",
      "Train recs: (426, 283)\n",
      "Remaining data recs: (182, 283)\n",
      "Validation recs: (91, 283)\n",
      "Remaining data recs: (91, 283)\n",
      "Test recs: (91, 283)\n"
     ]
    },
    {
     "name": "stderr",
     "output_type": "stream",
     "text": [
      "/Users/neilkloot/anaconda/lib/python3.6/site-packages/ta/trend.py:170: RuntimeWarning: divide by zero encountered in double_scalars\n",
      "  dip[i] = 100 * (dip_mio[i]/trs[i])\n",
      "/Users/neilkloot/anaconda/lib/python3.6/site-packages/ta/trend.py:170: RuntimeWarning: invalid value encountered in double_scalars\n",
      "  dip[i] = 100 * (dip_mio[i]/trs[i])\n",
      "/Users/neilkloot/anaconda/lib/python3.6/site-packages/ta/trend.py:174: RuntimeWarning: divide by zero encountered in double_scalars\n",
      "  din[i] = 100 * (din_mio[i]/trs[i])\n",
      "/Users/neilkloot/anaconda/lib/python3.6/site-packages/ta/trend.py:174: RuntimeWarning: invalid value encountered in double_scalars\n",
      "  din[i] = 100 * (din_mio[i]/trs[i])\n",
      "/Users/neilkloot/anaconda/lib/python3.6/site-packages/ta/trend.py:176: RuntimeWarning: invalid value encountered in subtract\n",
      "  dx = 100 * np.abs((dip - din) / (dip + din))\n"
     ]
    },
    {
     "name": "stdout",
     "output_type": "stream",
     "text": [
      "Data split.  Total recs: (608, 283)\n",
      "Train recs: (426, 283)\n",
      "Remaining data recs: (182, 283)\n",
      "Validation recs: (91, 283)\n",
      "Remaining data recs: (91, 283)\n",
      "Test recs: (91, 283)\n"
     ]
    },
    {
     "name": "stderr",
     "output_type": "stream",
     "text": [
      "/Users/neilkloot/anaconda/lib/python3.6/site-packages/ta/trend.py:170: RuntimeWarning: divide by zero encountered in double_scalars\n",
      "  dip[i] = 100 * (dip_mio[i]/trs[i])\n",
      "/Users/neilkloot/anaconda/lib/python3.6/site-packages/ta/trend.py:170: RuntimeWarning: invalid value encountered in double_scalars\n",
      "  dip[i] = 100 * (dip_mio[i]/trs[i])\n",
      "/Users/neilkloot/anaconda/lib/python3.6/site-packages/ta/trend.py:174: RuntimeWarning: divide by zero encountered in double_scalars\n",
      "  din[i] = 100 * (din_mio[i]/trs[i])\n",
      "/Users/neilkloot/anaconda/lib/python3.6/site-packages/ta/trend.py:174: RuntimeWarning: invalid value encountered in double_scalars\n",
      "  din[i] = 100 * (din_mio[i]/trs[i])\n",
      "/Users/neilkloot/anaconda/lib/python3.6/site-packages/ta/trend.py:176: RuntimeWarning: invalid value encountered in subtract\n",
      "  dx = 100 * np.abs((dip - din) / (dip + din))\n"
     ]
    },
    {
     "name": "stdout",
     "output_type": "stream",
     "text": [
      "Data split.  Total recs: (608, 283)\n",
      "Train recs: (426, 283)\n",
      "Remaining data recs: (182, 283)\n",
      "Validation recs: (91, 283)\n",
      "Remaining data recs: (91, 283)\n",
      "Test recs: (91, 283)\n"
     ]
    },
    {
     "name": "stderr",
     "output_type": "stream",
     "text": [
      "/Users/neilkloot/anaconda/lib/python3.6/site-packages/ta/trend.py:170: RuntimeWarning: divide by zero encountered in double_scalars\n",
      "  dip[i] = 100 * (dip_mio[i]/trs[i])\n",
      "/Users/neilkloot/anaconda/lib/python3.6/site-packages/ta/trend.py:170: RuntimeWarning: invalid value encountered in double_scalars\n",
      "  dip[i] = 100 * (dip_mio[i]/trs[i])\n",
      "/Users/neilkloot/anaconda/lib/python3.6/site-packages/ta/trend.py:174: RuntimeWarning: divide by zero encountered in double_scalars\n",
      "  din[i] = 100 * (din_mio[i]/trs[i])\n",
      "/Users/neilkloot/anaconda/lib/python3.6/site-packages/ta/trend.py:174: RuntimeWarning: invalid value encountered in double_scalars\n",
      "  din[i] = 100 * (din_mio[i]/trs[i])\n",
      "/Users/neilkloot/anaconda/lib/python3.6/site-packages/ta/trend.py:176: RuntimeWarning: invalid value encountered in subtract\n",
      "  dx = 100 * np.abs((dip - din) / (dip + din))\n"
     ]
    },
    {
     "name": "stdout",
     "output_type": "stream",
     "text": [
      "Data split.  Total recs: (560, 283)\n",
      "Train recs: (392, 283)\n",
      "Remaining data recs: (168, 283)\n",
      "Validation recs: (84, 283)\n",
      "Remaining data recs: (84, 283)\n",
      "Test recs: (84, 283)\n"
     ]
    },
    {
     "name": "stderr",
     "output_type": "stream",
     "text": [
      "/Users/neilkloot/anaconda/lib/python3.6/site-packages/ta/trend.py:170: RuntimeWarning: divide by zero encountered in double_scalars\n",
      "  dip[i] = 100 * (dip_mio[i]/trs[i])\n",
      "/Users/neilkloot/anaconda/lib/python3.6/site-packages/ta/trend.py:170: RuntimeWarning: invalid value encountered in double_scalars\n",
      "  dip[i] = 100 * (dip_mio[i]/trs[i])\n",
      "/Users/neilkloot/anaconda/lib/python3.6/site-packages/ta/trend.py:174: RuntimeWarning: divide by zero encountered in double_scalars\n",
      "  din[i] = 100 * (din_mio[i]/trs[i])\n",
      "/Users/neilkloot/anaconda/lib/python3.6/site-packages/ta/trend.py:174: RuntimeWarning: invalid value encountered in double_scalars\n",
      "  din[i] = 100 * (din_mio[i]/trs[i])\n",
      "/Users/neilkloot/anaconda/lib/python3.6/site-packages/ta/trend.py:176: RuntimeWarning: invalid value encountered in subtract\n",
      "  dx = 100 * np.abs((dip - din) / (dip + din))\n"
     ]
    },
    {
     "name": "stdout",
     "output_type": "stream",
     "text": [
      "Data split.  Total recs: (608, 283)\n",
      "Train recs: (426, 283)\n",
      "Remaining data recs: (182, 283)\n",
      "Validation recs: (91, 283)\n",
      "Remaining data recs: (91, 283)\n",
      "Test recs: (91, 283)\n"
     ]
    },
    {
     "name": "stderr",
     "output_type": "stream",
     "text": [
      "/Users/neilkloot/anaconda/lib/python3.6/site-packages/ta/trend.py:170: RuntimeWarning: divide by zero encountered in double_scalars\n",
      "  dip[i] = 100 * (dip_mio[i]/trs[i])\n",
      "/Users/neilkloot/anaconda/lib/python3.6/site-packages/ta/trend.py:170: RuntimeWarning: invalid value encountered in double_scalars\n",
      "  dip[i] = 100 * (dip_mio[i]/trs[i])\n",
      "/Users/neilkloot/anaconda/lib/python3.6/site-packages/ta/trend.py:174: RuntimeWarning: divide by zero encountered in double_scalars\n",
      "  din[i] = 100 * (din_mio[i]/trs[i])\n",
      "/Users/neilkloot/anaconda/lib/python3.6/site-packages/ta/trend.py:174: RuntimeWarning: invalid value encountered in double_scalars\n",
      "  din[i] = 100 * (din_mio[i]/trs[i])\n",
      "/Users/neilkloot/anaconda/lib/python3.6/site-packages/ta/trend.py:176: RuntimeWarning: invalid value encountered in subtract\n",
      "  dx = 100 * np.abs((dip - din) / (dip + din))\n"
     ]
    },
    {
     "name": "stdout",
     "output_type": "stream",
     "text": [
      "Data split.  Total recs: (608, 283)\n",
      "Train recs: (426, 283)\n",
      "Remaining data recs: (182, 283)\n",
      "Validation recs: (91, 283)\n",
      "Remaining data recs: (91, 283)\n",
      "Test recs: (91, 283)\n"
     ]
    },
    {
     "name": "stderr",
     "output_type": "stream",
     "text": [
      "/Users/neilkloot/anaconda/lib/python3.6/site-packages/ta/trend.py:170: RuntimeWarning: divide by zero encountered in double_scalars\n",
      "  dip[i] = 100 * (dip_mio[i]/trs[i])\n",
      "/Users/neilkloot/anaconda/lib/python3.6/site-packages/ta/trend.py:170: RuntimeWarning: invalid value encountered in double_scalars\n",
      "  dip[i] = 100 * (dip_mio[i]/trs[i])\n",
      "/Users/neilkloot/anaconda/lib/python3.6/site-packages/ta/trend.py:174: RuntimeWarning: divide by zero encountered in double_scalars\n",
      "  din[i] = 100 * (din_mio[i]/trs[i])\n",
      "/Users/neilkloot/anaconda/lib/python3.6/site-packages/ta/trend.py:174: RuntimeWarning: invalid value encountered in double_scalars\n",
      "  din[i] = 100 * (din_mio[i]/trs[i])\n",
      "/Users/neilkloot/anaconda/lib/python3.6/site-packages/ta/trend.py:176: RuntimeWarning: invalid value encountered in subtract\n",
      "  dx = 100 * np.abs((dip - din) / (dip + din))\n"
     ]
    },
    {
     "name": "stdout",
     "output_type": "stream",
     "text": [
      "Data split.  Total recs: (608, 283)\n",
      "Train recs: (426, 283)\n",
      "Remaining data recs: (182, 283)\n",
      "Validation recs: (91, 283)\n",
      "Remaining data recs: (91, 283)\n",
      "Test recs: (91, 283)\n"
     ]
    },
    {
     "name": "stderr",
     "output_type": "stream",
     "text": [
      "/Users/neilkloot/anaconda/lib/python3.6/site-packages/ta/trend.py:170: RuntimeWarning: divide by zero encountered in double_scalars\n",
      "  dip[i] = 100 * (dip_mio[i]/trs[i])\n",
      "/Users/neilkloot/anaconda/lib/python3.6/site-packages/ta/trend.py:170: RuntimeWarning: invalid value encountered in double_scalars\n",
      "  dip[i] = 100 * (dip_mio[i]/trs[i])\n",
      "/Users/neilkloot/anaconda/lib/python3.6/site-packages/ta/trend.py:174: RuntimeWarning: divide by zero encountered in double_scalars\n",
      "  din[i] = 100 * (din_mio[i]/trs[i])\n",
      "/Users/neilkloot/anaconda/lib/python3.6/site-packages/ta/trend.py:174: RuntimeWarning: invalid value encountered in double_scalars\n",
      "  din[i] = 100 * (din_mio[i]/trs[i])\n",
      "/Users/neilkloot/anaconda/lib/python3.6/site-packages/ta/trend.py:176: RuntimeWarning: invalid value encountered in subtract\n",
      "  dx = 100 * np.abs((dip - din) / (dip + din))\n"
     ]
    },
    {
     "name": "stdout",
     "output_type": "stream",
     "text": [
      "Data split.  Total recs: (608, 283)\n",
      "Train recs: (426, 283)\n",
      "Remaining data recs: (182, 283)\n",
      "Validation recs: (91, 283)\n",
      "Remaining data recs: (91, 283)\n",
      "Test recs: (91, 283)\n"
     ]
    },
    {
     "name": "stderr",
     "output_type": "stream",
     "text": [
      "/Users/neilkloot/anaconda/lib/python3.6/site-packages/ta/trend.py:170: RuntimeWarning: divide by zero encountered in double_scalars\n",
      "  dip[i] = 100 * (dip_mio[i]/trs[i])\n",
      "/Users/neilkloot/anaconda/lib/python3.6/site-packages/ta/trend.py:170: RuntimeWarning: invalid value encountered in double_scalars\n",
      "  dip[i] = 100 * (dip_mio[i]/trs[i])\n",
      "/Users/neilkloot/anaconda/lib/python3.6/site-packages/ta/trend.py:174: RuntimeWarning: divide by zero encountered in double_scalars\n",
      "  din[i] = 100 * (din_mio[i]/trs[i])\n",
      "/Users/neilkloot/anaconda/lib/python3.6/site-packages/ta/trend.py:174: RuntimeWarning: invalid value encountered in double_scalars\n",
      "  din[i] = 100 * (din_mio[i]/trs[i])\n",
      "/Users/neilkloot/anaconda/lib/python3.6/site-packages/ta/trend.py:176: RuntimeWarning: invalid value encountered in subtract\n",
      "  dx = 100 * np.abs((dip - din) / (dip + din))\n"
     ]
    },
    {
     "name": "stdout",
     "output_type": "stream",
     "text": [
      "Data split.  Total recs: (606, 283)\n",
      "Train recs: (424, 283)\n",
      "Remaining data recs: (182, 283)\n",
      "Validation recs: (91, 283)\n",
      "Remaining data recs: (91, 283)\n",
      "Test recs: (91, 283)\n"
     ]
    },
    {
     "name": "stderr",
     "output_type": "stream",
     "text": [
      "/Users/neilkloot/anaconda/lib/python3.6/site-packages/ta/trend.py:170: RuntimeWarning: divide by zero encountered in double_scalars\n",
      "  dip[i] = 100 * (dip_mio[i]/trs[i])\n",
      "/Users/neilkloot/anaconda/lib/python3.6/site-packages/ta/trend.py:170: RuntimeWarning: invalid value encountered in double_scalars\n",
      "  dip[i] = 100 * (dip_mio[i]/trs[i])\n",
      "/Users/neilkloot/anaconda/lib/python3.6/site-packages/ta/trend.py:174: RuntimeWarning: divide by zero encountered in double_scalars\n",
      "  din[i] = 100 * (din_mio[i]/trs[i])\n",
      "/Users/neilkloot/anaconda/lib/python3.6/site-packages/ta/trend.py:174: RuntimeWarning: invalid value encountered in double_scalars\n",
      "  din[i] = 100 * (din_mio[i]/trs[i])\n",
      "/Users/neilkloot/anaconda/lib/python3.6/site-packages/ta/trend.py:176: RuntimeWarning: invalid value encountered in subtract\n",
      "  dx = 100 * np.abs((dip - din) / (dip + din))\n"
     ]
    },
    {
     "name": "stdout",
     "output_type": "stream",
     "text": [
      "Data split.  Total recs: (599, 283)\n",
      "Train recs: (419, 283)\n",
      "Remaining data recs: (180, 283)\n",
      "Validation recs: (90, 283)\n",
      "Remaining data recs: (90, 283)\n",
      "Test recs: (90, 283)\n"
     ]
    },
    {
     "name": "stderr",
     "output_type": "stream",
     "text": [
      "/Users/neilkloot/anaconda/lib/python3.6/site-packages/ta/trend.py:170: RuntimeWarning: divide by zero encountered in double_scalars\n",
      "  dip[i] = 100 * (dip_mio[i]/trs[i])\n",
      "/Users/neilkloot/anaconda/lib/python3.6/site-packages/ta/trend.py:170: RuntimeWarning: invalid value encountered in double_scalars\n",
      "  dip[i] = 100 * (dip_mio[i]/trs[i])\n",
      "/Users/neilkloot/anaconda/lib/python3.6/site-packages/ta/trend.py:174: RuntimeWarning: divide by zero encountered in double_scalars\n",
      "  din[i] = 100 * (din_mio[i]/trs[i])\n",
      "/Users/neilkloot/anaconda/lib/python3.6/site-packages/ta/trend.py:174: RuntimeWarning: invalid value encountered in double_scalars\n",
      "  din[i] = 100 * (din_mio[i]/trs[i])\n",
      "/Users/neilkloot/anaconda/lib/python3.6/site-packages/ta/trend.py:176: RuntimeWarning: invalid value encountered in subtract\n",
      "  dx = 100 * np.abs((dip - din) / (dip + din))\n"
     ]
    },
    {
     "name": "stdout",
     "output_type": "stream",
     "text": [
      "Data split.  Total recs: (175, 283)\n",
      "Train recs: (122, 283)\n",
      "Remaining data recs: (53, 283)\n",
      "Validation recs: (26, 283)\n",
      "Remaining data recs: (27, 283)\n",
      "Test recs: (27, 283)\n"
     ]
    },
    {
     "name": "stderr",
     "output_type": "stream",
     "text": [
      "/Users/neilkloot/anaconda/lib/python3.6/site-packages/ta/trend.py:170: RuntimeWarning: divide by zero encountered in double_scalars\n",
      "  dip[i] = 100 * (dip_mio[i]/trs[i])\n",
      "/Users/neilkloot/anaconda/lib/python3.6/site-packages/ta/trend.py:170: RuntimeWarning: invalid value encountered in double_scalars\n",
      "  dip[i] = 100 * (dip_mio[i]/trs[i])\n",
      "/Users/neilkloot/anaconda/lib/python3.6/site-packages/ta/trend.py:174: RuntimeWarning: divide by zero encountered in double_scalars\n",
      "  din[i] = 100 * (din_mio[i]/trs[i])\n",
      "/Users/neilkloot/anaconda/lib/python3.6/site-packages/ta/trend.py:174: RuntimeWarning: invalid value encountered in double_scalars\n",
      "  din[i] = 100 * (din_mio[i]/trs[i])\n",
      "/Users/neilkloot/anaconda/lib/python3.6/site-packages/ta/trend.py:176: RuntimeWarning: invalid value encountered in subtract\n",
      "  dx = 100 * np.abs((dip - din) / (dip + din))\n"
     ]
    },
    {
     "name": "stdout",
     "output_type": "stream",
     "text": [
      "Data split.  Total recs: (149, 283)\n",
      "Train recs: (104, 283)\n",
      "Remaining data recs: (45, 283)\n",
      "Validation recs: (22, 283)\n",
      "Remaining data recs: (23, 283)\n",
      "Test recs: (23, 283)\n"
     ]
    },
    {
     "name": "stderr",
     "output_type": "stream",
     "text": [
      "/Users/neilkloot/anaconda/lib/python3.6/site-packages/ta/trend.py:170: RuntimeWarning: divide by zero encountered in double_scalars\n",
      "  dip[i] = 100 * (dip_mio[i]/trs[i])\n",
      "/Users/neilkloot/anaconda/lib/python3.6/site-packages/ta/trend.py:170: RuntimeWarning: invalid value encountered in double_scalars\n",
      "  dip[i] = 100 * (dip_mio[i]/trs[i])\n",
      "/Users/neilkloot/anaconda/lib/python3.6/site-packages/ta/trend.py:174: RuntimeWarning: divide by zero encountered in double_scalars\n",
      "  din[i] = 100 * (din_mio[i]/trs[i])\n",
      "/Users/neilkloot/anaconda/lib/python3.6/site-packages/ta/trend.py:174: RuntimeWarning: invalid value encountered in double_scalars\n",
      "  din[i] = 100 * (din_mio[i]/trs[i])\n",
      "/Users/neilkloot/anaconda/lib/python3.6/site-packages/ta/trend.py:176: RuntimeWarning: invalid value encountered in subtract\n",
      "  dx = 100 * np.abs((dip - din) / (dip + din))\n"
     ]
    },
    {
     "name": "stdout",
     "output_type": "stream",
     "text": [
      "Data split.  Total recs: (581, 283)\n",
      "Train recs: (407, 283)\n",
      "Remaining data recs: (174, 283)\n",
      "Validation recs: (87, 283)\n",
      "Remaining data recs: (87, 283)\n",
      "Test recs: (87, 283)\n"
     ]
    },
    {
     "name": "stderr",
     "output_type": "stream",
     "text": [
      "/Users/neilkloot/anaconda/lib/python3.6/site-packages/ta/trend.py:170: RuntimeWarning: divide by zero encountered in double_scalars\n",
      "  dip[i] = 100 * (dip_mio[i]/trs[i])\n",
      "/Users/neilkloot/anaconda/lib/python3.6/site-packages/ta/trend.py:170: RuntimeWarning: invalid value encountered in double_scalars\n",
      "  dip[i] = 100 * (dip_mio[i]/trs[i])\n",
      "/Users/neilkloot/anaconda/lib/python3.6/site-packages/ta/trend.py:174: RuntimeWarning: divide by zero encountered in double_scalars\n",
      "  din[i] = 100 * (din_mio[i]/trs[i])\n",
      "/Users/neilkloot/anaconda/lib/python3.6/site-packages/ta/trend.py:174: RuntimeWarning: invalid value encountered in double_scalars\n",
      "  din[i] = 100 * (din_mio[i]/trs[i])\n",
      "/Users/neilkloot/anaconda/lib/python3.6/site-packages/ta/trend.py:176: RuntimeWarning: invalid value encountered in subtract\n",
      "  dx = 100 * np.abs((dip - din) / (dip + din))\n"
     ]
    },
    {
     "name": "stdout",
     "output_type": "stream",
     "text": [
      "Data split.  Total recs: (608, 283)\n",
      "Train recs: (426, 283)\n",
      "Remaining data recs: (182, 283)\n",
      "Validation recs: (91, 283)\n",
      "Remaining data recs: (91, 283)\n",
      "Test recs: (91, 283)\n"
     ]
    },
    {
     "name": "stderr",
     "output_type": "stream",
     "text": [
      "/Users/neilkloot/anaconda/lib/python3.6/site-packages/ta/trend.py:170: RuntimeWarning: divide by zero encountered in double_scalars\n",
      "  dip[i] = 100 * (dip_mio[i]/trs[i])\n",
      "/Users/neilkloot/anaconda/lib/python3.6/site-packages/ta/trend.py:170: RuntimeWarning: invalid value encountered in double_scalars\n",
      "  dip[i] = 100 * (dip_mio[i]/trs[i])\n",
      "/Users/neilkloot/anaconda/lib/python3.6/site-packages/ta/trend.py:174: RuntimeWarning: divide by zero encountered in double_scalars\n",
      "  din[i] = 100 * (din_mio[i]/trs[i])\n",
      "/Users/neilkloot/anaconda/lib/python3.6/site-packages/ta/trend.py:174: RuntimeWarning: invalid value encountered in double_scalars\n",
      "  din[i] = 100 * (din_mio[i]/trs[i])\n",
      "/Users/neilkloot/anaconda/lib/python3.6/site-packages/ta/trend.py:176: RuntimeWarning: invalid value encountered in subtract\n",
      "  dx = 100 * np.abs((dip - din) / (dip + din))\n"
     ]
    },
    {
     "name": "stdout",
     "output_type": "stream",
     "text": [
      "Data split.  Total recs: (608, 283)\n",
      "Train recs: (426, 283)\n",
      "Remaining data recs: (182, 283)\n",
      "Validation recs: (91, 283)\n",
      "Remaining data recs: (91, 283)\n",
      "Test recs: (91, 283)\n"
     ]
    },
    {
     "name": "stderr",
     "output_type": "stream",
     "text": [
      "/Users/neilkloot/anaconda/lib/python3.6/site-packages/ta/trend.py:170: RuntimeWarning: divide by zero encountered in double_scalars\n",
      "  dip[i] = 100 * (dip_mio[i]/trs[i])\n",
      "/Users/neilkloot/anaconda/lib/python3.6/site-packages/ta/trend.py:170: RuntimeWarning: invalid value encountered in double_scalars\n",
      "  dip[i] = 100 * (dip_mio[i]/trs[i])\n",
      "/Users/neilkloot/anaconda/lib/python3.6/site-packages/ta/trend.py:174: RuntimeWarning: divide by zero encountered in double_scalars\n",
      "  din[i] = 100 * (din_mio[i]/trs[i])\n",
      "/Users/neilkloot/anaconda/lib/python3.6/site-packages/ta/trend.py:174: RuntimeWarning: invalid value encountered in double_scalars\n",
      "  din[i] = 100 * (din_mio[i]/trs[i])\n",
      "/Users/neilkloot/anaconda/lib/python3.6/site-packages/ta/trend.py:176: RuntimeWarning: invalid value encountered in subtract\n",
      "  dx = 100 * np.abs((dip - din) / (dip + din))\n"
     ]
    },
    {
     "name": "stdout",
     "output_type": "stream",
     "text": [
      "Data split.  Total recs: (608, 283)\n",
      "Train recs: (426, 283)\n",
      "Remaining data recs: (182, 283)\n",
      "Validation recs: (91, 283)\n",
      "Remaining data recs: (91, 283)\n",
      "Test recs: (91, 283)\n"
     ]
    },
    {
     "name": "stderr",
     "output_type": "stream",
     "text": [
      "/Users/neilkloot/anaconda/lib/python3.6/site-packages/ta/trend.py:170: RuntimeWarning: divide by zero encountered in double_scalars\n",
      "  dip[i] = 100 * (dip_mio[i]/trs[i])\n",
      "/Users/neilkloot/anaconda/lib/python3.6/site-packages/ta/trend.py:170: RuntimeWarning: invalid value encountered in double_scalars\n",
      "  dip[i] = 100 * (dip_mio[i]/trs[i])\n",
      "/Users/neilkloot/anaconda/lib/python3.6/site-packages/ta/trend.py:174: RuntimeWarning: divide by zero encountered in double_scalars\n",
      "  din[i] = 100 * (din_mio[i]/trs[i])\n",
      "/Users/neilkloot/anaconda/lib/python3.6/site-packages/ta/trend.py:174: RuntimeWarning: invalid value encountered in double_scalars\n",
      "  din[i] = 100 * (din_mio[i]/trs[i])\n",
      "/Users/neilkloot/anaconda/lib/python3.6/site-packages/ta/trend.py:176: RuntimeWarning: invalid value encountered in subtract\n",
      "  dx = 100 * np.abs((dip - din) / (dip + din))\n"
     ]
    },
    {
     "name": "stdout",
     "output_type": "stream",
     "text": [
      "Data split.  Total recs: (608, 283)\n",
      "Train recs: (426, 283)\n",
      "Remaining data recs: (182, 283)\n",
      "Validation recs: (91, 283)\n",
      "Remaining data recs: (91, 283)\n",
      "Test recs: (91, 283)\n"
     ]
    },
    {
     "name": "stderr",
     "output_type": "stream",
     "text": [
      "/Users/neilkloot/anaconda/lib/python3.6/site-packages/ta/trend.py:170: RuntimeWarning: divide by zero encountered in double_scalars\n",
      "  dip[i] = 100 * (dip_mio[i]/trs[i])\n",
      "/Users/neilkloot/anaconda/lib/python3.6/site-packages/ta/trend.py:170: RuntimeWarning: invalid value encountered in double_scalars\n",
      "  dip[i] = 100 * (dip_mio[i]/trs[i])\n",
      "/Users/neilkloot/anaconda/lib/python3.6/site-packages/ta/trend.py:174: RuntimeWarning: divide by zero encountered in double_scalars\n",
      "  din[i] = 100 * (din_mio[i]/trs[i])\n",
      "/Users/neilkloot/anaconda/lib/python3.6/site-packages/ta/trend.py:174: RuntimeWarning: invalid value encountered in double_scalars\n",
      "  din[i] = 100 * (din_mio[i]/trs[i])\n",
      "/Users/neilkloot/anaconda/lib/python3.6/site-packages/ta/trend.py:176: RuntimeWarning: invalid value encountered in subtract\n",
      "  dx = 100 * np.abs((dip - din) / (dip + din))\n"
     ]
    },
    {
     "name": "stdout",
     "output_type": "stream",
     "text": [
      "Data split.  Total recs: (608, 283)\n",
      "Train recs: (426, 283)\n",
      "Remaining data recs: (182, 283)\n",
      "Validation recs: (91, 283)\n",
      "Remaining data recs: (91, 283)\n",
      "Test recs: (91, 283)\n"
     ]
    },
    {
     "name": "stderr",
     "output_type": "stream",
     "text": [
      "/Users/neilkloot/anaconda/lib/python3.6/site-packages/ta/trend.py:170: RuntimeWarning: divide by zero encountered in double_scalars\n",
      "  dip[i] = 100 * (dip_mio[i]/trs[i])\n",
      "/Users/neilkloot/anaconda/lib/python3.6/site-packages/ta/trend.py:170: RuntimeWarning: invalid value encountered in double_scalars\n",
      "  dip[i] = 100 * (dip_mio[i]/trs[i])\n",
      "/Users/neilkloot/anaconda/lib/python3.6/site-packages/ta/trend.py:174: RuntimeWarning: divide by zero encountered in double_scalars\n",
      "  din[i] = 100 * (din_mio[i]/trs[i])\n",
      "/Users/neilkloot/anaconda/lib/python3.6/site-packages/ta/trend.py:174: RuntimeWarning: invalid value encountered in double_scalars\n",
      "  din[i] = 100 * (din_mio[i]/trs[i])\n",
      "/Users/neilkloot/anaconda/lib/python3.6/site-packages/ta/trend.py:176: RuntimeWarning: invalid value encountered in subtract\n",
      "  dx = 100 * np.abs((dip - din) / (dip + din))\n"
     ]
    },
    {
     "name": "stdout",
     "output_type": "stream",
     "text": [
      "Data split.  Total recs: (608, 283)\n",
      "Train recs: (426, 283)\n",
      "Remaining data recs: (182, 283)\n",
      "Validation recs: (91, 283)\n",
      "Remaining data recs: (91, 283)\n",
      "Test recs: (91, 283)\n"
     ]
    },
    {
     "name": "stderr",
     "output_type": "stream",
     "text": [
      "/Users/neilkloot/anaconda/lib/python3.6/site-packages/ta/trend.py:170: RuntimeWarning: divide by zero encountered in double_scalars\n",
      "  dip[i] = 100 * (dip_mio[i]/trs[i])\n",
      "/Users/neilkloot/anaconda/lib/python3.6/site-packages/ta/trend.py:170: RuntimeWarning: invalid value encountered in double_scalars\n",
      "  dip[i] = 100 * (dip_mio[i]/trs[i])\n",
      "/Users/neilkloot/anaconda/lib/python3.6/site-packages/ta/trend.py:174: RuntimeWarning: divide by zero encountered in double_scalars\n",
      "  din[i] = 100 * (din_mio[i]/trs[i])\n",
      "/Users/neilkloot/anaconda/lib/python3.6/site-packages/ta/trend.py:174: RuntimeWarning: invalid value encountered in double_scalars\n",
      "  din[i] = 100 * (din_mio[i]/trs[i])\n",
      "/Users/neilkloot/anaconda/lib/python3.6/site-packages/ta/trend.py:176: RuntimeWarning: invalid value encountered in subtract\n",
      "  dx = 100 * np.abs((dip - din) / (dip + din))\n"
     ]
    },
    {
     "name": "stdout",
     "output_type": "stream",
     "text": [
      "Data split.  Total recs: (589, 283)\n",
      "Train recs: (412, 283)\n",
      "Remaining data recs: (177, 283)\n",
      "Validation recs: (88, 283)\n",
      "Remaining data recs: (89, 283)\n",
      "Test recs: (89, 283)\n"
     ]
    },
    {
     "name": "stderr",
     "output_type": "stream",
     "text": [
      "/Users/neilkloot/anaconda/lib/python3.6/site-packages/ta/trend.py:170: RuntimeWarning: divide by zero encountered in double_scalars\n",
      "  dip[i] = 100 * (dip_mio[i]/trs[i])\n",
      "/Users/neilkloot/anaconda/lib/python3.6/site-packages/ta/trend.py:170: RuntimeWarning: invalid value encountered in double_scalars\n",
      "  dip[i] = 100 * (dip_mio[i]/trs[i])\n",
      "/Users/neilkloot/anaconda/lib/python3.6/site-packages/ta/trend.py:174: RuntimeWarning: divide by zero encountered in double_scalars\n",
      "  din[i] = 100 * (din_mio[i]/trs[i])\n",
      "/Users/neilkloot/anaconda/lib/python3.6/site-packages/ta/trend.py:174: RuntimeWarning: invalid value encountered in double_scalars\n",
      "  din[i] = 100 * (din_mio[i]/trs[i])\n",
      "/Users/neilkloot/anaconda/lib/python3.6/site-packages/ta/trend.py:176: RuntimeWarning: invalid value encountered in subtract\n",
      "  dx = 100 * np.abs((dip - din) / (dip + din))\n"
     ]
    },
    {
     "name": "stdout",
     "output_type": "stream",
     "text": [
      "Data split.  Total recs: (192, 283)\n",
      "Train recs: (134, 283)\n",
      "Remaining data recs: (58, 283)\n",
      "Validation recs: (29, 283)\n",
      "Remaining data recs: (29, 283)\n",
      "Test recs: (29, 283)\n"
     ]
    },
    {
     "name": "stderr",
     "output_type": "stream",
     "text": [
      "/Users/neilkloot/anaconda/lib/python3.6/site-packages/ta/trend.py:170: RuntimeWarning: divide by zero encountered in double_scalars\n",
      "  dip[i] = 100 * (dip_mio[i]/trs[i])\n",
      "/Users/neilkloot/anaconda/lib/python3.6/site-packages/ta/trend.py:170: RuntimeWarning: invalid value encountered in double_scalars\n",
      "  dip[i] = 100 * (dip_mio[i]/trs[i])\n",
      "/Users/neilkloot/anaconda/lib/python3.6/site-packages/ta/trend.py:174: RuntimeWarning: divide by zero encountered in double_scalars\n",
      "  din[i] = 100 * (din_mio[i]/trs[i])\n",
      "/Users/neilkloot/anaconda/lib/python3.6/site-packages/ta/trend.py:174: RuntimeWarning: invalid value encountered in double_scalars\n",
      "  din[i] = 100 * (din_mio[i]/trs[i])\n",
      "/Users/neilkloot/anaconda/lib/python3.6/site-packages/ta/trend.py:176: RuntimeWarning: invalid value encountered in subtract\n",
      "  dx = 100 * np.abs((dip - din) / (dip + din))\n"
     ]
    },
    {
     "name": "stdout",
     "output_type": "stream",
     "text": [
      "Data split.  Total recs: (608, 283)\n",
      "Train recs: (426, 283)\n",
      "Remaining data recs: (182, 283)\n",
      "Validation recs: (91, 283)\n",
      "Remaining data recs: (91, 283)\n",
      "Test recs: (91, 283)\n"
     ]
    },
    {
     "name": "stderr",
     "output_type": "stream",
     "text": [
      "/Users/neilkloot/anaconda/lib/python3.6/site-packages/ta/trend.py:170: RuntimeWarning: divide by zero encountered in double_scalars\n",
      "  dip[i] = 100 * (dip_mio[i]/trs[i])\n",
      "/Users/neilkloot/anaconda/lib/python3.6/site-packages/ta/trend.py:170: RuntimeWarning: invalid value encountered in double_scalars\n",
      "  dip[i] = 100 * (dip_mio[i]/trs[i])\n",
      "/Users/neilkloot/anaconda/lib/python3.6/site-packages/ta/trend.py:174: RuntimeWarning: divide by zero encountered in double_scalars\n",
      "  din[i] = 100 * (din_mio[i]/trs[i])\n",
      "/Users/neilkloot/anaconda/lib/python3.6/site-packages/ta/trend.py:174: RuntimeWarning: invalid value encountered in double_scalars\n",
      "  din[i] = 100 * (din_mio[i]/trs[i])\n",
      "/Users/neilkloot/anaconda/lib/python3.6/site-packages/ta/trend.py:176: RuntimeWarning: invalid value encountered in subtract\n",
      "  dx = 100 * np.abs((dip - din) / (dip + din))\n"
     ]
    },
    {
     "name": "stdout",
     "output_type": "stream",
     "text": [
      "Data split.  Total recs: (515, 283)\n",
      "Train recs: (360, 283)\n",
      "Remaining data recs: (155, 283)\n",
      "Validation recs: (78, 283)\n",
      "Remaining data recs: (77, 283)\n",
      "Test recs: (77, 283)\n"
     ]
    },
    {
     "name": "stderr",
     "output_type": "stream",
     "text": [
      "/Users/neilkloot/anaconda/lib/python3.6/site-packages/ta/trend.py:170: RuntimeWarning: divide by zero encountered in double_scalars\n",
      "  dip[i] = 100 * (dip_mio[i]/trs[i])\n",
      "/Users/neilkloot/anaconda/lib/python3.6/site-packages/ta/trend.py:170: RuntimeWarning: invalid value encountered in double_scalars\n",
      "  dip[i] = 100 * (dip_mio[i]/trs[i])\n",
      "/Users/neilkloot/anaconda/lib/python3.6/site-packages/ta/trend.py:174: RuntimeWarning: divide by zero encountered in double_scalars\n",
      "  din[i] = 100 * (din_mio[i]/trs[i])\n",
      "/Users/neilkloot/anaconda/lib/python3.6/site-packages/ta/trend.py:174: RuntimeWarning: invalid value encountered in double_scalars\n",
      "  din[i] = 100 * (din_mio[i]/trs[i])\n",
      "/Users/neilkloot/anaconda/lib/python3.6/site-packages/ta/trend.py:176: RuntimeWarning: invalid value encountered in subtract\n",
      "  dx = 100 * np.abs((dip - din) / (dip + din))\n"
     ]
    },
    {
     "name": "stdout",
     "output_type": "stream",
     "text": [
      "Data split.  Total recs: (406, 283)\n",
      "Train recs: (284, 283)\n",
      "Remaining data recs: (122, 283)\n",
      "Validation recs: (61, 283)\n",
      "Remaining data recs: (61, 283)\n",
      "Test recs: (61, 283)\n"
     ]
    },
    {
     "name": "stderr",
     "output_type": "stream",
     "text": [
      "/Users/neilkloot/anaconda/lib/python3.6/site-packages/ta/trend.py:170: RuntimeWarning: divide by zero encountered in double_scalars\n",
      "  dip[i] = 100 * (dip_mio[i]/trs[i])\n",
      "/Users/neilkloot/anaconda/lib/python3.6/site-packages/ta/trend.py:170: RuntimeWarning: invalid value encountered in double_scalars\n",
      "  dip[i] = 100 * (dip_mio[i]/trs[i])\n",
      "/Users/neilkloot/anaconda/lib/python3.6/site-packages/ta/trend.py:174: RuntimeWarning: divide by zero encountered in double_scalars\n",
      "  din[i] = 100 * (din_mio[i]/trs[i])\n",
      "/Users/neilkloot/anaconda/lib/python3.6/site-packages/ta/trend.py:174: RuntimeWarning: invalid value encountered in double_scalars\n",
      "  din[i] = 100 * (din_mio[i]/trs[i])\n",
      "/Users/neilkloot/anaconda/lib/python3.6/site-packages/ta/trend.py:176: RuntimeWarning: invalid value encountered in subtract\n",
      "  dx = 100 * np.abs((dip - din) / (dip + din))\n"
     ]
    },
    {
     "name": "stdout",
     "output_type": "stream",
     "text": [
      "Data split.  Total recs: (123, 283)\n",
      "Train recs: (86, 283)\n",
      "Remaining data recs: (37, 283)\n",
      "Validation recs: (18, 283)\n",
      "Remaining data recs: (19, 283)\n",
      "Test recs: (19, 283)\n"
     ]
    },
    {
     "name": "stderr",
     "output_type": "stream",
     "text": [
      "/Users/neilkloot/anaconda/lib/python3.6/site-packages/ta/trend.py:170: RuntimeWarning: divide by zero encountered in double_scalars\n",
      "  dip[i] = 100 * (dip_mio[i]/trs[i])\n",
      "/Users/neilkloot/anaconda/lib/python3.6/site-packages/ta/trend.py:170: RuntimeWarning: invalid value encountered in double_scalars\n",
      "  dip[i] = 100 * (dip_mio[i]/trs[i])\n",
      "/Users/neilkloot/anaconda/lib/python3.6/site-packages/ta/trend.py:174: RuntimeWarning: divide by zero encountered in double_scalars\n",
      "  din[i] = 100 * (din_mio[i]/trs[i])\n",
      "/Users/neilkloot/anaconda/lib/python3.6/site-packages/ta/trend.py:174: RuntimeWarning: invalid value encountered in double_scalars\n",
      "  din[i] = 100 * (din_mio[i]/trs[i])\n",
      "/Users/neilkloot/anaconda/lib/python3.6/site-packages/ta/trend.py:176: RuntimeWarning: invalid value encountered in subtract\n",
      "  dx = 100 * np.abs((dip - din) / (dip + din))\n"
     ]
    },
    {
     "name": "stdout",
     "output_type": "stream",
     "text": [
      "Data split.  Total recs: (579, 283)\n",
      "Train recs: (405, 283)\n",
      "Remaining data recs: (174, 283)\n",
      "Validation recs: (87, 283)\n",
      "Remaining data recs: (87, 283)\n",
      "Test recs: (87, 283)\n"
     ]
    },
    {
     "name": "stderr",
     "output_type": "stream",
     "text": [
      "/Users/neilkloot/anaconda/lib/python3.6/site-packages/ta/trend.py:170: RuntimeWarning: divide by zero encountered in double_scalars\n",
      "  dip[i] = 100 * (dip_mio[i]/trs[i])\n",
      "/Users/neilkloot/anaconda/lib/python3.6/site-packages/ta/trend.py:170: RuntimeWarning: invalid value encountered in double_scalars\n",
      "  dip[i] = 100 * (dip_mio[i]/trs[i])\n",
      "/Users/neilkloot/anaconda/lib/python3.6/site-packages/ta/trend.py:174: RuntimeWarning: divide by zero encountered in double_scalars\n",
      "  din[i] = 100 * (din_mio[i]/trs[i])\n",
      "/Users/neilkloot/anaconda/lib/python3.6/site-packages/ta/trend.py:174: RuntimeWarning: invalid value encountered in double_scalars\n",
      "  din[i] = 100 * (din_mio[i]/trs[i])\n",
      "/Users/neilkloot/anaconda/lib/python3.6/site-packages/ta/trend.py:176: RuntimeWarning: invalid value encountered in subtract\n",
      "  dx = 100 * np.abs((dip - din) / (dip + din))\n"
     ]
    },
    {
     "name": "stdout",
     "output_type": "stream",
     "text": [
      "Data split.  Total recs: (606, 283)\n",
      "Train recs: (424, 283)\n",
      "Remaining data recs: (182, 283)\n",
      "Validation recs: (91, 283)\n",
      "Remaining data recs: (91, 283)\n",
      "Test recs: (91, 283)\n"
     ]
    },
    {
     "name": "stderr",
     "output_type": "stream",
     "text": [
      "/Users/neilkloot/anaconda/lib/python3.6/site-packages/ta/trend.py:170: RuntimeWarning: divide by zero encountered in double_scalars\n",
      "  dip[i] = 100 * (dip_mio[i]/trs[i])\n",
      "/Users/neilkloot/anaconda/lib/python3.6/site-packages/ta/trend.py:170: RuntimeWarning: invalid value encountered in double_scalars\n",
      "  dip[i] = 100 * (dip_mio[i]/trs[i])\n",
      "/Users/neilkloot/anaconda/lib/python3.6/site-packages/ta/trend.py:174: RuntimeWarning: divide by zero encountered in double_scalars\n",
      "  din[i] = 100 * (din_mio[i]/trs[i])\n",
      "/Users/neilkloot/anaconda/lib/python3.6/site-packages/ta/trend.py:174: RuntimeWarning: invalid value encountered in double_scalars\n",
      "  din[i] = 100 * (din_mio[i]/trs[i])\n",
      "/Users/neilkloot/anaconda/lib/python3.6/site-packages/ta/trend.py:176: RuntimeWarning: invalid value encountered in subtract\n",
      "  dx = 100 * np.abs((dip - din) / (dip + din))\n"
     ]
    },
    {
     "name": "stdout",
     "output_type": "stream",
     "text": [
      "Data split.  Total recs: (227, 283)\n",
      "Train recs: (159, 283)\n",
      "Remaining data recs: (68, 283)\n",
      "Validation recs: (34, 283)\n",
      "Remaining data recs: (34, 283)\n",
      "Test recs: (34, 283)\n"
     ]
    },
    {
     "name": "stderr",
     "output_type": "stream",
     "text": [
      "/Users/neilkloot/anaconda/lib/python3.6/site-packages/ta/trend.py:170: RuntimeWarning: divide by zero encountered in double_scalars\n",
      "  dip[i] = 100 * (dip_mio[i]/trs[i])\n",
      "/Users/neilkloot/anaconda/lib/python3.6/site-packages/ta/trend.py:170: RuntimeWarning: invalid value encountered in double_scalars\n",
      "  dip[i] = 100 * (dip_mio[i]/trs[i])\n",
      "/Users/neilkloot/anaconda/lib/python3.6/site-packages/ta/trend.py:174: RuntimeWarning: divide by zero encountered in double_scalars\n",
      "  din[i] = 100 * (din_mio[i]/trs[i])\n",
      "/Users/neilkloot/anaconda/lib/python3.6/site-packages/ta/trend.py:174: RuntimeWarning: invalid value encountered in double_scalars\n",
      "  din[i] = 100 * (din_mio[i]/trs[i])\n",
      "/Users/neilkloot/anaconda/lib/python3.6/site-packages/ta/trend.py:176: RuntimeWarning: invalid value encountered in subtract\n",
      "  dx = 100 * np.abs((dip - din) / (dip + din))\n"
     ]
    },
    {
     "name": "stdout",
     "output_type": "stream",
     "text": [
      "Data split.  Total recs: (608, 283)\n",
      "Train recs: (426, 283)\n",
      "Remaining data recs: (182, 283)\n",
      "Validation recs: (91, 283)\n",
      "Remaining data recs: (91, 283)\n",
      "Test recs: (91, 283)\n"
     ]
    },
    {
     "name": "stderr",
     "output_type": "stream",
     "text": [
      "/Users/neilkloot/anaconda/lib/python3.6/site-packages/ta/trend.py:170: RuntimeWarning: divide by zero encountered in double_scalars\n",
      "  dip[i] = 100 * (dip_mio[i]/trs[i])\n",
      "/Users/neilkloot/anaconda/lib/python3.6/site-packages/ta/trend.py:170: RuntimeWarning: invalid value encountered in double_scalars\n",
      "  dip[i] = 100 * (dip_mio[i]/trs[i])\n",
      "/Users/neilkloot/anaconda/lib/python3.6/site-packages/ta/trend.py:174: RuntimeWarning: divide by zero encountered in double_scalars\n",
      "  din[i] = 100 * (din_mio[i]/trs[i])\n",
      "/Users/neilkloot/anaconda/lib/python3.6/site-packages/ta/trend.py:174: RuntimeWarning: invalid value encountered in double_scalars\n",
      "  din[i] = 100 * (din_mio[i]/trs[i])\n",
      "/Users/neilkloot/anaconda/lib/python3.6/site-packages/ta/trend.py:176: RuntimeWarning: invalid value encountered in subtract\n",
      "  dx = 100 * np.abs((dip - din) / (dip + din))\n"
     ]
    },
    {
     "name": "stdout",
     "output_type": "stream",
     "text": [
      "Data split.  Total recs: (237, 283)\n",
      "Train recs: (166, 283)\n",
      "Remaining data recs: (71, 283)\n",
      "Validation recs: (36, 283)\n",
      "Remaining data recs: (35, 283)\n",
      "Test recs: (35, 283)\n"
     ]
    },
    {
     "name": "stderr",
     "output_type": "stream",
     "text": [
      "/Users/neilkloot/anaconda/lib/python3.6/site-packages/ta/trend.py:170: RuntimeWarning: divide by zero encountered in double_scalars\n",
      "  dip[i] = 100 * (dip_mio[i]/trs[i])\n",
      "/Users/neilkloot/anaconda/lib/python3.6/site-packages/ta/trend.py:170: RuntimeWarning: invalid value encountered in double_scalars\n",
      "  dip[i] = 100 * (dip_mio[i]/trs[i])\n",
      "/Users/neilkloot/anaconda/lib/python3.6/site-packages/ta/trend.py:174: RuntimeWarning: divide by zero encountered in double_scalars\n",
      "  din[i] = 100 * (din_mio[i]/trs[i])\n",
      "/Users/neilkloot/anaconda/lib/python3.6/site-packages/ta/trend.py:174: RuntimeWarning: invalid value encountered in double_scalars\n",
      "  din[i] = 100 * (din_mio[i]/trs[i])\n",
      "/Users/neilkloot/anaconda/lib/python3.6/site-packages/ta/trend.py:176: RuntimeWarning: invalid value encountered in subtract\n",
      "  dx = 100 * np.abs((dip - din) / (dip + din))\n"
     ]
    },
    {
     "name": "stdout",
     "output_type": "stream",
     "text": [
      "Data split.  Total recs: (524, 283)\n",
      "Train recs: (367, 283)\n",
      "Remaining data recs: (157, 283)\n",
      "Validation recs: (78, 283)\n",
      "Remaining data recs: (79, 283)\n",
      "Test recs: (79, 283)\n"
     ]
    },
    {
     "name": "stderr",
     "output_type": "stream",
     "text": [
      "/Users/neilkloot/anaconda/lib/python3.6/site-packages/ta/trend.py:170: RuntimeWarning: divide by zero encountered in double_scalars\n",
      "  dip[i] = 100 * (dip_mio[i]/trs[i])\n",
      "/Users/neilkloot/anaconda/lib/python3.6/site-packages/ta/trend.py:170: RuntimeWarning: invalid value encountered in double_scalars\n",
      "  dip[i] = 100 * (dip_mio[i]/trs[i])\n",
      "/Users/neilkloot/anaconda/lib/python3.6/site-packages/ta/trend.py:174: RuntimeWarning: divide by zero encountered in double_scalars\n",
      "  din[i] = 100 * (din_mio[i]/trs[i])\n",
      "/Users/neilkloot/anaconda/lib/python3.6/site-packages/ta/trend.py:174: RuntimeWarning: invalid value encountered in double_scalars\n",
      "  din[i] = 100 * (din_mio[i]/trs[i])\n",
      "/Users/neilkloot/anaconda/lib/python3.6/site-packages/ta/trend.py:176: RuntimeWarning: invalid value encountered in subtract\n",
      "  dx = 100 * np.abs((dip - din) / (dip + din))\n"
     ]
    },
    {
     "name": "stdout",
     "output_type": "stream",
     "text": [
      "Data split.  Total recs: (101, 283)\n",
      "Train recs: (71, 283)\n",
      "Remaining data recs: (30, 283)\n",
      "Validation recs: (15, 283)\n",
      "Remaining data recs: (15, 283)\n",
      "Test recs: (15, 283)\n"
     ]
    },
    {
     "name": "stderr",
     "output_type": "stream",
     "text": [
      "/Users/neilkloot/anaconda/lib/python3.6/site-packages/ta/trend.py:170: RuntimeWarning: divide by zero encountered in double_scalars\n",
      "  dip[i] = 100 * (dip_mio[i]/trs[i])\n",
      "/Users/neilkloot/anaconda/lib/python3.6/site-packages/ta/trend.py:170: RuntimeWarning: invalid value encountered in double_scalars\n",
      "  dip[i] = 100 * (dip_mio[i]/trs[i])\n",
      "/Users/neilkloot/anaconda/lib/python3.6/site-packages/ta/trend.py:174: RuntimeWarning: divide by zero encountered in double_scalars\n",
      "  din[i] = 100 * (din_mio[i]/trs[i])\n",
      "/Users/neilkloot/anaconda/lib/python3.6/site-packages/ta/trend.py:174: RuntimeWarning: invalid value encountered in double_scalars\n",
      "  din[i] = 100 * (din_mio[i]/trs[i])\n",
      "/Users/neilkloot/anaconda/lib/python3.6/site-packages/ta/trend.py:176: RuntimeWarning: invalid value encountered in subtract\n",
      "  dx = 100 * np.abs((dip - din) / (dip + din))\n"
     ]
    },
    {
     "name": "stdout",
     "output_type": "stream",
     "text": [
      "Data split.  Total recs: (608, 283)\n",
      "Train recs: (426, 283)\n",
      "Remaining data recs: (182, 283)\n",
      "Validation recs: (91, 283)\n",
      "Remaining data recs: (91, 283)\n",
      "Test recs: (91, 283)\n"
     ]
    },
    {
     "name": "stderr",
     "output_type": "stream",
     "text": [
      "/Users/neilkloot/anaconda/lib/python3.6/site-packages/ta/trend.py:170: RuntimeWarning: divide by zero encountered in double_scalars\n",
      "  dip[i] = 100 * (dip_mio[i]/trs[i])\n",
      "/Users/neilkloot/anaconda/lib/python3.6/site-packages/ta/trend.py:170: RuntimeWarning: invalid value encountered in double_scalars\n",
      "  dip[i] = 100 * (dip_mio[i]/trs[i])\n",
      "/Users/neilkloot/anaconda/lib/python3.6/site-packages/ta/trend.py:174: RuntimeWarning: divide by zero encountered in double_scalars\n",
      "  din[i] = 100 * (din_mio[i]/trs[i])\n",
      "/Users/neilkloot/anaconda/lib/python3.6/site-packages/ta/trend.py:174: RuntimeWarning: invalid value encountered in double_scalars\n",
      "  din[i] = 100 * (din_mio[i]/trs[i])\n",
      "/Users/neilkloot/anaconda/lib/python3.6/site-packages/ta/trend.py:176: RuntimeWarning: invalid value encountered in subtract\n",
      "  dx = 100 * np.abs((dip - din) / (dip + din))\n"
     ]
    },
    {
     "name": "stdout",
     "output_type": "stream",
     "text": [
      "Data split.  Total recs: (199, 283)\n",
      "Train recs: (139, 283)\n",
      "Remaining data recs: (60, 283)\n",
      "Validation recs: (30, 283)\n",
      "Remaining data recs: (30, 283)\n",
      "Test recs: (30, 283)\n"
     ]
    },
    {
     "name": "stderr",
     "output_type": "stream",
     "text": [
      "/Users/neilkloot/anaconda/lib/python3.6/site-packages/ta/trend.py:170: RuntimeWarning: divide by zero encountered in double_scalars\n",
      "  dip[i] = 100 * (dip_mio[i]/trs[i])\n",
      "/Users/neilkloot/anaconda/lib/python3.6/site-packages/ta/trend.py:170: RuntimeWarning: invalid value encountered in double_scalars\n",
      "  dip[i] = 100 * (dip_mio[i]/trs[i])\n",
      "/Users/neilkloot/anaconda/lib/python3.6/site-packages/ta/trend.py:174: RuntimeWarning: divide by zero encountered in double_scalars\n",
      "  din[i] = 100 * (din_mio[i]/trs[i])\n",
      "/Users/neilkloot/anaconda/lib/python3.6/site-packages/ta/trend.py:174: RuntimeWarning: invalid value encountered in double_scalars\n",
      "  din[i] = 100 * (din_mio[i]/trs[i])\n",
      "/Users/neilkloot/anaconda/lib/python3.6/site-packages/ta/trend.py:176: RuntimeWarning: invalid value encountered in subtract\n",
      "  dx = 100 * np.abs((dip - din) / (dip + din))\n"
     ]
    },
    {
     "name": "stdout",
     "output_type": "stream",
     "text": [
      "Data split.  Total recs: (608, 283)\n",
      "Train recs: (426, 283)\n",
      "Remaining data recs: (182, 283)\n",
      "Validation recs: (91, 283)\n",
      "Remaining data recs: (91, 283)\n",
      "Test recs: (91, 283)\n"
     ]
    },
    {
     "name": "stderr",
     "output_type": "stream",
     "text": [
      "/Users/neilkloot/anaconda/lib/python3.6/site-packages/ta/trend.py:170: RuntimeWarning: divide by zero encountered in double_scalars\n",
      "  dip[i] = 100 * (dip_mio[i]/trs[i])\n",
      "/Users/neilkloot/anaconda/lib/python3.6/site-packages/ta/trend.py:170: RuntimeWarning: invalid value encountered in double_scalars\n",
      "  dip[i] = 100 * (dip_mio[i]/trs[i])\n",
      "/Users/neilkloot/anaconda/lib/python3.6/site-packages/ta/trend.py:174: RuntimeWarning: divide by zero encountered in double_scalars\n",
      "  din[i] = 100 * (din_mio[i]/trs[i])\n",
      "/Users/neilkloot/anaconda/lib/python3.6/site-packages/ta/trend.py:174: RuntimeWarning: invalid value encountered in double_scalars\n",
      "  din[i] = 100 * (din_mio[i]/trs[i])\n",
      "/Users/neilkloot/anaconda/lib/python3.6/site-packages/ta/trend.py:176: RuntimeWarning: invalid value encountered in subtract\n",
      "  dx = 100 * np.abs((dip - din) / (dip + din))\n"
     ]
    },
    {
     "name": "stdout",
     "output_type": "stream",
     "text": [
      "Data split.  Total recs: (482, 283)\n",
      "Train recs: (337, 283)\n",
      "Remaining data recs: (145, 283)\n",
      "Validation recs: (72, 283)\n",
      "Remaining data recs: (73, 283)\n",
      "Test recs: (73, 283)\n"
     ]
    },
    {
     "name": "stderr",
     "output_type": "stream",
     "text": [
      "/Users/neilkloot/anaconda/lib/python3.6/site-packages/ta/trend.py:170: RuntimeWarning: divide by zero encountered in double_scalars\n",
      "  dip[i] = 100 * (dip_mio[i]/trs[i])\n",
      "/Users/neilkloot/anaconda/lib/python3.6/site-packages/ta/trend.py:170: RuntimeWarning: invalid value encountered in double_scalars\n",
      "  dip[i] = 100 * (dip_mio[i]/trs[i])\n",
      "/Users/neilkloot/anaconda/lib/python3.6/site-packages/ta/trend.py:174: RuntimeWarning: divide by zero encountered in double_scalars\n",
      "  din[i] = 100 * (din_mio[i]/trs[i])\n",
      "/Users/neilkloot/anaconda/lib/python3.6/site-packages/ta/trend.py:174: RuntimeWarning: invalid value encountered in double_scalars\n",
      "  din[i] = 100 * (din_mio[i]/trs[i])\n",
      "/Users/neilkloot/anaconda/lib/python3.6/site-packages/ta/trend.py:176: RuntimeWarning: invalid value encountered in subtract\n",
      "  dx = 100 * np.abs((dip - din) / (dip + din))\n"
     ]
    },
    {
     "name": "stdout",
     "output_type": "stream",
     "text": [
      "Data split.  Total recs: (395, 283)\n",
      "Train recs: (276, 283)\n",
      "Remaining data recs: (119, 283)\n",
      "Validation recs: (60, 283)\n",
      "Remaining data recs: (59, 283)\n",
      "Test recs: (59, 283)\n"
     ]
    },
    {
     "name": "stderr",
     "output_type": "stream",
     "text": [
      "/Users/neilkloot/anaconda/lib/python3.6/site-packages/ta/trend.py:170: RuntimeWarning: divide by zero encountered in double_scalars\n",
      "  dip[i] = 100 * (dip_mio[i]/trs[i])\n",
      "/Users/neilkloot/anaconda/lib/python3.6/site-packages/ta/trend.py:170: RuntimeWarning: invalid value encountered in double_scalars\n",
      "  dip[i] = 100 * (dip_mio[i]/trs[i])\n",
      "/Users/neilkloot/anaconda/lib/python3.6/site-packages/ta/trend.py:174: RuntimeWarning: divide by zero encountered in double_scalars\n",
      "  din[i] = 100 * (din_mio[i]/trs[i])\n",
      "/Users/neilkloot/anaconda/lib/python3.6/site-packages/ta/trend.py:174: RuntimeWarning: invalid value encountered in double_scalars\n",
      "  din[i] = 100 * (din_mio[i]/trs[i])\n",
      "/Users/neilkloot/anaconda/lib/python3.6/site-packages/ta/trend.py:176: RuntimeWarning: invalid value encountered in subtract\n",
      "  dx = 100 * np.abs((dip - din) / (dip + din))\n"
     ]
    },
    {
     "name": "stdout",
     "output_type": "stream",
     "text": [
      "Data split.  Total recs: (572, 283)\n",
      "Train recs: (400, 283)\n",
      "Remaining data recs: (172, 283)\n",
      "Validation recs: (86, 283)\n",
      "Remaining data recs: (86, 283)\n",
      "Test recs: (86, 283)\n"
     ]
    },
    {
     "name": "stderr",
     "output_type": "stream",
     "text": [
      "/Users/neilkloot/anaconda/lib/python3.6/site-packages/ta/trend.py:170: RuntimeWarning: divide by zero encountered in double_scalars\n",
      "  dip[i] = 100 * (dip_mio[i]/trs[i])\n",
      "/Users/neilkloot/anaconda/lib/python3.6/site-packages/ta/trend.py:170: RuntimeWarning: invalid value encountered in double_scalars\n",
      "  dip[i] = 100 * (dip_mio[i]/trs[i])\n",
      "/Users/neilkloot/anaconda/lib/python3.6/site-packages/ta/trend.py:174: RuntimeWarning: divide by zero encountered in double_scalars\n",
      "  din[i] = 100 * (din_mio[i]/trs[i])\n",
      "/Users/neilkloot/anaconda/lib/python3.6/site-packages/ta/trend.py:174: RuntimeWarning: invalid value encountered in double_scalars\n",
      "  din[i] = 100 * (din_mio[i]/trs[i])\n",
      "/Users/neilkloot/anaconda/lib/python3.6/site-packages/ta/trend.py:176: RuntimeWarning: invalid value encountered in subtract\n",
      "  dx = 100 * np.abs((dip - din) / (dip + din))\n"
     ]
    },
    {
     "name": "stdout",
     "output_type": "stream",
     "text": [
      "Data split.  Total recs: (607, 283)\n",
      "Train recs: (425, 283)\n",
      "Remaining data recs: (182, 283)\n",
      "Validation recs: (91, 283)\n",
      "Remaining data recs: (91, 283)\n",
      "Test recs: (91, 283)\n"
     ]
    },
    {
     "name": "stderr",
     "output_type": "stream",
     "text": [
      "/Users/neilkloot/anaconda/lib/python3.6/site-packages/ta/trend.py:170: RuntimeWarning: divide by zero encountered in double_scalars\n",
      "  dip[i] = 100 * (dip_mio[i]/trs[i])\n",
      "/Users/neilkloot/anaconda/lib/python3.6/site-packages/ta/trend.py:170: RuntimeWarning: invalid value encountered in double_scalars\n",
      "  dip[i] = 100 * (dip_mio[i]/trs[i])\n",
      "/Users/neilkloot/anaconda/lib/python3.6/site-packages/ta/trend.py:174: RuntimeWarning: divide by zero encountered in double_scalars\n",
      "  din[i] = 100 * (din_mio[i]/trs[i])\n",
      "/Users/neilkloot/anaconda/lib/python3.6/site-packages/ta/trend.py:174: RuntimeWarning: invalid value encountered in double_scalars\n",
      "  din[i] = 100 * (din_mio[i]/trs[i])\n",
      "/Users/neilkloot/anaconda/lib/python3.6/site-packages/ta/trend.py:176: RuntimeWarning: invalid value encountered in subtract\n",
      "  dx = 100 * np.abs((dip - din) / (dip + din))\n"
     ]
    },
    {
     "name": "stdout",
     "output_type": "stream",
     "text": [
      "Data split.  Total recs: (608, 283)\n",
      "Train recs: (426, 283)\n",
      "Remaining data recs: (182, 283)\n",
      "Validation recs: (91, 283)\n",
      "Remaining data recs: (91, 283)\n",
      "Test recs: (91, 283)\n"
     ]
    },
    {
     "name": "stderr",
     "output_type": "stream",
     "text": [
      "/Users/neilkloot/anaconda/lib/python3.6/site-packages/ta/trend.py:170: RuntimeWarning: divide by zero encountered in double_scalars\n",
      "  dip[i] = 100 * (dip_mio[i]/trs[i])\n",
      "/Users/neilkloot/anaconda/lib/python3.6/site-packages/ta/trend.py:170: RuntimeWarning: invalid value encountered in double_scalars\n",
      "  dip[i] = 100 * (dip_mio[i]/trs[i])\n",
      "/Users/neilkloot/anaconda/lib/python3.6/site-packages/ta/trend.py:174: RuntimeWarning: divide by zero encountered in double_scalars\n",
      "  din[i] = 100 * (din_mio[i]/trs[i])\n",
      "/Users/neilkloot/anaconda/lib/python3.6/site-packages/ta/trend.py:174: RuntimeWarning: invalid value encountered in double_scalars\n",
      "  din[i] = 100 * (din_mio[i]/trs[i])\n",
      "/Users/neilkloot/anaconda/lib/python3.6/site-packages/ta/trend.py:176: RuntimeWarning: invalid value encountered in subtract\n",
      "  dx = 100 * np.abs((dip - din) / (dip + din))\n"
     ]
    },
    {
     "name": "stdout",
     "output_type": "stream",
     "text": [
      "Data split.  Total recs: (608, 283)\n",
      "Train recs: (426, 283)\n",
      "Remaining data recs: (182, 283)\n",
      "Validation recs: (91, 283)\n",
      "Remaining data recs: (91, 283)\n",
      "Test recs: (91, 283)\n"
     ]
    },
    {
     "name": "stderr",
     "output_type": "stream",
     "text": [
      "/Users/neilkloot/anaconda/lib/python3.6/site-packages/ta/trend.py:170: RuntimeWarning: divide by zero encountered in double_scalars\n",
      "  dip[i] = 100 * (dip_mio[i]/trs[i])\n",
      "/Users/neilkloot/anaconda/lib/python3.6/site-packages/ta/trend.py:170: RuntimeWarning: invalid value encountered in double_scalars\n",
      "  dip[i] = 100 * (dip_mio[i]/trs[i])\n",
      "/Users/neilkloot/anaconda/lib/python3.6/site-packages/ta/trend.py:174: RuntimeWarning: divide by zero encountered in double_scalars\n",
      "  din[i] = 100 * (din_mio[i]/trs[i])\n",
      "/Users/neilkloot/anaconda/lib/python3.6/site-packages/ta/trend.py:174: RuntimeWarning: invalid value encountered in double_scalars\n",
      "  din[i] = 100 * (din_mio[i]/trs[i])\n",
      "/Users/neilkloot/anaconda/lib/python3.6/site-packages/ta/trend.py:176: RuntimeWarning: invalid value encountered in subtract\n",
      "  dx = 100 * np.abs((dip - din) / (dip + din))\n"
     ]
    },
    {
     "name": "stdout",
     "output_type": "stream",
     "text": [
      "Data split.  Total recs: (581, 283)\n",
      "Train recs: (407, 283)\n",
      "Remaining data recs: (174, 283)\n",
      "Validation recs: (87, 283)\n",
      "Remaining data recs: (87, 283)\n",
      "Test recs: (87, 283)\n"
     ]
    },
    {
     "name": "stderr",
     "output_type": "stream",
     "text": [
      "/Users/neilkloot/anaconda/lib/python3.6/site-packages/ta/trend.py:170: RuntimeWarning: divide by zero encountered in double_scalars\n",
      "  dip[i] = 100 * (dip_mio[i]/trs[i])\n",
      "/Users/neilkloot/anaconda/lib/python3.6/site-packages/ta/trend.py:170: RuntimeWarning: invalid value encountered in double_scalars\n",
      "  dip[i] = 100 * (dip_mio[i]/trs[i])\n",
      "/Users/neilkloot/anaconda/lib/python3.6/site-packages/ta/trend.py:174: RuntimeWarning: divide by zero encountered in double_scalars\n",
      "  din[i] = 100 * (din_mio[i]/trs[i])\n",
      "/Users/neilkloot/anaconda/lib/python3.6/site-packages/ta/trend.py:174: RuntimeWarning: invalid value encountered in double_scalars\n",
      "  din[i] = 100 * (din_mio[i]/trs[i])\n",
      "/Users/neilkloot/anaconda/lib/python3.6/site-packages/ta/trend.py:176: RuntimeWarning: invalid value encountered in subtract\n",
      "  dx = 100 * np.abs((dip - din) / (dip + din))\n"
     ]
    },
    {
     "name": "stdout",
     "output_type": "stream",
     "text": [
      "Data split.  Total recs: (561, 283)\n",
      "Train recs: (393, 283)\n",
      "Remaining data recs: (168, 283)\n",
      "Validation recs: (84, 283)\n",
      "Remaining data recs: (84, 283)\n",
      "Test recs: (84, 283)\n"
     ]
    },
    {
     "name": "stderr",
     "output_type": "stream",
     "text": [
      "/Users/neilkloot/anaconda/lib/python3.6/site-packages/ta/trend.py:170: RuntimeWarning: divide by zero encountered in double_scalars\n",
      "  dip[i] = 100 * (dip_mio[i]/trs[i])\n",
      "/Users/neilkloot/anaconda/lib/python3.6/site-packages/ta/trend.py:170: RuntimeWarning: invalid value encountered in double_scalars\n",
      "  dip[i] = 100 * (dip_mio[i]/trs[i])\n",
      "/Users/neilkloot/anaconda/lib/python3.6/site-packages/ta/trend.py:174: RuntimeWarning: divide by zero encountered in double_scalars\n",
      "  din[i] = 100 * (din_mio[i]/trs[i])\n",
      "/Users/neilkloot/anaconda/lib/python3.6/site-packages/ta/trend.py:174: RuntimeWarning: invalid value encountered in double_scalars\n",
      "  din[i] = 100 * (din_mio[i]/trs[i])\n",
      "/Users/neilkloot/anaconda/lib/python3.6/site-packages/ta/trend.py:176: RuntimeWarning: invalid value encountered in subtract\n",
      "  dx = 100 * np.abs((dip - din) / (dip + din))\n"
     ]
    },
    {
     "name": "stdout",
     "output_type": "stream",
     "text": [
      "Data split.  Total recs: (323, 283)\n",
      "Train recs: (226, 283)\n",
      "Remaining data recs: (97, 283)\n",
      "Validation recs: (48, 283)\n",
      "Remaining data recs: (49, 283)\n",
      "Test recs: (49, 283)\n"
     ]
    },
    {
     "name": "stderr",
     "output_type": "stream",
     "text": [
      "/Users/neilkloot/anaconda/lib/python3.6/site-packages/ta/trend.py:170: RuntimeWarning: divide by zero encountered in double_scalars\n",
      "  dip[i] = 100 * (dip_mio[i]/trs[i])\n",
      "/Users/neilkloot/anaconda/lib/python3.6/site-packages/ta/trend.py:170: RuntimeWarning: invalid value encountered in double_scalars\n",
      "  dip[i] = 100 * (dip_mio[i]/trs[i])\n",
      "/Users/neilkloot/anaconda/lib/python3.6/site-packages/ta/trend.py:174: RuntimeWarning: divide by zero encountered in double_scalars\n",
      "  din[i] = 100 * (din_mio[i]/trs[i])\n",
      "/Users/neilkloot/anaconda/lib/python3.6/site-packages/ta/trend.py:174: RuntimeWarning: invalid value encountered in double_scalars\n",
      "  din[i] = 100 * (din_mio[i]/trs[i])\n",
      "/Users/neilkloot/anaconda/lib/python3.6/site-packages/ta/trend.py:176: RuntimeWarning: invalid value encountered in subtract\n",
      "  dx = 100 * np.abs((dip - din) / (dip + din))\n"
     ]
    },
    {
     "name": "stdout",
     "output_type": "stream",
     "text": [
      "Data split.  Total recs: (356, 283)\n",
      "Train recs: (249, 283)\n",
      "Remaining data recs: (107, 283)\n",
      "Validation recs: (54, 283)\n",
      "Remaining data recs: (53, 283)\n",
      "Test recs: (53, 283)\n"
     ]
    },
    {
     "name": "stderr",
     "output_type": "stream",
     "text": [
      "/Users/neilkloot/anaconda/lib/python3.6/site-packages/ta/trend.py:170: RuntimeWarning: divide by zero encountered in double_scalars\n",
      "  dip[i] = 100 * (dip_mio[i]/trs[i])\n",
      "/Users/neilkloot/anaconda/lib/python3.6/site-packages/ta/trend.py:170: RuntimeWarning: invalid value encountered in double_scalars\n",
      "  dip[i] = 100 * (dip_mio[i]/trs[i])\n",
      "/Users/neilkloot/anaconda/lib/python3.6/site-packages/ta/trend.py:174: RuntimeWarning: divide by zero encountered in double_scalars\n",
      "  din[i] = 100 * (din_mio[i]/trs[i])\n",
      "/Users/neilkloot/anaconda/lib/python3.6/site-packages/ta/trend.py:174: RuntimeWarning: invalid value encountered in double_scalars\n",
      "  din[i] = 100 * (din_mio[i]/trs[i])\n",
      "/Users/neilkloot/anaconda/lib/python3.6/site-packages/ta/trend.py:176: RuntimeWarning: invalid value encountered in subtract\n",
      "  dx = 100 * np.abs((dip - din) / (dip + din))\n"
     ]
    },
    {
     "name": "stdout",
     "output_type": "stream",
     "text": [
      "Data split.  Total recs: (252, 283)\n",
      "Train recs: (176, 283)\n",
      "Remaining data recs: (76, 283)\n",
      "Validation recs: (38, 283)\n",
      "Remaining data recs: (38, 283)\n",
      "Test recs: (38, 283)\n"
     ]
    },
    {
     "name": "stderr",
     "output_type": "stream",
     "text": [
      "/Users/neilkloot/anaconda/lib/python3.6/site-packages/ta/trend.py:170: RuntimeWarning: divide by zero encountered in double_scalars\n",
      "  dip[i] = 100 * (dip_mio[i]/trs[i])\n",
      "/Users/neilkloot/anaconda/lib/python3.6/site-packages/ta/trend.py:170: RuntimeWarning: invalid value encountered in double_scalars\n",
      "  dip[i] = 100 * (dip_mio[i]/trs[i])\n",
      "/Users/neilkloot/anaconda/lib/python3.6/site-packages/ta/trend.py:174: RuntimeWarning: divide by zero encountered in double_scalars\n",
      "  din[i] = 100 * (din_mio[i]/trs[i])\n",
      "/Users/neilkloot/anaconda/lib/python3.6/site-packages/ta/trend.py:174: RuntimeWarning: invalid value encountered in double_scalars\n",
      "  din[i] = 100 * (din_mio[i]/trs[i])\n",
      "/Users/neilkloot/anaconda/lib/python3.6/site-packages/ta/trend.py:176: RuntimeWarning: invalid value encountered in subtract\n",
      "  dx = 100 * np.abs((dip - din) / (dip + din))\n"
     ]
    },
    {
     "name": "stdout",
     "output_type": "stream",
     "text": [
      "Data split.  Total recs: (131, 283)\n",
      "Train recs: (92, 283)\n",
      "Remaining data recs: (39, 283)\n",
      "Validation recs: (20, 283)\n",
      "Remaining data recs: (19, 283)\n",
      "Test recs: (19, 283)\n"
     ]
    },
    {
     "name": "stderr",
     "output_type": "stream",
     "text": [
      "/Users/neilkloot/anaconda/lib/python3.6/site-packages/ta/trend.py:170: RuntimeWarning: divide by zero encountered in double_scalars\n",
      "  dip[i] = 100 * (dip_mio[i]/trs[i])\n",
      "/Users/neilkloot/anaconda/lib/python3.6/site-packages/ta/trend.py:170: RuntimeWarning: invalid value encountered in double_scalars\n",
      "  dip[i] = 100 * (dip_mio[i]/trs[i])\n",
      "/Users/neilkloot/anaconda/lib/python3.6/site-packages/ta/trend.py:174: RuntimeWarning: divide by zero encountered in double_scalars\n",
      "  din[i] = 100 * (din_mio[i]/trs[i])\n",
      "/Users/neilkloot/anaconda/lib/python3.6/site-packages/ta/trend.py:174: RuntimeWarning: invalid value encountered in double_scalars\n",
      "  din[i] = 100 * (din_mio[i]/trs[i])\n",
      "/Users/neilkloot/anaconda/lib/python3.6/site-packages/ta/trend.py:176: RuntimeWarning: invalid value encountered in subtract\n",
      "  dx = 100 * np.abs((dip - din) / (dip + din))\n"
     ]
    },
    {
     "name": "stdout",
     "output_type": "stream",
     "text": [
      "Data split.  Total recs: (606, 283)\n",
      "Train recs: (424, 283)\n",
      "Remaining data recs: (182, 283)\n",
      "Validation recs: (91, 283)\n",
      "Remaining data recs: (91, 283)\n",
      "Test recs: (91, 283)\n"
     ]
    },
    {
     "name": "stderr",
     "output_type": "stream",
     "text": [
      "/Users/neilkloot/anaconda/lib/python3.6/site-packages/ta/trend.py:170: RuntimeWarning: divide by zero encountered in double_scalars\n",
      "  dip[i] = 100 * (dip_mio[i]/trs[i])\n",
      "/Users/neilkloot/anaconda/lib/python3.6/site-packages/ta/trend.py:170: RuntimeWarning: invalid value encountered in double_scalars\n",
      "  dip[i] = 100 * (dip_mio[i]/trs[i])\n",
      "/Users/neilkloot/anaconda/lib/python3.6/site-packages/ta/trend.py:174: RuntimeWarning: divide by zero encountered in double_scalars\n",
      "  din[i] = 100 * (din_mio[i]/trs[i])\n",
      "/Users/neilkloot/anaconda/lib/python3.6/site-packages/ta/trend.py:174: RuntimeWarning: invalid value encountered in double_scalars\n",
      "  din[i] = 100 * (din_mio[i]/trs[i])\n",
      "/Users/neilkloot/anaconda/lib/python3.6/site-packages/ta/trend.py:176: RuntimeWarning: invalid value encountered in subtract\n",
      "  dx = 100 * np.abs((dip - din) / (dip + din))\n"
     ]
    },
    {
     "name": "stdout",
     "output_type": "stream",
     "text": [
      "Data split.  Total recs: (552, 283)\n",
      "Train recs: (386, 283)\n",
      "Remaining data recs: (166, 283)\n",
      "Validation recs: (83, 283)\n",
      "Remaining data recs: (83, 283)\n",
      "Test recs: (83, 283)\n"
     ]
    },
    {
     "name": "stderr",
     "output_type": "stream",
     "text": [
      "/Users/neilkloot/anaconda/lib/python3.6/site-packages/ta/trend.py:170: RuntimeWarning: divide by zero encountered in double_scalars\n",
      "  dip[i] = 100 * (dip_mio[i]/trs[i])\n",
      "/Users/neilkloot/anaconda/lib/python3.6/site-packages/ta/trend.py:170: RuntimeWarning: invalid value encountered in double_scalars\n",
      "  dip[i] = 100 * (dip_mio[i]/trs[i])\n",
      "/Users/neilkloot/anaconda/lib/python3.6/site-packages/ta/trend.py:174: RuntimeWarning: divide by zero encountered in double_scalars\n",
      "  din[i] = 100 * (din_mio[i]/trs[i])\n",
      "/Users/neilkloot/anaconda/lib/python3.6/site-packages/ta/trend.py:174: RuntimeWarning: invalid value encountered in double_scalars\n",
      "  din[i] = 100 * (din_mio[i]/trs[i])\n",
      "/Users/neilkloot/anaconda/lib/python3.6/site-packages/ta/trend.py:176: RuntimeWarning: invalid value encountered in subtract\n",
      "  dx = 100 * np.abs((dip - din) / (dip + din))\n"
     ]
    },
    {
     "name": "stdout",
     "output_type": "stream",
     "text": [
      "Data split.  Total recs: (607, 283)\n",
      "Train recs: (425, 283)\n",
      "Remaining data recs: (182, 283)\n",
      "Validation recs: (91, 283)\n",
      "Remaining data recs: (91, 283)\n",
      "Test recs: (91, 283)\n"
     ]
    },
    {
     "name": "stderr",
     "output_type": "stream",
     "text": [
      "/Users/neilkloot/anaconda/lib/python3.6/site-packages/ta/trend.py:170: RuntimeWarning: divide by zero encountered in double_scalars\n",
      "  dip[i] = 100 * (dip_mio[i]/trs[i])\n",
      "/Users/neilkloot/anaconda/lib/python3.6/site-packages/ta/trend.py:170: RuntimeWarning: invalid value encountered in double_scalars\n",
      "  dip[i] = 100 * (dip_mio[i]/trs[i])\n",
      "/Users/neilkloot/anaconda/lib/python3.6/site-packages/ta/trend.py:174: RuntimeWarning: divide by zero encountered in double_scalars\n",
      "  din[i] = 100 * (din_mio[i]/trs[i])\n",
      "/Users/neilkloot/anaconda/lib/python3.6/site-packages/ta/trend.py:174: RuntimeWarning: invalid value encountered in double_scalars\n",
      "  din[i] = 100 * (din_mio[i]/trs[i])\n",
      "/Users/neilkloot/anaconda/lib/python3.6/site-packages/ta/trend.py:176: RuntimeWarning: invalid value encountered in subtract\n",
      "  dx = 100 * np.abs((dip - din) / (dip + din))\n"
     ]
    },
    {
     "name": "stdout",
     "output_type": "stream",
     "text": [
      "Data split.  Total recs: (416, 283)\n",
      "Train recs: (291, 283)\n",
      "Remaining data recs: (125, 283)\n",
      "Validation recs: (62, 283)\n",
      "Remaining data recs: (63, 283)\n",
      "Test recs: (63, 283)\n"
     ]
    },
    {
     "name": "stderr",
     "output_type": "stream",
     "text": [
      "/Users/neilkloot/anaconda/lib/python3.6/site-packages/ta/trend.py:170: RuntimeWarning: divide by zero encountered in double_scalars\n",
      "  dip[i] = 100 * (dip_mio[i]/trs[i])\n",
      "/Users/neilkloot/anaconda/lib/python3.6/site-packages/ta/trend.py:170: RuntimeWarning: invalid value encountered in double_scalars\n",
      "  dip[i] = 100 * (dip_mio[i]/trs[i])\n",
      "/Users/neilkloot/anaconda/lib/python3.6/site-packages/ta/trend.py:174: RuntimeWarning: divide by zero encountered in double_scalars\n",
      "  din[i] = 100 * (din_mio[i]/trs[i])\n",
      "/Users/neilkloot/anaconda/lib/python3.6/site-packages/ta/trend.py:174: RuntimeWarning: invalid value encountered in double_scalars\n",
      "  din[i] = 100 * (din_mio[i]/trs[i])\n",
      "/Users/neilkloot/anaconda/lib/python3.6/site-packages/ta/trend.py:176: RuntimeWarning: invalid value encountered in subtract\n",
      "  dx = 100 * np.abs((dip - din) / (dip + din))\n"
     ]
    },
    {
     "name": "stdout",
     "output_type": "stream",
     "text": [
      "Data split.  Total recs: (465, 283)\n",
      "Train recs: (326, 283)\n",
      "Remaining data recs: (139, 283)\n",
      "Validation recs: (70, 283)\n",
      "Remaining data recs: (69, 283)\n",
      "Test recs: (69, 283)\n"
     ]
    },
    {
     "name": "stderr",
     "output_type": "stream",
     "text": [
      "/Users/neilkloot/anaconda/lib/python3.6/site-packages/ta/trend.py:170: RuntimeWarning: divide by zero encountered in double_scalars\n",
      "  dip[i] = 100 * (dip_mio[i]/trs[i])\n",
      "/Users/neilkloot/anaconda/lib/python3.6/site-packages/ta/trend.py:170: RuntimeWarning: invalid value encountered in double_scalars\n",
      "  dip[i] = 100 * (dip_mio[i]/trs[i])\n",
      "/Users/neilkloot/anaconda/lib/python3.6/site-packages/ta/trend.py:174: RuntimeWarning: divide by zero encountered in double_scalars\n",
      "  din[i] = 100 * (din_mio[i]/trs[i])\n",
      "/Users/neilkloot/anaconda/lib/python3.6/site-packages/ta/trend.py:174: RuntimeWarning: invalid value encountered in double_scalars\n",
      "  din[i] = 100 * (din_mio[i]/trs[i])\n",
      "/Users/neilkloot/anaconda/lib/python3.6/site-packages/ta/trend.py:176: RuntimeWarning: invalid value encountered in subtract\n",
      "  dx = 100 * np.abs((dip - din) / (dip + din))\n"
     ]
    },
    {
     "name": "stdout",
     "output_type": "stream",
     "text": [
      "Data split.  Total recs: (608, 283)\n",
      "Train recs: (426, 283)\n",
      "Remaining data recs: (182, 283)\n",
      "Validation recs: (91, 283)\n",
      "Remaining data recs: (91, 283)\n",
      "Test recs: (91, 283)\n"
     ]
    },
    {
     "name": "stderr",
     "output_type": "stream",
     "text": [
      "/Users/neilkloot/anaconda/lib/python3.6/site-packages/ta/trend.py:170: RuntimeWarning: divide by zero encountered in double_scalars\n",
      "  dip[i] = 100 * (dip_mio[i]/trs[i])\n",
      "/Users/neilkloot/anaconda/lib/python3.6/site-packages/ta/trend.py:170: RuntimeWarning: invalid value encountered in double_scalars\n",
      "  dip[i] = 100 * (dip_mio[i]/trs[i])\n",
      "/Users/neilkloot/anaconda/lib/python3.6/site-packages/ta/trend.py:174: RuntimeWarning: divide by zero encountered in double_scalars\n",
      "  din[i] = 100 * (din_mio[i]/trs[i])\n",
      "/Users/neilkloot/anaconda/lib/python3.6/site-packages/ta/trend.py:174: RuntimeWarning: invalid value encountered in double_scalars\n",
      "  din[i] = 100 * (din_mio[i]/trs[i])\n",
      "/Users/neilkloot/anaconda/lib/python3.6/site-packages/ta/trend.py:176: RuntimeWarning: invalid value encountered in subtract\n",
      "  dx = 100 * np.abs((dip - din) / (dip + din))\n"
     ]
    },
    {
     "name": "stdout",
     "output_type": "stream",
     "text": [
      "Data split.  Total recs: (369, 283)\n",
      "Train recs: (258, 283)\n",
      "Remaining data recs: (111, 283)\n",
      "Validation recs: (56, 283)\n",
      "Remaining data recs: (55, 283)\n",
      "Test recs: (55, 283)\n"
     ]
    },
    {
     "name": "stderr",
     "output_type": "stream",
     "text": [
      "/Users/neilkloot/anaconda/lib/python3.6/site-packages/ta/trend.py:170: RuntimeWarning: divide by zero encountered in double_scalars\n",
      "  dip[i] = 100 * (dip_mio[i]/trs[i])\n",
      "/Users/neilkloot/anaconda/lib/python3.6/site-packages/ta/trend.py:170: RuntimeWarning: invalid value encountered in double_scalars\n",
      "  dip[i] = 100 * (dip_mio[i]/trs[i])\n",
      "/Users/neilkloot/anaconda/lib/python3.6/site-packages/ta/trend.py:174: RuntimeWarning: divide by zero encountered in double_scalars\n",
      "  din[i] = 100 * (din_mio[i]/trs[i])\n",
      "/Users/neilkloot/anaconda/lib/python3.6/site-packages/ta/trend.py:174: RuntimeWarning: invalid value encountered in double_scalars\n",
      "  din[i] = 100 * (din_mio[i]/trs[i])\n",
      "/Users/neilkloot/anaconda/lib/python3.6/site-packages/ta/trend.py:176: RuntimeWarning: invalid value encountered in subtract\n",
      "  dx = 100 * np.abs((dip - din) / (dip + din))\n"
     ]
    },
    {
     "name": "stdout",
     "output_type": "stream",
     "text": [
      "Data split.  Total recs: (376, 283)\n",
      "Train recs: (263, 283)\n",
      "Remaining data recs: (113, 283)\n",
      "Validation recs: (56, 283)\n",
      "Remaining data recs: (57, 283)\n",
      "Test recs: (57, 283)\n"
     ]
    },
    {
     "name": "stderr",
     "output_type": "stream",
     "text": [
      "/Users/neilkloot/anaconda/lib/python3.6/site-packages/ta/trend.py:170: RuntimeWarning: divide by zero encountered in double_scalars\n",
      "  dip[i] = 100 * (dip_mio[i]/trs[i])\n",
      "/Users/neilkloot/anaconda/lib/python3.6/site-packages/ta/trend.py:170: RuntimeWarning: invalid value encountered in double_scalars\n",
      "  dip[i] = 100 * (dip_mio[i]/trs[i])\n",
      "/Users/neilkloot/anaconda/lib/python3.6/site-packages/ta/trend.py:174: RuntimeWarning: divide by zero encountered in double_scalars\n",
      "  din[i] = 100 * (din_mio[i]/trs[i])\n",
      "/Users/neilkloot/anaconda/lib/python3.6/site-packages/ta/trend.py:174: RuntimeWarning: invalid value encountered in double_scalars\n",
      "  din[i] = 100 * (din_mio[i]/trs[i])\n",
      "/Users/neilkloot/anaconda/lib/python3.6/site-packages/ta/trend.py:176: RuntimeWarning: invalid value encountered in subtract\n",
      "  dx = 100 * np.abs((dip - din) / (dip + din))\n"
     ]
    },
    {
     "name": "stdout",
     "output_type": "stream",
     "text": [
      "Data split.  Total recs: (608, 283)\n",
      "Train recs: (426, 283)\n",
      "Remaining data recs: (182, 283)\n",
      "Validation recs: (91, 283)\n",
      "Remaining data recs: (91, 283)\n",
      "Test recs: (91, 283)\n"
     ]
    },
    {
     "name": "stderr",
     "output_type": "stream",
     "text": [
      "/Users/neilkloot/anaconda/lib/python3.6/site-packages/ta/trend.py:170: RuntimeWarning: divide by zero encountered in double_scalars\n",
      "  dip[i] = 100 * (dip_mio[i]/trs[i])\n",
      "/Users/neilkloot/anaconda/lib/python3.6/site-packages/ta/trend.py:170: RuntimeWarning: invalid value encountered in double_scalars\n",
      "  dip[i] = 100 * (dip_mio[i]/trs[i])\n",
      "/Users/neilkloot/anaconda/lib/python3.6/site-packages/ta/trend.py:174: RuntimeWarning: divide by zero encountered in double_scalars\n",
      "  din[i] = 100 * (din_mio[i]/trs[i])\n",
      "/Users/neilkloot/anaconda/lib/python3.6/site-packages/ta/trend.py:174: RuntimeWarning: invalid value encountered in double_scalars\n",
      "  din[i] = 100 * (din_mio[i]/trs[i])\n",
      "/Users/neilkloot/anaconda/lib/python3.6/site-packages/ta/trend.py:176: RuntimeWarning: invalid value encountered in subtract\n",
      "  dx = 100 * np.abs((dip - din) / (dip + din))\n"
     ]
    },
    {
     "name": "stdout",
     "output_type": "stream",
     "text": [
      "Data split.  Total recs: (490, 283)\n",
      "Train recs: (343, 283)\n",
      "Remaining data recs: (147, 283)\n",
      "Validation recs: (74, 283)\n",
      "Remaining data recs: (73, 283)\n",
      "Test recs: (73, 283)\n"
     ]
    },
    {
     "name": "stderr",
     "output_type": "stream",
     "text": [
      "/Users/neilkloot/anaconda/lib/python3.6/site-packages/ta/trend.py:170: RuntimeWarning: divide by zero encountered in double_scalars\n",
      "  dip[i] = 100 * (dip_mio[i]/trs[i])\n",
      "/Users/neilkloot/anaconda/lib/python3.6/site-packages/ta/trend.py:170: RuntimeWarning: invalid value encountered in double_scalars\n",
      "  dip[i] = 100 * (dip_mio[i]/trs[i])\n",
      "/Users/neilkloot/anaconda/lib/python3.6/site-packages/ta/trend.py:174: RuntimeWarning: divide by zero encountered in double_scalars\n",
      "  din[i] = 100 * (din_mio[i]/trs[i])\n",
      "/Users/neilkloot/anaconda/lib/python3.6/site-packages/ta/trend.py:174: RuntimeWarning: invalid value encountered in double_scalars\n",
      "  din[i] = 100 * (din_mio[i]/trs[i])\n",
      "/Users/neilkloot/anaconda/lib/python3.6/site-packages/ta/trend.py:176: RuntimeWarning: invalid value encountered in subtract\n",
      "  dx = 100 * np.abs((dip - din) / (dip + din))\n"
     ]
    },
    {
     "name": "stdout",
     "output_type": "stream",
     "text": [
      "Data split.  Total recs: (555, 283)\n",
      "Train recs: (388, 283)\n",
      "Remaining data recs: (167, 283)\n",
      "Validation recs: (84, 283)\n",
      "Remaining data recs: (83, 283)\n",
      "Test recs: (83, 283)\n"
     ]
    },
    {
     "name": "stderr",
     "output_type": "stream",
     "text": [
      "/Users/neilkloot/anaconda/lib/python3.6/site-packages/ta/trend.py:170: RuntimeWarning: divide by zero encountered in double_scalars\n",
      "  dip[i] = 100 * (dip_mio[i]/trs[i])\n",
      "/Users/neilkloot/anaconda/lib/python3.6/site-packages/ta/trend.py:170: RuntimeWarning: invalid value encountered in double_scalars\n",
      "  dip[i] = 100 * (dip_mio[i]/trs[i])\n",
      "/Users/neilkloot/anaconda/lib/python3.6/site-packages/ta/trend.py:174: RuntimeWarning: divide by zero encountered in double_scalars\n",
      "  din[i] = 100 * (din_mio[i]/trs[i])\n",
      "/Users/neilkloot/anaconda/lib/python3.6/site-packages/ta/trend.py:174: RuntimeWarning: invalid value encountered in double_scalars\n",
      "  din[i] = 100 * (din_mio[i]/trs[i])\n",
      "/Users/neilkloot/anaconda/lib/python3.6/site-packages/ta/trend.py:176: RuntimeWarning: invalid value encountered in subtract\n",
      "  dx = 100 * np.abs((dip - din) / (dip + din))\n"
     ]
    },
    {
     "name": "stdout",
     "output_type": "stream",
     "text": [
      "Data split.  Total recs: (608, 283)\n",
      "Train recs: (426, 283)\n",
      "Remaining data recs: (182, 283)\n",
      "Validation recs: (91, 283)\n",
      "Remaining data recs: (91, 283)\n",
      "Test recs: (91, 283)\n"
     ]
    },
    {
     "name": "stderr",
     "output_type": "stream",
     "text": [
      "/Users/neilkloot/anaconda/lib/python3.6/site-packages/ta/trend.py:170: RuntimeWarning: divide by zero encountered in double_scalars\n",
      "  dip[i] = 100 * (dip_mio[i]/trs[i])\n",
      "/Users/neilkloot/anaconda/lib/python3.6/site-packages/ta/trend.py:170: RuntimeWarning: invalid value encountered in double_scalars\n",
      "  dip[i] = 100 * (dip_mio[i]/trs[i])\n",
      "/Users/neilkloot/anaconda/lib/python3.6/site-packages/ta/trend.py:174: RuntimeWarning: divide by zero encountered in double_scalars\n",
      "  din[i] = 100 * (din_mio[i]/trs[i])\n",
      "/Users/neilkloot/anaconda/lib/python3.6/site-packages/ta/trend.py:174: RuntimeWarning: invalid value encountered in double_scalars\n",
      "  din[i] = 100 * (din_mio[i]/trs[i])\n",
      "/Users/neilkloot/anaconda/lib/python3.6/site-packages/ta/trend.py:176: RuntimeWarning: invalid value encountered in subtract\n",
      "  dx = 100 * np.abs((dip - din) / (dip + din))\n"
     ]
    },
    {
     "name": "stdout",
     "output_type": "stream",
     "text": [
      "Data split.  Total recs: (607, 283)\n",
      "Train recs: (425, 283)\n",
      "Remaining data recs: (182, 283)\n",
      "Validation recs: (91, 283)\n",
      "Remaining data recs: (91, 283)\n",
      "Test recs: (91, 283)\n"
     ]
    },
    {
     "name": "stderr",
     "output_type": "stream",
     "text": [
      "/Users/neilkloot/anaconda/lib/python3.6/site-packages/ta/trend.py:170: RuntimeWarning: divide by zero encountered in double_scalars\n",
      "  dip[i] = 100 * (dip_mio[i]/trs[i])\n",
      "/Users/neilkloot/anaconda/lib/python3.6/site-packages/ta/trend.py:170: RuntimeWarning: invalid value encountered in double_scalars\n",
      "  dip[i] = 100 * (dip_mio[i]/trs[i])\n",
      "/Users/neilkloot/anaconda/lib/python3.6/site-packages/ta/trend.py:174: RuntimeWarning: divide by zero encountered in double_scalars\n",
      "  din[i] = 100 * (din_mio[i]/trs[i])\n",
      "/Users/neilkloot/anaconda/lib/python3.6/site-packages/ta/trend.py:174: RuntimeWarning: invalid value encountered in double_scalars\n",
      "  din[i] = 100 * (din_mio[i]/trs[i])\n",
      "/Users/neilkloot/anaconda/lib/python3.6/site-packages/ta/trend.py:176: RuntimeWarning: invalid value encountered in subtract\n",
      "  dx = 100 * np.abs((dip - din) / (dip + din))\n"
     ]
    },
    {
     "name": "stdout",
     "output_type": "stream",
     "text": [
      "Data split.  Total recs: (576, 283)\n",
      "Train recs: (403, 283)\n",
      "Remaining data recs: (173, 283)\n",
      "Validation recs: (86, 283)\n",
      "Remaining data recs: (87, 283)\n",
      "Test recs: (87, 283)\n"
     ]
    },
    {
     "name": "stderr",
     "output_type": "stream",
     "text": [
      "/Users/neilkloot/anaconda/lib/python3.6/site-packages/ta/trend.py:170: RuntimeWarning: divide by zero encountered in double_scalars\n",
      "  dip[i] = 100 * (dip_mio[i]/trs[i])\n",
      "/Users/neilkloot/anaconda/lib/python3.6/site-packages/ta/trend.py:170: RuntimeWarning: invalid value encountered in double_scalars\n",
      "  dip[i] = 100 * (dip_mio[i]/trs[i])\n",
      "/Users/neilkloot/anaconda/lib/python3.6/site-packages/ta/trend.py:174: RuntimeWarning: divide by zero encountered in double_scalars\n",
      "  din[i] = 100 * (din_mio[i]/trs[i])\n",
      "/Users/neilkloot/anaconda/lib/python3.6/site-packages/ta/trend.py:174: RuntimeWarning: invalid value encountered in double_scalars\n",
      "  din[i] = 100 * (din_mio[i]/trs[i])\n",
      "/Users/neilkloot/anaconda/lib/python3.6/site-packages/ta/trend.py:176: RuntimeWarning: invalid value encountered in subtract\n",
      "  dx = 100 * np.abs((dip - din) / (dip + din))\n"
     ]
    },
    {
     "name": "stdout",
     "output_type": "stream",
     "text": [
      "Data split.  Total recs: (475, 283)\n",
      "Train recs: (332, 283)\n",
      "Remaining data recs: (143, 283)\n",
      "Validation recs: (72, 283)\n",
      "Remaining data recs: (71, 283)\n",
      "Test recs: (71, 283)\n"
     ]
    },
    {
     "name": "stderr",
     "output_type": "stream",
     "text": [
      "/Users/neilkloot/anaconda/lib/python3.6/site-packages/ta/trend.py:170: RuntimeWarning: divide by zero encountered in double_scalars\n",
      "  dip[i] = 100 * (dip_mio[i]/trs[i])\n",
      "/Users/neilkloot/anaconda/lib/python3.6/site-packages/ta/trend.py:170: RuntimeWarning: invalid value encountered in double_scalars\n",
      "  dip[i] = 100 * (dip_mio[i]/trs[i])\n",
      "/Users/neilkloot/anaconda/lib/python3.6/site-packages/ta/trend.py:174: RuntimeWarning: divide by zero encountered in double_scalars\n",
      "  din[i] = 100 * (din_mio[i]/trs[i])\n",
      "/Users/neilkloot/anaconda/lib/python3.6/site-packages/ta/trend.py:174: RuntimeWarning: invalid value encountered in double_scalars\n",
      "  din[i] = 100 * (din_mio[i]/trs[i])\n",
      "/Users/neilkloot/anaconda/lib/python3.6/site-packages/ta/trend.py:176: RuntimeWarning: invalid value encountered in subtract\n",
      "  dx = 100 * np.abs((dip - din) / (dip + din))\n"
     ]
    },
    {
     "name": "stdout",
     "output_type": "stream",
     "text": [
      "Data split.  Total recs: (607, 283)\n",
      "Train recs: (425, 283)\n",
      "Remaining data recs: (182, 283)\n",
      "Validation recs: (91, 283)\n",
      "Remaining data recs: (91, 283)\n",
      "Test recs: (91, 283)\n"
     ]
    },
    {
     "name": "stderr",
     "output_type": "stream",
     "text": [
      "/Users/neilkloot/anaconda/lib/python3.6/site-packages/ta/trend.py:170: RuntimeWarning: divide by zero encountered in double_scalars\n",
      "  dip[i] = 100 * (dip_mio[i]/trs[i])\n",
      "/Users/neilkloot/anaconda/lib/python3.6/site-packages/ta/trend.py:170: RuntimeWarning: invalid value encountered in double_scalars\n",
      "  dip[i] = 100 * (dip_mio[i]/trs[i])\n",
      "/Users/neilkloot/anaconda/lib/python3.6/site-packages/ta/trend.py:174: RuntimeWarning: divide by zero encountered in double_scalars\n",
      "  din[i] = 100 * (din_mio[i]/trs[i])\n",
      "/Users/neilkloot/anaconda/lib/python3.6/site-packages/ta/trend.py:174: RuntimeWarning: invalid value encountered in double_scalars\n",
      "  din[i] = 100 * (din_mio[i]/trs[i])\n",
      "/Users/neilkloot/anaconda/lib/python3.6/site-packages/ta/trend.py:176: RuntimeWarning: invalid value encountered in subtract\n",
      "  dx = 100 * np.abs((dip - din) / (dip + din))\n"
     ]
    },
    {
     "name": "stdout",
     "output_type": "stream",
     "text": [
      "Data split.  Total recs: (285, 283)\n",
      "Train recs: (200, 283)\n",
      "Remaining data recs: (85, 283)\n",
      "Validation recs: (42, 283)\n",
      "Remaining data recs: (43, 283)\n",
      "Test recs: (43, 283)\n"
     ]
    },
    {
     "name": "stderr",
     "output_type": "stream",
     "text": [
      "/Users/neilkloot/anaconda/lib/python3.6/site-packages/ta/trend.py:170: RuntimeWarning: divide by zero encountered in double_scalars\n",
      "  dip[i] = 100 * (dip_mio[i]/trs[i])\n",
      "/Users/neilkloot/anaconda/lib/python3.6/site-packages/ta/trend.py:170: RuntimeWarning: invalid value encountered in double_scalars\n",
      "  dip[i] = 100 * (dip_mio[i]/trs[i])\n",
      "/Users/neilkloot/anaconda/lib/python3.6/site-packages/ta/trend.py:174: RuntimeWarning: divide by zero encountered in double_scalars\n",
      "  din[i] = 100 * (din_mio[i]/trs[i])\n",
      "/Users/neilkloot/anaconda/lib/python3.6/site-packages/ta/trend.py:174: RuntimeWarning: invalid value encountered in double_scalars\n",
      "  din[i] = 100 * (din_mio[i]/trs[i])\n",
      "/Users/neilkloot/anaconda/lib/python3.6/site-packages/ta/trend.py:176: RuntimeWarning: invalid value encountered in subtract\n",
      "  dx = 100 * np.abs((dip - din) / (dip + din))\n"
     ]
    },
    {
     "name": "stdout",
     "output_type": "stream",
     "text": [
      "Data split.  Total recs: (499, 283)\n",
      "Train recs: (349, 283)\n",
      "Remaining data recs: (150, 283)\n",
      "Validation recs: (75, 283)\n",
      "Remaining data recs: (75, 283)\n",
      "Test recs: (75, 283)\n"
     ]
    },
    {
     "name": "stderr",
     "output_type": "stream",
     "text": [
      "/Users/neilkloot/anaconda/lib/python3.6/site-packages/ta/trend.py:170: RuntimeWarning: divide by zero encountered in double_scalars\n",
      "  dip[i] = 100 * (dip_mio[i]/trs[i])\n",
      "/Users/neilkloot/anaconda/lib/python3.6/site-packages/ta/trend.py:170: RuntimeWarning: invalid value encountered in double_scalars\n",
      "  dip[i] = 100 * (dip_mio[i]/trs[i])\n",
      "/Users/neilkloot/anaconda/lib/python3.6/site-packages/ta/trend.py:174: RuntimeWarning: divide by zero encountered in double_scalars\n",
      "  din[i] = 100 * (din_mio[i]/trs[i])\n",
      "/Users/neilkloot/anaconda/lib/python3.6/site-packages/ta/trend.py:174: RuntimeWarning: invalid value encountered in double_scalars\n",
      "  din[i] = 100 * (din_mio[i]/trs[i])\n",
      "/Users/neilkloot/anaconda/lib/python3.6/site-packages/ta/trend.py:176: RuntimeWarning: invalid value encountered in subtract\n",
      "  dx = 100 * np.abs((dip - din) / (dip + din))\n"
     ]
    },
    {
     "name": "stdout",
     "output_type": "stream",
     "text": [
      "Data split.  Total recs: (427, 283)\n",
      "Train recs: (299, 283)\n",
      "Remaining data recs: (128, 283)\n",
      "Validation recs: (64, 283)\n",
      "Remaining data recs: (64, 283)\n",
      "Test recs: (64, 283)\n"
     ]
    },
    {
     "name": "stderr",
     "output_type": "stream",
     "text": [
      "/Users/neilkloot/anaconda/lib/python3.6/site-packages/ta/trend.py:170: RuntimeWarning: divide by zero encountered in double_scalars\n",
      "  dip[i] = 100 * (dip_mio[i]/trs[i])\n",
      "/Users/neilkloot/anaconda/lib/python3.6/site-packages/ta/trend.py:170: RuntimeWarning: invalid value encountered in double_scalars\n",
      "  dip[i] = 100 * (dip_mio[i]/trs[i])\n",
      "/Users/neilkloot/anaconda/lib/python3.6/site-packages/ta/trend.py:174: RuntimeWarning: divide by zero encountered in double_scalars\n",
      "  din[i] = 100 * (din_mio[i]/trs[i])\n",
      "/Users/neilkloot/anaconda/lib/python3.6/site-packages/ta/trend.py:174: RuntimeWarning: invalid value encountered in double_scalars\n",
      "  din[i] = 100 * (din_mio[i]/trs[i])\n",
      "/Users/neilkloot/anaconda/lib/python3.6/site-packages/ta/trend.py:176: RuntimeWarning: invalid value encountered in subtract\n",
      "  dx = 100 * np.abs((dip - din) / (dip + din))\n"
     ]
    },
    {
     "name": "stdout",
     "output_type": "stream",
     "text": [
      "Data split.  Total recs: (429, 283)\n",
      "Train recs: (300, 283)\n",
      "Remaining data recs: (129, 283)\n",
      "Validation recs: (64, 283)\n",
      "Remaining data recs: (65, 283)\n",
      "Test recs: (65, 283)\n"
     ]
    },
    {
     "name": "stderr",
     "output_type": "stream",
     "text": [
      "/Users/neilkloot/anaconda/lib/python3.6/site-packages/ta/trend.py:170: RuntimeWarning: divide by zero encountered in double_scalars\n",
      "  dip[i] = 100 * (dip_mio[i]/trs[i])\n",
      "/Users/neilkloot/anaconda/lib/python3.6/site-packages/ta/trend.py:170: RuntimeWarning: invalid value encountered in double_scalars\n",
      "  dip[i] = 100 * (dip_mio[i]/trs[i])\n",
      "/Users/neilkloot/anaconda/lib/python3.6/site-packages/ta/trend.py:174: RuntimeWarning: divide by zero encountered in double_scalars\n",
      "  din[i] = 100 * (din_mio[i]/trs[i])\n",
      "/Users/neilkloot/anaconda/lib/python3.6/site-packages/ta/trend.py:174: RuntimeWarning: invalid value encountered in double_scalars\n",
      "  din[i] = 100 * (din_mio[i]/trs[i])\n",
      "/Users/neilkloot/anaconda/lib/python3.6/site-packages/ta/trend.py:176: RuntimeWarning: invalid value encountered in subtract\n",
      "  dx = 100 * np.abs((dip - din) / (dip + din))\n"
     ]
    },
    {
     "name": "stdout",
     "output_type": "stream",
     "text": [
      "Data split.  Total recs: (608, 283)\n",
      "Train recs: (426, 283)\n",
      "Remaining data recs: (182, 283)\n",
      "Validation recs: (91, 283)\n",
      "Remaining data recs: (91, 283)\n",
      "Test recs: (91, 283)\n"
     ]
    },
    {
     "name": "stderr",
     "output_type": "stream",
     "text": [
      "/Users/neilkloot/anaconda/lib/python3.6/site-packages/ta/trend.py:170: RuntimeWarning: divide by zero encountered in double_scalars\n",
      "  dip[i] = 100 * (dip_mio[i]/trs[i])\n",
      "/Users/neilkloot/anaconda/lib/python3.6/site-packages/ta/trend.py:170: RuntimeWarning: invalid value encountered in double_scalars\n",
      "  dip[i] = 100 * (dip_mio[i]/trs[i])\n",
      "/Users/neilkloot/anaconda/lib/python3.6/site-packages/ta/trend.py:174: RuntimeWarning: divide by zero encountered in double_scalars\n",
      "  din[i] = 100 * (din_mio[i]/trs[i])\n",
      "/Users/neilkloot/anaconda/lib/python3.6/site-packages/ta/trend.py:174: RuntimeWarning: invalid value encountered in double_scalars\n",
      "  din[i] = 100 * (din_mio[i]/trs[i])\n",
      "/Users/neilkloot/anaconda/lib/python3.6/site-packages/ta/trend.py:176: RuntimeWarning: invalid value encountered in subtract\n",
      "  dx = 100 * np.abs((dip - din) / (dip + din))\n"
     ]
    },
    {
     "name": "stdout",
     "output_type": "stream",
     "text": [
      "Data split.  Total recs: (607, 283)\n",
      "Train recs: (425, 283)\n",
      "Remaining data recs: (182, 283)\n",
      "Validation recs: (91, 283)\n",
      "Remaining data recs: (91, 283)\n",
      "Test recs: (91, 283)\n"
     ]
    },
    {
     "name": "stderr",
     "output_type": "stream",
     "text": [
      "/Users/neilkloot/anaconda/lib/python3.6/site-packages/ta/trend.py:170: RuntimeWarning: divide by zero encountered in double_scalars\n",
      "  dip[i] = 100 * (dip_mio[i]/trs[i])\n",
      "/Users/neilkloot/anaconda/lib/python3.6/site-packages/ta/trend.py:170: RuntimeWarning: invalid value encountered in double_scalars\n",
      "  dip[i] = 100 * (dip_mio[i]/trs[i])\n",
      "/Users/neilkloot/anaconda/lib/python3.6/site-packages/ta/trend.py:174: RuntimeWarning: divide by zero encountered in double_scalars\n",
      "  din[i] = 100 * (din_mio[i]/trs[i])\n",
      "/Users/neilkloot/anaconda/lib/python3.6/site-packages/ta/trend.py:174: RuntimeWarning: invalid value encountered in double_scalars\n",
      "  din[i] = 100 * (din_mio[i]/trs[i])\n",
      "/Users/neilkloot/anaconda/lib/python3.6/site-packages/ta/trend.py:176: RuntimeWarning: invalid value encountered in subtract\n",
      "  dx = 100 * np.abs((dip - din) / (dip + din))\n"
     ]
    },
    {
     "name": "stdout",
     "output_type": "stream",
     "text": [
      "Data split.  Total recs: (565, 283)\n",
      "Train recs: (396, 283)\n",
      "Remaining data recs: (169, 283)\n",
      "Validation recs: (84, 283)\n",
      "Remaining data recs: (85, 283)\n",
      "Test recs: (85, 283)\n"
     ]
    },
    {
     "name": "stderr",
     "output_type": "stream",
     "text": [
      "/Users/neilkloot/anaconda/lib/python3.6/site-packages/ta/trend.py:170: RuntimeWarning: divide by zero encountered in double_scalars\n",
      "  dip[i] = 100 * (dip_mio[i]/trs[i])\n",
      "/Users/neilkloot/anaconda/lib/python3.6/site-packages/ta/trend.py:170: RuntimeWarning: invalid value encountered in double_scalars\n",
      "  dip[i] = 100 * (dip_mio[i]/trs[i])\n",
      "/Users/neilkloot/anaconda/lib/python3.6/site-packages/ta/trend.py:174: RuntimeWarning: divide by zero encountered in double_scalars\n",
      "  din[i] = 100 * (din_mio[i]/trs[i])\n",
      "/Users/neilkloot/anaconda/lib/python3.6/site-packages/ta/trend.py:174: RuntimeWarning: invalid value encountered in double_scalars\n",
      "  din[i] = 100 * (din_mio[i]/trs[i])\n",
      "/Users/neilkloot/anaconda/lib/python3.6/site-packages/ta/trend.py:176: RuntimeWarning: invalid value encountered in subtract\n",
      "  dx = 100 * np.abs((dip - din) / (dip + din))\n"
     ]
    },
    {
     "name": "stdout",
     "output_type": "stream",
     "text": [
      "Data split.  Total recs: (479, 283)\n",
      "Train recs: (335, 283)\n",
      "Remaining data recs: (144, 283)\n",
      "Validation recs: (72, 283)\n",
      "Remaining data recs: (72, 283)\n",
      "Test recs: (72, 283)\n"
     ]
    },
    {
     "name": "stderr",
     "output_type": "stream",
     "text": [
      "/Users/neilkloot/anaconda/lib/python3.6/site-packages/ta/trend.py:170: RuntimeWarning: divide by zero encountered in double_scalars\n",
      "  dip[i] = 100 * (dip_mio[i]/trs[i])\n",
      "/Users/neilkloot/anaconda/lib/python3.6/site-packages/ta/trend.py:170: RuntimeWarning: invalid value encountered in double_scalars\n",
      "  dip[i] = 100 * (dip_mio[i]/trs[i])\n",
      "/Users/neilkloot/anaconda/lib/python3.6/site-packages/ta/trend.py:174: RuntimeWarning: divide by zero encountered in double_scalars\n",
      "  din[i] = 100 * (din_mio[i]/trs[i])\n",
      "/Users/neilkloot/anaconda/lib/python3.6/site-packages/ta/trend.py:174: RuntimeWarning: invalid value encountered in double_scalars\n",
      "  din[i] = 100 * (din_mio[i]/trs[i])\n",
      "/Users/neilkloot/anaconda/lib/python3.6/site-packages/ta/trend.py:176: RuntimeWarning: invalid value encountered in subtract\n",
      "  dx = 100 * np.abs((dip - din) / (dip + din))\n"
     ]
    },
    {
     "name": "stdout",
     "output_type": "stream",
     "text": [
      "Data split.  Total recs: (608, 283)\n",
      "Train recs: (426, 283)\n",
      "Remaining data recs: (182, 283)\n",
      "Validation recs: (91, 283)\n",
      "Remaining data recs: (91, 283)\n",
      "Test recs: (91, 283)\n"
     ]
    },
    {
     "name": "stderr",
     "output_type": "stream",
     "text": [
      "/Users/neilkloot/anaconda/lib/python3.6/site-packages/ta/trend.py:170: RuntimeWarning: divide by zero encountered in double_scalars\n",
      "  dip[i] = 100 * (dip_mio[i]/trs[i])\n",
      "/Users/neilkloot/anaconda/lib/python3.6/site-packages/ta/trend.py:170: RuntimeWarning: invalid value encountered in double_scalars\n",
      "  dip[i] = 100 * (dip_mio[i]/trs[i])\n",
      "/Users/neilkloot/anaconda/lib/python3.6/site-packages/ta/trend.py:174: RuntimeWarning: divide by zero encountered in double_scalars\n",
      "  din[i] = 100 * (din_mio[i]/trs[i])\n",
      "/Users/neilkloot/anaconda/lib/python3.6/site-packages/ta/trend.py:174: RuntimeWarning: invalid value encountered in double_scalars\n",
      "  din[i] = 100 * (din_mio[i]/trs[i])\n",
      "/Users/neilkloot/anaconda/lib/python3.6/site-packages/ta/trend.py:176: RuntimeWarning: invalid value encountered in subtract\n",
      "  dx = 100 * np.abs((dip - din) / (dip + din))\n"
     ]
    },
    {
     "name": "stdout",
     "output_type": "stream",
     "text": [
      "Data split.  Total recs: (608, 283)\n",
      "Train recs: (426, 283)\n",
      "Remaining data recs: (182, 283)\n",
      "Validation recs: (91, 283)\n",
      "Remaining data recs: (91, 283)\n",
      "Test recs: (91, 283)\n"
     ]
    },
    {
     "name": "stderr",
     "output_type": "stream",
     "text": [
      "/Users/neilkloot/anaconda/lib/python3.6/site-packages/ta/trend.py:170: RuntimeWarning: divide by zero encountered in double_scalars\n",
      "  dip[i] = 100 * (dip_mio[i]/trs[i])\n",
      "/Users/neilkloot/anaconda/lib/python3.6/site-packages/ta/trend.py:170: RuntimeWarning: invalid value encountered in double_scalars\n",
      "  dip[i] = 100 * (dip_mio[i]/trs[i])\n",
      "/Users/neilkloot/anaconda/lib/python3.6/site-packages/ta/trend.py:174: RuntimeWarning: divide by zero encountered in double_scalars\n",
      "  din[i] = 100 * (din_mio[i]/trs[i])\n",
      "/Users/neilkloot/anaconda/lib/python3.6/site-packages/ta/trend.py:174: RuntimeWarning: invalid value encountered in double_scalars\n",
      "  din[i] = 100 * (din_mio[i]/trs[i])\n",
      "/Users/neilkloot/anaconda/lib/python3.6/site-packages/ta/trend.py:176: RuntimeWarning: invalid value encountered in subtract\n",
      "  dx = 100 * np.abs((dip - din) / (dip + din))\n"
     ]
    },
    {
     "name": "stdout",
     "output_type": "stream",
     "text": [
      "Data split.  Total recs: (608, 283)\n",
      "Train recs: (426, 283)\n",
      "Remaining data recs: (182, 283)\n",
      "Validation recs: (91, 283)\n",
      "Remaining data recs: (91, 283)\n",
      "Test recs: (91, 283)\n"
     ]
    },
    {
     "name": "stderr",
     "output_type": "stream",
     "text": [
      "/Users/neilkloot/anaconda/lib/python3.6/site-packages/ta/trend.py:170: RuntimeWarning: divide by zero encountered in double_scalars\n",
      "  dip[i] = 100 * (dip_mio[i]/trs[i])\n",
      "/Users/neilkloot/anaconda/lib/python3.6/site-packages/ta/trend.py:170: RuntimeWarning: invalid value encountered in double_scalars\n",
      "  dip[i] = 100 * (dip_mio[i]/trs[i])\n",
      "/Users/neilkloot/anaconda/lib/python3.6/site-packages/ta/trend.py:174: RuntimeWarning: divide by zero encountered in double_scalars\n",
      "  din[i] = 100 * (din_mio[i]/trs[i])\n",
      "/Users/neilkloot/anaconda/lib/python3.6/site-packages/ta/trend.py:174: RuntimeWarning: invalid value encountered in double_scalars\n",
      "  din[i] = 100 * (din_mio[i]/trs[i])\n",
      "/Users/neilkloot/anaconda/lib/python3.6/site-packages/ta/trend.py:176: RuntimeWarning: invalid value encountered in subtract\n",
      "  dx = 100 * np.abs((dip - din) / (dip + din))\n"
     ]
    },
    {
     "name": "stdout",
     "output_type": "stream",
     "text": [
      "Data split.  Total recs: (229, 283)\n",
      "Train recs: (160, 283)\n",
      "Remaining data recs: (69, 283)\n",
      "Validation recs: (34, 283)\n",
      "Remaining data recs: (35, 283)\n",
      "Test recs: (35, 283)\n"
     ]
    },
    {
     "name": "stderr",
     "output_type": "stream",
     "text": [
      "/Users/neilkloot/anaconda/lib/python3.6/site-packages/ta/trend.py:170: RuntimeWarning: divide by zero encountered in double_scalars\n",
      "  dip[i] = 100 * (dip_mio[i]/trs[i])\n",
      "/Users/neilkloot/anaconda/lib/python3.6/site-packages/ta/trend.py:170: RuntimeWarning: invalid value encountered in double_scalars\n",
      "  dip[i] = 100 * (dip_mio[i]/trs[i])\n",
      "/Users/neilkloot/anaconda/lib/python3.6/site-packages/ta/trend.py:174: RuntimeWarning: divide by zero encountered in double_scalars\n",
      "  din[i] = 100 * (din_mio[i]/trs[i])\n",
      "/Users/neilkloot/anaconda/lib/python3.6/site-packages/ta/trend.py:174: RuntimeWarning: invalid value encountered in double_scalars\n",
      "  din[i] = 100 * (din_mio[i]/trs[i])\n",
      "/Users/neilkloot/anaconda/lib/python3.6/site-packages/ta/trend.py:176: RuntimeWarning: invalid value encountered in subtract\n",
      "  dx = 100 * np.abs((dip - din) / (dip + din))\n"
     ]
    },
    {
     "name": "stdout",
     "output_type": "stream",
     "text": [
      "Data split.  Total recs: (471, 283)\n",
      "Train recs: (330, 283)\n",
      "Remaining data recs: (141, 283)\n",
      "Validation recs: (70, 283)\n",
      "Remaining data recs: (71, 283)\n",
      "Test recs: (71, 283)\n"
     ]
    },
    {
     "name": "stderr",
     "output_type": "stream",
     "text": [
      "/Users/neilkloot/anaconda/lib/python3.6/site-packages/ta/trend.py:170: RuntimeWarning: divide by zero encountered in double_scalars\n",
      "  dip[i] = 100 * (dip_mio[i]/trs[i])\n",
      "/Users/neilkloot/anaconda/lib/python3.6/site-packages/ta/trend.py:170: RuntimeWarning: invalid value encountered in double_scalars\n",
      "  dip[i] = 100 * (dip_mio[i]/trs[i])\n",
      "/Users/neilkloot/anaconda/lib/python3.6/site-packages/ta/trend.py:174: RuntimeWarning: divide by zero encountered in double_scalars\n",
      "  din[i] = 100 * (din_mio[i]/trs[i])\n",
      "/Users/neilkloot/anaconda/lib/python3.6/site-packages/ta/trend.py:174: RuntimeWarning: invalid value encountered in double_scalars\n",
      "  din[i] = 100 * (din_mio[i]/trs[i])\n",
      "/Users/neilkloot/anaconda/lib/python3.6/site-packages/ta/trend.py:176: RuntimeWarning: invalid value encountered in subtract\n",
      "  dx = 100 * np.abs((dip - din) / (dip + din))\n"
     ]
    },
    {
     "name": "stdout",
     "output_type": "stream",
     "text": [
      "Data split.  Total recs: (608, 283)\n",
      "Train recs: (426, 283)\n",
      "Remaining data recs: (182, 283)\n",
      "Validation recs: (91, 283)\n",
      "Remaining data recs: (91, 283)\n",
      "Test recs: (91, 283)\n"
     ]
    },
    {
     "name": "stderr",
     "output_type": "stream",
     "text": [
      "/Users/neilkloot/anaconda/lib/python3.6/site-packages/ta/trend.py:170: RuntimeWarning: divide by zero encountered in double_scalars\n",
      "  dip[i] = 100 * (dip_mio[i]/trs[i])\n",
      "/Users/neilkloot/anaconda/lib/python3.6/site-packages/ta/trend.py:170: RuntimeWarning: invalid value encountered in double_scalars\n",
      "  dip[i] = 100 * (dip_mio[i]/trs[i])\n",
      "/Users/neilkloot/anaconda/lib/python3.6/site-packages/ta/trend.py:174: RuntimeWarning: divide by zero encountered in double_scalars\n",
      "  din[i] = 100 * (din_mio[i]/trs[i])\n",
      "/Users/neilkloot/anaconda/lib/python3.6/site-packages/ta/trend.py:174: RuntimeWarning: invalid value encountered in double_scalars\n",
      "  din[i] = 100 * (din_mio[i]/trs[i])\n",
      "/Users/neilkloot/anaconda/lib/python3.6/site-packages/ta/trend.py:176: RuntimeWarning: invalid value encountered in subtract\n",
      "  dx = 100 * np.abs((dip - din) / (dip + din))\n"
     ]
    },
    {
     "name": "stdout",
     "output_type": "stream",
     "text": [
      "Data split.  Total recs: (608, 283)\n",
      "Train recs: (426, 283)\n",
      "Remaining data recs: (182, 283)\n",
      "Validation recs: (91, 283)\n",
      "Remaining data recs: (91, 283)\n",
      "Test recs: (91, 283)\n"
     ]
    },
    {
     "name": "stderr",
     "output_type": "stream",
     "text": [
      "/Users/neilkloot/anaconda/lib/python3.6/site-packages/ta/trend.py:170: RuntimeWarning: divide by zero encountered in double_scalars\n",
      "  dip[i] = 100 * (dip_mio[i]/trs[i])\n",
      "/Users/neilkloot/anaconda/lib/python3.6/site-packages/ta/trend.py:170: RuntimeWarning: invalid value encountered in double_scalars\n",
      "  dip[i] = 100 * (dip_mio[i]/trs[i])\n",
      "/Users/neilkloot/anaconda/lib/python3.6/site-packages/ta/trend.py:174: RuntimeWarning: divide by zero encountered in double_scalars\n",
      "  din[i] = 100 * (din_mio[i]/trs[i])\n",
      "/Users/neilkloot/anaconda/lib/python3.6/site-packages/ta/trend.py:174: RuntimeWarning: invalid value encountered in double_scalars\n",
      "  din[i] = 100 * (din_mio[i]/trs[i])\n",
      "/Users/neilkloot/anaconda/lib/python3.6/site-packages/ta/trend.py:176: RuntimeWarning: invalid value encountered in subtract\n",
      "  dx = 100 * np.abs((dip - din) / (dip + din))\n"
     ]
    },
    {
     "name": "stdout",
     "output_type": "stream",
     "text": [
      "Data split.  Total recs: (297, 283)\n",
      "Train recs: (208, 283)\n",
      "Remaining data recs: (89, 283)\n",
      "Validation recs: (44, 283)\n",
      "Remaining data recs: (45, 283)\n",
      "Test recs: (45, 283)\n"
     ]
    },
    {
     "name": "stderr",
     "output_type": "stream",
     "text": [
      "/Users/neilkloot/anaconda/lib/python3.6/site-packages/ta/trend.py:170: RuntimeWarning: divide by zero encountered in double_scalars\n",
      "  dip[i] = 100 * (dip_mio[i]/trs[i])\n",
      "/Users/neilkloot/anaconda/lib/python3.6/site-packages/ta/trend.py:170: RuntimeWarning: invalid value encountered in double_scalars\n",
      "  dip[i] = 100 * (dip_mio[i]/trs[i])\n",
      "/Users/neilkloot/anaconda/lib/python3.6/site-packages/ta/trend.py:174: RuntimeWarning: divide by zero encountered in double_scalars\n",
      "  din[i] = 100 * (din_mio[i]/trs[i])\n",
      "/Users/neilkloot/anaconda/lib/python3.6/site-packages/ta/trend.py:174: RuntimeWarning: invalid value encountered in double_scalars\n",
      "  din[i] = 100 * (din_mio[i]/trs[i])\n",
      "/Users/neilkloot/anaconda/lib/python3.6/site-packages/ta/trend.py:176: RuntimeWarning: invalid value encountered in subtract\n",
      "  dx = 100 * np.abs((dip - din) / (dip + din))\n"
     ]
    },
    {
     "name": "stdout",
     "output_type": "stream",
     "text": [
      "Data split.  Total recs: (568, 283)\n",
      "Train recs: (398, 283)\n",
      "Remaining data recs: (170, 283)\n",
      "Validation recs: (85, 283)\n",
      "Remaining data recs: (85, 283)\n",
      "Test recs: (85, 283)\n"
     ]
    },
    {
     "name": "stderr",
     "output_type": "stream",
     "text": [
      "/Users/neilkloot/anaconda/lib/python3.6/site-packages/ta/trend.py:170: RuntimeWarning: divide by zero encountered in double_scalars\n",
      "  dip[i] = 100 * (dip_mio[i]/trs[i])\n",
      "/Users/neilkloot/anaconda/lib/python3.6/site-packages/ta/trend.py:170: RuntimeWarning: invalid value encountered in double_scalars\n",
      "  dip[i] = 100 * (dip_mio[i]/trs[i])\n",
      "/Users/neilkloot/anaconda/lib/python3.6/site-packages/ta/trend.py:174: RuntimeWarning: divide by zero encountered in double_scalars\n",
      "  din[i] = 100 * (din_mio[i]/trs[i])\n",
      "/Users/neilkloot/anaconda/lib/python3.6/site-packages/ta/trend.py:174: RuntimeWarning: invalid value encountered in double_scalars\n",
      "  din[i] = 100 * (din_mio[i]/trs[i])\n",
      "/Users/neilkloot/anaconda/lib/python3.6/site-packages/ta/trend.py:176: RuntimeWarning: invalid value encountered in subtract\n",
      "  dx = 100 * np.abs((dip - din) / (dip + din))\n"
     ]
    },
    {
     "name": "stdout",
     "output_type": "stream",
     "text": [
      "Data split.  Total recs: (390, 283)\n",
      "Train recs: (273, 283)\n",
      "Remaining data recs: (117, 283)\n",
      "Validation recs: (58, 283)\n",
      "Remaining data recs: (59, 283)\n",
      "Test recs: (59, 283)\n"
     ]
    },
    {
     "name": "stderr",
     "output_type": "stream",
     "text": [
      "/Users/neilkloot/anaconda/lib/python3.6/site-packages/ta/trend.py:170: RuntimeWarning: divide by zero encountered in double_scalars\n",
      "  dip[i] = 100 * (dip_mio[i]/trs[i])\n",
      "/Users/neilkloot/anaconda/lib/python3.6/site-packages/ta/trend.py:170: RuntimeWarning: invalid value encountered in double_scalars\n",
      "  dip[i] = 100 * (dip_mio[i]/trs[i])\n",
      "/Users/neilkloot/anaconda/lib/python3.6/site-packages/ta/trend.py:174: RuntimeWarning: divide by zero encountered in double_scalars\n",
      "  din[i] = 100 * (din_mio[i]/trs[i])\n",
      "/Users/neilkloot/anaconda/lib/python3.6/site-packages/ta/trend.py:174: RuntimeWarning: invalid value encountered in double_scalars\n",
      "  din[i] = 100 * (din_mio[i]/trs[i])\n",
      "/Users/neilkloot/anaconda/lib/python3.6/site-packages/ta/trend.py:176: RuntimeWarning: invalid value encountered in subtract\n",
      "  dx = 100 * np.abs((dip - din) / (dip + din))\n"
     ]
    },
    {
     "name": "stdout",
     "output_type": "stream",
     "text": [
      "Data split.  Total recs: (608, 283)\n",
      "Train recs: (426, 283)\n",
      "Remaining data recs: (182, 283)\n",
      "Validation recs: (91, 283)\n",
      "Remaining data recs: (91, 283)\n",
      "Test recs: (91, 283)\n"
     ]
    },
    {
     "name": "stderr",
     "output_type": "stream",
     "text": [
      "/Users/neilkloot/anaconda/lib/python3.6/site-packages/ta/trend.py:170: RuntimeWarning: divide by zero encountered in double_scalars\n",
      "  dip[i] = 100 * (dip_mio[i]/trs[i])\n",
      "/Users/neilkloot/anaconda/lib/python3.6/site-packages/ta/trend.py:170: RuntimeWarning: invalid value encountered in double_scalars\n",
      "  dip[i] = 100 * (dip_mio[i]/trs[i])\n",
      "/Users/neilkloot/anaconda/lib/python3.6/site-packages/ta/trend.py:174: RuntimeWarning: divide by zero encountered in double_scalars\n",
      "  din[i] = 100 * (din_mio[i]/trs[i])\n",
      "/Users/neilkloot/anaconda/lib/python3.6/site-packages/ta/trend.py:174: RuntimeWarning: invalid value encountered in double_scalars\n",
      "  din[i] = 100 * (din_mio[i]/trs[i])\n",
      "/Users/neilkloot/anaconda/lib/python3.6/site-packages/ta/trend.py:176: RuntimeWarning: invalid value encountered in subtract\n",
      "  dx = 100 * np.abs((dip - din) / (dip + din))\n"
     ]
    },
    {
     "name": "stdout",
     "output_type": "stream",
     "text": [
      "Data split.  Total recs: (608, 283)\n",
      "Train recs: (426, 283)\n",
      "Remaining data recs: (182, 283)\n",
      "Validation recs: (91, 283)\n",
      "Remaining data recs: (91, 283)\n",
      "Test recs: (91, 283)\n"
     ]
    },
    {
     "name": "stderr",
     "output_type": "stream",
     "text": [
      "/Users/neilkloot/anaconda/lib/python3.6/site-packages/ta/trend.py:170: RuntimeWarning: divide by zero encountered in double_scalars\n",
      "  dip[i] = 100 * (dip_mio[i]/trs[i])\n",
      "/Users/neilkloot/anaconda/lib/python3.6/site-packages/ta/trend.py:170: RuntimeWarning: invalid value encountered in double_scalars\n",
      "  dip[i] = 100 * (dip_mio[i]/trs[i])\n",
      "/Users/neilkloot/anaconda/lib/python3.6/site-packages/ta/trend.py:174: RuntimeWarning: divide by zero encountered in double_scalars\n",
      "  din[i] = 100 * (din_mio[i]/trs[i])\n",
      "/Users/neilkloot/anaconda/lib/python3.6/site-packages/ta/trend.py:174: RuntimeWarning: invalid value encountered in double_scalars\n",
      "  din[i] = 100 * (din_mio[i]/trs[i])\n",
      "/Users/neilkloot/anaconda/lib/python3.6/site-packages/ta/trend.py:176: RuntimeWarning: invalid value encountered in subtract\n",
      "  dx = 100 * np.abs((dip - din) / (dip + din))\n"
     ]
    },
    {
     "name": "stdout",
     "output_type": "stream",
     "text": [
      "Data split.  Total recs: (608, 283)\n",
      "Train recs: (426, 283)\n",
      "Remaining data recs: (182, 283)\n",
      "Validation recs: (91, 283)\n",
      "Remaining data recs: (91, 283)\n",
      "Test recs: (91, 283)\n"
     ]
    },
    {
     "name": "stderr",
     "output_type": "stream",
     "text": [
      "/Users/neilkloot/anaconda/lib/python3.6/site-packages/ta/trend.py:170: RuntimeWarning: divide by zero encountered in double_scalars\n",
      "  dip[i] = 100 * (dip_mio[i]/trs[i])\n",
      "/Users/neilkloot/anaconda/lib/python3.6/site-packages/ta/trend.py:170: RuntimeWarning: invalid value encountered in double_scalars\n",
      "  dip[i] = 100 * (dip_mio[i]/trs[i])\n",
      "/Users/neilkloot/anaconda/lib/python3.6/site-packages/ta/trend.py:174: RuntimeWarning: divide by zero encountered in double_scalars\n",
      "  din[i] = 100 * (din_mio[i]/trs[i])\n",
      "/Users/neilkloot/anaconda/lib/python3.6/site-packages/ta/trend.py:174: RuntimeWarning: invalid value encountered in double_scalars\n",
      "  din[i] = 100 * (din_mio[i]/trs[i])\n",
      "/Users/neilkloot/anaconda/lib/python3.6/site-packages/ta/trend.py:176: RuntimeWarning: invalid value encountered in subtract\n",
      "  dx = 100 * np.abs((dip - din) / (dip + din))\n"
     ]
    },
    {
     "name": "stdout",
     "output_type": "stream",
     "text": [
      "Data split.  Total recs: (139, 283)\n",
      "Train recs: (97, 283)\n",
      "Remaining data recs: (42, 283)\n",
      "Validation recs: (21, 283)\n",
      "Remaining data recs: (21, 283)\n",
      "Test recs: (21, 283)\n"
     ]
    },
    {
     "name": "stderr",
     "output_type": "stream",
     "text": [
      "/Users/neilkloot/anaconda/lib/python3.6/site-packages/ta/trend.py:170: RuntimeWarning: divide by zero encountered in double_scalars\n",
      "  dip[i] = 100 * (dip_mio[i]/trs[i])\n",
      "/Users/neilkloot/anaconda/lib/python3.6/site-packages/ta/trend.py:170: RuntimeWarning: invalid value encountered in double_scalars\n",
      "  dip[i] = 100 * (dip_mio[i]/trs[i])\n",
      "/Users/neilkloot/anaconda/lib/python3.6/site-packages/ta/trend.py:174: RuntimeWarning: divide by zero encountered in double_scalars\n",
      "  din[i] = 100 * (din_mio[i]/trs[i])\n",
      "/Users/neilkloot/anaconda/lib/python3.6/site-packages/ta/trend.py:174: RuntimeWarning: invalid value encountered in double_scalars\n",
      "  din[i] = 100 * (din_mio[i]/trs[i])\n",
      "/Users/neilkloot/anaconda/lib/python3.6/site-packages/ta/trend.py:176: RuntimeWarning: invalid value encountered in subtract\n",
      "  dx = 100 * np.abs((dip - din) / (dip + din))\n"
     ]
    },
    {
     "name": "stdout",
     "output_type": "stream",
     "text": [
      "Data split.  Total recs: (549, 283)\n",
      "Train recs: (384, 283)\n",
      "Remaining data recs: (165, 283)\n",
      "Validation recs: (82, 283)\n",
      "Remaining data recs: (83, 283)\n",
      "Test recs: (83, 283)\n"
     ]
    },
    {
     "name": "stderr",
     "output_type": "stream",
     "text": [
      "/Users/neilkloot/anaconda/lib/python3.6/site-packages/ta/trend.py:170: RuntimeWarning: divide by zero encountered in double_scalars\n",
      "  dip[i] = 100 * (dip_mio[i]/trs[i])\n",
      "/Users/neilkloot/anaconda/lib/python3.6/site-packages/ta/trend.py:170: RuntimeWarning: invalid value encountered in double_scalars\n",
      "  dip[i] = 100 * (dip_mio[i]/trs[i])\n",
      "/Users/neilkloot/anaconda/lib/python3.6/site-packages/ta/trend.py:174: RuntimeWarning: divide by zero encountered in double_scalars\n",
      "  din[i] = 100 * (din_mio[i]/trs[i])\n",
      "/Users/neilkloot/anaconda/lib/python3.6/site-packages/ta/trend.py:174: RuntimeWarning: invalid value encountered in double_scalars\n",
      "  din[i] = 100 * (din_mio[i]/trs[i])\n",
      "/Users/neilkloot/anaconda/lib/python3.6/site-packages/ta/trend.py:176: RuntimeWarning: invalid value encountered in subtract\n",
      "  dx = 100 * np.abs((dip - din) / (dip + din))\n"
     ]
    },
    {
     "name": "stdout",
     "output_type": "stream",
     "text": [
      "Data split.  Total recs: (449, 283)\n",
      "Train recs: (314, 283)\n",
      "Remaining data recs: (135, 283)\n",
      "Validation recs: (68, 283)\n",
      "Remaining data recs: (67, 283)\n",
      "Test recs: (67, 283)\n"
     ]
    },
    {
     "name": "stderr",
     "output_type": "stream",
     "text": [
      "/Users/neilkloot/anaconda/lib/python3.6/site-packages/ta/trend.py:170: RuntimeWarning: divide by zero encountered in double_scalars\n",
      "  dip[i] = 100 * (dip_mio[i]/trs[i])\n",
      "/Users/neilkloot/anaconda/lib/python3.6/site-packages/ta/trend.py:170: RuntimeWarning: invalid value encountered in double_scalars\n",
      "  dip[i] = 100 * (dip_mio[i]/trs[i])\n",
      "/Users/neilkloot/anaconda/lib/python3.6/site-packages/ta/trend.py:174: RuntimeWarning: divide by zero encountered in double_scalars\n",
      "  din[i] = 100 * (din_mio[i]/trs[i])\n",
      "/Users/neilkloot/anaconda/lib/python3.6/site-packages/ta/trend.py:174: RuntimeWarning: invalid value encountered in double_scalars\n",
      "  din[i] = 100 * (din_mio[i]/trs[i])\n",
      "/Users/neilkloot/anaconda/lib/python3.6/site-packages/ta/trend.py:176: RuntimeWarning: invalid value encountered in subtract\n",
      "  dx = 100 * np.abs((dip - din) / (dip + din))\n"
     ]
    },
    {
     "name": "stdout",
     "output_type": "stream",
     "text": [
      "Data split.  Total recs: (324, 283)\n",
      "Train recs: (227, 283)\n",
      "Remaining data recs: (97, 283)\n",
      "Validation recs: (48, 283)\n",
      "Remaining data recs: (49, 283)\n",
      "Test recs: (49, 283)\n"
     ]
    },
    {
     "name": "stderr",
     "output_type": "stream",
     "text": [
      "/Users/neilkloot/anaconda/lib/python3.6/site-packages/ta/trend.py:170: RuntimeWarning: divide by zero encountered in double_scalars\n",
      "  dip[i] = 100 * (dip_mio[i]/trs[i])\n",
      "/Users/neilkloot/anaconda/lib/python3.6/site-packages/ta/trend.py:170: RuntimeWarning: invalid value encountered in double_scalars\n",
      "  dip[i] = 100 * (dip_mio[i]/trs[i])\n",
      "/Users/neilkloot/anaconda/lib/python3.6/site-packages/ta/trend.py:174: RuntimeWarning: divide by zero encountered in double_scalars\n",
      "  din[i] = 100 * (din_mio[i]/trs[i])\n",
      "/Users/neilkloot/anaconda/lib/python3.6/site-packages/ta/trend.py:174: RuntimeWarning: invalid value encountered in double_scalars\n",
      "  din[i] = 100 * (din_mio[i]/trs[i])\n",
      "/Users/neilkloot/anaconda/lib/python3.6/site-packages/ta/trend.py:176: RuntimeWarning: invalid value encountered in subtract\n",
      "  dx = 100 * np.abs((dip - din) / (dip + din))\n"
     ]
    },
    {
     "name": "stdout",
     "output_type": "stream",
     "text": [
      "Data split.  Total recs: (409, 283)\n",
      "Train recs: (286, 283)\n",
      "Remaining data recs: (123, 283)\n",
      "Validation recs: (62, 283)\n",
      "Remaining data recs: (61, 283)\n",
      "Test recs: (61, 283)\n"
     ]
    },
    {
     "name": "stderr",
     "output_type": "stream",
     "text": [
      "/Users/neilkloot/anaconda/lib/python3.6/site-packages/ta/trend.py:170: RuntimeWarning: divide by zero encountered in double_scalars\n",
      "  dip[i] = 100 * (dip_mio[i]/trs[i])\n",
      "/Users/neilkloot/anaconda/lib/python3.6/site-packages/ta/trend.py:170: RuntimeWarning: invalid value encountered in double_scalars\n",
      "  dip[i] = 100 * (dip_mio[i]/trs[i])\n",
      "/Users/neilkloot/anaconda/lib/python3.6/site-packages/ta/trend.py:174: RuntimeWarning: divide by zero encountered in double_scalars\n",
      "  din[i] = 100 * (din_mio[i]/trs[i])\n",
      "/Users/neilkloot/anaconda/lib/python3.6/site-packages/ta/trend.py:174: RuntimeWarning: invalid value encountered in double_scalars\n",
      "  din[i] = 100 * (din_mio[i]/trs[i])\n",
      "/Users/neilkloot/anaconda/lib/python3.6/site-packages/ta/trend.py:176: RuntimeWarning: invalid value encountered in subtract\n",
      "  dx = 100 * np.abs((dip - din) / (dip + din))\n"
     ]
    },
    {
     "name": "stdout",
     "output_type": "stream",
     "text": [
      "Data split.  Total recs: (308, 283)\n",
      "Train recs: (216, 283)\n",
      "Remaining data recs: (92, 283)\n",
      "Validation recs: (46, 283)\n",
      "Remaining data recs: (46, 283)\n",
      "Test recs: (46, 283)\n"
     ]
    },
    {
     "name": "stderr",
     "output_type": "stream",
     "text": [
      "/Users/neilkloot/anaconda/lib/python3.6/site-packages/ta/trend.py:170: RuntimeWarning: divide by zero encountered in double_scalars\n",
      "  dip[i] = 100 * (dip_mio[i]/trs[i])\n",
      "/Users/neilkloot/anaconda/lib/python3.6/site-packages/ta/trend.py:170: RuntimeWarning: invalid value encountered in double_scalars\n",
      "  dip[i] = 100 * (dip_mio[i]/trs[i])\n",
      "/Users/neilkloot/anaconda/lib/python3.6/site-packages/ta/trend.py:174: RuntimeWarning: divide by zero encountered in double_scalars\n",
      "  din[i] = 100 * (din_mio[i]/trs[i])\n",
      "/Users/neilkloot/anaconda/lib/python3.6/site-packages/ta/trend.py:174: RuntimeWarning: invalid value encountered in double_scalars\n",
      "  din[i] = 100 * (din_mio[i]/trs[i])\n",
      "/Users/neilkloot/anaconda/lib/python3.6/site-packages/ta/trend.py:176: RuntimeWarning: invalid value encountered in subtract\n",
      "  dx = 100 * np.abs((dip - din) / (dip + din))\n"
     ]
    },
    {
     "name": "stdout",
     "output_type": "stream",
     "text": [
      "Data split.  Total recs: (608, 283)\n",
      "Train recs: (426, 283)\n",
      "Remaining data recs: (182, 283)\n",
      "Validation recs: (91, 283)\n",
      "Remaining data recs: (91, 283)\n",
      "Test recs: (91, 283)\n"
     ]
    },
    {
     "name": "stderr",
     "output_type": "stream",
     "text": [
      "/Users/neilkloot/anaconda/lib/python3.6/site-packages/ta/trend.py:170: RuntimeWarning: divide by zero encountered in double_scalars\n",
      "  dip[i] = 100 * (dip_mio[i]/trs[i])\n",
      "/Users/neilkloot/anaconda/lib/python3.6/site-packages/ta/trend.py:170: RuntimeWarning: invalid value encountered in double_scalars\n",
      "  dip[i] = 100 * (dip_mio[i]/trs[i])\n",
      "/Users/neilkloot/anaconda/lib/python3.6/site-packages/ta/trend.py:174: RuntimeWarning: divide by zero encountered in double_scalars\n",
      "  din[i] = 100 * (din_mio[i]/trs[i])\n",
      "/Users/neilkloot/anaconda/lib/python3.6/site-packages/ta/trend.py:174: RuntimeWarning: invalid value encountered in double_scalars\n",
      "  din[i] = 100 * (din_mio[i]/trs[i])\n",
      "/Users/neilkloot/anaconda/lib/python3.6/site-packages/ta/trend.py:176: RuntimeWarning: invalid value encountered in subtract\n",
      "  dx = 100 * np.abs((dip - din) / (dip + din))\n"
     ]
    },
    {
     "name": "stdout",
     "output_type": "stream",
     "text": [
      "Data split.  Total recs: (567, 283)\n",
      "Train recs: (397, 283)\n",
      "Remaining data recs: (170, 283)\n",
      "Validation recs: (85, 283)\n",
      "Remaining data recs: (85, 283)\n",
      "Test recs: (85, 283)\n"
     ]
    },
    {
     "name": "stderr",
     "output_type": "stream",
     "text": [
      "/Users/neilkloot/anaconda/lib/python3.6/site-packages/ta/trend.py:170: RuntimeWarning: divide by zero encountered in double_scalars\n",
      "  dip[i] = 100 * (dip_mio[i]/trs[i])\n",
      "/Users/neilkloot/anaconda/lib/python3.6/site-packages/ta/trend.py:170: RuntimeWarning: invalid value encountered in double_scalars\n",
      "  dip[i] = 100 * (dip_mio[i]/trs[i])\n",
      "/Users/neilkloot/anaconda/lib/python3.6/site-packages/ta/trend.py:174: RuntimeWarning: divide by zero encountered in double_scalars\n",
      "  din[i] = 100 * (din_mio[i]/trs[i])\n",
      "/Users/neilkloot/anaconda/lib/python3.6/site-packages/ta/trend.py:174: RuntimeWarning: invalid value encountered in double_scalars\n",
      "  din[i] = 100 * (din_mio[i]/trs[i])\n",
      "/Users/neilkloot/anaconda/lib/python3.6/site-packages/ta/trend.py:176: RuntimeWarning: invalid value encountered in subtract\n",
      "  dx = 100 * np.abs((dip - din) / (dip + din))\n"
     ]
    },
    {
     "name": "stdout",
     "output_type": "stream",
     "text": [
      "Data split.  Total recs: (608, 283)\n",
      "Train recs: (426, 283)\n",
      "Remaining data recs: (182, 283)\n",
      "Validation recs: (91, 283)\n",
      "Remaining data recs: (91, 283)\n",
      "Test recs: (91, 283)\n"
     ]
    },
    {
     "name": "stderr",
     "output_type": "stream",
     "text": [
      "/Users/neilkloot/anaconda/lib/python3.6/site-packages/ta/trend.py:170: RuntimeWarning: divide by zero encountered in double_scalars\n",
      "  dip[i] = 100 * (dip_mio[i]/trs[i])\n",
      "/Users/neilkloot/anaconda/lib/python3.6/site-packages/ta/trend.py:170: RuntimeWarning: invalid value encountered in double_scalars\n",
      "  dip[i] = 100 * (dip_mio[i]/trs[i])\n",
      "/Users/neilkloot/anaconda/lib/python3.6/site-packages/ta/trend.py:174: RuntimeWarning: divide by zero encountered in double_scalars\n",
      "  din[i] = 100 * (din_mio[i]/trs[i])\n",
      "/Users/neilkloot/anaconda/lib/python3.6/site-packages/ta/trend.py:174: RuntimeWarning: invalid value encountered in double_scalars\n",
      "  din[i] = 100 * (din_mio[i]/trs[i])\n",
      "/Users/neilkloot/anaconda/lib/python3.6/site-packages/ta/trend.py:176: RuntimeWarning: invalid value encountered in subtract\n",
      "  dx = 100 * np.abs((dip - din) / (dip + din))\n"
     ]
    },
    {
     "name": "stdout",
     "output_type": "stream",
     "text": [
      "Data split.  Total recs: (571, 283)\n",
      "Train recs: (400, 283)\n",
      "Remaining data recs: (171, 283)\n",
      "Validation recs: (86, 283)\n",
      "Remaining data recs: (85, 283)\n",
      "Test recs: (85, 283)\n"
     ]
    },
    {
     "name": "stderr",
     "output_type": "stream",
     "text": [
      "/Users/neilkloot/anaconda/lib/python3.6/site-packages/ta/trend.py:170: RuntimeWarning: divide by zero encountered in double_scalars\n",
      "  dip[i] = 100 * (dip_mio[i]/trs[i])\n",
      "/Users/neilkloot/anaconda/lib/python3.6/site-packages/ta/trend.py:170: RuntimeWarning: invalid value encountered in double_scalars\n",
      "  dip[i] = 100 * (dip_mio[i]/trs[i])\n",
      "/Users/neilkloot/anaconda/lib/python3.6/site-packages/ta/trend.py:174: RuntimeWarning: divide by zero encountered in double_scalars\n",
      "  din[i] = 100 * (din_mio[i]/trs[i])\n",
      "/Users/neilkloot/anaconda/lib/python3.6/site-packages/ta/trend.py:174: RuntimeWarning: invalid value encountered in double_scalars\n",
      "  din[i] = 100 * (din_mio[i]/trs[i])\n",
      "/Users/neilkloot/anaconda/lib/python3.6/site-packages/ta/trend.py:176: RuntimeWarning: invalid value encountered in subtract\n",
      "  dx = 100 * np.abs((dip - din) / (dip + din))\n"
     ]
    },
    {
     "name": "stdout",
     "output_type": "stream",
     "text": [
      "Data split.  Total recs: (608, 283)\n",
      "Train recs: (426, 283)\n",
      "Remaining data recs: (182, 283)\n",
      "Validation recs: (91, 283)\n",
      "Remaining data recs: (91, 283)\n",
      "Test recs: (91, 283)\n"
     ]
    },
    {
     "name": "stderr",
     "output_type": "stream",
     "text": [
      "/Users/neilkloot/anaconda/lib/python3.6/site-packages/ta/trend.py:170: RuntimeWarning: divide by zero encountered in double_scalars\n",
      "  dip[i] = 100 * (dip_mio[i]/trs[i])\n",
      "/Users/neilkloot/anaconda/lib/python3.6/site-packages/ta/trend.py:170: RuntimeWarning: invalid value encountered in double_scalars\n",
      "  dip[i] = 100 * (dip_mio[i]/trs[i])\n",
      "/Users/neilkloot/anaconda/lib/python3.6/site-packages/ta/trend.py:174: RuntimeWarning: divide by zero encountered in double_scalars\n",
      "  din[i] = 100 * (din_mio[i]/trs[i])\n",
      "/Users/neilkloot/anaconda/lib/python3.6/site-packages/ta/trend.py:174: RuntimeWarning: invalid value encountered in double_scalars\n",
      "  din[i] = 100 * (din_mio[i]/trs[i])\n",
      "/Users/neilkloot/anaconda/lib/python3.6/site-packages/ta/trend.py:176: RuntimeWarning: invalid value encountered in subtract\n",
      "  dx = 100 * np.abs((dip - din) / (dip + din))\n"
     ]
    },
    {
     "name": "stdout",
     "output_type": "stream",
     "text": [
      "Data split.  Total recs: (608, 283)\n",
      "Train recs: (426, 283)\n",
      "Remaining data recs: (182, 283)\n",
      "Validation recs: (91, 283)\n",
      "Remaining data recs: (91, 283)\n",
      "Test recs: (91, 283)\n"
     ]
    },
    {
     "name": "stderr",
     "output_type": "stream",
     "text": [
      "/Users/neilkloot/anaconda/lib/python3.6/site-packages/ta/trend.py:170: RuntimeWarning: divide by zero encountered in double_scalars\n",
      "  dip[i] = 100 * (dip_mio[i]/trs[i])\n",
      "/Users/neilkloot/anaconda/lib/python3.6/site-packages/ta/trend.py:170: RuntimeWarning: invalid value encountered in double_scalars\n",
      "  dip[i] = 100 * (dip_mio[i]/trs[i])\n",
      "/Users/neilkloot/anaconda/lib/python3.6/site-packages/ta/trend.py:174: RuntimeWarning: divide by zero encountered in double_scalars\n",
      "  din[i] = 100 * (din_mio[i]/trs[i])\n",
      "/Users/neilkloot/anaconda/lib/python3.6/site-packages/ta/trend.py:174: RuntimeWarning: invalid value encountered in double_scalars\n",
      "  din[i] = 100 * (din_mio[i]/trs[i])\n",
      "/Users/neilkloot/anaconda/lib/python3.6/site-packages/ta/trend.py:176: RuntimeWarning: invalid value encountered in subtract\n",
      "  dx = 100 * np.abs((dip - din) / (dip + din))\n"
     ]
    },
    {
     "name": "stdout",
     "output_type": "stream",
     "text": [
      "Data split.  Total recs: (578, 283)\n",
      "Train recs: (405, 283)\n",
      "Remaining data recs: (173, 283)\n",
      "Validation recs: (86, 283)\n",
      "Remaining data recs: (87, 283)\n",
      "Test recs: (87, 283)\n"
     ]
    },
    {
     "name": "stderr",
     "output_type": "stream",
     "text": [
      "/Users/neilkloot/anaconda/lib/python3.6/site-packages/ta/trend.py:170: RuntimeWarning: divide by zero encountered in double_scalars\n",
      "  dip[i] = 100 * (dip_mio[i]/trs[i])\n",
      "/Users/neilkloot/anaconda/lib/python3.6/site-packages/ta/trend.py:170: RuntimeWarning: invalid value encountered in double_scalars\n",
      "  dip[i] = 100 * (dip_mio[i]/trs[i])\n",
      "/Users/neilkloot/anaconda/lib/python3.6/site-packages/ta/trend.py:174: RuntimeWarning: divide by zero encountered in double_scalars\n",
      "  din[i] = 100 * (din_mio[i]/trs[i])\n",
      "/Users/neilkloot/anaconda/lib/python3.6/site-packages/ta/trend.py:174: RuntimeWarning: invalid value encountered in double_scalars\n",
      "  din[i] = 100 * (din_mio[i]/trs[i])\n",
      "/Users/neilkloot/anaconda/lib/python3.6/site-packages/ta/trend.py:176: RuntimeWarning: invalid value encountered in subtract\n",
      "  dx = 100 * np.abs((dip - din) / (dip + din))\n"
     ]
    },
    {
     "name": "stdout",
     "output_type": "stream",
     "text": [
      "Data split.  Total recs: (573, 283)\n",
      "Train recs: (401, 283)\n",
      "Remaining data recs: (172, 283)\n",
      "Validation recs: (86, 283)\n",
      "Remaining data recs: (86, 283)\n",
      "Test recs: (86, 283)\n"
     ]
    },
    {
     "name": "stderr",
     "output_type": "stream",
     "text": [
      "/Users/neilkloot/anaconda/lib/python3.6/site-packages/ta/trend.py:170: RuntimeWarning: divide by zero encountered in double_scalars\n",
      "  dip[i] = 100 * (dip_mio[i]/trs[i])\n",
      "/Users/neilkloot/anaconda/lib/python3.6/site-packages/ta/trend.py:170: RuntimeWarning: invalid value encountered in double_scalars\n",
      "  dip[i] = 100 * (dip_mio[i]/trs[i])\n",
      "/Users/neilkloot/anaconda/lib/python3.6/site-packages/ta/trend.py:174: RuntimeWarning: divide by zero encountered in double_scalars\n",
      "  din[i] = 100 * (din_mio[i]/trs[i])\n",
      "/Users/neilkloot/anaconda/lib/python3.6/site-packages/ta/trend.py:174: RuntimeWarning: invalid value encountered in double_scalars\n",
      "  din[i] = 100 * (din_mio[i]/trs[i])\n",
      "/Users/neilkloot/anaconda/lib/python3.6/site-packages/ta/trend.py:176: RuntimeWarning: invalid value encountered in subtract\n",
      "  dx = 100 * np.abs((dip - din) / (dip + din))\n"
     ]
    },
    {
     "name": "stdout",
     "output_type": "stream",
     "text": [
      "Data split.  Total recs: (608, 283)\n",
      "Train recs: (426, 283)\n",
      "Remaining data recs: (182, 283)\n",
      "Validation recs: (91, 283)\n",
      "Remaining data recs: (91, 283)\n",
      "Test recs: (91, 283)\n"
     ]
    },
    {
     "name": "stderr",
     "output_type": "stream",
     "text": [
      "/Users/neilkloot/anaconda/lib/python3.6/site-packages/ta/trend.py:170: RuntimeWarning: divide by zero encountered in double_scalars\n",
      "  dip[i] = 100 * (dip_mio[i]/trs[i])\n",
      "/Users/neilkloot/anaconda/lib/python3.6/site-packages/ta/trend.py:170: RuntimeWarning: invalid value encountered in double_scalars\n",
      "  dip[i] = 100 * (dip_mio[i]/trs[i])\n",
      "/Users/neilkloot/anaconda/lib/python3.6/site-packages/ta/trend.py:174: RuntimeWarning: divide by zero encountered in double_scalars\n",
      "  din[i] = 100 * (din_mio[i]/trs[i])\n",
      "/Users/neilkloot/anaconda/lib/python3.6/site-packages/ta/trend.py:174: RuntimeWarning: invalid value encountered in double_scalars\n",
      "  din[i] = 100 * (din_mio[i]/trs[i])\n",
      "/Users/neilkloot/anaconda/lib/python3.6/site-packages/ta/trend.py:176: RuntimeWarning: invalid value encountered in subtract\n",
      "  dx = 100 * np.abs((dip - din) / (dip + din))\n"
     ]
    },
    {
     "name": "stdout",
     "output_type": "stream",
     "text": [
      "Data split.  Total recs: (608, 283)\n",
      "Train recs: (426, 283)\n",
      "Remaining data recs: (182, 283)\n",
      "Validation recs: (91, 283)\n",
      "Remaining data recs: (91, 283)\n",
      "Test recs: (91, 283)\n"
     ]
    },
    {
     "name": "stderr",
     "output_type": "stream",
     "text": [
      "/Users/neilkloot/anaconda/lib/python3.6/site-packages/ta/trend.py:170: RuntimeWarning: divide by zero encountered in double_scalars\n",
      "  dip[i] = 100 * (dip_mio[i]/trs[i])\n",
      "/Users/neilkloot/anaconda/lib/python3.6/site-packages/ta/trend.py:170: RuntimeWarning: invalid value encountered in double_scalars\n",
      "  dip[i] = 100 * (dip_mio[i]/trs[i])\n",
      "/Users/neilkloot/anaconda/lib/python3.6/site-packages/ta/trend.py:174: RuntimeWarning: divide by zero encountered in double_scalars\n",
      "  din[i] = 100 * (din_mio[i]/trs[i])\n",
      "/Users/neilkloot/anaconda/lib/python3.6/site-packages/ta/trend.py:174: RuntimeWarning: invalid value encountered in double_scalars\n",
      "  din[i] = 100 * (din_mio[i]/trs[i])\n",
      "/Users/neilkloot/anaconda/lib/python3.6/site-packages/ta/trend.py:176: RuntimeWarning: invalid value encountered in subtract\n",
      "  dx = 100 * np.abs((dip - din) / (dip + din))\n"
     ]
    },
    {
     "name": "stdout",
     "output_type": "stream",
     "text": [
      "Data split.  Total recs: (244, 283)\n",
      "Train recs: (171, 283)\n",
      "Remaining data recs: (73, 283)\n",
      "Validation recs: (36, 283)\n",
      "Remaining data recs: (37, 283)\n",
      "Test recs: (37, 283)\n"
     ]
    },
    {
     "name": "stderr",
     "output_type": "stream",
     "text": [
      "/Users/neilkloot/anaconda/lib/python3.6/site-packages/ta/trend.py:170: RuntimeWarning: divide by zero encountered in double_scalars\n",
      "  dip[i] = 100 * (dip_mio[i]/trs[i])\n",
      "/Users/neilkloot/anaconda/lib/python3.6/site-packages/ta/trend.py:170: RuntimeWarning: invalid value encountered in double_scalars\n",
      "  dip[i] = 100 * (dip_mio[i]/trs[i])\n",
      "/Users/neilkloot/anaconda/lib/python3.6/site-packages/ta/trend.py:174: RuntimeWarning: divide by zero encountered in double_scalars\n",
      "  din[i] = 100 * (din_mio[i]/trs[i])\n",
      "/Users/neilkloot/anaconda/lib/python3.6/site-packages/ta/trend.py:174: RuntimeWarning: invalid value encountered in double_scalars\n",
      "  din[i] = 100 * (din_mio[i]/trs[i])\n",
      "/Users/neilkloot/anaconda/lib/python3.6/site-packages/ta/trend.py:176: RuntimeWarning: invalid value encountered in subtract\n",
      "  dx = 100 * np.abs((dip - din) / (dip + din))\n"
     ]
    },
    {
     "name": "stdout",
     "output_type": "stream",
     "text": [
      "Data split.  Total recs: (130, 283)\n",
      "Train recs: (91, 283)\n",
      "Remaining data recs: (39, 283)\n",
      "Validation recs: (20, 283)\n",
      "Remaining data recs: (19, 283)\n",
      "Test recs: (19, 283)\n"
     ]
    },
    {
     "name": "stderr",
     "output_type": "stream",
     "text": [
      "/Users/neilkloot/anaconda/lib/python3.6/site-packages/ta/trend.py:170: RuntimeWarning: divide by zero encountered in double_scalars\n",
      "  dip[i] = 100 * (dip_mio[i]/trs[i])\n",
      "/Users/neilkloot/anaconda/lib/python3.6/site-packages/ta/trend.py:170: RuntimeWarning: invalid value encountered in double_scalars\n",
      "  dip[i] = 100 * (dip_mio[i]/trs[i])\n",
      "/Users/neilkloot/anaconda/lib/python3.6/site-packages/ta/trend.py:174: RuntimeWarning: divide by zero encountered in double_scalars\n",
      "  din[i] = 100 * (din_mio[i]/trs[i])\n",
      "/Users/neilkloot/anaconda/lib/python3.6/site-packages/ta/trend.py:174: RuntimeWarning: invalid value encountered in double_scalars\n",
      "  din[i] = 100 * (din_mio[i]/trs[i])\n",
      "/Users/neilkloot/anaconda/lib/python3.6/site-packages/ta/trend.py:176: RuntimeWarning: invalid value encountered in subtract\n",
      "  dx = 100 * np.abs((dip - din) / (dip + din))\n"
     ]
    },
    {
     "name": "stdout",
     "output_type": "stream",
     "text": [
      "Data split.  Total recs: (336, 283)\n",
      "Train recs: (235, 283)\n",
      "Remaining data recs: (101, 283)\n",
      "Validation recs: (50, 283)\n",
      "Remaining data recs: (51, 283)\n",
      "Test recs: (51, 283)\n"
     ]
    },
    {
     "name": "stderr",
     "output_type": "stream",
     "text": [
      "/Users/neilkloot/anaconda/lib/python3.6/site-packages/ta/trend.py:170: RuntimeWarning: divide by zero encountered in double_scalars\n",
      "  dip[i] = 100 * (dip_mio[i]/trs[i])\n",
      "/Users/neilkloot/anaconda/lib/python3.6/site-packages/ta/trend.py:170: RuntimeWarning: invalid value encountered in double_scalars\n",
      "  dip[i] = 100 * (dip_mio[i]/trs[i])\n",
      "/Users/neilkloot/anaconda/lib/python3.6/site-packages/ta/trend.py:174: RuntimeWarning: divide by zero encountered in double_scalars\n",
      "  din[i] = 100 * (din_mio[i]/trs[i])\n",
      "/Users/neilkloot/anaconda/lib/python3.6/site-packages/ta/trend.py:174: RuntimeWarning: invalid value encountered in double_scalars\n",
      "  din[i] = 100 * (din_mio[i]/trs[i])\n",
      "/Users/neilkloot/anaconda/lib/python3.6/site-packages/ta/trend.py:176: RuntimeWarning: invalid value encountered in subtract\n",
      "  dx = 100 * np.abs((dip - din) / (dip + din))\n"
     ]
    },
    {
     "name": "stdout",
     "output_type": "stream",
     "text": [
      "Data split.  Total recs: (364, 283)\n",
      "Train recs: (255, 283)\n",
      "Remaining data recs: (109, 283)\n",
      "Validation recs: (54, 283)\n",
      "Remaining data recs: (55, 283)\n",
      "Test recs: (55, 283)\n"
     ]
    },
    {
     "name": "stderr",
     "output_type": "stream",
     "text": [
      "/Users/neilkloot/anaconda/lib/python3.6/site-packages/ta/trend.py:170: RuntimeWarning: divide by zero encountered in double_scalars\n",
      "  dip[i] = 100 * (dip_mio[i]/trs[i])\n",
      "/Users/neilkloot/anaconda/lib/python3.6/site-packages/ta/trend.py:170: RuntimeWarning: invalid value encountered in double_scalars\n",
      "  dip[i] = 100 * (dip_mio[i]/trs[i])\n",
      "/Users/neilkloot/anaconda/lib/python3.6/site-packages/ta/trend.py:174: RuntimeWarning: divide by zero encountered in double_scalars\n",
      "  din[i] = 100 * (din_mio[i]/trs[i])\n",
      "/Users/neilkloot/anaconda/lib/python3.6/site-packages/ta/trend.py:174: RuntimeWarning: invalid value encountered in double_scalars\n",
      "  din[i] = 100 * (din_mio[i]/trs[i])\n",
      "/Users/neilkloot/anaconda/lib/python3.6/site-packages/ta/trend.py:176: RuntimeWarning: invalid value encountered in subtract\n",
      "  dx = 100 * np.abs((dip - din) / (dip + din))\n"
     ]
    },
    {
     "name": "stdout",
     "output_type": "stream",
     "text": [
      "Data split.  Total recs: (139, 283)\n",
      "Train recs: (97, 283)\n",
      "Remaining data recs: (42, 283)\n",
      "Validation recs: (21, 283)\n",
      "Remaining data recs: (21, 283)\n",
      "Test recs: (21, 283)\n"
     ]
    },
    {
     "name": "stderr",
     "output_type": "stream",
     "text": [
      "/Users/neilkloot/anaconda/lib/python3.6/site-packages/ta/trend.py:170: RuntimeWarning: divide by zero encountered in double_scalars\n",
      "  dip[i] = 100 * (dip_mio[i]/trs[i])\n",
      "/Users/neilkloot/anaconda/lib/python3.6/site-packages/ta/trend.py:170: RuntimeWarning: invalid value encountered in double_scalars\n",
      "  dip[i] = 100 * (dip_mio[i]/trs[i])\n",
      "/Users/neilkloot/anaconda/lib/python3.6/site-packages/ta/trend.py:174: RuntimeWarning: divide by zero encountered in double_scalars\n",
      "  din[i] = 100 * (din_mio[i]/trs[i])\n",
      "/Users/neilkloot/anaconda/lib/python3.6/site-packages/ta/trend.py:174: RuntimeWarning: invalid value encountered in double_scalars\n",
      "  din[i] = 100 * (din_mio[i]/trs[i])\n",
      "/Users/neilkloot/anaconda/lib/python3.6/site-packages/ta/trend.py:176: RuntimeWarning: invalid value encountered in subtract\n",
      "  dx = 100 * np.abs((dip - din) / (dip + din))\n"
     ]
    },
    {
     "name": "stdout",
     "output_type": "stream",
     "text": [
      "Data split.  Total recs: (608, 283)\n",
      "Train recs: (426, 283)\n",
      "Remaining data recs: (182, 283)\n",
      "Validation recs: (91, 283)\n",
      "Remaining data recs: (91, 283)\n",
      "Test recs: (91, 283)\n"
     ]
    },
    {
     "name": "stderr",
     "output_type": "stream",
     "text": [
      "/Users/neilkloot/anaconda/lib/python3.6/site-packages/ta/trend.py:170: RuntimeWarning: divide by zero encountered in double_scalars\n",
      "  dip[i] = 100 * (dip_mio[i]/trs[i])\n",
      "/Users/neilkloot/anaconda/lib/python3.6/site-packages/ta/trend.py:170: RuntimeWarning: invalid value encountered in double_scalars\n",
      "  dip[i] = 100 * (dip_mio[i]/trs[i])\n",
      "/Users/neilkloot/anaconda/lib/python3.6/site-packages/ta/trend.py:174: RuntimeWarning: divide by zero encountered in double_scalars\n",
      "  din[i] = 100 * (din_mio[i]/trs[i])\n",
      "/Users/neilkloot/anaconda/lib/python3.6/site-packages/ta/trend.py:174: RuntimeWarning: invalid value encountered in double_scalars\n",
      "  din[i] = 100 * (din_mio[i]/trs[i])\n",
      "/Users/neilkloot/anaconda/lib/python3.6/site-packages/ta/trend.py:176: RuntimeWarning: invalid value encountered in subtract\n",
      "  dx = 100 * np.abs((dip - din) / (dip + din))\n"
     ]
    },
    {
     "name": "stdout",
     "output_type": "stream",
     "text": [
      "Data split.  Total recs: (587, 283)\n",
      "Train recs: (411, 283)\n",
      "Remaining data recs: (176, 283)\n",
      "Validation recs: (88, 283)\n",
      "Remaining data recs: (88, 283)\n",
      "Test recs: (88, 283)\n"
     ]
    },
    {
     "name": "stderr",
     "output_type": "stream",
     "text": [
      "/Users/neilkloot/anaconda/lib/python3.6/site-packages/ta/trend.py:170: RuntimeWarning: divide by zero encountered in double_scalars\n",
      "  dip[i] = 100 * (dip_mio[i]/trs[i])\n",
      "/Users/neilkloot/anaconda/lib/python3.6/site-packages/ta/trend.py:170: RuntimeWarning: invalid value encountered in double_scalars\n",
      "  dip[i] = 100 * (dip_mio[i]/trs[i])\n",
      "/Users/neilkloot/anaconda/lib/python3.6/site-packages/ta/trend.py:174: RuntimeWarning: divide by zero encountered in double_scalars\n",
      "  din[i] = 100 * (din_mio[i]/trs[i])\n",
      "/Users/neilkloot/anaconda/lib/python3.6/site-packages/ta/trend.py:174: RuntimeWarning: invalid value encountered in double_scalars\n",
      "  din[i] = 100 * (din_mio[i]/trs[i])\n",
      "/Users/neilkloot/anaconda/lib/python3.6/site-packages/ta/trend.py:176: RuntimeWarning: invalid value encountered in subtract\n",
      "  dx = 100 * np.abs((dip - din) / (dip + din))\n"
     ]
    },
    {
     "name": "stdout",
     "output_type": "stream",
     "text": [
      "Data split.  Total recs: (136, 283)\n",
      "Train recs: (95, 283)\n",
      "Remaining data recs: (41, 283)\n",
      "Validation recs: (20, 283)\n",
      "Remaining data recs: (21, 283)\n",
      "Test recs: (21, 283)\n"
     ]
    },
    {
     "name": "stderr",
     "output_type": "stream",
     "text": [
      "/Users/neilkloot/anaconda/lib/python3.6/site-packages/ta/trend.py:170: RuntimeWarning: divide by zero encountered in double_scalars\n",
      "  dip[i] = 100 * (dip_mio[i]/trs[i])\n",
      "/Users/neilkloot/anaconda/lib/python3.6/site-packages/ta/trend.py:170: RuntimeWarning: invalid value encountered in double_scalars\n",
      "  dip[i] = 100 * (dip_mio[i]/trs[i])\n",
      "/Users/neilkloot/anaconda/lib/python3.6/site-packages/ta/trend.py:174: RuntimeWarning: divide by zero encountered in double_scalars\n",
      "  din[i] = 100 * (din_mio[i]/trs[i])\n",
      "/Users/neilkloot/anaconda/lib/python3.6/site-packages/ta/trend.py:174: RuntimeWarning: invalid value encountered in double_scalars\n",
      "  din[i] = 100 * (din_mio[i]/trs[i])\n",
      "/Users/neilkloot/anaconda/lib/python3.6/site-packages/ta/trend.py:176: RuntimeWarning: invalid value encountered in subtract\n",
      "  dx = 100 * np.abs((dip - din) / (dip + din))\n"
     ]
    },
    {
     "name": "stdout",
     "output_type": "stream",
     "text": [
      "Data split.  Total recs: (443, 283)\n",
      "Train recs: (310, 283)\n",
      "Remaining data recs: (133, 283)\n",
      "Validation recs: (66, 283)\n",
      "Remaining data recs: (67, 283)\n",
      "Test recs: (67, 283)\n"
     ]
    },
    {
     "name": "stderr",
     "output_type": "stream",
     "text": [
      "/Users/neilkloot/anaconda/lib/python3.6/site-packages/ta/trend.py:170: RuntimeWarning: divide by zero encountered in double_scalars\n",
      "  dip[i] = 100 * (dip_mio[i]/trs[i])\n",
      "/Users/neilkloot/anaconda/lib/python3.6/site-packages/ta/trend.py:170: RuntimeWarning: invalid value encountered in double_scalars\n",
      "  dip[i] = 100 * (dip_mio[i]/trs[i])\n",
      "/Users/neilkloot/anaconda/lib/python3.6/site-packages/ta/trend.py:174: RuntimeWarning: divide by zero encountered in double_scalars\n",
      "  din[i] = 100 * (din_mio[i]/trs[i])\n",
      "/Users/neilkloot/anaconda/lib/python3.6/site-packages/ta/trend.py:174: RuntimeWarning: invalid value encountered in double_scalars\n",
      "  din[i] = 100 * (din_mio[i]/trs[i])\n",
      "/Users/neilkloot/anaconda/lib/python3.6/site-packages/ta/trend.py:176: RuntimeWarning: invalid value encountered in subtract\n",
      "  dx = 100 * np.abs((dip - din) / (dip + din))\n"
     ]
    },
    {
     "name": "stdout",
     "output_type": "stream",
     "text": [
      "Data split.  Total recs: (607, 283)\n",
      "Train recs: (425, 283)\n",
      "Remaining data recs: (182, 283)\n",
      "Validation recs: (91, 283)\n",
      "Remaining data recs: (91, 283)\n",
      "Test recs: (91, 283)\n"
     ]
    },
    {
     "name": "stderr",
     "output_type": "stream",
     "text": [
      "/Users/neilkloot/anaconda/lib/python3.6/site-packages/ta/trend.py:170: RuntimeWarning: invalid value encountered in double_scalars\n",
      "  dip[i] = 100 * (dip_mio[i]/trs[i])\n",
      "/Users/neilkloot/anaconda/lib/python3.6/site-packages/ta/trend.py:174: RuntimeWarning: divide by zero encountered in double_scalars\n",
      "  din[i] = 100 * (din_mio[i]/trs[i])\n",
      "/Users/neilkloot/anaconda/lib/python3.6/site-packages/ta/trend.py:174: RuntimeWarning: invalid value encountered in double_scalars\n",
      "  din[i] = 100 * (din_mio[i]/trs[i])\n"
     ]
    },
    {
     "name": "stdout",
     "output_type": "stream",
     "text": [
      "Data split.  Total recs: (207, 283)\n",
      "Train recs: (145, 283)\n",
      "Remaining data recs: (62, 283)\n",
      "Validation recs: (31, 283)\n",
      "Remaining data recs: (31, 283)\n",
      "Test recs: (31, 283)\n"
     ]
    },
    {
     "name": "stderr",
     "output_type": "stream",
     "text": [
      "/Users/neilkloot/anaconda/lib/python3.6/site-packages/ta/trend.py:170: RuntimeWarning: divide by zero encountered in double_scalars\n",
      "  dip[i] = 100 * (dip_mio[i]/trs[i])\n",
      "/Users/neilkloot/anaconda/lib/python3.6/site-packages/ta/trend.py:170: RuntimeWarning: invalid value encountered in double_scalars\n",
      "  dip[i] = 100 * (dip_mio[i]/trs[i])\n",
      "/Users/neilkloot/anaconda/lib/python3.6/site-packages/ta/trend.py:174: RuntimeWarning: divide by zero encountered in double_scalars\n",
      "  din[i] = 100 * (din_mio[i]/trs[i])\n",
      "/Users/neilkloot/anaconda/lib/python3.6/site-packages/ta/trend.py:174: RuntimeWarning: invalid value encountered in double_scalars\n",
      "  din[i] = 100 * (din_mio[i]/trs[i])\n",
      "/Users/neilkloot/anaconda/lib/python3.6/site-packages/ta/trend.py:176: RuntimeWarning: invalid value encountered in subtract\n",
      "  dx = 100 * np.abs((dip - din) / (dip + din))\n"
     ]
    },
    {
     "name": "stdout",
     "output_type": "stream",
     "text": [
      "Data split.  Total recs: (335, 283)\n",
      "Train recs: (234, 283)\n",
      "Remaining data recs: (101, 283)\n",
      "Validation recs: (50, 283)\n",
      "Remaining data recs: (51, 283)\n",
      "Test recs: (51, 283)\n"
     ]
    },
    {
     "name": "stderr",
     "output_type": "stream",
     "text": [
      "/Users/neilkloot/anaconda/lib/python3.6/site-packages/ta/trend.py:170: RuntimeWarning: divide by zero encountered in double_scalars\n",
      "  dip[i] = 100 * (dip_mio[i]/trs[i])\n",
      "/Users/neilkloot/anaconda/lib/python3.6/site-packages/ta/trend.py:170: RuntimeWarning: invalid value encountered in double_scalars\n",
      "  dip[i] = 100 * (dip_mio[i]/trs[i])\n",
      "/Users/neilkloot/anaconda/lib/python3.6/site-packages/ta/trend.py:174: RuntimeWarning: divide by zero encountered in double_scalars\n",
      "  din[i] = 100 * (din_mio[i]/trs[i])\n",
      "/Users/neilkloot/anaconda/lib/python3.6/site-packages/ta/trend.py:174: RuntimeWarning: invalid value encountered in double_scalars\n",
      "  din[i] = 100 * (din_mio[i]/trs[i])\n",
      "/Users/neilkloot/anaconda/lib/python3.6/site-packages/ta/trend.py:176: RuntimeWarning: invalid value encountered in subtract\n",
      "  dx = 100 * np.abs((dip - din) / (dip + din))\n"
     ]
    },
    {
     "name": "stdout",
     "output_type": "stream",
     "text": [
      "Data split.  Total recs: (471, 283)\n",
      "Train recs: (330, 283)\n",
      "Remaining data recs: (141, 283)\n",
      "Validation recs: (70, 283)\n",
      "Remaining data recs: (71, 283)\n",
      "Test recs: (71, 283)\n"
     ]
    },
    {
     "name": "stderr",
     "output_type": "stream",
     "text": [
      "/Users/neilkloot/anaconda/lib/python3.6/site-packages/ta/trend.py:170: RuntimeWarning: divide by zero encountered in double_scalars\n",
      "  dip[i] = 100 * (dip_mio[i]/trs[i])\n",
      "/Users/neilkloot/anaconda/lib/python3.6/site-packages/ta/trend.py:170: RuntimeWarning: invalid value encountered in double_scalars\n",
      "  dip[i] = 100 * (dip_mio[i]/trs[i])\n",
      "/Users/neilkloot/anaconda/lib/python3.6/site-packages/ta/trend.py:174: RuntimeWarning: divide by zero encountered in double_scalars\n",
      "  din[i] = 100 * (din_mio[i]/trs[i])\n",
      "/Users/neilkloot/anaconda/lib/python3.6/site-packages/ta/trend.py:174: RuntimeWarning: invalid value encountered in double_scalars\n",
      "  din[i] = 100 * (din_mio[i]/trs[i])\n",
      "/Users/neilkloot/anaconda/lib/python3.6/site-packages/ta/trend.py:176: RuntimeWarning: invalid value encountered in subtract\n",
      "  dx = 100 * np.abs((dip - din) / (dip + din))\n"
     ]
    },
    {
     "name": "stdout",
     "output_type": "stream",
     "text": [
      "Data split.  Total recs: (580, 283)\n",
      "Train recs: (406, 283)\n",
      "Remaining data recs: (174, 283)\n",
      "Validation recs: (87, 283)\n",
      "Remaining data recs: (87, 283)\n",
      "Test recs: (87, 283)\n"
     ]
    },
    {
     "name": "stderr",
     "output_type": "stream",
     "text": [
      "/Users/neilkloot/anaconda/lib/python3.6/site-packages/ta/trend.py:170: RuntimeWarning: divide by zero encountered in double_scalars\n",
      "  dip[i] = 100 * (dip_mio[i]/trs[i])\n",
      "/Users/neilkloot/anaconda/lib/python3.6/site-packages/ta/trend.py:170: RuntimeWarning: invalid value encountered in double_scalars\n",
      "  dip[i] = 100 * (dip_mio[i]/trs[i])\n",
      "/Users/neilkloot/anaconda/lib/python3.6/site-packages/ta/trend.py:174: RuntimeWarning: divide by zero encountered in double_scalars\n",
      "  din[i] = 100 * (din_mio[i]/trs[i])\n",
      "/Users/neilkloot/anaconda/lib/python3.6/site-packages/ta/trend.py:174: RuntimeWarning: invalid value encountered in double_scalars\n",
      "  din[i] = 100 * (din_mio[i]/trs[i])\n",
      "/Users/neilkloot/anaconda/lib/python3.6/site-packages/ta/trend.py:176: RuntimeWarning: invalid value encountered in subtract\n",
      "  dx = 100 * np.abs((dip - din) / (dip + din))\n"
     ]
    },
    {
     "name": "stdout",
     "output_type": "stream",
     "text": [
      "Data split.  Total recs: (318, 283)\n",
      "Train recs: (223, 283)\n",
      "Remaining data recs: (95, 283)\n",
      "Validation recs: (48, 283)\n",
      "Remaining data recs: (47, 283)\n",
      "Test recs: (47, 283)\n"
     ]
    },
    {
     "name": "stderr",
     "output_type": "stream",
     "text": [
      "/Users/neilkloot/anaconda/lib/python3.6/site-packages/ta/trend.py:170: RuntimeWarning: divide by zero encountered in double_scalars\n",
      "  dip[i] = 100 * (dip_mio[i]/trs[i])\n",
      "/Users/neilkloot/anaconda/lib/python3.6/site-packages/ta/trend.py:170: RuntimeWarning: invalid value encountered in double_scalars\n",
      "  dip[i] = 100 * (dip_mio[i]/trs[i])\n",
      "/Users/neilkloot/anaconda/lib/python3.6/site-packages/ta/trend.py:174: RuntimeWarning: divide by zero encountered in double_scalars\n",
      "  din[i] = 100 * (din_mio[i]/trs[i])\n",
      "/Users/neilkloot/anaconda/lib/python3.6/site-packages/ta/trend.py:174: RuntimeWarning: invalid value encountered in double_scalars\n",
      "  din[i] = 100 * (din_mio[i]/trs[i])\n",
      "/Users/neilkloot/anaconda/lib/python3.6/site-packages/ta/trend.py:176: RuntimeWarning: invalid value encountered in subtract\n",
      "  dx = 100 * np.abs((dip - din) / (dip + din))\n"
     ]
    },
    {
     "name": "stdout",
     "output_type": "stream",
     "text": [
      "Data split.  Total recs: (607, 283)\n",
      "Train recs: (425, 283)\n",
      "Remaining data recs: (182, 283)\n",
      "Validation recs: (91, 283)\n",
      "Remaining data recs: (91, 283)\n",
      "Test recs: (91, 283)\n"
     ]
    },
    {
     "name": "stderr",
     "output_type": "stream",
     "text": [
      "/Users/neilkloot/anaconda/lib/python3.6/site-packages/ta/trend.py:170: RuntimeWarning: divide by zero encountered in double_scalars\n",
      "  dip[i] = 100 * (dip_mio[i]/trs[i])\n",
      "/Users/neilkloot/anaconda/lib/python3.6/site-packages/ta/trend.py:170: RuntimeWarning: invalid value encountered in double_scalars\n",
      "  dip[i] = 100 * (dip_mio[i]/trs[i])\n",
      "/Users/neilkloot/anaconda/lib/python3.6/site-packages/ta/trend.py:174: RuntimeWarning: divide by zero encountered in double_scalars\n",
      "  din[i] = 100 * (din_mio[i]/trs[i])\n",
      "/Users/neilkloot/anaconda/lib/python3.6/site-packages/ta/trend.py:174: RuntimeWarning: invalid value encountered in double_scalars\n",
      "  din[i] = 100 * (din_mio[i]/trs[i])\n",
      "/Users/neilkloot/anaconda/lib/python3.6/site-packages/ta/trend.py:176: RuntimeWarning: invalid value encountered in subtract\n",
      "  dx = 100 * np.abs((dip - din) / (dip + din))\n"
     ]
    },
    {
     "name": "stdout",
     "output_type": "stream",
     "text": [
      "Data split.  Total recs: (606, 283)\n",
      "Train recs: (424, 283)\n",
      "Remaining data recs: (182, 283)\n",
      "Validation recs: (91, 283)\n",
      "Remaining data recs: (91, 283)\n",
      "Test recs: (91, 283)\n"
     ]
    },
    {
     "name": "stderr",
     "output_type": "stream",
     "text": [
      "/Users/neilkloot/anaconda/lib/python3.6/site-packages/ta/trend.py:170: RuntimeWarning: divide by zero encountered in double_scalars\n",
      "  dip[i] = 100 * (dip_mio[i]/trs[i])\n",
      "/Users/neilkloot/anaconda/lib/python3.6/site-packages/ta/trend.py:170: RuntimeWarning: invalid value encountered in double_scalars\n",
      "  dip[i] = 100 * (dip_mio[i]/trs[i])\n",
      "/Users/neilkloot/anaconda/lib/python3.6/site-packages/ta/trend.py:174: RuntimeWarning: divide by zero encountered in double_scalars\n",
      "  din[i] = 100 * (din_mio[i]/trs[i])\n",
      "/Users/neilkloot/anaconda/lib/python3.6/site-packages/ta/trend.py:174: RuntimeWarning: invalid value encountered in double_scalars\n",
      "  din[i] = 100 * (din_mio[i]/trs[i])\n",
      "/Users/neilkloot/anaconda/lib/python3.6/site-packages/ta/trend.py:176: RuntimeWarning: invalid value encountered in subtract\n",
      "  dx = 100 * np.abs((dip - din) / (dip + din))\n"
     ]
    },
    {
     "name": "stdout",
     "output_type": "stream",
     "text": [
      "Data split.  Total recs: (458, 283)\n",
      "Train recs: (321, 283)\n",
      "Remaining data recs: (137, 283)\n",
      "Validation recs: (68, 283)\n",
      "Remaining data recs: (69, 283)\n",
      "Test recs: (69, 283)\n"
     ]
    },
    {
     "name": "stderr",
     "output_type": "stream",
     "text": [
      "/Users/neilkloot/anaconda/lib/python3.6/site-packages/ta/trend.py:170: RuntimeWarning: divide by zero encountered in double_scalars\n",
      "  dip[i] = 100 * (dip_mio[i]/trs[i])\n",
      "/Users/neilkloot/anaconda/lib/python3.6/site-packages/ta/trend.py:170: RuntimeWarning: invalid value encountered in double_scalars\n",
      "  dip[i] = 100 * (dip_mio[i]/trs[i])\n",
      "/Users/neilkloot/anaconda/lib/python3.6/site-packages/ta/trend.py:174: RuntimeWarning: divide by zero encountered in double_scalars\n",
      "  din[i] = 100 * (din_mio[i]/trs[i])\n",
      "/Users/neilkloot/anaconda/lib/python3.6/site-packages/ta/trend.py:174: RuntimeWarning: invalid value encountered in double_scalars\n",
      "  din[i] = 100 * (din_mio[i]/trs[i])\n",
      "/Users/neilkloot/anaconda/lib/python3.6/site-packages/ta/trend.py:176: RuntimeWarning: invalid value encountered in subtract\n",
      "  dx = 100 * np.abs((dip - din) / (dip + din))\n"
     ]
    },
    {
     "name": "stdout",
     "output_type": "stream",
     "text": [
      "Data split.  Total recs: (607, 283)\n",
      "Train recs: (425, 283)\n",
      "Remaining data recs: (182, 283)\n",
      "Validation recs: (91, 283)\n",
      "Remaining data recs: (91, 283)\n",
      "Test recs: (91, 283)\n"
     ]
    },
    {
     "name": "stderr",
     "output_type": "stream",
     "text": [
      "/Users/neilkloot/anaconda/lib/python3.6/site-packages/ta/trend.py:170: RuntimeWarning: divide by zero encountered in double_scalars\n",
      "  dip[i] = 100 * (dip_mio[i]/trs[i])\n",
      "/Users/neilkloot/anaconda/lib/python3.6/site-packages/ta/trend.py:170: RuntimeWarning: invalid value encountered in double_scalars\n",
      "  dip[i] = 100 * (dip_mio[i]/trs[i])\n",
      "/Users/neilkloot/anaconda/lib/python3.6/site-packages/ta/trend.py:174: RuntimeWarning: divide by zero encountered in double_scalars\n",
      "  din[i] = 100 * (din_mio[i]/trs[i])\n",
      "/Users/neilkloot/anaconda/lib/python3.6/site-packages/ta/trend.py:174: RuntimeWarning: invalid value encountered in double_scalars\n",
      "  din[i] = 100 * (din_mio[i]/trs[i])\n",
      "/Users/neilkloot/anaconda/lib/python3.6/site-packages/ta/trend.py:176: RuntimeWarning: invalid value encountered in subtract\n",
      "  dx = 100 * np.abs((dip - din) / (dip + din))\n"
     ]
    },
    {
     "name": "stdout",
     "output_type": "stream",
     "text": [
      "Data split.  Total recs: (607, 283)\n",
      "Train recs: (425, 283)\n",
      "Remaining data recs: (182, 283)\n",
      "Validation recs: (91, 283)\n",
      "Remaining data recs: (91, 283)\n",
      "Test recs: (91, 283)\n"
     ]
    },
    {
     "name": "stderr",
     "output_type": "stream",
     "text": [
      "/Users/neilkloot/anaconda/lib/python3.6/site-packages/ta/trend.py:170: RuntimeWarning: divide by zero encountered in double_scalars\n",
      "  dip[i] = 100 * (dip_mio[i]/trs[i])\n",
      "/Users/neilkloot/anaconda/lib/python3.6/site-packages/ta/trend.py:170: RuntimeWarning: invalid value encountered in double_scalars\n",
      "  dip[i] = 100 * (dip_mio[i]/trs[i])\n",
      "/Users/neilkloot/anaconda/lib/python3.6/site-packages/ta/trend.py:174: RuntimeWarning: divide by zero encountered in double_scalars\n",
      "  din[i] = 100 * (din_mio[i]/trs[i])\n",
      "/Users/neilkloot/anaconda/lib/python3.6/site-packages/ta/trend.py:174: RuntimeWarning: invalid value encountered in double_scalars\n",
      "  din[i] = 100 * (din_mio[i]/trs[i])\n",
      "/Users/neilkloot/anaconda/lib/python3.6/site-packages/ta/trend.py:176: RuntimeWarning: invalid value encountered in subtract\n",
      "  dx = 100 * np.abs((dip - din) / (dip + din))\n"
     ]
    },
    {
     "name": "stdout",
     "output_type": "stream",
     "text": [
      "Data split.  Total recs: (153, 283)\n",
      "Train recs: (107, 283)\n",
      "Remaining data recs: (46, 283)\n",
      "Validation recs: (23, 283)\n",
      "Remaining data recs: (23, 283)\n",
      "Test recs: (23, 283)\n"
     ]
    },
    {
     "name": "stderr",
     "output_type": "stream",
     "text": [
      "/Users/neilkloot/anaconda/lib/python3.6/site-packages/ta/trend.py:170: RuntimeWarning: divide by zero encountered in double_scalars\n",
      "  dip[i] = 100 * (dip_mio[i]/trs[i])\n",
      "/Users/neilkloot/anaconda/lib/python3.6/site-packages/ta/trend.py:170: RuntimeWarning: invalid value encountered in double_scalars\n",
      "  dip[i] = 100 * (dip_mio[i]/trs[i])\n",
      "/Users/neilkloot/anaconda/lib/python3.6/site-packages/ta/trend.py:174: RuntimeWarning: divide by zero encountered in double_scalars\n",
      "  din[i] = 100 * (din_mio[i]/trs[i])\n",
      "/Users/neilkloot/anaconda/lib/python3.6/site-packages/ta/trend.py:174: RuntimeWarning: invalid value encountered in double_scalars\n",
      "  din[i] = 100 * (din_mio[i]/trs[i])\n",
      "/Users/neilkloot/anaconda/lib/python3.6/site-packages/ta/trend.py:176: RuntimeWarning: invalid value encountered in subtract\n",
      "  dx = 100 * np.abs((dip - din) / (dip + din))\n"
     ]
    },
    {
     "name": "stdout",
     "output_type": "stream",
     "text": [
      "Data split.  Total recs: (108, 283)\n",
      "Train recs: (76, 283)\n",
      "Remaining data recs: (32, 283)\n",
      "Validation recs: (16, 283)\n",
      "Remaining data recs: (16, 283)\n",
      "Test recs: (16, 283)\n"
     ]
    },
    {
     "name": "stderr",
     "output_type": "stream",
     "text": [
      "/Users/neilkloot/anaconda/lib/python3.6/site-packages/ta/trend.py:170: RuntimeWarning: divide by zero encountered in double_scalars\n",
      "  dip[i] = 100 * (dip_mio[i]/trs[i])\n",
      "/Users/neilkloot/anaconda/lib/python3.6/site-packages/ta/trend.py:170: RuntimeWarning: invalid value encountered in double_scalars\n",
      "  dip[i] = 100 * (dip_mio[i]/trs[i])\n",
      "/Users/neilkloot/anaconda/lib/python3.6/site-packages/ta/trend.py:174: RuntimeWarning: divide by zero encountered in double_scalars\n",
      "  din[i] = 100 * (din_mio[i]/trs[i])\n",
      "/Users/neilkloot/anaconda/lib/python3.6/site-packages/ta/trend.py:174: RuntimeWarning: invalid value encountered in double_scalars\n",
      "  din[i] = 100 * (din_mio[i]/trs[i])\n",
      "/Users/neilkloot/anaconda/lib/python3.6/site-packages/ta/trend.py:176: RuntimeWarning: invalid value encountered in subtract\n",
      "  dx = 100 * np.abs((dip - din) / (dip + din))\n"
     ]
    },
    {
     "name": "stdout",
     "output_type": "stream",
     "text": [
      "Data split.  Total recs: (311, 283)\n",
      "Train recs: (218, 283)\n",
      "Remaining data recs: (93, 283)\n",
      "Validation recs: (46, 283)\n",
      "Remaining data recs: (47, 283)\n",
      "Test recs: (47, 283)\n"
     ]
    },
    {
     "name": "stderr",
     "output_type": "stream",
     "text": [
      "/Users/neilkloot/anaconda/lib/python3.6/site-packages/ta/trend.py:170: RuntimeWarning: divide by zero encountered in double_scalars\n",
      "  dip[i] = 100 * (dip_mio[i]/trs[i])\n",
      "/Users/neilkloot/anaconda/lib/python3.6/site-packages/ta/trend.py:170: RuntimeWarning: invalid value encountered in double_scalars\n",
      "  dip[i] = 100 * (dip_mio[i]/trs[i])\n",
      "/Users/neilkloot/anaconda/lib/python3.6/site-packages/ta/trend.py:174: RuntimeWarning: divide by zero encountered in double_scalars\n",
      "  din[i] = 100 * (din_mio[i]/trs[i])\n",
      "/Users/neilkloot/anaconda/lib/python3.6/site-packages/ta/trend.py:174: RuntimeWarning: invalid value encountered in double_scalars\n",
      "  din[i] = 100 * (din_mio[i]/trs[i])\n",
      "/Users/neilkloot/anaconda/lib/python3.6/site-packages/ta/trend.py:176: RuntimeWarning: invalid value encountered in subtract\n",
      "  dx = 100 * np.abs((dip - din) / (dip + din))\n"
     ]
    },
    {
     "name": "stdout",
     "output_type": "stream",
     "text": [
      "Data split.  Total recs: (102, 283)\n",
      "Train recs: (71, 283)\n",
      "Remaining data recs: (31, 283)\n",
      "Validation recs: (16, 283)\n",
      "Remaining data recs: (15, 283)\n",
      "Test recs: (15, 283)\n"
     ]
    },
    {
     "name": "stderr",
     "output_type": "stream",
     "text": [
      "/Users/neilkloot/anaconda/lib/python3.6/site-packages/ta/trend.py:170: RuntimeWarning: divide by zero encountered in double_scalars\n",
      "  dip[i] = 100 * (dip_mio[i]/trs[i])\n",
      "/Users/neilkloot/anaconda/lib/python3.6/site-packages/ta/trend.py:170: RuntimeWarning: invalid value encountered in double_scalars\n",
      "  dip[i] = 100 * (dip_mio[i]/trs[i])\n",
      "/Users/neilkloot/anaconda/lib/python3.6/site-packages/ta/trend.py:174: RuntimeWarning: divide by zero encountered in double_scalars\n",
      "  din[i] = 100 * (din_mio[i]/trs[i])\n",
      "/Users/neilkloot/anaconda/lib/python3.6/site-packages/ta/trend.py:174: RuntimeWarning: invalid value encountered in double_scalars\n",
      "  din[i] = 100 * (din_mio[i]/trs[i])\n",
      "/Users/neilkloot/anaconda/lib/python3.6/site-packages/ta/trend.py:176: RuntimeWarning: invalid value encountered in subtract\n",
      "  dx = 100 * np.abs((dip - din) / (dip + din))\n"
     ]
    },
    {
     "name": "stdout",
     "output_type": "stream",
     "text": [
      "Data split.  Total recs: (118, 283)\n",
      "Train recs: (83, 283)\n",
      "Remaining data recs: (35, 283)\n",
      "Validation recs: (18, 283)\n",
      "Remaining data recs: (17, 283)\n",
      "Test recs: (17, 283)\n"
     ]
    },
    {
     "name": "stderr",
     "output_type": "stream",
     "text": [
      "/Users/neilkloot/anaconda/lib/python3.6/site-packages/ta/trend.py:170: RuntimeWarning: divide by zero encountered in double_scalars\n",
      "  dip[i] = 100 * (dip_mio[i]/trs[i])\n",
      "/Users/neilkloot/anaconda/lib/python3.6/site-packages/ta/trend.py:170: RuntimeWarning: invalid value encountered in double_scalars\n",
      "  dip[i] = 100 * (dip_mio[i]/trs[i])\n",
      "/Users/neilkloot/anaconda/lib/python3.6/site-packages/ta/trend.py:174: RuntimeWarning: divide by zero encountered in double_scalars\n",
      "  din[i] = 100 * (din_mio[i]/trs[i])\n",
      "/Users/neilkloot/anaconda/lib/python3.6/site-packages/ta/trend.py:174: RuntimeWarning: invalid value encountered in double_scalars\n",
      "  din[i] = 100 * (din_mio[i]/trs[i])\n",
      "/Users/neilkloot/anaconda/lib/python3.6/site-packages/ta/trend.py:176: RuntimeWarning: invalid value encountered in subtract\n",
      "  dx = 100 * np.abs((dip - din) / (dip + din))\n"
     ]
    },
    {
     "name": "stdout",
     "output_type": "stream",
     "text": [
      "Data split.  Total recs: (608, 283)\n",
      "Train recs: (426, 283)\n",
      "Remaining data recs: (182, 283)\n",
      "Validation recs: (91, 283)\n",
      "Remaining data recs: (91, 283)\n",
      "Test recs: (91, 283)\n"
     ]
    },
    {
     "name": "stderr",
     "output_type": "stream",
     "text": [
      "/Users/neilkloot/anaconda/lib/python3.6/site-packages/ta/trend.py:170: RuntimeWarning: divide by zero encountered in double_scalars\n",
      "  dip[i] = 100 * (dip_mio[i]/trs[i])\n",
      "/Users/neilkloot/anaconda/lib/python3.6/site-packages/ta/trend.py:170: RuntimeWarning: invalid value encountered in double_scalars\n",
      "  dip[i] = 100 * (dip_mio[i]/trs[i])\n",
      "/Users/neilkloot/anaconda/lib/python3.6/site-packages/ta/trend.py:174: RuntimeWarning: divide by zero encountered in double_scalars\n",
      "  din[i] = 100 * (din_mio[i]/trs[i])\n",
      "/Users/neilkloot/anaconda/lib/python3.6/site-packages/ta/trend.py:174: RuntimeWarning: invalid value encountered in double_scalars\n",
      "  din[i] = 100 * (din_mio[i]/trs[i])\n",
      "/Users/neilkloot/anaconda/lib/python3.6/site-packages/ta/trend.py:176: RuntimeWarning: invalid value encountered in subtract\n",
      "  dx = 100 * np.abs((dip - din) / (dip + din))\n"
     ]
    },
    {
     "name": "stdout",
     "output_type": "stream",
     "text": [
      "Data split.  Total recs: (101, 283)\n",
      "Train recs: (71, 283)\n",
      "Remaining data recs: (30, 283)\n",
      "Validation recs: (15, 283)\n",
      "Remaining data recs: (15, 283)\n",
      "Test recs: (15, 283)\n"
     ]
    },
    {
     "name": "stderr",
     "output_type": "stream",
     "text": [
      "/Users/neilkloot/anaconda/lib/python3.6/site-packages/ta/trend.py:170: RuntimeWarning: divide by zero encountered in double_scalars\n",
      "  dip[i] = 100 * (dip_mio[i]/trs[i])\n",
      "/Users/neilkloot/anaconda/lib/python3.6/site-packages/ta/trend.py:170: RuntimeWarning: invalid value encountered in double_scalars\n",
      "  dip[i] = 100 * (dip_mio[i]/trs[i])\n",
      "/Users/neilkloot/anaconda/lib/python3.6/site-packages/ta/trend.py:174: RuntimeWarning: divide by zero encountered in double_scalars\n",
      "  din[i] = 100 * (din_mio[i]/trs[i])\n",
      "/Users/neilkloot/anaconda/lib/python3.6/site-packages/ta/trend.py:174: RuntimeWarning: invalid value encountered in double_scalars\n",
      "  din[i] = 100 * (din_mio[i]/trs[i])\n",
      "/Users/neilkloot/anaconda/lib/python3.6/site-packages/ta/trend.py:176: RuntimeWarning: invalid value encountered in subtract\n",
      "  dx = 100 * np.abs((dip - din) / (dip + din))\n"
     ]
    },
    {
     "name": "stdout",
     "output_type": "stream",
     "text": [
      "Data split.  Total recs: (608, 283)\n",
      "Train recs: (426, 283)\n",
      "Remaining data recs: (182, 283)\n",
      "Validation recs: (91, 283)\n",
      "Remaining data recs: (91, 283)\n",
      "Test recs: (91, 283)\n"
     ]
    },
    {
     "name": "stderr",
     "output_type": "stream",
     "text": [
      "/Users/neilkloot/anaconda/lib/python3.6/site-packages/ta/trend.py:170: RuntimeWarning: divide by zero encountered in double_scalars\n",
      "  dip[i] = 100 * (dip_mio[i]/trs[i])\n",
      "/Users/neilkloot/anaconda/lib/python3.6/site-packages/ta/trend.py:170: RuntimeWarning: invalid value encountered in double_scalars\n",
      "  dip[i] = 100 * (dip_mio[i]/trs[i])\n",
      "/Users/neilkloot/anaconda/lib/python3.6/site-packages/ta/trend.py:174: RuntimeWarning: divide by zero encountered in double_scalars\n",
      "  din[i] = 100 * (din_mio[i]/trs[i])\n",
      "/Users/neilkloot/anaconda/lib/python3.6/site-packages/ta/trend.py:174: RuntimeWarning: invalid value encountered in double_scalars\n",
      "  din[i] = 100 * (din_mio[i]/trs[i])\n",
      "/Users/neilkloot/anaconda/lib/python3.6/site-packages/ta/trend.py:176: RuntimeWarning: invalid value encountered in subtract\n",
      "  dx = 100 * np.abs((dip - din) / (dip + din))\n"
     ]
    },
    {
     "name": "stdout",
     "output_type": "stream",
     "text": [
      "Data split.  Total recs: (277, 283)\n",
      "Train recs: (194, 283)\n",
      "Remaining data recs: (83, 283)\n",
      "Validation recs: (42, 283)\n",
      "Remaining data recs: (41, 283)\n",
      "Test recs: (41, 283)\n"
     ]
    },
    {
     "name": "stderr",
     "output_type": "stream",
     "text": [
      "/Users/neilkloot/anaconda/lib/python3.6/site-packages/ta/trend.py:170: RuntimeWarning: divide by zero encountered in double_scalars\n",
      "  dip[i] = 100 * (dip_mio[i]/trs[i])\n",
      "/Users/neilkloot/anaconda/lib/python3.6/site-packages/ta/trend.py:170: RuntimeWarning: invalid value encountered in double_scalars\n",
      "  dip[i] = 100 * (dip_mio[i]/trs[i])\n",
      "/Users/neilkloot/anaconda/lib/python3.6/site-packages/ta/trend.py:174: RuntimeWarning: divide by zero encountered in double_scalars\n",
      "  din[i] = 100 * (din_mio[i]/trs[i])\n",
      "/Users/neilkloot/anaconda/lib/python3.6/site-packages/ta/trend.py:174: RuntimeWarning: invalid value encountered in double_scalars\n",
      "  din[i] = 100 * (din_mio[i]/trs[i])\n",
      "/Users/neilkloot/anaconda/lib/python3.6/site-packages/ta/trend.py:176: RuntimeWarning: invalid value encountered in subtract\n",
      "  dx = 100 * np.abs((dip - din) / (dip + din))\n"
     ]
    },
    {
     "name": "stdout",
     "output_type": "stream",
     "text": [
      "Data split.  Total recs: (543, 283)\n",
      "Train recs: (380, 283)\n",
      "Remaining data recs: (163, 283)\n",
      "Validation recs: (82, 283)\n",
      "Remaining data recs: (81, 283)\n",
      "Test recs: (81, 283)\n"
     ]
    },
    {
     "name": "stderr",
     "output_type": "stream",
     "text": [
      "/Users/neilkloot/anaconda/lib/python3.6/site-packages/ta/trend.py:170: RuntimeWarning: divide by zero encountered in double_scalars\n",
      "  dip[i] = 100 * (dip_mio[i]/trs[i])\n",
      "/Users/neilkloot/anaconda/lib/python3.6/site-packages/ta/trend.py:170: RuntimeWarning: invalid value encountered in double_scalars\n",
      "  dip[i] = 100 * (dip_mio[i]/trs[i])\n",
      "/Users/neilkloot/anaconda/lib/python3.6/site-packages/ta/trend.py:174: RuntimeWarning: divide by zero encountered in double_scalars\n",
      "  din[i] = 100 * (din_mio[i]/trs[i])\n",
      "/Users/neilkloot/anaconda/lib/python3.6/site-packages/ta/trend.py:174: RuntimeWarning: invalid value encountered in double_scalars\n",
      "  din[i] = 100 * (din_mio[i]/trs[i])\n",
      "/Users/neilkloot/anaconda/lib/python3.6/site-packages/ta/trend.py:176: RuntimeWarning: invalid value encountered in subtract\n",
      "  dx = 100 * np.abs((dip - din) / (dip + din))\n"
     ]
    },
    {
     "name": "stdout",
     "output_type": "stream",
     "text": [
      "Data split.  Total recs: (587, 283)\n",
      "Train recs: (411, 283)\n",
      "Remaining data recs: (176, 283)\n",
      "Validation recs: (88, 283)\n",
      "Remaining data recs: (88, 283)\n",
      "Test recs: (88, 283)\n"
     ]
    },
    {
     "name": "stderr",
     "output_type": "stream",
     "text": [
      "/Users/neilkloot/anaconda/lib/python3.6/site-packages/ta/trend.py:170: RuntimeWarning: divide by zero encountered in double_scalars\n",
      "  dip[i] = 100 * (dip_mio[i]/trs[i])\n",
      "/Users/neilkloot/anaconda/lib/python3.6/site-packages/ta/trend.py:170: RuntimeWarning: invalid value encountered in double_scalars\n",
      "  dip[i] = 100 * (dip_mio[i]/trs[i])\n",
      "/Users/neilkloot/anaconda/lib/python3.6/site-packages/ta/trend.py:174: RuntimeWarning: divide by zero encountered in double_scalars\n",
      "  din[i] = 100 * (din_mio[i]/trs[i])\n",
      "/Users/neilkloot/anaconda/lib/python3.6/site-packages/ta/trend.py:174: RuntimeWarning: invalid value encountered in double_scalars\n",
      "  din[i] = 100 * (din_mio[i]/trs[i])\n",
      "/Users/neilkloot/anaconda/lib/python3.6/site-packages/ta/trend.py:176: RuntimeWarning: invalid value encountered in subtract\n",
      "  dx = 100 * np.abs((dip - din) / (dip + din))\n"
     ]
    },
    {
     "name": "stdout",
     "output_type": "stream",
     "text": [
      "Data split.  Total recs: (554, 283)\n",
      "Train recs: (388, 283)\n",
      "Remaining data recs: (166, 283)\n",
      "Validation recs: (83, 283)\n",
      "Remaining data recs: (83, 283)\n",
      "Test recs: (83, 283)\n"
     ]
    },
    {
     "name": "stderr",
     "output_type": "stream",
     "text": [
      "/Users/neilkloot/anaconda/lib/python3.6/site-packages/ta/trend.py:170: RuntimeWarning: divide by zero encountered in double_scalars\n",
      "  dip[i] = 100 * (dip_mio[i]/trs[i])\n",
      "/Users/neilkloot/anaconda/lib/python3.6/site-packages/ta/trend.py:170: RuntimeWarning: invalid value encountered in double_scalars\n",
      "  dip[i] = 100 * (dip_mio[i]/trs[i])\n",
      "/Users/neilkloot/anaconda/lib/python3.6/site-packages/ta/trend.py:174: RuntimeWarning: divide by zero encountered in double_scalars\n",
      "  din[i] = 100 * (din_mio[i]/trs[i])\n",
      "/Users/neilkloot/anaconda/lib/python3.6/site-packages/ta/trend.py:174: RuntimeWarning: invalid value encountered in double_scalars\n",
      "  din[i] = 100 * (din_mio[i]/trs[i])\n",
      "/Users/neilkloot/anaconda/lib/python3.6/site-packages/ta/trend.py:176: RuntimeWarning: invalid value encountered in subtract\n",
      "  dx = 100 * np.abs((dip - din) / (dip + din))\n"
     ]
    },
    {
     "name": "stdout",
     "output_type": "stream",
     "text": [
      "Data split.  Total recs: (370, 283)\n",
      "Train recs: (259, 283)\n",
      "Remaining data recs: (111, 283)\n",
      "Validation recs: (56, 283)\n",
      "Remaining data recs: (55, 283)\n",
      "Test recs: (55, 283)\n"
     ]
    },
    {
     "name": "stderr",
     "output_type": "stream",
     "text": [
      "/Users/neilkloot/anaconda/lib/python3.6/site-packages/ta/trend.py:170: RuntimeWarning: divide by zero encountered in double_scalars\n",
      "  dip[i] = 100 * (dip_mio[i]/trs[i])\n",
      "/Users/neilkloot/anaconda/lib/python3.6/site-packages/ta/trend.py:170: RuntimeWarning: invalid value encountered in double_scalars\n",
      "  dip[i] = 100 * (dip_mio[i]/trs[i])\n",
      "/Users/neilkloot/anaconda/lib/python3.6/site-packages/ta/trend.py:174: RuntimeWarning: divide by zero encountered in double_scalars\n",
      "  din[i] = 100 * (din_mio[i]/trs[i])\n",
      "/Users/neilkloot/anaconda/lib/python3.6/site-packages/ta/trend.py:174: RuntimeWarning: invalid value encountered in double_scalars\n",
      "  din[i] = 100 * (din_mio[i]/trs[i])\n",
      "/Users/neilkloot/anaconda/lib/python3.6/site-packages/ta/trend.py:176: RuntimeWarning: invalid value encountered in subtract\n",
      "  dx = 100 * np.abs((dip - din) / (dip + din))\n"
     ]
    },
    {
     "name": "stdout",
     "output_type": "stream",
     "text": [
      "Data split.  Total recs: (608, 283)\n",
      "Train recs: (426, 283)\n",
      "Remaining data recs: (182, 283)\n",
      "Validation recs: (91, 283)\n",
      "Remaining data recs: (91, 283)\n",
      "Test recs: (91, 283)\n"
     ]
    },
    {
     "name": "stderr",
     "output_type": "stream",
     "text": [
      "/Users/neilkloot/anaconda/lib/python3.6/site-packages/ta/trend.py:170: RuntimeWarning: divide by zero encountered in double_scalars\n",
      "  dip[i] = 100 * (dip_mio[i]/trs[i])\n",
      "/Users/neilkloot/anaconda/lib/python3.6/site-packages/ta/trend.py:170: RuntimeWarning: invalid value encountered in double_scalars\n",
      "  dip[i] = 100 * (dip_mio[i]/trs[i])\n",
      "/Users/neilkloot/anaconda/lib/python3.6/site-packages/ta/trend.py:174: RuntimeWarning: divide by zero encountered in double_scalars\n",
      "  din[i] = 100 * (din_mio[i]/trs[i])\n",
      "/Users/neilkloot/anaconda/lib/python3.6/site-packages/ta/trend.py:174: RuntimeWarning: invalid value encountered in double_scalars\n",
      "  din[i] = 100 * (din_mio[i]/trs[i])\n",
      "/Users/neilkloot/anaconda/lib/python3.6/site-packages/ta/trend.py:176: RuntimeWarning: invalid value encountered in subtract\n",
      "  dx = 100 * np.abs((dip - din) / (dip + din))\n"
     ]
    },
    {
     "name": "stdout",
     "output_type": "stream",
     "text": [
      "Data split.  Total recs: (371, 283)\n",
      "Train recs: (260, 283)\n",
      "Remaining data recs: (111, 283)\n",
      "Validation recs: (56, 283)\n",
      "Remaining data recs: (55, 283)\n",
      "Test recs: (55, 283)\n"
     ]
    },
    {
     "name": "stderr",
     "output_type": "stream",
     "text": [
      "/Users/neilkloot/anaconda/lib/python3.6/site-packages/ta/trend.py:170: RuntimeWarning: divide by zero encountered in double_scalars\n",
      "  dip[i] = 100 * (dip_mio[i]/trs[i])\n",
      "/Users/neilkloot/anaconda/lib/python3.6/site-packages/ta/trend.py:170: RuntimeWarning: invalid value encountered in double_scalars\n",
      "  dip[i] = 100 * (dip_mio[i]/trs[i])\n",
      "/Users/neilkloot/anaconda/lib/python3.6/site-packages/ta/trend.py:174: RuntimeWarning: divide by zero encountered in double_scalars\n",
      "  din[i] = 100 * (din_mio[i]/trs[i])\n",
      "/Users/neilkloot/anaconda/lib/python3.6/site-packages/ta/trend.py:174: RuntimeWarning: invalid value encountered in double_scalars\n",
      "  din[i] = 100 * (din_mio[i]/trs[i])\n",
      "/Users/neilkloot/anaconda/lib/python3.6/site-packages/ta/trend.py:176: RuntimeWarning: invalid value encountered in subtract\n",
      "  dx = 100 * np.abs((dip - din) / (dip + din))\n"
     ]
    },
    {
     "name": "stdout",
     "output_type": "stream",
     "text": [
      "Data split.  Total recs: (608, 283)\n",
      "Train recs: (426, 283)\n",
      "Remaining data recs: (182, 283)\n",
      "Validation recs: (91, 283)\n",
      "Remaining data recs: (91, 283)\n",
      "Test recs: (91, 283)\n"
     ]
    },
    {
     "name": "stderr",
     "output_type": "stream",
     "text": [
      "/Users/neilkloot/anaconda/lib/python3.6/site-packages/ta/trend.py:170: RuntimeWarning: divide by zero encountered in double_scalars\n",
      "  dip[i] = 100 * (dip_mio[i]/trs[i])\n",
      "/Users/neilkloot/anaconda/lib/python3.6/site-packages/ta/trend.py:170: RuntimeWarning: invalid value encountered in double_scalars\n",
      "  dip[i] = 100 * (dip_mio[i]/trs[i])\n",
      "/Users/neilkloot/anaconda/lib/python3.6/site-packages/ta/trend.py:174: RuntimeWarning: divide by zero encountered in double_scalars\n",
      "  din[i] = 100 * (din_mio[i]/trs[i])\n",
      "/Users/neilkloot/anaconda/lib/python3.6/site-packages/ta/trend.py:174: RuntimeWarning: invalid value encountered in double_scalars\n",
      "  din[i] = 100 * (din_mio[i]/trs[i])\n",
      "/Users/neilkloot/anaconda/lib/python3.6/site-packages/ta/trend.py:176: RuntimeWarning: invalid value encountered in subtract\n",
      "  dx = 100 * np.abs((dip - din) / (dip + din))\n"
     ]
    },
    {
     "name": "stdout",
     "output_type": "stream",
     "text": [
      "Data split.  Total recs: (428, 283)\n",
      "Train recs: (300, 283)\n",
      "Remaining data recs: (128, 283)\n",
      "Validation recs: (64, 283)\n",
      "Remaining data recs: (64, 283)\n",
      "Test recs: (64, 283)\n"
     ]
    },
    {
     "name": "stderr",
     "output_type": "stream",
     "text": [
      "/Users/neilkloot/anaconda/lib/python3.6/site-packages/ta/trend.py:170: RuntimeWarning: divide by zero encountered in double_scalars\n",
      "  dip[i] = 100 * (dip_mio[i]/trs[i])\n",
      "/Users/neilkloot/anaconda/lib/python3.6/site-packages/ta/trend.py:170: RuntimeWarning: invalid value encountered in double_scalars\n",
      "  dip[i] = 100 * (dip_mio[i]/trs[i])\n",
      "/Users/neilkloot/anaconda/lib/python3.6/site-packages/ta/trend.py:174: RuntimeWarning: divide by zero encountered in double_scalars\n",
      "  din[i] = 100 * (din_mio[i]/trs[i])\n",
      "/Users/neilkloot/anaconda/lib/python3.6/site-packages/ta/trend.py:174: RuntimeWarning: invalid value encountered in double_scalars\n",
      "  din[i] = 100 * (din_mio[i]/trs[i])\n",
      "/Users/neilkloot/anaconda/lib/python3.6/site-packages/ta/trend.py:176: RuntimeWarning: invalid value encountered in subtract\n",
      "  dx = 100 * np.abs((dip - din) / (dip + din))\n"
     ]
    },
    {
     "name": "stdout",
     "output_type": "stream",
     "text": [
      "Data split.  Total recs: (526, 283)\n",
      "Train recs: (368, 283)\n",
      "Remaining data recs: (158, 283)\n",
      "Validation recs: (79, 283)\n",
      "Remaining data recs: (79, 283)\n",
      "Test recs: (79, 283)\n"
     ]
    },
    {
     "name": "stderr",
     "output_type": "stream",
     "text": [
      "/Users/neilkloot/anaconda/lib/python3.6/site-packages/ta/trend.py:170: RuntimeWarning: divide by zero encountered in double_scalars\n",
      "  dip[i] = 100 * (dip_mio[i]/trs[i])\n",
      "/Users/neilkloot/anaconda/lib/python3.6/site-packages/ta/trend.py:170: RuntimeWarning: invalid value encountered in double_scalars\n",
      "  dip[i] = 100 * (dip_mio[i]/trs[i])\n",
      "/Users/neilkloot/anaconda/lib/python3.6/site-packages/ta/trend.py:174: RuntimeWarning: divide by zero encountered in double_scalars\n",
      "  din[i] = 100 * (din_mio[i]/trs[i])\n",
      "/Users/neilkloot/anaconda/lib/python3.6/site-packages/ta/trend.py:174: RuntimeWarning: invalid value encountered in double_scalars\n",
      "  din[i] = 100 * (din_mio[i]/trs[i])\n",
      "/Users/neilkloot/anaconda/lib/python3.6/site-packages/ta/trend.py:176: RuntimeWarning: invalid value encountered in subtract\n",
      "  dx = 100 * np.abs((dip - din) / (dip + din))\n"
     ]
    },
    {
     "name": "stdout",
     "output_type": "stream",
     "text": [
      "Data split.  Total recs: (278, 283)\n",
      "Train recs: (195, 283)\n",
      "Remaining data recs: (83, 283)\n",
      "Validation recs: (42, 283)\n",
      "Remaining data recs: (41, 283)\n",
      "Test recs: (41, 283)\n"
     ]
    },
    {
     "name": "stderr",
     "output_type": "stream",
     "text": [
      "/Users/neilkloot/anaconda/lib/python3.6/site-packages/ta/trend.py:170: RuntimeWarning: invalid value encountered in double_scalars\n",
      "  dip[i] = 100 * (dip_mio[i]/trs[i])\n",
      "/Users/neilkloot/anaconda/lib/python3.6/site-packages/ta/trend.py:174: RuntimeWarning: divide by zero encountered in double_scalars\n",
      "  din[i] = 100 * (din_mio[i]/trs[i])\n",
      "/Users/neilkloot/anaconda/lib/python3.6/site-packages/ta/trend.py:174: RuntimeWarning: invalid value encountered in double_scalars\n",
      "  din[i] = 100 * (din_mio[i]/trs[i])\n"
     ]
    },
    {
     "name": "stdout",
     "output_type": "stream",
     "text": [
      "Data split.  Total recs: (573, 283)\n",
      "Train recs: (401, 283)\n",
      "Remaining data recs: (172, 283)\n",
      "Validation recs: (86, 283)\n",
      "Remaining data recs: (86, 283)\n",
      "Test recs: (86, 283)\n"
     ]
    },
    {
     "name": "stderr",
     "output_type": "stream",
     "text": [
      "/Users/neilkloot/anaconda/lib/python3.6/site-packages/ta/trend.py:170: RuntimeWarning: divide by zero encountered in double_scalars\n",
      "  dip[i] = 100 * (dip_mio[i]/trs[i])\n",
      "/Users/neilkloot/anaconda/lib/python3.6/site-packages/ta/trend.py:170: RuntimeWarning: invalid value encountered in double_scalars\n",
      "  dip[i] = 100 * (dip_mio[i]/trs[i])\n",
      "/Users/neilkloot/anaconda/lib/python3.6/site-packages/ta/trend.py:174: RuntimeWarning: divide by zero encountered in double_scalars\n",
      "  din[i] = 100 * (din_mio[i]/trs[i])\n",
      "/Users/neilkloot/anaconda/lib/python3.6/site-packages/ta/trend.py:174: RuntimeWarning: invalid value encountered in double_scalars\n",
      "  din[i] = 100 * (din_mio[i]/trs[i])\n",
      "/Users/neilkloot/anaconda/lib/python3.6/site-packages/ta/trend.py:176: RuntimeWarning: invalid value encountered in subtract\n",
      "  dx = 100 * np.abs((dip - din) / (dip + din))\n"
     ]
    },
    {
     "name": "stdout",
     "output_type": "stream",
     "text": [
      "Data split.  Total recs: (608, 283)\n",
      "Train recs: (426, 283)\n",
      "Remaining data recs: (182, 283)\n",
      "Validation recs: (91, 283)\n",
      "Remaining data recs: (91, 283)\n",
      "Test recs: (91, 283)\n"
     ]
    },
    {
     "name": "stderr",
     "output_type": "stream",
     "text": [
      "/Users/neilkloot/anaconda/lib/python3.6/site-packages/ta/trend.py:170: RuntimeWarning: divide by zero encountered in double_scalars\n",
      "  dip[i] = 100 * (dip_mio[i]/trs[i])\n",
      "/Users/neilkloot/anaconda/lib/python3.6/site-packages/ta/trend.py:170: RuntimeWarning: invalid value encountered in double_scalars\n",
      "  dip[i] = 100 * (dip_mio[i]/trs[i])\n",
      "/Users/neilkloot/anaconda/lib/python3.6/site-packages/ta/trend.py:174: RuntimeWarning: divide by zero encountered in double_scalars\n",
      "  din[i] = 100 * (din_mio[i]/trs[i])\n",
      "/Users/neilkloot/anaconda/lib/python3.6/site-packages/ta/trend.py:174: RuntimeWarning: invalid value encountered in double_scalars\n",
      "  din[i] = 100 * (din_mio[i]/trs[i])\n",
      "/Users/neilkloot/anaconda/lib/python3.6/site-packages/ta/trend.py:176: RuntimeWarning: invalid value encountered in subtract\n",
      "  dx = 100 * np.abs((dip - din) / (dip + din))\n"
     ]
    },
    {
     "name": "stdout",
     "output_type": "stream",
     "text": [
      "Data split.  Total recs: (493, 283)\n",
      "Train recs: (345, 283)\n",
      "Remaining data recs: (148, 283)\n",
      "Validation recs: (74, 283)\n",
      "Remaining data recs: (74, 283)\n",
      "Test recs: (74, 283)\n"
     ]
    },
    {
     "name": "stderr",
     "output_type": "stream",
     "text": [
      "/Users/neilkloot/anaconda/lib/python3.6/site-packages/ta/trend.py:170: RuntimeWarning: divide by zero encountered in double_scalars\n",
      "  dip[i] = 100 * (dip_mio[i]/trs[i])\n",
      "/Users/neilkloot/anaconda/lib/python3.6/site-packages/ta/trend.py:170: RuntimeWarning: invalid value encountered in double_scalars\n",
      "  dip[i] = 100 * (dip_mio[i]/trs[i])\n",
      "/Users/neilkloot/anaconda/lib/python3.6/site-packages/ta/trend.py:174: RuntimeWarning: divide by zero encountered in double_scalars\n",
      "  din[i] = 100 * (din_mio[i]/trs[i])\n",
      "/Users/neilkloot/anaconda/lib/python3.6/site-packages/ta/trend.py:174: RuntimeWarning: invalid value encountered in double_scalars\n",
      "  din[i] = 100 * (din_mio[i]/trs[i])\n",
      "/Users/neilkloot/anaconda/lib/python3.6/site-packages/ta/trend.py:176: RuntimeWarning: invalid value encountered in subtract\n",
      "  dx = 100 * np.abs((dip - din) / (dip + din))\n"
     ]
    },
    {
     "name": "stdout",
     "output_type": "stream",
     "text": [
      "Data split.  Total recs: (599, 283)\n",
      "Train recs: (419, 283)\n",
      "Remaining data recs: (180, 283)\n",
      "Validation recs: (90, 283)\n",
      "Remaining data recs: (90, 283)\n",
      "Test recs: (90, 283)\n"
     ]
    },
    {
     "name": "stderr",
     "output_type": "stream",
     "text": [
      "/Users/neilkloot/anaconda/lib/python3.6/site-packages/ta/trend.py:170: RuntimeWarning: divide by zero encountered in double_scalars\n",
      "  dip[i] = 100 * (dip_mio[i]/trs[i])\n",
      "/Users/neilkloot/anaconda/lib/python3.6/site-packages/ta/trend.py:170: RuntimeWarning: invalid value encountered in double_scalars\n",
      "  dip[i] = 100 * (dip_mio[i]/trs[i])\n",
      "/Users/neilkloot/anaconda/lib/python3.6/site-packages/ta/trend.py:174: RuntimeWarning: divide by zero encountered in double_scalars\n",
      "  din[i] = 100 * (din_mio[i]/trs[i])\n",
      "/Users/neilkloot/anaconda/lib/python3.6/site-packages/ta/trend.py:174: RuntimeWarning: invalid value encountered in double_scalars\n",
      "  din[i] = 100 * (din_mio[i]/trs[i])\n",
      "/Users/neilkloot/anaconda/lib/python3.6/site-packages/ta/trend.py:176: RuntimeWarning: invalid value encountered in subtract\n",
      "  dx = 100 * np.abs((dip - din) / (dip + din))\n"
     ]
    },
    {
     "name": "stdout",
     "output_type": "stream",
     "text": [
      "Data split.  Total recs: (416, 283)\n",
      "Train recs: (291, 283)\n",
      "Remaining data recs: (125, 283)\n",
      "Validation recs: (62, 283)\n",
      "Remaining data recs: (63, 283)\n",
      "Test recs: (63, 283)\n"
     ]
    },
    {
     "name": "stderr",
     "output_type": "stream",
     "text": [
      "/Users/neilkloot/anaconda/lib/python3.6/site-packages/ta/trend.py:170: RuntimeWarning: divide by zero encountered in double_scalars\n",
      "  dip[i] = 100 * (dip_mio[i]/trs[i])\n",
      "/Users/neilkloot/anaconda/lib/python3.6/site-packages/ta/trend.py:170: RuntimeWarning: invalid value encountered in double_scalars\n",
      "  dip[i] = 100 * (dip_mio[i]/trs[i])\n",
      "/Users/neilkloot/anaconda/lib/python3.6/site-packages/ta/trend.py:174: RuntimeWarning: divide by zero encountered in double_scalars\n",
      "  din[i] = 100 * (din_mio[i]/trs[i])\n",
      "/Users/neilkloot/anaconda/lib/python3.6/site-packages/ta/trend.py:174: RuntimeWarning: invalid value encountered in double_scalars\n",
      "  din[i] = 100 * (din_mio[i]/trs[i])\n",
      "/Users/neilkloot/anaconda/lib/python3.6/site-packages/ta/trend.py:176: RuntimeWarning: invalid value encountered in subtract\n",
      "  dx = 100 * np.abs((dip - din) / (dip + din))\n"
     ]
    },
    {
     "name": "stdout",
     "output_type": "stream",
     "text": [
      "Data split.  Total recs: (329, 283)\n",
      "Train recs: (230, 283)\n",
      "Remaining data recs: (99, 283)\n",
      "Validation recs: (50, 283)\n",
      "Remaining data recs: (49, 283)\n",
      "Test recs: (49, 283)\n"
     ]
    },
    {
     "name": "stderr",
     "output_type": "stream",
     "text": [
      "/Users/neilkloot/anaconda/lib/python3.6/site-packages/ta/trend.py:170: RuntimeWarning: divide by zero encountered in double_scalars\n",
      "  dip[i] = 100 * (dip_mio[i]/trs[i])\n",
      "/Users/neilkloot/anaconda/lib/python3.6/site-packages/ta/trend.py:170: RuntimeWarning: invalid value encountered in double_scalars\n",
      "  dip[i] = 100 * (dip_mio[i]/trs[i])\n",
      "/Users/neilkloot/anaconda/lib/python3.6/site-packages/ta/trend.py:174: RuntimeWarning: divide by zero encountered in double_scalars\n",
      "  din[i] = 100 * (din_mio[i]/trs[i])\n",
      "/Users/neilkloot/anaconda/lib/python3.6/site-packages/ta/trend.py:174: RuntimeWarning: invalid value encountered in double_scalars\n",
      "  din[i] = 100 * (din_mio[i]/trs[i])\n",
      "/Users/neilkloot/anaconda/lib/python3.6/site-packages/ta/trend.py:176: RuntimeWarning: invalid value encountered in subtract\n",
      "  dx = 100 * np.abs((dip - din) / (dip + din))\n"
     ]
    },
    {
     "name": "stdout",
     "output_type": "stream",
     "text": [
      "Data split.  Total recs: (314, 283)\n",
      "Train recs: (220, 283)\n",
      "Remaining data recs: (94, 283)\n",
      "Validation recs: (47, 283)\n",
      "Remaining data recs: (47, 283)\n",
      "Test recs: (47, 283)\n"
     ]
    },
    {
     "name": "stderr",
     "output_type": "stream",
     "text": [
      "/Users/neilkloot/anaconda/lib/python3.6/site-packages/ta/trend.py:170: RuntimeWarning: divide by zero encountered in double_scalars\n",
      "  dip[i] = 100 * (dip_mio[i]/trs[i])\n",
      "/Users/neilkloot/anaconda/lib/python3.6/site-packages/ta/trend.py:170: RuntimeWarning: invalid value encountered in double_scalars\n",
      "  dip[i] = 100 * (dip_mio[i]/trs[i])\n",
      "/Users/neilkloot/anaconda/lib/python3.6/site-packages/ta/trend.py:174: RuntimeWarning: divide by zero encountered in double_scalars\n",
      "  din[i] = 100 * (din_mio[i]/trs[i])\n",
      "/Users/neilkloot/anaconda/lib/python3.6/site-packages/ta/trend.py:174: RuntimeWarning: invalid value encountered in double_scalars\n",
      "  din[i] = 100 * (din_mio[i]/trs[i])\n",
      "/Users/neilkloot/anaconda/lib/python3.6/site-packages/ta/trend.py:176: RuntimeWarning: invalid value encountered in subtract\n",
      "  dx = 100 * np.abs((dip - din) / (dip + din))\n"
     ]
    },
    {
     "name": "stdout",
     "output_type": "stream",
     "text": [
      "Data split.  Total recs: (313, 283)\n",
      "Train recs: (219, 283)\n",
      "Remaining data recs: (94, 283)\n",
      "Validation recs: (47, 283)\n",
      "Remaining data recs: (47, 283)\n",
      "Test recs: (47, 283)\n"
     ]
    },
    {
     "name": "stderr",
     "output_type": "stream",
     "text": [
      "/Users/neilkloot/anaconda/lib/python3.6/site-packages/ta/trend.py:170: RuntimeWarning: divide by zero encountered in double_scalars\n",
      "  dip[i] = 100 * (dip_mio[i]/trs[i])\n",
      "/Users/neilkloot/anaconda/lib/python3.6/site-packages/ta/trend.py:170: RuntimeWarning: invalid value encountered in double_scalars\n",
      "  dip[i] = 100 * (dip_mio[i]/trs[i])\n",
      "/Users/neilkloot/anaconda/lib/python3.6/site-packages/ta/trend.py:174: RuntimeWarning: divide by zero encountered in double_scalars\n",
      "  din[i] = 100 * (din_mio[i]/trs[i])\n",
      "/Users/neilkloot/anaconda/lib/python3.6/site-packages/ta/trend.py:174: RuntimeWarning: invalid value encountered in double_scalars\n",
      "  din[i] = 100 * (din_mio[i]/trs[i])\n",
      "/Users/neilkloot/anaconda/lib/python3.6/site-packages/ta/trend.py:176: RuntimeWarning: invalid value encountered in subtract\n",
      "  dx = 100 * np.abs((dip - din) / (dip + din))\n"
     ]
    },
    {
     "name": "stdout",
     "output_type": "stream",
     "text": [
      "Data split.  Total recs: (608, 283)\n",
      "Train recs: (426, 283)\n",
      "Remaining data recs: (182, 283)\n",
      "Validation recs: (91, 283)\n",
      "Remaining data recs: (91, 283)\n",
      "Test recs: (91, 283)\n"
     ]
    },
    {
     "name": "stderr",
     "output_type": "stream",
     "text": [
      "/Users/neilkloot/anaconda/lib/python3.6/site-packages/ta/trend.py:170: RuntimeWarning: divide by zero encountered in double_scalars\n",
      "  dip[i] = 100 * (dip_mio[i]/trs[i])\n",
      "/Users/neilkloot/anaconda/lib/python3.6/site-packages/ta/trend.py:170: RuntimeWarning: invalid value encountered in double_scalars\n",
      "  dip[i] = 100 * (dip_mio[i]/trs[i])\n",
      "/Users/neilkloot/anaconda/lib/python3.6/site-packages/ta/trend.py:174: RuntimeWarning: divide by zero encountered in double_scalars\n",
      "  din[i] = 100 * (din_mio[i]/trs[i])\n",
      "/Users/neilkloot/anaconda/lib/python3.6/site-packages/ta/trend.py:174: RuntimeWarning: invalid value encountered in double_scalars\n",
      "  din[i] = 100 * (din_mio[i]/trs[i])\n",
      "/Users/neilkloot/anaconda/lib/python3.6/site-packages/ta/trend.py:176: RuntimeWarning: invalid value encountered in subtract\n",
      "  dx = 100 * np.abs((dip - din) / (dip + din))\n"
     ]
    },
    {
     "name": "stdout",
     "output_type": "stream",
     "text": [
      "Data split.  Total recs: (403, 283)\n",
      "Train recs: (282, 283)\n",
      "Remaining data recs: (121, 283)\n",
      "Validation recs: (60, 283)\n",
      "Remaining data recs: (61, 283)\n",
      "Test recs: (61, 283)\n"
     ]
    },
    {
     "name": "stderr",
     "output_type": "stream",
     "text": [
      "/Users/neilkloot/anaconda/lib/python3.6/site-packages/ta/trend.py:170: RuntimeWarning: divide by zero encountered in double_scalars\n",
      "  dip[i] = 100 * (dip_mio[i]/trs[i])\n",
      "/Users/neilkloot/anaconda/lib/python3.6/site-packages/ta/trend.py:170: RuntimeWarning: invalid value encountered in double_scalars\n",
      "  dip[i] = 100 * (dip_mio[i]/trs[i])\n",
      "/Users/neilkloot/anaconda/lib/python3.6/site-packages/ta/trend.py:174: RuntimeWarning: divide by zero encountered in double_scalars\n",
      "  din[i] = 100 * (din_mio[i]/trs[i])\n",
      "/Users/neilkloot/anaconda/lib/python3.6/site-packages/ta/trend.py:174: RuntimeWarning: invalid value encountered in double_scalars\n",
      "  din[i] = 100 * (din_mio[i]/trs[i])\n",
      "/Users/neilkloot/anaconda/lib/python3.6/site-packages/ta/trend.py:176: RuntimeWarning: invalid value encountered in subtract\n",
      "  dx = 100 * np.abs((dip - din) / (dip + din))\n"
     ]
    },
    {
     "name": "stdout",
     "output_type": "stream",
     "text": [
      "Data split.  Total recs: (396, 283)\n",
      "Train recs: (277, 283)\n",
      "Remaining data recs: (119, 283)\n",
      "Validation recs: (60, 283)\n",
      "Remaining data recs: (59, 283)\n",
      "Test recs: (59, 283)\n"
     ]
    },
    {
     "name": "stderr",
     "output_type": "stream",
     "text": [
      "/Users/neilkloot/anaconda/lib/python3.6/site-packages/ta/trend.py:170: RuntimeWarning: divide by zero encountered in double_scalars\n",
      "  dip[i] = 100 * (dip_mio[i]/trs[i])\n",
      "/Users/neilkloot/anaconda/lib/python3.6/site-packages/ta/trend.py:170: RuntimeWarning: invalid value encountered in double_scalars\n",
      "  dip[i] = 100 * (dip_mio[i]/trs[i])\n",
      "/Users/neilkloot/anaconda/lib/python3.6/site-packages/ta/trend.py:174: RuntimeWarning: divide by zero encountered in double_scalars\n",
      "  din[i] = 100 * (din_mio[i]/trs[i])\n",
      "/Users/neilkloot/anaconda/lib/python3.6/site-packages/ta/trend.py:174: RuntimeWarning: invalid value encountered in double_scalars\n",
      "  din[i] = 100 * (din_mio[i]/trs[i])\n",
      "/Users/neilkloot/anaconda/lib/python3.6/site-packages/ta/trend.py:176: RuntimeWarning: invalid value encountered in subtract\n",
      "  dx = 100 * np.abs((dip - din) / (dip + din))\n"
     ]
    },
    {
     "name": "stdout",
     "output_type": "stream",
     "text": [
      "Data split.  Total recs: (174, 283)\n",
      "Train recs: (122, 283)\n",
      "Remaining data recs: (52, 283)\n",
      "Validation recs: (26, 283)\n",
      "Remaining data recs: (26, 283)\n",
      "Test recs: (26, 283)\n"
     ]
    },
    {
     "name": "stderr",
     "output_type": "stream",
     "text": [
      "/Users/neilkloot/anaconda/lib/python3.6/site-packages/ta/trend.py:170: RuntimeWarning: divide by zero encountered in double_scalars\n",
      "  dip[i] = 100 * (dip_mio[i]/trs[i])\n",
      "/Users/neilkloot/anaconda/lib/python3.6/site-packages/ta/trend.py:170: RuntimeWarning: invalid value encountered in double_scalars\n",
      "  dip[i] = 100 * (dip_mio[i]/trs[i])\n",
      "/Users/neilkloot/anaconda/lib/python3.6/site-packages/ta/trend.py:174: RuntimeWarning: divide by zero encountered in double_scalars\n",
      "  din[i] = 100 * (din_mio[i]/trs[i])\n",
      "/Users/neilkloot/anaconda/lib/python3.6/site-packages/ta/trend.py:174: RuntimeWarning: invalid value encountered in double_scalars\n",
      "  din[i] = 100 * (din_mio[i]/trs[i])\n",
      "/Users/neilkloot/anaconda/lib/python3.6/site-packages/ta/trend.py:176: RuntimeWarning: invalid value encountered in subtract\n",
      "  dx = 100 * np.abs((dip - din) / (dip + din))\n"
     ]
    },
    {
     "name": "stdout",
     "output_type": "stream",
     "text": [
      "Data split.  Total recs: (109, 283)\n",
      "Train recs: (76, 283)\n",
      "Remaining data recs: (33, 283)\n",
      "Validation recs: (16, 283)\n",
      "Remaining data recs: (17, 283)\n",
      "Test recs: (17, 283)\n"
     ]
    },
    {
     "name": "stderr",
     "output_type": "stream",
     "text": [
      "/Users/neilkloot/anaconda/lib/python3.6/site-packages/ta/trend.py:170: RuntimeWarning: divide by zero encountered in double_scalars\n",
      "  dip[i] = 100 * (dip_mio[i]/trs[i])\n",
      "/Users/neilkloot/anaconda/lib/python3.6/site-packages/ta/trend.py:170: RuntimeWarning: invalid value encountered in double_scalars\n",
      "  dip[i] = 100 * (dip_mio[i]/trs[i])\n",
      "/Users/neilkloot/anaconda/lib/python3.6/site-packages/ta/trend.py:174: RuntimeWarning: divide by zero encountered in double_scalars\n",
      "  din[i] = 100 * (din_mio[i]/trs[i])\n",
      "/Users/neilkloot/anaconda/lib/python3.6/site-packages/ta/trend.py:174: RuntimeWarning: invalid value encountered in double_scalars\n",
      "  din[i] = 100 * (din_mio[i]/trs[i])\n",
      "/Users/neilkloot/anaconda/lib/python3.6/site-packages/ta/trend.py:176: RuntimeWarning: invalid value encountered in subtract\n",
      "  dx = 100 * np.abs((dip - din) / (dip + din))\n"
     ]
    },
    {
     "name": "stdout",
     "output_type": "stream",
     "text": [
      "Data split.  Total recs: (468, 283)\n",
      "Train recs: (328, 283)\n",
      "Remaining data recs: (140, 283)\n",
      "Validation recs: (70, 283)\n",
      "Remaining data recs: (70, 283)\n",
      "Test recs: (70, 283)\n"
     ]
    },
    {
     "name": "stderr",
     "output_type": "stream",
     "text": [
      "/Users/neilkloot/anaconda/lib/python3.6/site-packages/ta/trend.py:170: RuntimeWarning: divide by zero encountered in double_scalars\n",
      "  dip[i] = 100 * (dip_mio[i]/trs[i])\n",
      "/Users/neilkloot/anaconda/lib/python3.6/site-packages/ta/trend.py:170: RuntimeWarning: invalid value encountered in double_scalars\n",
      "  dip[i] = 100 * (dip_mio[i]/trs[i])\n",
      "/Users/neilkloot/anaconda/lib/python3.6/site-packages/ta/trend.py:174: RuntimeWarning: divide by zero encountered in double_scalars\n",
      "  din[i] = 100 * (din_mio[i]/trs[i])\n",
      "/Users/neilkloot/anaconda/lib/python3.6/site-packages/ta/trend.py:174: RuntimeWarning: invalid value encountered in double_scalars\n",
      "  din[i] = 100 * (din_mio[i]/trs[i])\n",
      "/Users/neilkloot/anaconda/lib/python3.6/site-packages/ta/trend.py:176: RuntimeWarning: invalid value encountered in subtract\n",
      "  dx = 100 * np.abs((dip - din) / (dip + din))\n"
     ]
    },
    {
     "name": "stdout",
     "output_type": "stream",
     "text": [
      "Data split.  Total recs: (577, 283)\n",
      "Train recs: (404, 283)\n",
      "Remaining data recs: (173, 283)\n",
      "Validation recs: (86, 283)\n",
      "Remaining data recs: (87, 283)\n",
      "Test recs: (87, 283)\n"
     ]
    },
    {
     "name": "stderr",
     "output_type": "stream",
     "text": [
      "/Users/neilkloot/anaconda/lib/python3.6/site-packages/ta/trend.py:170: RuntimeWarning: divide by zero encountered in double_scalars\n",
      "  dip[i] = 100 * (dip_mio[i]/trs[i])\n",
      "/Users/neilkloot/anaconda/lib/python3.6/site-packages/ta/trend.py:170: RuntimeWarning: invalid value encountered in double_scalars\n",
      "  dip[i] = 100 * (dip_mio[i]/trs[i])\n",
      "/Users/neilkloot/anaconda/lib/python3.6/site-packages/ta/trend.py:174: RuntimeWarning: divide by zero encountered in double_scalars\n",
      "  din[i] = 100 * (din_mio[i]/trs[i])\n",
      "/Users/neilkloot/anaconda/lib/python3.6/site-packages/ta/trend.py:174: RuntimeWarning: invalid value encountered in double_scalars\n",
      "  din[i] = 100 * (din_mio[i]/trs[i])\n",
      "/Users/neilkloot/anaconda/lib/python3.6/site-packages/ta/trend.py:176: RuntimeWarning: invalid value encountered in subtract\n",
      "  dx = 100 * np.abs((dip - din) / (dip + din))\n"
     ]
    },
    {
     "name": "stdout",
     "output_type": "stream",
     "text": [
      "Data split.  Total recs: (221, 283)\n",
      "Train recs: (155, 283)\n",
      "Remaining data recs: (66, 283)\n",
      "Validation recs: (33, 283)\n",
      "Remaining data recs: (33, 283)\n",
      "Test recs: (33, 283)\n"
     ]
    },
    {
     "name": "stderr",
     "output_type": "stream",
     "text": [
      "/Users/neilkloot/anaconda/lib/python3.6/site-packages/ta/trend.py:170: RuntimeWarning: divide by zero encountered in double_scalars\n",
      "  dip[i] = 100 * (dip_mio[i]/trs[i])\n",
      "/Users/neilkloot/anaconda/lib/python3.6/site-packages/ta/trend.py:170: RuntimeWarning: invalid value encountered in double_scalars\n",
      "  dip[i] = 100 * (dip_mio[i]/trs[i])\n",
      "/Users/neilkloot/anaconda/lib/python3.6/site-packages/ta/trend.py:174: RuntimeWarning: divide by zero encountered in double_scalars\n",
      "  din[i] = 100 * (din_mio[i]/trs[i])\n",
      "/Users/neilkloot/anaconda/lib/python3.6/site-packages/ta/trend.py:174: RuntimeWarning: invalid value encountered in double_scalars\n",
      "  din[i] = 100 * (din_mio[i]/trs[i])\n",
      "/Users/neilkloot/anaconda/lib/python3.6/site-packages/ta/trend.py:176: RuntimeWarning: invalid value encountered in subtract\n",
      "  dx = 100 * np.abs((dip - din) / (dip + din))\n"
     ]
    },
    {
     "name": "stdout",
     "output_type": "stream",
     "text": [
      "Data split.  Total recs: (608, 283)\n",
      "Train recs: (426, 283)\n",
      "Remaining data recs: (182, 283)\n",
      "Validation recs: (91, 283)\n",
      "Remaining data recs: (91, 283)\n",
      "Test recs: (91, 283)\n"
     ]
    },
    {
     "name": "stderr",
     "output_type": "stream",
     "text": [
      "/Users/neilkloot/anaconda/lib/python3.6/site-packages/ta/trend.py:170: RuntimeWarning: divide by zero encountered in double_scalars\n",
      "  dip[i] = 100 * (dip_mio[i]/trs[i])\n",
      "/Users/neilkloot/anaconda/lib/python3.6/site-packages/ta/trend.py:170: RuntimeWarning: invalid value encountered in double_scalars\n",
      "  dip[i] = 100 * (dip_mio[i]/trs[i])\n",
      "/Users/neilkloot/anaconda/lib/python3.6/site-packages/ta/trend.py:174: RuntimeWarning: divide by zero encountered in double_scalars\n",
      "  din[i] = 100 * (din_mio[i]/trs[i])\n",
      "/Users/neilkloot/anaconda/lib/python3.6/site-packages/ta/trend.py:174: RuntimeWarning: invalid value encountered in double_scalars\n",
      "  din[i] = 100 * (din_mio[i]/trs[i])\n",
      "/Users/neilkloot/anaconda/lib/python3.6/site-packages/ta/trend.py:176: RuntimeWarning: invalid value encountered in subtract\n",
      "  dx = 100 * np.abs((dip - din) / (dip + din))\n"
     ]
    },
    {
     "name": "stdout",
     "output_type": "stream",
     "text": [
      "Data split.  Total recs: (266, 283)\n",
      "Train recs: (186, 283)\n",
      "Remaining data recs: (80, 283)\n",
      "Validation recs: (40, 283)\n",
      "Remaining data recs: (40, 283)\n",
      "Test recs: (40, 283)\n"
     ]
    },
    {
     "name": "stderr",
     "output_type": "stream",
     "text": [
      "/Users/neilkloot/anaconda/lib/python3.6/site-packages/ta/trend.py:170: RuntimeWarning: divide by zero encountered in double_scalars\n",
      "  dip[i] = 100 * (dip_mio[i]/trs[i])\n",
      "/Users/neilkloot/anaconda/lib/python3.6/site-packages/ta/trend.py:170: RuntimeWarning: invalid value encountered in double_scalars\n",
      "  dip[i] = 100 * (dip_mio[i]/trs[i])\n",
      "/Users/neilkloot/anaconda/lib/python3.6/site-packages/ta/trend.py:174: RuntimeWarning: divide by zero encountered in double_scalars\n",
      "  din[i] = 100 * (din_mio[i]/trs[i])\n",
      "/Users/neilkloot/anaconda/lib/python3.6/site-packages/ta/trend.py:174: RuntimeWarning: invalid value encountered in double_scalars\n",
      "  din[i] = 100 * (din_mio[i]/trs[i])\n",
      "/Users/neilkloot/anaconda/lib/python3.6/site-packages/ta/trend.py:176: RuntimeWarning: invalid value encountered in subtract\n",
      "  dx = 100 * np.abs((dip - din) / (dip + din))\n"
     ]
    },
    {
     "name": "stdout",
     "output_type": "stream",
     "text": [
      "Data split.  Total recs: (211, 283)\n",
      "Train recs: (148, 283)\n",
      "Remaining data recs: (63, 283)\n",
      "Validation recs: (32, 283)\n",
      "Remaining data recs: (31, 283)\n",
      "Test recs: (31, 283)\n"
     ]
    },
    {
     "name": "stderr",
     "output_type": "stream",
     "text": [
      "/Users/neilkloot/anaconda/lib/python3.6/site-packages/ta/trend.py:170: RuntimeWarning: divide by zero encountered in double_scalars\n",
      "  dip[i] = 100 * (dip_mio[i]/trs[i])\n",
      "/Users/neilkloot/anaconda/lib/python3.6/site-packages/ta/trend.py:170: RuntimeWarning: invalid value encountered in double_scalars\n",
      "  dip[i] = 100 * (dip_mio[i]/trs[i])\n",
      "/Users/neilkloot/anaconda/lib/python3.6/site-packages/ta/trend.py:174: RuntimeWarning: divide by zero encountered in double_scalars\n",
      "  din[i] = 100 * (din_mio[i]/trs[i])\n",
      "/Users/neilkloot/anaconda/lib/python3.6/site-packages/ta/trend.py:174: RuntimeWarning: invalid value encountered in double_scalars\n",
      "  din[i] = 100 * (din_mio[i]/trs[i])\n",
      "/Users/neilkloot/anaconda/lib/python3.6/site-packages/ta/trend.py:176: RuntimeWarning: invalid value encountered in subtract\n",
      "  dx = 100 * np.abs((dip - din) / (dip + din))\n"
     ]
    },
    {
     "name": "stdout",
     "output_type": "stream",
     "text": [
      "Data split.  Total recs: (576, 283)\n",
      "Train recs: (403, 283)\n",
      "Remaining data recs: (173, 283)\n",
      "Validation recs: (86, 283)\n",
      "Remaining data recs: (87, 283)\n",
      "Test recs: (87, 283)\n"
     ]
    },
    {
     "name": "stderr",
     "output_type": "stream",
     "text": [
      "/Users/neilkloot/anaconda/lib/python3.6/site-packages/ta/trend.py:170: RuntimeWarning: divide by zero encountered in double_scalars\n",
      "  dip[i] = 100 * (dip_mio[i]/trs[i])\n",
      "/Users/neilkloot/anaconda/lib/python3.6/site-packages/ta/trend.py:170: RuntimeWarning: invalid value encountered in double_scalars\n",
      "  dip[i] = 100 * (dip_mio[i]/trs[i])\n",
      "/Users/neilkloot/anaconda/lib/python3.6/site-packages/ta/trend.py:174: RuntimeWarning: divide by zero encountered in double_scalars\n",
      "  din[i] = 100 * (din_mio[i]/trs[i])\n",
      "/Users/neilkloot/anaconda/lib/python3.6/site-packages/ta/trend.py:174: RuntimeWarning: invalid value encountered in double_scalars\n",
      "  din[i] = 100 * (din_mio[i]/trs[i])\n",
      "/Users/neilkloot/anaconda/lib/python3.6/site-packages/ta/trend.py:176: RuntimeWarning: invalid value encountered in subtract\n",
      "  dx = 100 * np.abs((dip - din) / (dip + din))\n"
     ]
    },
    {
     "name": "stdout",
     "output_type": "stream",
     "text": [
      "Data split.  Total recs: (259, 283)\n",
      "Train recs: (181, 283)\n",
      "Remaining data recs: (78, 283)\n",
      "Validation recs: (39, 283)\n",
      "Remaining data recs: (39, 283)\n",
      "Test recs: (39, 283)\n"
     ]
    },
    {
     "name": "stderr",
     "output_type": "stream",
     "text": [
      "/Users/neilkloot/anaconda/lib/python3.6/site-packages/ta/trend.py:170: RuntimeWarning: divide by zero encountered in double_scalars\n",
      "  dip[i] = 100 * (dip_mio[i]/trs[i])\n",
      "/Users/neilkloot/anaconda/lib/python3.6/site-packages/ta/trend.py:170: RuntimeWarning: invalid value encountered in double_scalars\n",
      "  dip[i] = 100 * (dip_mio[i]/trs[i])\n",
      "/Users/neilkloot/anaconda/lib/python3.6/site-packages/ta/trend.py:174: RuntimeWarning: divide by zero encountered in double_scalars\n",
      "  din[i] = 100 * (din_mio[i]/trs[i])\n",
      "/Users/neilkloot/anaconda/lib/python3.6/site-packages/ta/trend.py:174: RuntimeWarning: invalid value encountered in double_scalars\n",
      "  din[i] = 100 * (din_mio[i]/trs[i])\n",
      "/Users/neilkloot/anaconda/lib/python3.6/site-packages/ta/trend.py:176: RuntimeWarning: invalid value encountered in subtract\n",
      "  dx = 100 * np.abs((dip - din) / (dip + din))\n"
     ]
    },
    {
     "name": "stdout",
     "output_type": "stream",
     "text": [
      "Data split.  Total recs: (218, 283)\n",
      "Train recs: (153, 283)\n",
      "Remaining data recs: (65, 283)\n",
      "Validation recs: (32, 283)\n",
      "Remaining data recs: (33, 283)\n",
      "Test recs: (33, 283)\n"
     ]
    },
    {
     "name": "stderr",
     "output_type": "stream",
     "text": [
      "/Users/neilkloot/anaconda/lib/python3.6/site-packages/ta/trend.py:170: RuntimeWarning: divide by zero encountered in double_scalars\n",
      "  dip[i] = 100 * (dip_mio[i]/trs[i])\n",
      "/Users/neilkloot/anaconda/lib/python3.6/site-packages/ta/trend.py:170: RuntimeWarning: invalid value encountered in double_scalars\n",
      "  dip[i] = 100 * (dip_mio[i]/trs[i])\n",
      "/Users/neilkloot/anaconda/lib/python3.6/site-packages/ta/trend.py:174: RuntimeWarning: divide by zero encountered in double_scalars\n",
      "  din[i] = 100 * (din_mio[i]/trs[i])\n",
      "/Users/neilkloot/anaconda/lib/python3.6/site-packages/ta/trend.py:174: RuntimeWarning: invalid value encountered in double_scalars\n",
      "  din[i] = 100 * (din_mio[i]/trs[i])\n",
      "/Users/neilkloot/anaconda/lib/python3.6/site-packages/ta/trend.py:176: RuntimeWarning: invalid value encountered in subtract\n",
      "  dx = 100 * np.abs((dip - din) / (dip + din))\n"
     ]
    },
    {
     "name": "stdout",
     "output_type": "stream",
     "text": [
      "Data split.  Total recs: (608, 283)\n",
      "Train recs: (426, 283)\n",
      "Remaining data recs: (182, 283)\n",
      "Validation recs: (91, 283)\n",
      "Remaining data recs: (91, 283)\n",
      "Test recs: (91, 283)\n"
     ]
    },
    {
     "name": "stderr",
     "output_type": "stream",
     "text": [
      "/Users/neilkloot/anaconda/lib/python3.6/site-packages/ta/trend.py:170: RuntimeWarning: divide by zero encountered in double_scalars\n",
      "  dip[i] = 100 * (dip_mio[i]/trs[i])\n",
      "/Users/neilkloot/anaconda/lib/python3.6/site-packages/ta/trend.py:170: RuntimeWarning: invalid value encountered in double_scalars\n",
      "  dip[i] = 100 * (dip_mio[i]/trs[i])\n",
      "/Users/neilkloot/anaconda/lib/python3.6/site-packages/ta/trend.py:174: RuntimeWarning: divide by zero encountered in double_scalars\n",
      "  din[i] = 100 * (din_mio[i]/trs[i])\n",
      "/Users/neilkloot/anaconda/lib/python3.6/site-packages/ta/trend.py:174: RuntimeWarning: invalid value encountered in double_scalars\n",
      "  din[i] = 100 * (din_mio[i]/trs[i])\n",
      "/Users/neilkloot/anaconda/lib/python3.6/site-packages/ta/trend.py:176: RuntimeWarning: invalid value encountered in subtract\n",
      "  dx = 100 * np.abs((dip - din) / (dip + din))\n"
     ]
    },
    {
     "name": "stdout",
     "output_type": "stream",
     "text": [
      "Data split.  Total recs: (607, 283)\n",
      "Train recs: (425, 283)\n",
      "Remaining data recs: (182, 283)\n",
      "Validation recs: (91, 283)\n",
      "Remaining data recs: (91, 283)\n",
      "Test recs: (91, 283)\n"
     ]
    },
    {
     "name": "stderr",
     "output_type": "stream",
     "text": [
      "/Users/neilkloot/anaconda/lib/python3.6/site-packages/ta/trend.py:170: RuntimeWarning: divide by zero encountered in double_scalars\n",
      "  dip[i] = 100 * (dip_mio[i]/trs[i])\n",
      "/Users/neilkloot/anaconda/lib/python3.6/site-packages/ta/trend.py:170: RuntimeWarning: invalid value encountered in double_scalars\n",
      "  dip[i] = 100 * (dip_mio[i]/trs[i])\n",
      "/Users/neilkloot/anaconda/lib/python3.6/site-packages/ta/trend.py:174: RuntimeWarning: divide by zero encountered in double_scalars\n",
      "  din[i] = 100 * (din_mio[i]/trs[i])\n",
      "/Users/neilkloot/anaconda/lib/python3.6/site-packages/ta/trend.py:174: RuntimeWarning: invalid value encountered in double_scalars\n",
      "  din[i] = 100 * (din_mio[i]/trs[i])\n",
      "/Users/neilkloot/anaconda/lib/python3.6/site-packages/ta/trend.py:176: RuntimeWarning: invalid value encountered in subtract\n",
      "  dx = 100 * np.abs((dip - din) / (dip + din))\n"
     ]
    },
    {
     "name": "stdout",
     "output_type": "stream",
     "text": [
      "Data split.  Total recs: (337, 283)\n",
      "Train recs: (236, 283)\n",
      "Remaining data recs: (101, 283)\n",
      "Validation recs: (50, 283)\n",
      "Remaining data recs: (51, 283)\n",
      "Test recs: (51, 283)\n"
     ]
    },
    {
     "name": "stderr",
     "output_type": "stream",
     "text": [
      "/Users/neilkloot/anaconda/lib/python3.6/site-packages/ta/trend.py:170: RuntimeWarning: divide by zero encountered in double_scalars\n",
      "  dip[i] = 100 * (dip_mio[i]/trs[i])\n",
      "/Users/neilkloot/anaconda/lib/python3.6/site-packages/ta/trend.py:170: RuntimeWarning: invalid value encountered in double_scalars\n",
      "  dip[i] = 100 * (dip_mio[i]/trs[i])\n",
      "/Users/neilkloot/anaconda/lib/python3.6/site-packages/ta/trend.py:174: RuntimeWarning: divide by zero encountered in double_scalars\n",
      "  din[i] = 100 * (din_mio[i]/trs[i])\n",
      "/Users/neilkloot/anaconda/lib/python3.6/site-packages/ta/trend.py:174: RuntimeWarning: invalid value encountered in double_scalars\n",
      "  din[i] = 100 * (din_mio[i]/trs[i])\n",
      "/Users/neilkloot/anaconda/lib/python3.6/site-packages/ta/trend.py:176: RuntimeWarning: invalid value encountered in subtract\n",
      "  dx = 100 * np.abs((dip - din) / (dip + din))\n"
     ]
    },
    {
     "name": "stdout",
     "output_type": "stream",
     "text": [
      "Data split.  Total recs: (363, 283)\n",
      "Train recs: (254, 283)\n",
      "Remaining data recs: (109, 283)\n",
      "Validation recs: (54, 283)\n",
      "Remaining data recs: (55, 283)\n",
      "Test recs: (55, 283)\n"
     ]
    },
    {
     "name": "stderr",
     "output_type": "stream",
     "text": [
      "/Users/neilkloot/anaconda/lib/python3.6/site-packages/ta/trend.py:170: RuntimeWarning: divide by zero encountered in double_scalars\n",
      "  dip[i] = 100 * (dip_mio[i]/trs[i])\n",
      "/Users/neilkloot/anaconda/lib/python3.6/site-packages/ta/trend.py:170: RuntimeWarning: invalid value encountered in double_scalars\n",
      "  dip[i] = 100 * (dip_mio[i]/trs[i])\n",
      "/Users/neilkloot/anaconda/lib/python3.6/site-packages/ta/trend.py:174: RuntimeWarning: divide by zero encountered in double_scalars\n",
      "  din[i] = 100 * (din_mio[i]/trs[i])\n",
      "/Users/neilkloot/anaconda/lib/python3.6/site-packages/ta/trend.py:174: RuntimeWarning: invalid value encountered in double_scalars\n",
      "  din[i] = 100 * (din_mio[i]/trs[i])\n",
      "/Users/neilkloot/anaconda/lib/python3.6/site-packages/ta/trend.py:176: RuntimeWarning: invalid value encountered in subtract\n",
      "  dx = 100 * np.abs((dip - din) / (dip + din))\n"
     ]
    },
    {
     "name": "stdout",
     "output_type": "stream",
     "text": [
      "Data split.  Total recs: (339, 283)\n",
      "Train recs: (237, 283)\n",
      "Remaining data recs: (102, 283)\n",
      "Validation recs: (51, 283)\n",
      "Remaining data recs: (51, 283)\n",
      "Test recs: (51, 283)\n"
     ]
    },
    {
     "name": "stderr",
     "output_type": "stream",
     "text": [
      "/Users/neilkloot/anaconda/lib/python3.6/site-packages/ta/trend.py:170: RuntimeWarning: divide by zero encountered in double_scalars\n",
      "  dip[i] = 100 * (dip_mio[i]/trs[i])\n",
      "/Users/neilkloot/anaconda/lib/python3.6/site-packages/ta/trend.py:170: RuntimeWarning: invalid value encountered in double_scalars\n",
      "  dip[i] = 100 * (dip_mio[i]/trs[i])\n",
      "/Users/neilkloot/anaconda/lib/python3.6/site-packages/ta/trend.py:174: RuntimeWarning: divide by zero encountered in double_scalars\n",
      "  din[i] = 100 * (din_mio[i]/trs[i])\n",
      "/Users/neilkloot/anaconda/lib/python3.6/site-packages/ta/trend.py:174: RuntimeWarning: invalid value encountered in double_scalars\n",
      "  din[i] = 100 * (din_mio[i]/trs[i])\n",
      "/Users/neilkloot/anaconda/lib/python3.6/site-packages/ta/trend.py:176: RuntimeWarning: invalid value encountered in subtract\n",
      "  dx = 100 * np.abs((dip - din) / (dip + din))\n"
     ]
    },
    {
     "name": "stdout",
     "output_type": "stream",
     "text": [
      "Data split.  Total recs: (335, 283)\n",
      "Train recs: (234, 283)\n",
      "Remaining data recs: (101, 283)\n",
      "Validation recs: (50, 283)\n",
      "Remaining data recs: (51, 283)\n",
      "Test recs: (51, 283)\n"
     ]
    },
    {
     "name": "stderr",
     "output_type": "stream",
     "text": [
      "/Users/neilkloot/anaconda/lib/python3.6/site-packages/ta/trend.py:170: RuntimeWarning: divide by zero encountered in double_scalars\n",
      "  dip[i] = 100 * (dip_mio[i]/trs[i])\n",
      "/Users/neilkloot/anaconda/lib/python3.6/site-packages/ta/trend.py:170: RuntimeWarning: invalid value encountered in double_scalars\n",
      "  dip[i] = 100 * (dip_mio[i]/trs[i])\n",
      "/Users/neilkloot/anaconda/lib/python3.6/site-packages/ta/trend.py:174: RuntimeWarning: divide by zero encountered in double_scalars\n",
      "  din[i] = 100 * (din_mio[i]/trs[i])\n",
      "/Users/neilkloot/anaconda/lib/python3.6/site-packages/ta/trend.py:174: RuntimeWarning: invalid value encountered in double_scalars\n",
      "  din[i] = 100 * (din_mio[i]/trs[i])\n",
      "/Users/neilkloot/anaconda/lib/python3.6/site-packages/ta/trend.py:176: RuntimeWarning: invalid value encountered in subtract\n",
      "  dx = 100 * np.abs((dip - din) / (dip + din))\n"
     ]
    },
    {
     "name": "stdout",
     "output_type": "stream",
     "text": [
      "Data split.  Total recs: (606, 283)\n",
      "Train recs: (424, 283)\n",
      "Remaining data recs: (182, 283)\n",
      "Validation recs: (91, 283)\n",
      "Remaining data recs: (91, 283)\n",
      "Test recs: (91, 283)\n"
     ]
    },
    {
     "name": "stderr",
     "output_type": "stream",
     "text": [
      "/Users/neilkloot/anaconda/lib/python3.6/site-packages/ta/trend.py:170: RuntimeWarning: divide by zero encountered in double_scalars\n",
      "  dip[i] = 100 * (dip_mio[i]/trs[i])\n",
      "/Users/neilkloot/anaconda/lib/python3.6/site-packages/ta/trend.py:170: RuntimeWarning: invalid value encountered in double_scalars\n",
      "  dip[i] = 100 * (dip_mio[i]/trs[i])\n",
      "/Users/neilkloot/anaconda/lib/python3.6/site-packages/ta/trend.py:174: RuntimeWarning: divide by zero encountered in double_scalars\n",
      "  din[i] = 100 * (din_mio[i]/trs[i])\n",
      "/Users/neilkloot/anaconda/lib/python3.6/site-packages/ta/trend.py:174: RuntimeWarning: invalid value encountered in double_scalars\n",
      "  din[i] = 100 * (din_mio[i]/trs[i])\n",
      "/Users/neilkloot/anaconda/lib/python3.6/site-packages/ta/trend.py:176: RuntimeWarning: invalid value encountered in subtract\n",
      "  dx = 100 * np.abs((dip - din) / (dip + din))\n"
     ]
    },
    {
     "name": "stdout",
     "output_type": "stream",
     "text": [
      "Data split.  Total recs: (303, 283)\n",
      "Train recs: (212, 283)\n",
      "Remaining data recs: (91, 283)\n",
      "Validation recs: (46, 283)\n",
      "Remaining data recs: (45, 283)\n",
      "Test recs: (45, 283)\n"
     ]
    },
    {
     "name": "stderr",
     "output_type": "stream",
     "text": [
      "/Users/neilkloot/anaconda/lib/python3.6/site-packages/ta/trend.py:170: RuntimeWarning: divide by zero encountered in double_scalars\n",
      "  dip[i] = 100 * (dip_mio[i]/trs[i])\n",
      "/Users/neilkloot/anaconda/lib/python3.6/site-packages/ta/trend.py:170: RuntimeWarning: invalid value encountered in double_scalars\n",
      "  dip[i] = 100 * (dip_mio[i]/trs[i])\n",
      "/Users/neilkloot/anaconda/lib/python3.6/site-packages/ta/trend.py:174: RuntimeWarning: divide by zero encountered in double_scalars\n",
      "  din[i] = 100 * (din_mio[i]/trs[i])\n",
      "/Users/neilkloot/anaconda/lib/python3.6/site-packages/ta/trend.py:174: RuntimeWarning: invalid value encountered in double_scalars\n",
      "  din[i] = 100 * (din_mio[i]/trs[i])\n",
      "/Users/neilkloot/anaconda/lib/python3.6/site-packages/ta/trend.py:176: RuntimeWarning: invalid value encountered in subtract\n",
      "  dx = 100 * np.abs((dip - din) / (dip + din))\n"
     ]
    },
    {
     "name": "stdout",
     "output_type": "stream",
     "text": [
      "Data split.  Total recs: (608, 283)\n",
      "Train recs: (426, 283)\n",
      "Remaining data recs: (182, 283)\n",
      "Validation recs: (91, 283)\n",
      "Remaining data recs: (91, 283)\n",
      "Test recs: (91, 283)\n"
     ]
    },
    {
     "name": "stderr",
     "output_type": "stream",
     "text": [
      "/Users/neilkloot/anaconda/lib/python3.6/site-packages/ta/trend.py:170: RuntimeWarning: divide by zero encountered in double_scalars\n",
      "  dip[i] = 100 * (dip_mio[i]/trs[i])\n",
      "/Users/neilkloot/anaconda/lib/python3.6/site-packages/ta/trend.py:170: RuntimeWarning: invalid value encountered in double_scalars\n",
      "  dip[i] = 100 * (dip_mio[i]/trs[i])\n",
      "/Users/neilkloot/anaconda/lib/python3.6/site-packages/ta/trend.py:174: RuntimeWarning: divide by zero encountered in double_scalars\n",
      "  din[i] = 100 * (din_mio[i]/trs[i])\n",
      "/Users/neilkloot/anaconda/lib/python3.6/site-packages/ta/trend.py:174: RuntimeWarning: invalid value encountered in double_scalars\n",
      "  din[i] = 100 * (din_mio[i]/trs[i])\n",
      "/Users/neilkloot/anaconda/lib/python3.6/site-packages/ta/trend.py:176: RuntimeWarning: invalid value encountered in subtract\n",
      "  dx = 100 * np.abs((dip - din) / (dip + din))\n"
     ]
    },
    {
     "name": "stdout",
     "output_type": "stream",
     "text": [
      "Data split.  Total recs: (291, 283)\n",
      "Train recs: (204, 283)\n",
      "Remaining data recs: (87, 283)\n",
      "Validation recs: (44, 283)\n",
      "Remaining data recs: (43, 283)\n",
      "Test recs: (43, 283)\n"
     ]
    },
    {
     "name": "stderr",
     "output_type": "stream",
     "text": [
      "/Users/neilkloot/anaconda/lib/python3.6/site-packages/ta/trend.py:170: RuntimeWarning: divide by zero encountered in double_scalars\n",
      "  dip[i] = 100 * (dip_mio[i]/trs[i])\n",
      "/Users/neilkloot/anaconda/lib/python3.6/site-packages/ta/trend.py:170: RuntimeWarning: invalid value encountered in double_scalars\n",
      "  dip[i] = 100 * (dip_mio[i]/trs[i])\n",
      "/Users/neilkloot/anaconda/lib/python3.6/site-packages/ta/trend.py:174: RuntimeWarning: divide by zero encountered in double_scalars\n",
      "  din[i] = 100 * (din_mio[i]/trs[i])\n",
      "/Users/neilkloot/anaconda/lib/python3.6/site-packages/ta/trend.py:174: RuntimeWarning: invalid value encountered in double_scalars\n",
      "  din[i] = 100 * (din_mio[i]/trs[i])\n",
      "/Users/neilkloot/anaconda/lib/python3.6/site-packages/ta/trend.py:176: RuntimeWarning: invalid value encountered in subtract\n",
      "  dx = 100 * np.abs((dip - din) / (dip + din))\n"
     ]
    },
    {
     "name": "stdout",
     "output_type": "stream",
     "text": [
      "Data split.  Total recs: (362, 283)\n",
      "Train recs: (253, 283)\n",
      "Remaining data recs: (109, 283)\n",
      "Validation recs: (54, 283)\n",
      "Remaining data recs: (55, 283)\n",
      "Test recs: (55, 283)\n"
     ]
    },
    {
     "name": "stderr",
     "output_type": "stream",
     "text": [
      "/Users/neilkloot/anaconda/lib/python3.6/site-packages/ta/trend.py:170: RuntimeWarning: divide by zero encountered in double_scalars\n",
      "  dip[i] = 100 * (dip_mio[i]/trs[i])\n",
      "/Users/neilkloot/anaconda/lib/python3.6/site-packages/ta/trend.py:170: RuntimeWarning: invalid value encountered in double_scalars\n",
      "  dip[i] = 100 * (dip_mio[i]/trs[i])\n",
      "/Users/neilkloot/anaconda/lib/python3.6/site-packages/ta/trend.py:174: RuntimeWarning: divide by zero encountered in double_scalars\n",
      "  din[i] = 100 * (din_mio[i]/trs[i])\n",
      "/Users/neilkloot/anaconda/lib/python3.6/site-packages/ta/trend.py:174: RuntimeWarning: invalid value encountered in double_scalars\n",
      "  din[i] = 100 * (din_mio[i]/trs[i])\n",
      "/Users/neilkloot/anaconda/lib/python3.6/site-packages/ta/trend.py:176: RuntimeWarning: invalid value encountered in subtract\n",
      "  dx = 100 * np.abs((dip - din) / (dip + din))\n"
     ]
    },
    {
     "name": "stdout",
     "output_type": "stream",
     "text": [
      "Data split.  Total recs: (183, 283)\n",
      "Train recs: (128, 283)\n",
      "Remaining data recs: (55, 283)\n",
      "Validation recs: (28, 283)\n",
      "Remaining data recs: (27, 283)\n",
      "Test recs: (27, 283)\n"
     ]
    },
    {
     "name": "stderr",
     "output_type": "stream",
     "text": [
      "/Users/neilkloot/anaconda/lib/python3.6/site-packages/ta/trend.py:170: RuntimeWarning: divide by zero encountered in double_scalars\n",
      "  dip[i] = 100 * (dip_mio[i]/trs[i])\n",
      "/Users/neilkloot/anaconda/lib/python3.6/site-packages/ta/trend.py:170: RuntimeWarning: invalid value encountered in double_scalars\n",
      "  dip[i] = 100 * (dip_mio[i]/trs[i])\n",
      "/Users/neilkloot/anaconda/lib/python3.6/site-packages/ta/trend.py:174: RuntimeWarning: divide by zero encountered in double_scalars\n",
      "  din[i] = 100 * (din_mio[i]/trs[i])\n",
      "/Users/neilkloot/anaconda/lib/python3.6/site-packages/ta/trend.py:174: RuntimeWarning: invalid value encountered in double_scalars\n",
      "  din[i] = 100 * (din_mio[i]/trs[i])\n",
      "/Users/neilkloot/anaconda/lib/python3.6/site-packages/ta/trend.py:176: RuntimeWarning: invalid value encountered in subtract\n",
      "  dx = 100 * np.abs((dip - din) / (dip + din))\n"
     ]
    },
    {
     "name": "stdout",
     "output_type": "stream",
     "text": [
      "Data split.  Total recs: (607, 283)\n",
      "Train recs: (425, 283)\n",
      "Remaining data recs: (182, 283)\n",
      "Validation recs: (91, 283)\n",
      "Remaining data recs: (91, 283)\n",
      "Test recs: (91, 283)\n"
     ]
    },
    {
     "name": "stderr",
     "output_type": "stream",
     "text": [
      "/Users/neilkloot/anaconda/lib/python3.6/site-packages/ta/trend.py:170: RuntimeWarning: invalid value encountered in double_scalars\n",
      "  dip[i] = 100 * (dip_mio[i]/trs[i])\n",
      "/Users/neilkloot/anaconda/lib/python3.6/site-packages/ta/trend.py:174: RuntimeWarning: divide by zero encountered in double_scalars\n",
      "  din[i] = 100 * (din_mio[i]/trs[i])\n",
      "/Users/neilkloot/anaconda/lib/python3.6/site-packages/ta/trend.py:174: RuntimeWarning: invalid value encountered in double_scalars\n",
      "  din[i] = 100 * (din_mio[i]/trs[i])\n"
     ]
    },
    {
     "name": "stdout",
     "output_type": "stream",
     "text": [
      "Data split.  Total recs: (383, 283)\n",
      "Train recs: (268, 283)\n",
      "Remaining data recs: (115, 283)\n",
      "Validation recs: (58, 283)\n",
      "Remaining data recs: (57, 283)\n",
      "Test recs: (57, 283)\n"
     ]
    },
    {
     "name": "stderr",
     "output_type": "stream",
     "text": [
      "/Users/neilkloot/anaconda/lib/python3.6/site-packages/ta/trend.py:170: RuntimeWarning: divide by zero encountered in double_scalars\n",
      "  dip[i] = 100 * (dip_mio[i]/trs[i])\n",
      "/Users/neilkloot/anaconda/lib/python3.6/site-packages/ta/trend.py:170: RuntimeWarning: invalid value encountered in double_scalars\n",
      "  dip[i] = 100 * (dip_mio[i]/trs[i])\n",
      "/Users/neilkloot/anaconda/lib/python3.6/site-packages/ta/trend.py:174: RuntimeWarning: divide by zero encountered in double_scalars\n",
      "  din[i] = 100 * (din_mio[i]/trs[i])\n",
      "/Users/neilkloot/anaconda/lib/python3.6/site-packages/ta/trend.py:174: RuntimeWarning: invalid value encountered in double_scalars\n",
      "  din[i] = 100 * (din_mio[i]/trs[i])\n",
      "/Users/neilkloot/anaconda/lib/python3.6/site-packages/ta/trend.py:176: RuntimeWarning: invalid value encountered in subtract\n",
      "  dx = 100 * np.abs((dip - din) / (dip + din))\n"
     ]
    },
    {
     "name": "stdout",
     "output_type": "stream",
     "text": [
      "Data split.  Total recs: (608, 283)\n",
      "Train recs: (426, 283)\n",
      "Remaining data recs: (182, 283)\n",
      "Validation recs: (91, 283)\n",
      "Remaining data recs: (91, 283)\n",
      "Test recs: (91, 283)\n"
     ]
    },
    {
     "name": "stderr",
     "output_type": "stream",
     "text": [
      "/Users/neilkloot/anaconda/lib/python3.6/site-packages/ta/trend.py:170: RuntimeWarning: divide by zero encountered in double_scalars\n",
      "  dip[i] = 100 * (dip_mio[i]/trs[i])\n",
      "/Users/neilkloot/anaconda/lib/python3.6/site-packages/ta/trend.py:170: RuntimeWarning: invalid value encountered in double_scalars\n",
      "  dip[i] = 100 * (dip_mio[i]/trs[i])\n",
      "/Users/neilkloot/anaconda/lib/python3.6/site-packages/ta/trend.py:174: RuntimeWarning: divide by zero encountered in double_scalars\n",
      "  din[i] = 100 * (din_mio[i]/trs[i])\n",
      "/Users/neilkloot/anaconda/lib/python3.6/site-packages/ta/trend.py:174: RuntimeWarning: invalid value encountered in double_scalars\n",
      "  din[i] = 100 * (din_mio[i]/trs[i])\n",
      "/Users/neilkloot/anaconda/lib/python3.6/site-packages/ta/trend.py:176: RuntimeWarning: invalid value encountered in subtract\n",
      "  dx = 100 * np.abs((dip - din) / (dip + din))\n"
     ]
    },
    {
     "name": "stdout",
     "output_type": "stream",
     "text": [
      "Data split.  Total recs: (608, 283)\n",
      "Train recs: (426, 283)\n",
      "Remaining data recs: (182, 283)\n",
      "Validation recs: (91, 283)\n",
      "Remaining data recs: (91, 283)\n",
      "Test recs: (91, 283)\n"
     ]
    },
    {
     "name": "stderr",
     "output_type": "stream",
     "text": [
      "/Users/neilkloot/anaconda/lib/python3.6/site-packages/ta/trend.py:170: RuntimeWarning: divide by zero encountered in double_scalars\n",
      "  dip[i] = 100 * (dip_mio[i]/trs[i])\n",
      "/Users/neilkloot/anaconda/lib/python3.6/site-packages/ta/trend.py:170: RuntimeWarning: invalid value encountered in double_scalars\n",
      "  dip[i] = 100 * (dip_mio[i]/trs[i])\n",
      "/Users/neilkloot/anaconda/lib/python3.6/site-packages/ta/trend.py:174: RuntimeWarning: divide by zero encountered in double_scalars\n",
      "  din[i] = 100 * (din_mio[i]/trs[i])\n",
      "/Users/neilkloot/anaconda/lib/python3.6/site-packages/ta/trend.py:174: RuntimeWarning: invalid value encountered in double_scalars\n",
      "  din[i] = 100 * (din_mio[i]/trs[i])\n",
      "/Users/neilkloot/anaconda/lib/python3.6/site-packages/ta/trend.py:176: RuntimeWarning: invalid value encountered in subtract\n",
      "  dx = 100 * np.abs((dip - din) / (dip + din))\n"
     ]
    },
    {
     "name": "stdout",
     "output_type": "stream",
     "text": [
      "Data split.  Total recs: (608, 283)\n",
      "Train recs: (426, 283)\n",
      "Remaining data recs: (182, 283)\n",
      "Validation recs: (91, 283)\n",
      "Remaining data recs: (91, 283)\n",
      "Test recs: (91, 283)\n"
     ]
    },
    {
     "name": "stderr",
     "output_type": "stream",
     "text": [
      "/Users/neilkloot/anaconda/lib/python3.6/site-packages/ta/trend.py:170: RuntimeWarning: divide by zero encountered in double_scalars\n",
      "  dip[i] = 100 * (dip_mio[i]/trs[i])\n",
      "/Users/neilkloot/anaconda/lib/python3.6/site-packages/ta/trend.py:170: RuntimeWarning: invalid value encountered in double_scalars\n",
      "  dip[i] = 100 * (dip_mio[i]/trs[i])\n",
      "/Users/neilkloot/anaconda/lib/python3.6/site-packages/ta/trend.py:174: RuntimeWarning: divide by zero encountered in double_scalars\n",
      "  din[i] = 100 * (din_mio[i]/trs[i])\n",
      "/Users/neilkloot/anaconda/lib/python3.6/site-packages/ta/trend.py:174: RuntimeWarning: invalid value encountered in double_scalars\n",
      "  din[i] = 100 * (din_mio[i]/trs[i])\n",
      "/Users/neilkloot/anaconda/lib/python3.6/site-packages/ta/trend.py:176: RuntimeWarning: invalid value encountered in subtract\n",
      "  dx = 100 * np.abs((dip - din) / (dip + din))\n"
     ]
    },
    {
     "name": "stdout",
     "output_type": "stream",
     "text": [
      "Data split.  Total recs: (608, 283)\n",
      "Train recs: (426, 283)\n",
      "Remaining data recs: (182, 283)\n",
      "Validation recs: (91, 283)\n",
      "Remaining data recs: (91, 283)\n",
      "Test recs: (91, 283)\n"
     ]
    },
    {
     "name": "stderr",
     "output_type": "stream",
     "text": [
      "/Users/neilkloot/anaconda/lib/python3.6/site-packages/ta/trend.py:170: RuntimeWarning: divide by zero encountered in double_scalars\n",
      "  dip[i] = 100 * (dip_mio[i]/trs[i])\n",
      "/Users/neilkloot/anaconda/lib/python3.6/site-packages/ta/trend.py:170: RuntimeWarning: invalid value encountered in double_scalars\n",
      "  dip[i] = 100 * (dip_mio[i]/trs[i])\n",
      "/Users/neilkloot/anaconda/lib/python3.6/site-packages/ta/trend.py:174: RuntimeWarning: divide by zero encountered in double_scalars\n",
      "  din[i] = 100 * (din_mio[i]/trs[i])\n",
      "/Users/neilkloot/anaconda/lib/python3.6/site-packages/ta/trend.py:174: RuntimeWarning: invalid value encountered in double_scalars\n",
      "  din[i] = 100 * (din_mio[i]/trs[i])\n",
      "/Users/neilkloot/anaconda/lib/python3.6/site-packages/ta/trend.py:176: RuntimeWarning: invalid value encountered in subtract\n",
      "  dx = 100 * np.abs((dip - din) / (dip + din))\n"
     ]
    },
    {
     "name": "stdout",
     "output_type": "stream",
     "text": [
      "Data split.  Total recs: (608, 283)\n",
      "Train recs: (426, 283)\n",
      "Remaining data recs: (182, 283)\n",
      "Validation recs: (91, 283)\n",
      "Remaining data recs: (91, 283)\n",
      "Test recs: (91, 283)\n"
     ]
    },
    {
     "name": "stderr",
     "output_type": "stream",
     "text": [
      "/Users/neilkloot/anaconda/lib/python3.6/site-packages/ta/trend.py:170: RuntimeWarning: divide by zero encountered in double_scalars\n",
      "  dip[i] = 100 * (dip_mio[i]/trs[i])\n",
      "/Users/neilkloot/anaconda/lib/python3.6/site-packages/ta/trend.py:170: RuntimeWarning: invalid value encountered in double_scalars\n",
      "  dip[i] = 100 * (dip_mio[i]/trs[i])\n",
      "/Users/neilkloot/anaconda/lib/python3.6/site-packages/ta/trend.py:174: RuntimeWarning: divide by zero encountered in double_scalars\n",
      "  din[i] = 100 * (din_mio[i]/trs[i])\n",
      "/Users/neilkloot/anaconda/lib/python3.6/site-packages/ta/trend.py:174: RuntimeWarning: invalid value encountered in double_scalars\n",
      "  din[i] = 100 * (din_mio[i]/trs[i])\n",
      "/Users/neilkloot/anaconda/lib/python3.6/site-packages/ta/trend.py:176: RuntimeWarning: invalid value encountered in subtract\n",
      "  dx = 100 * np.abs((dip - din) / (dip + din))\n"
     ]
    },
    {
     "name": "stdout",
     "output_type": "stream",
     "text": [
      "Data split.  Total recs: (608, 283)\n",
      "Train recs: (426, 283)\n",
      "Remaining data recs: (182, 283)\n",
      "Validation recs: (91, 283)\n",
      "Remaining data recs: (91, 283)\n",
      "Test recs: (91, 283)\n"
     ]
    },
    {
     "name": "stderr",
     "output_type": "stream",
     "text": [
      "/Users/neilkloot/anaconda/lib/python3.6/site-packages/ta/trend.py:170: RuntimeWarning: divide by zero encountered in double_scalars\n",
      "  dip[i] = 100 * (dip_mio[i]/trs[i])\n",
      "/Users/neilkloot/anaconda/lib/python3.6/site-packages/ta/trend.py:170: RuntimeWarning: invalid value encountered in double_scalars\n",
      "  dip[i] = 100 * (dip_mio[i]/trs[i])\n",
      "/Users/neilkloot/anaconda/lib/python3.6/site-packages/ta/trend.py:174: RuntimeWarning: divide by zero encountered in double_scalars\n",
      "  din[i] = 100 * (din_mio[i]/trs[i])\n",
      "/Users/neilkloot/anaconda/lib/python3.6/site-packages/ta/trend.py:174: RuntimeWarning: invalid value encountered in double_scalars\n",
      "  din[i] = 100 * (din_mio[i]/trs[i])\n",
      "/Users/neilkloot/anaconda/lib/python3.6/site-packages/ta/trend.py:176: RuntimeWarning: invalid value encountered in subtract\n",
      "  dx = 100 * np.abs((dip - din) / (dip + din))\n"
     ]
    },
    {
     "name": "stdout",
     "output_type": "stream",
     "text": [
      "Data split.  Total recs: (595, 283)\n",
      "Train recs: (416, 283)\n",
      "Remaining data recs: (179, 283)\n",
      "Validation recs: (90, 283)\n",
      "Remaining data recs: (89, 283)\n",
      "Test recs: (89, 283)\n",
      "Consolidating whole market data\n",
      "Combining into weekly data and adding ta\n",
      "Calculating weekly data for allordpreviousclose\n",
      "Adding ta data for allordpreviousclose\n",
      "Calculating weekly data for asxpreviousclose\n",
      "Adding ta data for asxpreviousclose\n",
      "Calculating weekly data for 640106_A3597525W\n",
      "Adding ta data for 640106_A3597525W\n",
      "Calculating weekly data for FIRMMCRT\n",
      "Adding ta data for FIRMMCRT\n",
      "Calculating weekly data for FXRUSD\n",
      "Adding ta data for FXRUSD\n",
      "Calculating weekly data for GRCPAIAD\n",
      "Adding ta data for GRCPAIAD\n",
      "Calculating weekly data for GRCPAISAD\n",
      "Adding ta data for GRCPAISAD\n",
      "Calculating weekly data for GRCPBCAD\n",
      "Adding ta data for GRCPBCAD\n",
      "Calculating weekly data for GRCPBCSAD\n",
      "Adding ta data for GRCPBCSAD\n",
      "Calculating weekly data for GRCPBMAD\n",
      "Adding ta data for GRCPBMAD\n",
      "Calculating weekly data for GRCPNRAD\n",
      "Adding ta data for GRCPNRAD\n",
      "Calculating weekly data for GRCPRCAD\n",
      "Adding ta data for GRCPRCAD\n",
      "Calculating weekly data for H01_GGDPCVGDP\n",
      "Adding ta data for H01_GGDPCVGDP\n",
      "Calculating weekly data for H01_GGDPCVGDPFY\n",
      "Adding ta data for H01_GGDPCVGDPFY\n"
     ]
    },
    {
     "name": "stderr",
     "output_type": "stream",
     "text": [
      "/Users/neilkloot/anaconda/lib/python3.6/site-packages/ta/others.py:42: RuntimeWarning: invalid value encountered in log\n",
      "  dr = np.log(close).diff()\n"
     ]
    },
    {
     "name": "stdout",
     "output_type": "stream",
     "text": [
      "Calculating weekly data for H05_GLFSEPTPOP\n",
      "Adding ta data for H05_GLFSEPTPOP\n",
      "Concatenating whole market data\n",
      "Concatenated whole market shape (616, 960)\n",
      "Concatenating symbol dfs\n",
      "Adding whole market data\n",
      "Optimising symbol dfs\n",
      "All data: (15780, 1243)\n",
      "Training data: (73697, 1243)\n",
      "Validation data: (15769, 1243)\n",
      "Test data: (15780, 1243)\n"
     ]
    }
   ],
   "source": [
    "# experiment_symbols = ['WAX']\n",
    "\n",
    "# experiment_symbols = ['WAX', 'IVV', 'WESN', 'IAA', 'XRO', 'MTB', 'MXR', 'RCP', 'ISX', 'IMI']\n",
    "\n",
    "# experiment_symbols = ['GSW','VGAD','CUA','TIX','FLT','PTN','OVN','IRU','FDM','HDF','SVW','BWX',\n",
    "#                       'FPH','AGL','JHC','HIN','TRS','HGO','SGP','AVN','DOW','NVL','AOG','BGL',\n",
    "#                       'HSN','CSS','SWM','RIC','CMI','MKE','BCI','IBG','SWJ','IXP','MYX','RNY',\n",
    "#                       'CZA','SRV','VMT','CDM','CLQ','BPS','CSE','ORR','OOK','EOS','BRL','BWP',\n",
    "#                       'ENC','FCT','SIO','SZG','ECG','SXA','MHC','PHK','ICT','CLH','NTM','TAS',\n",
    "#                       'REV','CII','FND','ZGM','GOE','SSI','QMN','EAL','DSB','PNX','KRS','RXH',\n",
    "#                       'LAU','CNW','GSZ','IBC','SAS','EAS','OCC','AIS','INK','AIK','EVM','MSV',\n",
    "#                       'XST','GMR','WWI','JYC','BSM','VRX','TKL','WFE','ZMI','SHK','DGO','BD1',\n",
    "#                       'ALT','SES','RNO','MXC','IRC','GTR','AYM','RLC','IVG','MDG','MPE','MOT',\n",
    "#                       'OAR','HGL','DSE','VII','KTL']\n",
    "\n",
    "experiment_symbols = ['VGS', 'ALB', 'CUA', '1PG', 'MBN', 'UGL', 'TTS', 'MGE', 'ALQ', 'CDC', 'TFC', \n",
    "                      'ASL', 'BAL', 'CCV', 'DRM', 'TPM', 'EOS', 'SCP', 'CZA', 'SLR', 'CKF', 'NAB', \n",
    "                      'KCN', 'SMR', 'FPH', 'EWC', 'OTR', 'ASY', 'SLX', 'CCP', 'FUN', 'NWS', 'CSS', \n",
    "                      'DJW', 'WHC', 'LHC', 'OGX', 'VOC', 'HPI', 'VLW', 'LYC', 'RWD', 'MGR', 'CSR', \n",
    "                      'RDF', 'AGS', 'MZM', 'IAU', 'CLV', 'HAV', 'MAT', 'MNY', 'RMP', 'DFM', 'EOC', \n",
    "                      'CKA', 'WPP', 'EAR', 'CLH', 'PDZ', 'CTM', 'MVP', 'CAP', 'SHM', 'RHP', 'GEG', \n",
    "                      'AWV', 'APL', 'CAS', 'YPB', 'HUO', 'NCK', 'DKM', 'BSN', 'UBP', 'TPP', 'MYO', \n",
    "                      'CIN', 'MMI', 'SWJ', 'EVS', 'AZV', 'MOD', 'BAR', 'RBO', 'GSC', 'EXC', 'OSP', \n",
    "                      'PLA', 'IQE', 'QTM', 'LCY', 'CAV', 'TRL', 'NIO', 'EXR', 'FRC', 'BMZ', 'AEE', \n",
    "                      'AUK', 'SSN', 'REF', 'RDS', 'SDL', 'DVA', 'FEL', 'SMP', 'TMM', 'WBT', 'VEI', \n",
    "                      'VXR', 'APG', 'SPI', 'CNL', 'IHL', 'SMN', 'CAF', 'RXH', 'AAX', 'MMR', 'PIO', \n",
    "                      'PAG', 'DRG', 'AOU', 'MGL', 'AQX', 'SBM', 'SSG', 'PIL', 'DGX', 'BGG', 'MGV', \n",
    "                      'AZH', 'DRX', 'ESI', 'ADV', 'USA', 'FRN', 'PAA', 'MSM', 'GPP', 'AOP', 'TKL', \n",
    "                      'MGP', 'FDV', 'CBD', 'WDR', 'CCA', 'NAG', 'DRK', 'MCS', 'CTR', 'NWE', 'UIL', \n",
    "                      'OBS', 'NCR', 'MUS', 'BCC', 'CZR', 'LCD', 'VKA', 'ICU', 'SGO', 'GLY', 'CNC', \n",
    "                      'TPD', 'CIO', 'GLG', 'QBE', 'CPK', 'ADA', 'DME', 'QNL', 'SBI', 'RVY', 'SXI', \n",
    "                      'AUZ', 'WFE', 'QUB', 'SCG', 'GBX', 'CXD', 'DIG', 'CGN', 'CJC', 'SST', 'IOT', \n",
    "                      'FAC', 'SLE', 'KMC', 'SRV', 'CCZ', 'LNU', 'LNK', 'LSH', 'ECO', 'LEX', 'EHE', \n",
    "                      'IFM', 'MLC', 'SRA', 'AFT', 'LGM', 'OHE', 'AMP', 'BAS', 'TFS', 'GSZ', 'EPY', \n",
    "                      'BUE', 'BDI', 'PAW', 'APD', 'SDF', 'MBD', 'GIA', 'CLT', 'COJ', 'ONT', 'GLB', \n",
    "                      'SKT', 'SVW', 'BEN', 'ROG', 'CMI']\n",
    "\n",
    "all_df, train_df, validation_df, test_df = retrieve_and_calculate_weekly_symbol_dfs('../data/symbols/', '20190416', experiment_symbols)\n",
    "\n",
    "print('All data:', all_df.shape)\n",
    "print('Training data:', train_df.shape)\n",
    "print('Validation data:', validation_df.shape)\n",
    "print('Test data:', test_df.shape)\n",
    "\n",
    "all_df.to_pickle('../data/ml-ta-all-data-20190416.pkl.gz', compression='gzip')\n",
    "train_df.to_pickle('../data/ml-ta-train-data-20190416.pkl.gz', compression='gzip')\n",
    "validation_df.to_pickle('../data/ml-ta-validation-data-20190416.pkl.gz', compression='gzip')\n",
    "test_df.to_pickle('../data/ml-ta-test-data-20190416.pkl.gz', compression='gzip')\n",
    "\n"
   ]
  },
  {
   "cell_type": "code",
   "execution_count": null,
   "metadata": {},
   "outputs": [],
   "source": [
    "train_df"
   ]
  },
  {
   "cell_type": "code",
   "execution_count": null,
   "metadata": {},
   "outputs": [],
   "source": [
    "validation_df"
   ]
  },
  {
   "cell_type": "code",
   "execution_count": null,
   "metadata": {},
   "outputs": [],
   "source": [
    "test_df"
   ]
  },
  {
   "cell_type": "code",
   "execution_count": null,
   "metadata": {},
   "outputs": [],
   "source": [
    "test_cols = ['symbol', 'GICSSector', 'GICSIndustryGroup', 'GICSIndustry', 'totalVolume', 'weekLow', \n",
    "             'weekHigh', 'weekOpen', 'weekClose', 'ta_volume_adi', 'ta_volume_obv', 'ta_volume_obvm', \n",
    "             'ta_volume_cmf', 'ta_volume_fi', 'ta_volume_em', 'ta_volume_vpt', 'ta_volume_nvi', \n",
    "             'ta_volatility_atr', 'ta_volatility_bbh', 'ta_volatility_bbl', 'ta_volatility_bbm',\n",
    "             'ta_volatility_bbhi', 'ta_volatility_bbli', 'ta_volatility_kcc', 'ta_volatility_kch',\n",
    "             'ta_volatility_kcl', 'ta_volatility_kchi', 'ta_volatility_kcli', 'ta_volatility_dch', \n",
    "             'ta_volatility_dcl', 'ta_volatility_dchi', 'ta_volatility_dcli', 'ta_trend_macd', \n",
    "             'ta_trend_macd_signal', 'ta_trend_macd_diff', 'ta_trend_ema_fast', 'ta_trend_ema_slow',\n",
    "             'ta_trend_adx', 'ta_trend_adx_pos', 'ta_trend_adx_neg', 'ta_trend_vortex_ind_pos', \n",
    "             'ta_trend_vortex_ind_neg', 'ta_trend_vortex_diff', 'ta_trend_trix', 'ta_trend_mass_index',\n",
    "             'ta_trend_cci', 'ta_trend_dpo', 'ta_trend_kst', 'ta_trend_kst_sig', 'ta_trend_kst_diff', \n",
    "             'ta_trend_ichimoku_a', 'ta_trend_ichimoku_b', 'ta_trend_visual_ichimoku_a', \n",
    "             'ta_trend_visual_ichimoku_b', 'ta_trend_aroon_up', 'ta_trend_aroon_down', 'ta_trend_aroon_ind',\n",
    "             'ta_momentum_rsi', 'ta_momentum_mfi', 'ta_momentum_tsi', 'ta_momentum_uo', 'ta_momentum_stoch', \n",
    "             'ta_momentum_stoch_signal', 'ta_momentum_wr', 'ta_momentum_ao', 'ta_others_dr', 'ta_others_dlr',\n",
    "             'ta_others_cr']\n",
    "\n",
    "target_col = 'target'"
   ]
  },
  {
   "cell_type": "code",
   "execution_count": null,
   "metadata": {},
   "outputs": [],
   "source": [
    "train_X = train_df.drop(target_col, axis=1)\n",
    "train_y = train_df[target_col]\n",
    "\n",
    "validate_X = validation_df.drop(target_col, axis=1)\n",
    "validate_y = validation_df[target_col]\n",
    "\n",
    "test_X = test_df.drop(target_col, axis=1)\n",
    "test_y = test_df[target_col]\n",
    "\n",
    "\n",
    "print('Number of columns:', train_X.shape[1])\n",
    "\n",
    "stats = pd.DataFrame()    \n",
    "stats[\"Mean\"] = train_X.mean()\n",
    "stats[\"Std.Dev\"] = train_X.std()\n",
    "stats[\"Var\"] = train_X.var()\n",
    "stats[\"NaNs\"] = train_X.isnull().sum()\n",
    "stats[\"NaN.Percent\"] = stats[\"NaNs\"] / train_X.shape[0] * 100\n"
   ]
  },
  {
   "cell_type": "code",
   "execution_count": null,
   "metadata": {},
   "outputs": [],
   "source": [
    "# train_X.var()\n",
    "# train_X.isnull().sum()\n",
    "stats"
   ]
  },
  {
   "cell_type": "code",
   "execution_count": null,
   "metadata": {},
   "outputs": [],
   "source": [
    "cols_to_remove = stats[(stats['Mean']==0) & (stats['Std.Dev']==0) & (stats['Var']==0)]\n",
    "nan_cols_to_remove = stats[(stats['NaN.Percent'] > 75)]\n",
    "\n",
    "print(cols_to_remove.index.values)\n",
    "print(nan_cols_to_remove.index.values)\n",
    "\n",
    "train_X.drop(cols_to_remove.index.values, axis=1, inplace=True)\n",
    "train_X.drop(nan_cols_to_remove.index.values, axis=1, inplace=True)\n",
    "validate_X.drop(cols_to_remove.index.values, axis=1, inplace=True)\n",
    "validate_X.drop(nan_cols_to_remove.index.values, axis=1, inplace=True)\n",
    "test_X.drop(cols_to_remove.index.values, axis=1, inplace=True)\n",
    "test_X.drop(nan_cols_to_remove.index.values, axis=1, inplace=True)\n",
    "train_X.shape"
   ]
  },
  {
   "cell_type": "code",
   "execution_count": null,
   "metadata": {},
   "outputs": [],
   "source": [
    "from scipy import stats\n",
    "\n",
    "col_stats = pd.DataFrame()\n",
    "\n",
    "for col in train_X.columns:\n",
    "    current_col_result = stats.kendalltau(train_X[col].values, train_y.values)\n",
    "    current_df = pd.DataFrame({\"name\": [col],\n",
    "                               \"correlation\": [current_col_result[0]],\n",
    "                               \"p-value\": [current_col_result[1]]})\n",
    "    \n",
    "    col_stats = col_stats.append(current_df)\n",
    "    "
   ]
  },
  {
   "cell_type": "code",
   "execution_count": null,
   "metadata": {},
   "outputs": [],
   "source": [
    "col_stats.sort_values('p-value')"
   ]
  },
  {
   "cell_type": "code",
   "execution_count": null,
   "metadata": {},
   "outputs": [],
   "source": [
    "# Train encoder\n",
    "from sklearn.preprocessing import LabelEncoder \n",
    "\n",
    "symbol_encoder = LabelEncoder()\n",
    "train_X['symbol'] = symbol_encoder.fit_transform(train_X['symbol'].values)\n",
    "validate_X['symbol'] = symbol_encoder.transform(validate_X['symbol'].values)\n",
    "test_X['symbol'] = symbol_encoder.transform(test_X['symbol'].values)\n",
    "\n",
    "GICSSector_encoder = LabelEncoder()\n",
    "train_X['GICSSector'] = GICSSector_encoder.fit_transform(train_X['GICSSector'].values)\n",
    "validate_X['GICSSector'] = GICSSector_encoder.transform(validate_X['GICSSector'].values)\n",
    "test_X['GICSSector'] = GICSSector_encoder.transform(test_X['GICSSector'].values)\n",
    "\n",
    "GICSIndustryGroup_encoder = LabelEncoder()\n",
    "train_X['GICSIndustryGroup'] = GICSIndustryGroup_encoder.fit_transform(train_X['GICSIndustryGroup'].values)\n",
    "validate_X['GICSIndustryGroup'] = GICSIndustryGroup_encoder.transform(validate_X['GICSIndustryGroup'].values)\n",
    "test_X['GICSIndustryGroup'] = GICSIndustryGroup_encoder.transform(test_X['GICSIndustryGroup'].values)\n",
    "\n",
    "GICSIndustry_encoder = LabelEncoder()\n",
    "train_X['GICSIndustry'] = GICSIndustry_encoder.fit_transform(train_X['GICSIndustry'].values)\n",
    "validate_X['GICSIndustry'] = GICSIndustry_encoder.transform(validate_X['GICSIndustry'].values)\n",
    "test_X['GICSIndustry'] = GICSIndustry_encoder.transform(test_X['GICSIndustry'].values)\n"
   ]
  },
  {
   "cell_type": "code",
   "execution_count": null,
   "metadata": {},
   "outputs": [],
   "source": [
    "# Execute one hot encoding for bolinger vals\n",
    "\n",
    "BOLLINGER_PREDICTION_CATEGORIES = ['Steady', 'Rising', 'Falling']\n",
    "BOLLINGER_VALUE_CATEGORIES = ['Within', 'Below', 'Above']\n",
    "\n",
    "\n",
    "def one_hot_encode_field(df, column_name, categories):\n",
    "    new_cols = pd.get_dummies(df[column_name])\n",
    "    new_cols = new_cols.astype('int8', errors='ignore')\n",
    "\n",
    "    new_cols.T.reindex(categories).T.fillna(0)\n",
    "    \n",
    "    name_map = {}\n",
    "    # rename the categories\n",
    "    for val in categories:\n",
    "        name_map[val] = column_name + '_' + val\n",
    "\n",
    "    new_cols.rename(name_map, axis=1, inplace=True)\n",
    "    \n",
    "    # Remove the original column\n",
    "    df.drop([column_name], axis=1, inplace=True)\n",
    "    \n",
    "    # Return df with new cols \n",
    "    return pd.concat([df, new_cols], axis=1)\n",
    "\n",
    "for col in BOLLINGER_PREDICTION_COLUMNS:\n",
    "    train_X = one_hot_encode_field(train_X, col, BOLLINGER_PREDICTION_CATEGORIES)\n",
    "    validate_X = one_hot_encode_field(validate_X, col, BOLLINGER_PREDICTION_CATEGORIES)\n",
    "    test_X = one_hot_encode_field(test_X, col, BOLLINGER_PREDICTION_CATEGORIES)\n",
    "\n",
    "for col in BOLLINGER_VALUE_COLUMNS:\n",
    "    train_X = one_hot_encode_field(train_X, col, BOLLINGER_VALUE_CATEGORIES)\n",
    "    validate_X = one_hot_encode_field(validate_X, col, BOLLINGER_VALUE_CATEGORIES)\n",
    "    test_X = one_hot_encode_field(test_X, col, BOLLINGER_VALUE_CATEGORIES)\n",
    "\n"
   ]
  },
  {
   "cell_type": "code",
   "execution_count": null,
   "metadata": {},
   "outputs": [],
   "source": [
    "# Fix NaNs\n",
    "\n",
    "train_X.fillna(0, inplace=True)\n",
    "validate_X.fillna(0, inplace=True)\n",
    "test_X.fillna(0, inplace=True)"
   ]
  },
  {
   "cell_type": "code",
   "execution_count": null,
   "metadata": {},
   "outputs": [],
   "source": [
    "print(train_y.describe())\n",
    "print(validate_y.describe())\n",
    "print(test_y.describe())"
   ]
  },
  {
   "cell_type": "code",
   "execution_count": null,
   "metadata": {},
   "outputs": [],
   "source": [
    "# Apply standard scaler\n",
    "from sklearn import preprocessing\n",
    "\n",
    "# norm_data = preprocessing.normalize(train_X, axis=0, norm=\"l2\")\n",
    "# train_X = pd.DataFrame(norm_data, index=train_X.index, columns=list(train_X.columns.values))\n",
    "\n",
    "# norm_data = preprocessing.normalize(validate_X, axis=0, norm=\"l2\")\n",
    "# validate_X = pd.DataFrame(norm_data, index=validate_X.index, columns=list(validate_X.columns.values))\n",
    "\n",
    "# norm_data = preprocessing.normalize(test_X, axis=0, norm=\"l2\")\n",
    "# test_X = pd.DataFrame(norm_data, index=test_X.index, columns=list(test_X.columns.values))\n",
    "\n",
    "scaler = preprocessing.RobustScaler()\n",
    "\n",
    "train_X[train_X.columns] = scaler.fit_transform(train_X[train_X.columns])\n",
    "validate_X[validate_X.columns] = scaler.transform(validate_X[validate_X.columns])\n",
    "test_X[test_X.columns] = scaler.transform(test_X[test_X.columns])"
   ]
  },
  {
   "cell_type": "code",
   "execution_count": null,
   "metadata": {},
   "outputs": [],
   "source": [
    "validate_y.isna().sum()"
   ]
  },
  {
   "cell_type": "code",
   "execution_count": null,
   "metadata": {},
   "outputs": [],
   "source": [
    "# Look at feature importance using an xgb model\n",
    "import xgboost as xgb\n",
    "from xgboost import plot_importance\n",
    "from stats_operations import safe_log\n",
    "\n",
    "\n",
    "importance_model = xgb.XGBRegressor(nthread=8, tree_method='auto', predictor='cpu_predictor', learning_rate = 0.2,\n",
    "                                   n_estimators=500)\n",
    "#                                    n_estimators=150, max_depth=70, base_score=0.1, colsample_bylevel=0.7,\n",
    "#                                    colsample_bytree=1.0, gamma=0, learning_rate=0.1, min_child_weight=3)\n",
    "\n",
    "\n",
    "print('Training xgboost importance model...')\n",
    "\n",
    "eval_set = [(validate_X.values, safe_log(validate_y.values))]\n",
    "importance_model.fit(train_X.values, safe_log(train_y.values), early_stopping_rounds=50, \n",
    "                     eval_metric='mae', eval_set=eval_set, verbose=True)\n"
   ]
  },
  {
   "cell_type": "code",
   "execution_count": null,
   "metadata": {},
   "outputs": [],
   "source": [
    "def add_selected_features(df, feature_list):\n",
    "    # if empty, initialise with first array\n",
    "    if df.shape[0] == 0:\n",
    "        df['feature'] = feature_list\n",
    "        df['count'] = 1\n",
    "    else:\n",
    "        for feature in feature_list:\n",
    "            # If it exists, increment, otherwise append and set to 1\n",
    "            if len(df[df['feature']==feature]) > 0:\n",
    "                df.loc[df['feature']==feature, 'count'] = df.loc[df['feature']==feature, 'count'] + 1\n",
    "            else:\n",
    "                df = df.append({'feature': feature, 'count': 1}, ignore_index=True)\n",
    "            \n",
    "    return df"
   ]
  },
  {
   "cell_type": "code",
   "execution_count": null,
   "metadata": {},
   "outputs": [],
   "source": [
    "feature_importance_df = pd.DataFrame({\n",
    "    'column_name': train_X.columns,\n",
    "    'importance': importance_model.feature_importances_\n",
    "})\n",
    "\n",
    "# feature_importance_df.sort_values('importance', ascending=False)\n",
    "top_150 = feature_importance_df[feature_importance_df['importance'] > 0].sort_values('importance', ascending=False).head(150)\n",
    "top_150['column_name'].values\n",
    "\n",
    "feature_df = pd.DataFrame()\n",
    "feature_df = add_selected_features(feature_df, top_150['column_name'].values)\n"
   ]
  },
  {
   "cell_type": "code",
   "execution_count": null,
   "metadata": {},
   "outputs": [],
   "source": [
    "print(feature_df.shape[0])\n",
    "feature_df.sort_values('count', ascending=False)"
   ]
  },
  {
   "cell_type": "code",
   "execution_count": null,
   "metadata": {},
   "outputs": [],
   "source": [
    "## Use sklearn RFE to detrmine best n features\n",
    "\n",
    "from sklearn.feature_selection import RFE\n",
    "from sklearn.svm import SVR\n",
    "from sklearn.linear_model import BayesianRidge\n",
    "from sklearn.linear_model import LinearRegression\n",
    "from sklearn.gaussian_process import GaussianProcessRegressor\n",
    "from sklearn.gaussian_process.kernels import DotProduct, WhiteKernel\n",
    "\n",
    "numberOfRequiredFeatures = 150\n",
    "step = 0.05\n",
    "attributes = train_X\n",
    "target = safe_log(train_y.values)\n",
    "\n",
    "def return_selected_features(attributes, selected_msk):\n",
    "    selected_attributes = attributes.copy()\n",
    "    index = 0\n",
    "    indexNames = list(attributes.columns.values)\n",
    "    for name in indexNames:\n",
    "        if not selected_msk[index]:\n",
    "            selected_attributes = selected_attributes.drop(name, axis=1)\n",
    "        index = index + 1\n",
    "\n",
    "    return selected_attributes.columns.values\n",
    "\n",
    "estimator = SVR(kernel=\"linear\")\n",
    "selector = RFE(estimator, numberOfRequiredFeatures, step=step, verbose=1)\n",
    "selector = selector.fit(attributes, target)\n",
    "svr_support = selector.support_\n",
    "svr_ranking = selector.ranking_\n",
    "svr_features = return_selected_features(attributes, selector.support_)\n",
    "print('SVR')\n",
    "print(svr_features)\n",
    "feature_df = add_selected_features(feature_df, svr_features)\n",
    "\n",
    "\n",
    "# estimator = BayesianRidge()\n",
    "# selector = RFE(estimator, numberOfRequiredFeatures, step=step, verbose=1)\n",
    "# selector = selector.fit(attributes, target)\n",
    "# br_support = selector.support_\n",
    "# br_ranking = selector.ranking_\n",
    "# br_features = return_selected_features(attributes, selector.support_)\n",
    "# print('Bayesian Ridge')\n",
    "# print(br_features)\n",
    "# feature_df = add_selected_features(feature_df, br_features)\n",
    "\n",
    "# estimator = LinearRegression()\n",
    "# selector = RFE(estimator, numberOfRequiredFeatures, step=step, verbose=1)\n",
    "# selector = selector.fit(attributes, target)\n",
    "# lr_support = selector.support_\n",
    "# lr_ranking = selector.ranking_\n",
    "# lr_features = return_selected_features(attributes, selector.support_)\n",
    "# print('Linear Regression')\n",
    "# print(lr_features)\n",
    "# feature_df = add_selected_features(feature_df, lr_features)\n",
    "\n",
    "\n",
    "# kernel = DotProduct() + WhiteKernel()\n",
    "# estimator = GaussianProcessRegressor(kernel=kernel, random_state=0)\n",
    "# selector = RFE(estimator, numberOfRequiredFeatures, step=step, verbose=1)\n",
    "# selector = selector.fit(attributes, target)\n",
    "# gpr_support = selector.support_\n",
    "# gpr_ranking = selector.ranking_\n",
    "# gpr_features = return_selected_features(attributes, selector.support_)\n",
    "# print('Gaussian Process Regressor')\n",
    "# print(gpr_features)\n",
    "# feature_df = add_selected_features(feature_df, gpr_features)\n",
    "\n",
    "\n"
   ]
  },
  {
   "cell_type": "code",
   "execution_count": null,
   "metadata": {},
   "outputs": [],
   "source": [
    "pca_train = PCAForPandas(n_components=100)\n",
    "X_train_pca = pca_train.fit_transform(train_X, train_y.values)"
   ]
  },
  {
   "cell_type": "code",
   "execution_count": null,
   "metadata": {},
   "outputs": [],
   "source": [
    "X_train_pca"
   ]
  },
  {
   "cell_type": "code",
   "execution_count": null,
   "metadata": {},
   "outputs": [],
   "source": [
    "# Look at feature importance using an xgb model\n",
    "import xgboost as xgb\n",
    "from xgboost import plot_importance\n",
    "from sklearn.model_selection import train_test_split\n",
    "\n",
    "\n",
    "pca_importance_model = xgb.XGBRegressor(nthread=8, tree_method='auto', predictor='cpu_predictor', \n",
    "                                        n_estimators=250, max_depth=70, base_score=0.1, \n",
    "                                        colsample_bylevel=0.7, colsample_bytree=1.0, \n",
    "                                        gamma=0, learning_rate=0.05, min_child_weight=3)\n",
    "\n",
    "\n",
    "print('Training xgboost pca importance model...')\n",
    "x_train, x_test, y_train, y_test = train_test_split(X_train_pca.values, shift_target['eight_week_return'].values, \n",
    "                                                    test_size=0.15)\n",
    "\n",
    "eval_set = [(x_test, y_test)]\n",
    "pca_importance_model.fit(x_train, y_train, early_stopping_rounds=10, eval_metric='mae', eval_set=eval_set, verbose=True)\n"
   ]
  },
  {
   "cell_type": "code",
   "execution_count": null,
   "metadata": {},
   "outputs": [],
   "source": [
    "pca_feature_importance_df = pd.DataFrame({\n",
    "    'column_name': X_train_pca.columns,\n",
    "    'importance': pca_importance_model.feature_importances_\n",
    "})\n",
    "\n",
    "pca_feature_importance_df.sort_values('importance', ascending=False)\n",
    "# feature_importance_df[feature_importance_df['importance'] > 0]"
   ]
  },
  {
   "cell_type": "code",
   "execution_count": null,
   "metadata": {},
   "outputs": [],
   "source": [
    "%load_ext autoreload\n",
    "%autoreload 2"
   ]
  },
  {
   "cell_type": "code",
   "execution_count": null,
   "metadata": {},
   "outputs": [],
   "source": [
    "from sklearn.decomposition import PCA\n",
    "from sklearn.preprocessing import StandardScaler\n",
    "import pandas as pd\n",
    "\n",
    "\n",
    "class PCAForPandas(PCA):\n",
    "    \"\"\"This class is just a small wrapper around the PCA estimator of sklearn including normalization to make it \n",
    "    compatible with pandas DataFrames.\n",
    "    \"\"\"\n",
    "\n",
    "    def __init__(self, **kwargs):\n",
    "        self._z_scaler = StandardScaler()\n",
    "        super(self.__class__, self).__init__(**kwargs)\n",
    "\n",
    "        self._X_columns = None\n",
    "\n",
    "    def fit(self, X, y=None):\n",
    "        \"\"\"Normalize X and call the fit method of the base class with numpy arrays instead of pandas data frames.\"\"\"\n",
    "\n",
    "        X = self._prepare(X)\n",
    "\n",
    "        self._z_scaler.fit(X.values, y)\n",
    "        z_data = self._z_scaler.transform(X.values, y)\n",
    "\n",
    "        return super(self.__class__, self).fit(z_data, y)\n",
    "\n",
    "    def fit_transform(self, X, y=None):\n",
    "        \"\"\"Call the fit and the transform method of this class.\"\"\"\n",
    "\n",
    "        X = self._prepare(X)\n",
    "\n",
    "        self.fit(X, y)\n",
    "        return self.transform(X, y)\n",
    "\n",
    "    def transform(self, X, y=None):\n",
    "        \"\"\"Normalize X and call the transform method of the base class with numpy arrays instead of pandas data frames.\"\"\"\n",
    "\n",
    "        X = self._prepare(X)\n",
    "\n",
    "        z_data = self._z_scaler.transform(X.values, y)\n",
    "\n",
    "        transformed_ndarray = super(self.__class__, self).transform(z_data)\n",
    "\n",
    "        pandas_df = pd.DataFrame(transformed_ndarray)\n",
    "        pandas_df.columns = [\"pca_{}\".format(i) for i in range(len(pandas_df.columns))]\n",
    "\n",
    "        return pandas_df\n",
    "\n",
    "    def _prepare(self, X):\n",
    "        \"\"\"Check if the data is a pandas DataFrame and sorts the column names.\n",
    "\n",
    "        :raise AttributeError: if pandas is not a DataFrame or the columns of the new X is not compatible with the \n",
    "                               columns from the previous X data\n",
    "        \"\"\"\n",
    "        if not isinstance(X, pd.DataFrame):\n",
    "            raise AttributeError(\"X is not a pandas DataFrame\")\n",
    "\n",
    "        X.sort_index(axis=1, inplace=True)\n",
    "\n",
    "        if self._X_columns is not None:\n",
    "            if self._X_columns != list(X.columns):\n",
    "                raise AttributeError(\"The columns of the new X is not compatible with the columns from the previous X data\")\n",
    "        else:\n",
    "            self._X_columns = list(X.columns)\n",
    "\n",
    "        return X"
   ]
  }
 ],
 "metadata": {
  "kernelspec": {
   "display_name": "Python 3",
   "language": "python",
   "name": "python3"
  },
  "language_info": {
   "codemirror_mode": {
    "name": "ipython",
    "version": 3
   },
   "file_extension": ".py",
   "mimetype": "text/x-python",
   "name": "python",
   "nbconvert_exporter": "python",
   "pygments_lexer": "ipython3",
   "version": "3.6.3"
  }
 },
 "nbformat": 4,
 "nbformat_minor": 2
}
