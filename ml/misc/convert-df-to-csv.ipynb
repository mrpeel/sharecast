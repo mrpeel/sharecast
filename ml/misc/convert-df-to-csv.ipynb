{
 "cells": [
  {
   "cell_type": "code",
   "execution_count": 4,
   "metadata": {},
   "outputs": [],
   "source": [
    "import pandas as pd\n",
    "import numpy as np\n",
    "\n",
    "df = pd.read_csv('../data/ml-ta-discretised-training-data-201908262001.csv')\n",
    "\n",
    "df.to_pickle('../data/ml-ta-discretised-training-data-201908262001.pkl.gz', compression='gzip')\n",
    "\n",
    "number_of_chunks = 2\n",
    "\n",
    "for id, df_i in enumerate(np.array_split(df, number_of_chunks)):\n",
    "    df_i.to_csv('../data/ml_ta_discretised_training_data_201908262001_{id}.csv'.format(id=id))"
   ]
  },
  {
   "cell_type": "code",
   "execution_count": null,
   "metadata": {},
   "outputs": [],
   "source": []
  }
 ],
 "metadata": {
  "kernelspec": {
   "display_name": "Python 3",
   "language": "python",
   "name": "python3"
  },
  "language_info": {
   "codemirror_mode": {
    "name": "ipython",
    "version": 3
   },
   "file_extension": ".py",
   "mimetype": "text/x-python",
   "name": "python",
   "nbconvert_exporter": "python",
   "pygments_lexer": "ipython3",
   "version": "3.6.3"
  }
 },
 "nbformat": 4,
 "nbformat_minor": 2
}
