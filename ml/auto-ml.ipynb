{
 "cells": [
  {
   "cell_type": "markdown",
   "metadata": {},
   "source": [
    "## Load and prep columns"
   ]
  },
  {
   "cell_type": "code",
   "execution_count": null,
   "metadata": {
    "collapsed": false
   },
   "outputs": [],
   "source": [
    "import xgboost as xgb\n",
    "import numpy as np\n",
    "import pandas as pd\n",
    "from xgboost.sklearn import XGBRegressor\n",
    "from xgboost import plot_importance\n",
    "from matplotlib import pyplot\n",
    "from sklearn.model_selection import KFold, train_test_split, GridSearchCV\n",
    "from sklearn.metrics import mean_squared_error\n",
    "from sklearn.preprocessing import OneHotEncoder\n",
    "from scipy import stats\n",
    "\n",
    "%config InlineBackend.figure_format = 'retina'\n",
    "\n",
    "pd.set_option('display.max_rows', 200)\n",
    "pd.set_option('display.max_columns', 200)\n",
    "\n",
    "\n",
    "# Define columns\n",
    "data_columns = ['symbol', 'quoteDate', 'adjustedPrice', 'volume', 'previousClose', 'change', 'changeInPercent', \n",
    "                '52WeekHigh', '52WeekLow', 'changeFrom52WeekHigh', 'changeFrom52WeekLow', \n",
    "                'percebtChangeFrom52WeekHigh', 'percentChangeFrom52WeekLow', 'Price200DayAverage', \n",
    "                'Price52WeekPercChange', '1WeekVolatility', '2WeekVolatility', '4WeekVolatility', '8WeekVolatility', \n",
    "                '12WeekVolatility', '26WeekVolatility','52WeekVolatility','4WeekBollingerPrediction', '4WeekBollingerType',\n",
    "                '12WeekBollingerPrediction', '12WeekBollingerType', 'allordpreviousclose', 'allordchange', \n",
    "                'allorddayshigh', 'allorddayslow', 'allordpercebtChangeFrom52WeekHigh', \n",
    "                'allordpercentChangeFrom52WeekLow', 'asxpreviousclose', 'asxchange', 'asxdayshigh', \n",
    "                'asxdayslow', 'asxpercebtChangeFrom52WeekHigh', 'asxpercentChangeFrom52WeekLow', 'exDividendDate', \n",
    "                'exDividendPayout', '640106_A3597525W', 'AINTCOV', 'AverageVolume', 'BookValuePerShareYear', \n",
    "                'CashPerShareYear', 'DPSRecentYear', 'EBITDMargin', 'EPS', 'EPSGrowthRate10Years', \n",
    "                'EPSGrowthRate5Years', 'FIRMMCRT', 'FXRUSD', 'Float', 'GRCPAIAD', 'GRCPAISAD', 'GRCPBCAD', \n",
    "                'GRCPBCSAD', 'GRCPBMAD', 'GRCPNRAD', 'GRCPRCAD', 'H01_GGDPCVGDP', 'H01_GGDPCVGDPFY', 'H05_GLFSEPTPOP', \n",
    "                'IAD', 'LTDebtToEquityQuarter', 'LTDebtToEquityYear', 'MarketCap',\n",
    "                'NetIncomeGrowthRate5Years', 'NetProfitMarginPercent', 'OperatingMargin', 'PE',\n",
    "                'PriceToBook', 'ReturnOnAssets5Years', 'ReturnOnAssetsTTM', 'ReturnOnAssetsYear', \n",
    "                'ReturnOnEquity5Years', 'ReturnOnEquityTTM', 'ReturnOnEquityYear', 'RevenueGrowthRate10Years', \n",
    "                'RevenueGrowthRate5Years', 'TotalDebtToAssetsQuarter', 'TotalDebtToAssetsYear', \n",
    "                'TotalDebtToEquityQuarter', 'TotalDebtToEquityYear', 'bookValue', 'earningsPerShare', \n",
    "                'ebitda', 'epsEstimateCurrentYear', 'marketCapitalization', 'peRatio', 'pegRatio', 'pricePerBook', \n",
    "                'pricePerEpsEstimateCurrentYear', 'pricePerEpsEstimateNextYear', 'pricePerSales']\n",
    "\n",
    "\n",
    "returns = {\n",
    "    '1': 'Future1WeekReturn',\n",
    "    '2': 'Future2WeekReturn',\n",
    "    '4': 'Future4WeekReturn',\n",
    "    '8': 'Future8WeekReturn',\n",
    "    '12': 'Future12WeekReturn',\n",
    "    '26': 'Future26WeekReturn',\n",
    "    '52': 'Future52WeekReturn',\n",
    "    '1ra': 'Future1WeekRiskAdjustedReturn',\n",
    "    '2ra': 'Future2WeekRiskAdjustedReturn',\n",
    "    '4ra': 'Future4WeekRiskAdjustedReturn',\n",
    "    '8ra': 'Future8WeekRiskAdjustedReturn',\n",
    "    '12ra': 'Future12WeekRiskAdjustedReturn',\n",
    "    '26ra': 'Future26WeekRiskAdjustedReturn',\n",
    "    '52ra': 'Future52WeekRiskAdjustedReturn'\n",
    "}\n",
    "\n",
    "# Load data\n",
    "raw_data = pd.read_csv('data/companyQuotes-20170417-001.csv')\n",
    "raw_data.head(5)"
   ]
  },
  {
   "cell_type": "markdown",
   "metadata": {},
   "source": [
    "## Apply filter for specific symbolx"
   ]
  },
  {
   "cell_type": "code",
   "execution_count": null,
   "metadata": {
    "collapsed": false
   },
   "outputs": [],
   "source": [
    "# Run filter for a few companies\n",
    "include_symbols = ['BHP', 'CBA', 'AOU', 'AYS', 'ATT', 'A01', 'BUD', 'AAP', 'AIV', 'AIB', '4DS']\n",
    "reduced_data = raw_data[raw_data['symbol'].isin(include_symbols)]\n",
    "print(len(reduced_data))"
   ]
  },
  {
   "cell_type": "code",
   "execution_count": null,
   "metadata": {
    "collapsed": true
   },
   "outputs": [],
   "source": [
    "filtered_data = reduced_data"
   ]
  },
  {
   "cell_type": "markdown",
   "metadata": {},
   "source": [
    "## Set-up learning data"
   ]
  },
  {
   "cell_type": "code",
   "execution_count": null,
   "metadata": {
    "collapsed": false,
    "scrolled": true
   },
   "outputs": [],
   "source": [
    "# Set target column\n",
    "target_column = returns['8']\n"
   ]
  },
  {
   "cell_type": "code",
   "execution_count": null,
   "metadata": {
    "collapsed": false,
    "scrolled": true
   },
   "outputs": [],
   "source": [
    "# Remove rows missing the target column\n",
    "filtered_data = raw_data.dropna(subset=[target_column], how='all')\n",
    "\n",
    "all_columns = data_columns[:]\n",
    "\n",
    "all_columns.insert(0, target_column)\n",
    "\n",
    "print(all_columns)\n",
    "\n",
    "# Columns to use\n",
    "filtered_data = filtered_data[all_columns]\n",
    "\n",
    "\n",
    "print(filtered_data.dtypes)\n"
   ]
  },
  {
   "cell_type": "markdown",
   "metadata": {},
   "source": [
    "## Run auto-ml"
   ]
  },
  {
   "cell_type": "code",
   "execution_count": null,
   "metadata": {
    "collapsed": false,
    "scrolled": true
   },
   "outputs": [],
   "source": [
    "from auto_ml import Predictor\n",
    "from auto_ml.utils import get_boston_dataset\n",
    "\n",
    "# Split data frome into 70 / 30 train test\n",
    "msk = np.random.rand(len(filtered_data)) < 0.7\n",
    "df_train = filtered_data[msk]\n",
    "df_test = filtered_data[~msk]\n",
    "\n",
    "column_descriptions = {\n",
    "    'Future8WeekReturn': 'output'\n",
    "    , 'symbol': 'categorical'\n",
    "    , 'quoteDate': 'date'\n",
    "    , '4WeekBollingerPrediction': 'categorical'\n",
    "    , '4WeekBollingerType': 'categorical'\n",
    "    , '12WeekBollingerPrediction': 'categorical'\n",
    "    , '12WeekBollingerType': 'categorical'\n",
    "    , 'exDividendDate': 'date'\n",
    "}\n",
    "\n",
    "\n",
    "ml_predictor = Predictor(type_of_estimator='regressor', column_descriptions=column_descriptions)\n",
    "\n",
    "ml_predictor.train(df_train)\n",
    "\n",
    "ml_predictor.score(df_test, df_test.MEDV)"
   ]
  }
 ],
 "metadata": {
  "kernelspec": {
   "display_name": "Python 3",
   "language": "python",
   "name": "python3"
  },
  "language_info": {
   "codemirror_mode": {
    "name": "ipython",
    "version": 3
   },
   "file_extension": ".py",
   "mimetype": "text/x-python",
   "name": "python",
   "nbconvert_exporter": "python",
   "pygments_lexer": "ipython3",
   "version": "3.6.0"
  }
 },
 "nbformat": 4,
 "nbformat_minor": 2
}
